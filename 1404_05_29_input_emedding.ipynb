{
  "cells": [
    {
      "cell_type": "markdown",
      "metadata": {
        "id": "view-in-github",
        "colab_type": "text"
      },
      "source": [
        "<a href=\"https://colab.research.google.com/github/SahelKherad/3-story-benchmark-transformer/blob/main/1404_05_29_input_emedding.ipynb\" target=\"_parent\"><img src=\"https://colab.research.google.com/assets/colab-badge.svg\" alt=\"Open In Colab\"/></a>"
      ]
    },
    {
      "cell_type": "code",
      "execution_count": 47,
      "metadata": {
        "id": "jESaGaJ8Y4fL"
      },
      "outputs": [],
      "source": [
        "import os\n",
        "import scipy.io\n",
        "from scipy.io.matlab._mio5_params import mat_struct\n",
        "import numpy as np\n",
        "import pandas as pd\n",
        "import torch\n",
        "from torch.utils.data import Dataset, DataLoader\n",
        "import matplotlib.pyplot as plt\n",
        "from sklearn.metrics import confusion_matrix"
      ]
    },
    {
      "cell_type": "code",
      "execution_count": 48,
      "metadata": {
        "colab": {
          "base_uri": "https://localhost:8080/"
        },
        "id": "8VnHyYOfY6Ts",
        "outputId": "2a8b3500-de68-4d65-b0e1-76e184ea9e8e"
      },
      "outputs": [
        {
          "output_type": "stream",
          "name": "stdout",
          "text": [
            "Mounted at /content/drive\n"
          ]
        }
      ],
      "source": [
        "from google.colab import drive\n",
        "drive.mount('/content/drive', force_remount=True)"
      ]
    },
    {
      "cell_type": "code",
      "execution_count": 49,
      "metadata": {
        "colab": {
          "base_uri": "https://localhost:8080/"
        },
        "id": "_yoanGUbZwdT",
        "outputId": "57e6ac2c-bad6-403b-9bf3-29423c9833d2"
      },
      "outputs": [
        {
          "output_type": "stream",
          "name": "stdout",
          "text": [
            "shm01a.mat  shm03a.mat\tshm05a.mat  shm07a.mat\tshm09a.mat\n",
            "shm02a.mat  shm04a.mat\tshm06a.mat  shm08a.mat\n"
          ]
        }
      ],
      "source": [
        "!ls \"/content/drive/My Drive/ASCE\"\n"
      ]
    },
    {
      "cell_type": "code",
      "execution_count": 50,
      "metadata": {
        "colab": {
          "base_uri": "https://localhost:8080/"
        },
        "id": "w_7LbE3r6hHv",
        "outputId": "f5b99fd8-9ce3-464a-c9db-f7668fb2f3ad"
      },
      "outputs": [
        {
          "output_type": "stream",
          "name": "stdout",
          "text": [
            "dict_keys(['__header__', '__version__', '__globals__', 'dasy', 'dasy_dscr', 'filedescription', 'fsdasy'])\n"
          ]
        }
      ],
      "source": [
        "import scipy.io\n",
        "\n",
        "folder_path = '/content/drive/MyDrive/ASCE/shm01a.mat'\n",
        "data = scipy.io.loadmat(folder_path)\n",
        "\n",
        "print(data.keys())"
      ]
    },
    {
      "cell_type": "code",
      "execution_count": 51,
      "metadata": {
        "colab": {
          "base_uri": "https://localhost:8080/"
        },
        "id": "e2UR9BDMm6lQ",
        "outputId": "45b74c12-096c-4430-927c-4bed1a071de9"
      },
      "outputs": [
        {
          "output_type": "stream",
          "name": "stdout",
          "text": [
            "header: b'MATLAB 5.0 MAT-file, Platform: PCWIN, Created on: Sun Sep 29 12:53:06 2002'\n",
            "version: 1.0\n",
            "File description:  ['Type:a (Ambient Vibration/Filtered Data) --  Config01: Fully Braced Config     ']\n",
            "description: [[(array(['Base West side - EPI sensor X direction (N+)'], dtype='<U44'), array(['Base Center - EPI sensor Y direction (W+)'], dtype='<U41'), array(['Base East side - EPI sensor X direction (N+)'], dtype='<U44'), array(['1st Floor - N/S EPI Sensor at West end (N+)'], dtype='<U43'), array(['1st Floor - E/W FBA Sensor at Center (W+)'], dtype='<U41'), array(['1st Floor - N/S FBA Sensor at East end (N+)'], dtype='<U43'), array(['2nd Floor - N/S FBA Sensor at West end (N+)'], dtype='<U43'), array(['2nd Floor - E/W EPI Sensor at Center (W+)'], dtype='<U41'), array(['2nd Floor - N/S EPI Sensor at East end (N+)'], dtype='<U43'), array(['3rd Floor - N/S EPI Sensor at West end (N+)'], dtype='<U43'), array(['3rd Floor - E/W EPI Sensor at Center (W+)'], dtype='<U41'), array(['3rd Floor - N/S FBA Sensor at East end (N+)'], dtype='<U43'), array(['4th Floor - N/S FBA Sensor at West end (N+)'], dtype='<U43'), array(['4th Floor - E/W FBA Sensor at Center (W+)'], dtype='<U41'), array(['4th Floor - N/S FBA Sensor at East end (N+)'], dtype='<U43'), array(['Ambient Noise in System  - Unfiltered (Disconnected)'],\n",
            "        dtype='<U52'))                                                                                                                                                                                                                                                                                                                                                                                                                                                                                                                                                                                                                                                                                                                                                                                                                                                                                                                                                                                                                                                                                                                              ]]\n",
            "                                          Description\n",
            "0        Base West side - EPI sensor X direction (N+)\n",
            "1           Base Center - EPI sensor Y direction (W+)\n",
            "2        Base East side - EPI sensor X direction (N+)\n",
            "3         1st Floor - N/S EPI Sensor at West end (N+)\n",
            "4           1st Floor - E/W FBA Sensor at Center (W+)\n",
            "5         1st Floor - N/S FBA Sensor at East end (N+)\n",
            "6         2nd Floor - N/S FBA Sensor at West end (N+)\n",
            "7           2nd Floor - E/W EPI Sensor at Center (W+)\n",
            "8         2nd Floor - N/S EPI Sensor at East end (N+)\n",
            "9         3rd Floor - N/S EPI Sensor at West end (N+)\n",
            "10          3rd Floor - E/W EPI Sensor at Center (W+)\n",
            "11        3rd Floor - N/S FBA Sensor at East end (N+)\n",
            "12        4th Floor - N/S FBA Sensor at West end (N+)\n",
            "13          4th Floor - E/W FBA Sensor at Center (W+)\n",
            "14        4th Floor - N/S FBA Sensor at East end (N+)\n",
            "15  Ambient Noise in System  - Unfiltered (Disconn...\n"
          ]
        }
      ],
      "source": [
        "print('header:', data['__header__'])\n",
        "print('version:',data['__version__'])\n",
        "print('File description: ', data['filedescription'])\n",
        "print('description:',data['dasy_dscr'])\n",
        "# print(data['dasy'])\n",
        "raw_descriptions = data['dasy_dscr'][0][0]\n",
        "extracted_strings = [item[0] for item in raw_descriptions]\n",
        "df_description = pd.DataFrame(extracted_strings, columns=['Description'])\n",
        "print(df_description)\n"
      ]
    },
    {
      "cell_type": "code",
      "execution_count": 52,
      "metadata": {
        "id": "-lNjv__AwP8T"
      },
      "outputs": [],
      "source": [
        "def load_mat(path):\n",
        "    mat = scipy.io.loadmat(path, squeeze_me=True, struct_as_record=False)\n",
        "    raw = mat.get('dasy')\n",
        "    if isinstance(raw, mat_struct):\n",
        "        fields = raw._fieldnames\n",
        "        channels = []\n",
        "        for f in fields:\n",
        "            arr = getattr(raw, f)\n",
        "            channels.append(np.asarray(arr).reshape(-1))\n",
        "        data = np.stack(channels, axis=1)     # → (n_samples, n_channels)\n",
        "\n",
        "    return data, mat\n",
        "\n",
        "\n",
        "base_dir = '/content/drive/MyDrive/ASCE/'\n",
        "\n",
        "# state_files is a dictionary:{ label_1: \"file1.mat\", label_2: \"file2.mat\", ... }\n",
        "# label is an integer or class ID (e.g., 0, 1, 2). fname is the name of a .mat file.\n",
        "state_files = {\n",
        "    1: 'shm01a.mat',   # state 1 → label 0\n",
        "    2: 'shm02a.mat',   # state 2 → label 1\n",
        "    3: 'shm03a.mat',   # state 3 → label 2\n",
        "    4: 'shm04a.mat',   # state 4 → label 3\n",
        "    5: 'shm05a.mat',   # state 5 → label 4\n",
        "    6: 'shm06a.mat',   # state 6 → label 5\n",
        "    7: 'shm07a.mat',   # state 7 → label 6\n",
        "    8: 'shm08a.mat',   # state 8 → label 7\n",
        "    9: 'shm09a.mat',   # state 9 → label 8\n",
        "}"
      ]
    },
    {
      "cell_type": "code",
      "execution_count": 53,
      "metadata": {
        "colab": {
          "base_uri": "https://localhost:8080/"
        },
        "id": "kt-q273eZ4vG",
        "outputId": "77d9ab59-cabf-4def-f67a-930cbc96dc5c"
      },
      "outputs": [
        {
          "output_type": "stream",
          "name": "stdout",
          "text": [
            "shm01a.mat: data shape = (60000, 16)\n",
            "shm02a.mat: data shape = (60000, 16)\n",
            "shm03a.mat: data shape = (60000, 16)\n",
            "shm04a.mat: data shape = (60000, 16)\n",
            "shm05a.mat: data shape = (60000, 16)\n",
            "shm06a.mat: data shape = (45568, 16)\n",
            "shm07a.mat: data shape = (180000, 16)\n",
            "shm08a.mat: data shape = (180000, 16)\n",
            "shm09a.mat: data shape = (180000, 16)\n",
            "Len Data ==  9\n",
            "all_data_concatenated:  (885568, 16)\n",
            "all_label_concatenated:  (885568,)\n"
          ]
        }
      ],
      "source": [
        "all_data, all_labels = [], []\n",
        "for label, fname in state_files.items():\n",
        "    path = os.path.join(base_dir, fname)\n",
        "    dasy, mat = load_mat(path)\n",
        "    print(f\"{fname}: data shape = {dasy.shape}\")\n",
        "    all_data.append(dasy)\n",
        "    all_labels.append(np.full(dasy.shape[0], label, dtype=np.int64))\n",
        "print('Len Data == ',len(all_data))\n",
        "all_data_concatenated = np.concatenate(all_data, axis=0)\n",
        "all_label_concatenated = np.concatenate(all_labels)\n",
        "\n",
        "print('all_data_concatenated: ', all_data_concatenated.shape)\n",
        "print('all_label_concatenated: ', all_label_concatenated.shape)\n",
        "\n",
        "# for i, arr in enumerate(all_data):\n",
        "#     print(f\"  Array {i+1}: {arr.shape}\")\n",
        "\n"
      ]
    },
    {
      "cell_type": "code",
      "execution_count": 54,
      "metadata": {
        "colab": {
          "base_uri": "https://localhost:8080/"
        },
        "id": "9VVni1oHWagP",
        "outputId": "e9841fdd-4ffa-4bcd-8270-7af195c096c9"
      },
      "outputs": [
        {
          "output_type": "stream",
          "name": "stdout",
          "text": [
            "(60000, 12)\n",
            "(60000, 12)\n"
          ]
        }
      ],
      "source": [
        "data_state1 = all_data[0]\n",
        "data_state2 = all_data[1]\n",
        "# # data_state3 = all_data[2]\n",
        "# # data_state4 = all_data[3]\n",
        "# # data_state5 = all_data[4]\n",
        "# # data_state6 = all_data[5]\n",
        "# # data_state7 = all_data[6]\n",
        "# # data_state8 = all_data[7]\n",
        "# # data_state9 = all_data[8]\n",
        "# # print(data_state1.dtype)\n",
        "# # print(data_state1.shape)\n",
        "# # print(data_state2.shape)\n",
        "columns_to_delete = [0, 1, 2, -1]\n",
        "data_state1 = np.delete(data_state1 ,columns_to_delete, axis=1)\n",
        "data_state2 = np.delete(data_state2 ,columns_to_delete, axis=1)\n",
        "print(data_state1.shape)\n",
        "print(data_state2.shape)\n"
      ]
    },
    {
      "cell_type": "code",
      "source": [
        "# ---------- LEAK-SAFE DATASET BUILD (no random_split) ----------\n",
        "import numpy as np\n",
        "import torch\n",
        "from torch.utils.data import TensorDataset, DataLoader\n",
        "\n",
        "# 1) Windowing that also returns window start indices\n",
        "def build_windows(x, L=1024, S=512):\n",
        "    n, c = x.shape\n",
        "    starts = np.arange(0, n - L + 1, S)\n",
        "    wins = np.stack([x[s:s+L, :] for s in starts], axis=0)   # (n_win, L, C)\n",
        "    return wins, starts\n",
        "\n",
        "# 2) Split the raw time axis into contiguous blocks (half-open ranges)\n",
        "def split_ranges(n_total, train_frac=0.6, val_frac=0.2):\n",
        "    t1 = int(n_total * train_frac)\n",
        "    t2 = int(n_total * (train_frac + val_frac))\n",
        "    return (0, t1), (t1, t2), (t2, n_total)  # (lo, hi)\n",
        "\n",
        "# 3) Keep windows that are fully inside each block, with an EMBARGO gap\n",
        "def mask_windows_into_block(starts, L, block, embargo):\n",
        "    lo = block[0] + embargo\n",
        "    hi = block[1] - embargo\n",
        "    return (starts >= lo) & (starts + L <= hi)\n",
        "\n",
        "# 4) Optional sanity: check minimum separation between two sets of starts\n",
        "def min_separation(starts_a, starts_b):\n",
        "    if len(starts_a) == 0 or len(starts_b) == 0:\n",
        "        return np.inf\n",
        "    a = np.sort(np.asarray(starts_a)); b = np.sort(np.asarray(starts_b))\n",
        "    i = j = 0; best = np.inf\n",
        "    while i < len(a) and j < len(b):\n",
        "        best = min(best, abs(a[i]-b[j]))\n",
        "        if a[i] < b[j]: i += 1\n",
        "        else: j += 1\n",
        "    return best\n",
        "\n",
        "# --------- choose your windowing/split params ----------\n",
        "L, S = 1024, 512       # overlapped windows are fine now because we enforce an embargo\n",
        "EMBARGO = 1024         # >= L is recommended; use >L if you have long filters/rolling ops\n",
        "\n",
        "# Build windows + starts per state\n",
        "seg1, st1 = build_windows(data_state1, L, S)\n",
        "seg2, st2 = build_windows(data_state2, L, S)\n",
        "\n",
        "# Split raw time for each state\n",
        "tr1, va1, te1 = split_ranges(data_state1.shape[0], 0.6, 0.2)\n",
        "tr2, va2, te2 = split_ranges(data_state2.shape[0], 0.6, 0.2)\n",
        "\n",
        "# Keep only windows fully inside each block, far from edges by EMBARGO\n",
        "m_tr1 = mask_windows_into_block(st1, L, tr1, EMBARGO)\n",
        "m_va1 = mask_windows_into_block(st1, L, va1, EMBARGO)\n",
        "m_te1 = mask_windows_into_block(st1, L, te1, EMBARGO)\n",
        "\n",
        "m_tr2 = mask_windows_into_block(st2, L, tr2, EMBARGO)\n",
        "m_va2 = mask_windows_into_block(st2, L, va2, EMBARGO)\n",
        "m_te2 = mask_windows_into_block(st2, L, te2, EMBARGO)\n",
        "\n",
        "# Assemble balanced datasets (class 0 = state1, class 1 = state2)\n",
        "X_train = np.vstack([seg1[m_tr1], seg2[m_tr2]])\n",
        "y_train = np.concatenate([np.zeros(m_tr1.sum(), np.int64), np.ones(m_tr2.sum(), np.int64)])\n",
        "\n",
        "X_val   = np.vstack([seg1[m_va1], seg2[m_va2]])\n",
        "y_val   = np.concatenate([np.zeros(m_va1.sum(), np.int64), np.ones(m_va2.sum(), np.int64)])\n",
        "\n",
        "X_test  = np.vstack([seg1[m_te1], seg2[m_te2]])\n",
        "y_test  = np.concatenate([np.zeros(m_te1.sum(), np.int64), np.ones(m_te2.sum(), np.int64)])\n",
        "\n",
        "print(\"Train/Val/Test sizes:\", X_train.shape, X_val.shape, X_test.shape)\n",
        "print(\"Class counts (train/val/test):\",\n",
        "      np.bincount(y_train), np.bincount(y_val), np.bincount(y_test))\n",
        "\n",
        "# Sanity: verify no near-duplicates across splits for each state\n",
        "print(\"Min sep (state1) train–val:\",  min_separation(st1[m_tr1], st1[m_va1]))\n",
        "print(\"Min sep (state1) train–test:\", min_separation(st1[m_tr1], st1[m_te1]))\n",
        "print(\"Min sep (state2) train–val:\",  min_separation(st2[m_tr2], st2[m_va2]))\n",
        "print(\"Min sep (state2) train–test:\", min_separation(st2[m_tr2], st2[m_te2]))\n",
        "\n",
        "# Convert to PyTorch datasets/loaders (NO random_split)\n",
        "train_ds = TensorDataset(torch.from_numpy(X_train).float(), torch.from_numpy(y_train).long())\n",
        "val_ds   = TensorDataset(torch.from_numpy(X_val).float(),   torch.from_numpy(y_val).long())\n",
        "test_ds  = TensorDataset(torch.from_numpy(X_test).float(),  torch.from_numpy(y_test).long())\n",
        "\n",
        "batch_size = 32\n",
        "train_loader = DataLoader(train_ds, batch_size=batch_size, shuffle=True)\n",
        "val_loader   = DataLoader(val_ds,   batch_size=batch_size, shuffle=False)\n",
        "test_loader  = DataLoader(test_ds,  batch_size=batch_size, shuffle=False)\n",
        "# ---------------------------------------------------------------\n"
      ],
      "metadata": {
        "colab": {
          "base_uri": "https://localhost:8080/"
        },
        "id": "4iwFZmyaGkim",
        "outputId": "1f58a9d8-cbc9-40c3-9dd2-5dcc61cfaa01"
      },
      "execution_count": 55,
      "outputs": [
        {
          "output_type": "stream",
          "name": "stdout",
          "text": [
            "Train/Val/Test sizes: (130, 1024, 12) (34, 1024, 12) (36, 1024, 12)\n",
            "Class counts (train/val/test): [65 65] [17 17] [18 18]\n",
            "Min sep (state1) train–val: 3584\n",
            "Min sep (state1) train–test: 15360\n",
            "Min sep (state2) train–val: 3584\n",
            "Min sep (state2) train–test: 15360\n"
          ]
        }
      ]
    },
    {
      "cell_type": "code",
      "execution_count": null,
      "metadata": {
        "id": "Zgx4wLqC08Vr"
      },
      "outputs": [],
      "source": [
        "# import numpy as np\n",
        "# from sklearn.preprocessing import MinMaxScaler\n",
        "\n",
        "# scaler = MinMaxScaler()\n",
        "\n",
        "# data_state1 = scaler.fit_transform(data_state1)\n",
        "# data_state2 = scaler.fit_transform(data_state2)\n",
        "\n",
        "# print('data_state1', data_state1.shape)\n",
        "# print('data_state_normalized', normalized_matrix.shape)\n",
        "\n",
        "# # برای بررسی، حداقل و حداکثر مقادیر ستون اول ماتریس نرمال‌شده را چاپ کنید\n",
        "# print(\"min\", data_state1[:, 0].min())\n",
        "# print(\"max\", data_state1[:, 0].max())\n",
        "\n",
        "# print(\"normalizedd_min\", normalized_matrix[:, 0].min())\n",
        "# print(\"normalized_max\", normalized_matrix[:, 0].max())\n",
        "\n",
        "# print(data_state1[:,0])"
      ]
    },
    {
      "cell_type": "code",
      "execution_count": 38,
      "metadata": {
        "colab": {
          "base_uri": "https://localhost:8080/"
        },
        "id": "VFiGU3vVyI0M",
        "outputId": "46e14159-6c05-44f1-915d-ae3cf2af9074"
      },
      "outputs": [
        {
          "output_type": "stream",
          "name": "stdout",
          "text": [
            "State1 windows: (116, 1024, 12)\n",
            "State2 windows: (116, 1024, 12)\n"
          ]
        }
      ],
      "source": [
        "# def segment_signal(x, L=1024, S=1024):\n",
        "#     n_samples, n_channels = x.shape\n",
        "#     n_windows = int(np.floor((n_samples - L) / S) + 1)\n",
        "#     windows = []\n",
        "\n",
        "#     for start in range(0, n_samples - L + 1, S):\n",
        "#         windows.append(x[start:start+L, 0::])\n",
        "#     return np.stack(windows, axis=0)\n",
        "\n",
        "# seg1 = segment_signal(data_state1, L=1024, S=512) # return(n_windows, L, n_channels)\n",
        "# seg2 = segment_signal(data_state2, L=1024, S=512)\n",
        "# # seg3 = segment_signal(data_state3, L=1024, S=512)\n",
        "# # seg4 = segment_signal(data_state4, L=1024, S=512)\n",
        "# # seg5 = segment_signal(data_state5, L=1024, S=512)\n",
        "# # seg6 = segment_signal(data_state6, L=1024, S=512)\n",
        "# # seg7 = segment_signal(data_state7, L=1024, S=512)\n",
        "# # seg8 = segment_signal(data_state8, L=1024, S=512)\n",
        "# # seg9 = segment_signal(data_state9, L=1024, S=512)\n",
        "\n",
        "# print(\"State1 windows:\", seg1.shape)\n",
        "# print(\"State2 windows:\", seg2.shape)\n",
        "# # print(\"State3 windows:\", seg3.shape)\n",
        "# # print(\"State4 windows:\", seg4.shape)\n",
        "# # print(\"State5 windows:\", seg5.shape)\n",
        "# # print(\"State6 windows:\", seg6.shape)\n",
        "# # print(\"State7 windows:\", seg7.shape)\n",
        "# # print(\"State8 windows:\", seg8.shape)\n",
        "# # print(\"State9 windows:\", seg9.shape)"
      ]
    },
    {
      "cell_type": "code",
      "execution_count": 39,
      "metadata": {
        "colab": {
          "base_uri": "https://localhost:8080/"
        },
        "id": "U2C4LSPh4exE",
        "outputId": "6baa01be-0400-4d8b-eca0-277a840b752a"
      },
      "outputs": [
        {
          "output_type": "stream",
          "name": "stdout",
          "text": [
            "X shape: (232, 1024, 12)\n",
            "y shape: (232,) unique labels: [0 1]\n"
          ]
        }
      ],
      "source": [
        "# X = np.vstack([seg1, seg2])\n",
        "# y = np.concatenate([\n",
        "#     np.zeros(len(seg1), dtype=np.int64),   # label 0 for state1\n",
        "#     np.ones(len(seg2),  dtype=np.int64),   # label 1 for state3\n",
        "# ])\n",
        "\n",
        "# # X = np.vstack([seg1, seg2, seg3, seg4, seg5, seg6, seg7, seg8, seg9])\n",
        "# # y = np.concatenate([\n",
        "# #     np.zeros(len(seg1), dtype=np.int64),     # label 0 for state1\n",
        "# #     1*np.ones(len(seg2),  dtype=np.int64),   # label 1 for state2\n",
        "# #     2*np.ones(len(seg3),  dtype=np.int64),   # label 2 for state3\n",
        "# #     3*np.ones(len(seg4),  dtype=np.int64),   # label 3 for state4\n",
        "# #     4*np.ones(len(seg5),  dtype=np.int64),   # label 4 for state5\n",
        "# #     5*np.ones(len(seg6),  dtype=np.int64),   # label 5 for state6\n",
        "# #     6*np.ones(len(seg7),  dtype=np.int64),   # label 6 for state7\n",
        "# #     7*np.ones(len(seg8),  dtype=np.int64),   # label 7 for state8\n",
        "# #     8*np.ones(len(seg9),  dtype=np.int64),   # label 8 for state9\n",
        "\n",
        "# # ])\n",
        "# print(\"X shape:\", X.shape)\n",
        "# print(\"y shape:\", y.shape, \"unique labels:\", np.unique(y))\n"
      ]
    },
    {
      "cell_type": "code",
      "execution_count": 40,
      "metadata": {
        "colab": {
          "base_uri": "https://localhost:8080/"
        },
        "id": "Rjah1c47QduK",
        "outputId": "56f11764-aeef-4ee0-996d-c36b55d100ce"
      },
      "outputs": [
        {
          "output_type": "stream",
          "name": "stdout",
          "text": [
            "Minimum label: 0\n",
            "Maximum label: 1\n",
            "Number of unique labels: 2\n",
            "train batch X: torch.Size([32, 1024, 12])\n",
            "train batch y: torch.Size([32])\n"
          ]
        }
      ],
      "source": [
        "# from torch.utils.data import random_split\n",
        "# from torch.utils.data import TensorDataset\n",
        "\n",
        "# # # 1) Wrap in a Dataset\n",
        "# # class ASCEWindowDataset(torch.utils.data.Dataset):\n",
        "# #     def __init__(self, X, y):\n",
        "# #         # ensure tensors\n",
        "# #         if not isinstance(X, torch.Tensor):\n",
        "# #             X = torch.from_numpy(X).float()\n",
        "# #         if not isinstance(y, torch.Tensor):\n",
        "# #             y = torch.from_numpy(y).long()\n",
        "# #         self.X = X   # shape (N, L, C)\n",
        "# #         self.y = y   # shape (N,)\n",
        "# #     def __len__(self):\n",
        "# #         return len(self.y)\n",
        "# #     def __getitem__(self, idx):\n",
        "# #         return self.X[idx], self.y[idx]\n",
        "\n",
        "# # dataset = ASCEWindowDataset(X, y)\n",
        "# print(\"Minimum label:\", np.min(y))\n",
        "# print(\"Maximum label:\", np.max(y))\n",
        "# print(\"Number of unique labels:\", len(np.unique(y)))\n",
        "\n",
        "# dataset = TensorDataset(torch.from_numpy(X).float(), torch.from_numpy(y).long())\n",
        "\n",
        "\n",
        "# # 2) Split sizes\n",
        "# N = len(dataset)\n",
        "# n_train = int(0.8 * N)\n",
        "# n_val   = int(0.1 * N)\n",
        "# n_test  = N - n_train - n_val\n",
        "\n",
        "# train_ds, val_ds, test_ds = random_split(dataset, [n_train, n_val, n_test],\n",
        "#                                    generator=torch.Generator().manual_seed(42))\n",
        "\n",
        "# # 3) DataLoaders\n",
        "# batch_size = 32\n",
        "\n",
        "# train_loader = DataLoader(train_ds, batch_size = batch_size, shuffle = True)\n",
        "# val_loader   = DataLoader(val_ds,   batch_size = batch_size, shuffle = False)\n",
        "# test_loader  = DataLoader(test_ds,  batch_size = batch_size, shuffle = False)\n",
        "\n",
        "# # Sanity check\n",
        "# xb, yb = next(iter(train_loader))\n",
        "# print(\"train batch X:\", xb.shape)  # (32, 1024, 15)\n",
        "# print(\"train batch y:\", yb.shape)  # (32,)\n"
      ]
    },
    {
      "cell_type": "code",
      "source": [
        "import math\n",
        "import torch\n",
        "import torch.nn as nn\n",
        "import torch.nn.functional as F\n",
        "\n",
        "class ConvEmbedding(nn.Module):\n",
        "    \"\"\"\n",
        "    Map (B, S, C) → (B, S_out, D) using temporal 1D convolutions.\n",
        "    - Convs run along time; channels are features.\n",
        "    - Stride can downsample the sequence to speed up the Transformer.\n",
        "    \"\"\"\n",
        "    def __init__(self, n_channels, d_model, hidden=128, kernel_size=7, stride=1, dropout=0.1):\n",
        "        super().__init__()\n",
        "        pad = (kernel_size - 1) // 2  # 'same' for odd kernels\n",
        "\n",
        "        # A small CNN stack: pointwise -> depthwise -> pointwise\n",
        "        self.pw1 = nn.Conv1d(n_channels, hidden, kernel_size=1, bias=False)\n",
        "        self.dw  = nn.Conv1d(hidden, hidden, kernel_size=kernel_size, stride=stride,\n",
        "                             padding=pad, groups=hidden, bias=False)  # depthwise temporal conv\n",
        "        self.pw2 = nn.Conv1d(hidden, d_model, kernel_size=1, bias=False)\n",
        "\n",
        "        self.bn1 = nn.BatchNorm1d(hidden)\n",
        "        self.bn2 = nn.BatchNorm1d(hidden)\n",
        "        self.bn3 = nn.BatchNorm1d(d_model)\n",
        "\n",
        "        self.act = nn.GELU()\n",
        "        self.do  = nn.Dropout(dropout)\n",
        "\n",
        "    def forward(self, x):\n",
        "        # x: (B, S, C) → Conv1d expects (B, C, S)\n",
        "        x = x.transpose(1, 2)                 # (B, C, S)\n",
        "        x = self.pw1(x)                       # (B, H, S)\n",
        "        x = self.bn1(x); x = self.act(x)\n",
        "\n",
        "        x = self.dw(x)                        # (B, H, S_out)\n",
        "        x = self.bn2(x); x = self.act(x); x = self.do(x)\n",
        "\n",
        "        x = self.pw2(x)                       # (B, D, S_out)\n",
        "        x = self.bn3(x); x = self.act(x)\n",
        "        x = x.transpose(1, 2)                 # (B, S_out, D)\n",
        "        return x\n",
        "\n",
        "\n",
        "class TimeSeriesTransformer(nn.Module):\n",
        "    def __init__(self,\n",
        "                 n_channels=12,\n",
        "                 d_model=128,\n",
        "                 n_heads=4,\n",
        "                 num_layers=3,\n",
        "                 d_ff=256,\n",
        "                 dropout=0.1,\n",
        "                 seq_len=1024,\n",
        "                 num_classes=2,\n",
        "                 # CNN embedding hyperparams:\n",
        "                 cnn_hidden=128,\n",
        "                 cnn_kernel=7,\n",
        "                 cnn_stride=1):\n",
        "        super().__init__()\n",
        "\n",
        "        # 1) CNN-based input embedding along time\n",
        "        self.cnn_embed = ConvEmbedding(\n",
        "            n_channels=n_channels,\n",
        "            d_model=d_model,\n",
        "            hidden=cnn_hidden,\n",
        "            kernel_size=cnn_kernel,\n",
        "            stride=cnn_stride,\n",
        "            dropout=dropout\n",
        "        )\n",
        "\n",
        "        # Effective max length after CNN (if stride > 1 we downsample)\n",
        "        self.max_len = math.ceil(seq_len / cnn_stride)\n",
        "\n",
        "        # 2) Learned positional embeddings for the (possibly reduced) sequence\n",
        "        self.pos_emb = nn.Parameter(torch.zeros(1, self.max_len, d_model))\n",
        "\n",
        "        # 3) Transformer encoder\n",
        "        enc_layer = nn.TransformerEncoderLayer(\n",
        "            d_model=d_model,\n",
        "            nhead=n_heads,\n",
        "            dim_feedforward=d_ff,\n",
        "            dropout=dropout,\n",
        "            batch_first=True\n",
        "        )\n",
        "        self.transformer = nn.TransformerEncoder(enc_layer, num_layers=num_layers)\n",
        "\n",
        "        # 4) Classification head\n",
        "        self.classifier = nn.Sequential(\n",
        "            nn.LayerNorm(d_model),\n",
        "            nn.Linear(d_model, d_model // 2),\n",
        "            nn.GELU(),\n",
        "            nn.Dropout(dropout),\n",
        "            nn.Linear(d_model // 2, num_classes)\n",
        "        )\n",
        "\n",
        "        # Optional: better init for pos_emb\n",
        "        nn.init.trunc_normal_(self.pos_emb, std=0.02)\n",
        "\n",
        "    def forward(self, x):\n",
        "        # x: (B, S, C)\n",
        "\n",
        "        # a) CNN embedding (may downsample S → S_out if stride > 1)\n",
        "        x = self.cnn_embed(x)                       # (B, S_out, D)\n",
        "\n",
        "        # b) add positional encoding\n",
        "        S = x.size(1)\n",
        "        x = x + self.pos_emb[:, :S, :]              # (B, S_out, D)\n",
        "\n",
        "        # c) Transformer encoding\n",
        "        x = self.transformer(x)                     # (B, S_out, D)\n",
        "\n",
        "        # d) temporal pooling\n",
        "        x = x.mean(dim=1)                           # (B, D)\n",
        "\n",
        "        # e) classify\n",
        "        return self.classifier(x)                   # (B, num_classes)\n"
      ],
      "metadata": {
        "id": "p4okuWmmQG12"
      },
      "execution_count": 56,
      "outputs": []
    },
    {
      "cell_type": "code",
      "execution_count": 27,
      "metadata": {
        "id": "Mk9j7tg4Vm7_"
      },
      "outputs": [],
      "source": [
        "# import torch\n",
        "# import torch.nn as nn\n",
        "\n",
        "# class TimeSeriesTransformer(nn.Module):\n",
        "#     def __init__(self,\n",
        "#                  n_channels=12,\n",
        "#                  d_model=128, # Dimension of the model's internal representation (hidden size)\n",
        "#                  n_heads=4,\n",
        "#                  num_layers=3, # Number of Transformer encoder layers\n",
        "#                  d_ff=256, # Dimension of the feed-forward network in each encoder layer\n",
        "#                  dropout=0.1,\n",
        "#                  seq_len=1024,\n",
        "#                  num_classes=2):\n",
        "#         super().__init__()\n",
        "#         # 1) Project 15→d_model per time‐step\n",
        "#         self.input_proj = nn.Linear(in_features = n_channels, out_features = d_model)\n",
        "#         # This nn.Linear layer transforms each time step's features from n_channels to d_model.\n",
        "#         # It's like converting your sensor readings into a higher-dimensional, richer representation\n",
        "\n",
        "#         # 2) Learned positional embeddings\n",
        "#         self.pos_emb = nn.Parameter(torch.zeros(1, seq_len, d_model))\n",
        "#         #  This means the model will learn the best way to\n",
        "#         #  represent the position of each time step in the sequence.\n",
        "\n",
        "#         # 3) Transformer encoder layers (batch_first=True so input is (B, S, D))\n",
        "#         encoder_layer = nn.TransformerEncoderLayer(\n",
        "#             d_model=d_model,\n",
        "#             nhead=n_heads,\n",
        "#             dim_feedforward=d_ff,\n",
        "#             dropout=dropout,\n",
        "#             batch_first=True\n",
        "#         )\n",
        "#         self.transformer = nn.TransformerEncoder(encoder_layer, num_layers=num_layers)\n",
        "\n",
        "#         # 4) Classification head: from d_model → d_model//2 → num_classes\n",
        "#         #    *Notice the first Linear’s in_features = d_model*\n",
        "#         #    *and the final Linear’s in_features = d_model//2*\n",
        "#         self.classifier = nn.Sequential(\n",
        "#             nn.LayerNorm(d_model),\n",
        "#             nn.Linear(d_model, d_model//2),\n",
        "#             nn.GELU(),\n",
        "#             nn.Dropout(dropout),\n",
        "#             nn.Linear(d_model//2, num_classes)\n",
        "#         )\n",
        "\n",
        "#     def forward(self, x):\n",
        "#         # x: (batch, seq_len, n_channels)\n",
        "\n",
        "#         # a) embed\n",
        "#         x = self.input_proj(x)                        # → (batch, seq_len, d_model)\n",
        "\n",
        "#         # b) add positional encoding\n",
        "#         x = x + self.pos_emb[:, :x.size(1), :]        # → (batch, seq_len, d_model)\n",
        "\n",
        "#         # c) encode\n",
        "#         x = self.transformer(x)                       # → (batch, seq_len, d_model)\n",
        "\n",
        "#         # d) **pool over the time axis** so we drop seq_len (1024)\n",
        "#         x = x.mean(dim=1)                             # → (batch, d_model)\n",
        "\n",
        "#         # e) classify\n",
        "#         return self.classifier(x)                     # → (batch, num_classes)\n"
      ]
    },
    {
      "cell_type": "code",
      "execution_count": 61,
      "metadata": {
        "colab": {
          "base_uri": "https://localhost:8080/"
        },
        "id": "xzyHnx_JgDHE",
        "outputId": "6b20cbbe-9112-40af-b5f5-9b0cbf88ceec"
      },
      "outputs": [
        {
          "output_type": "stream",
          "name": "stdout",
          "text": [
            "Using device: cpu\n"
          ]
        }
      ],
      "source": [
        "device = torch.device(\"cuda\" if torch.cuda.is_available() else \"cpu\")\n",
        "print(f\"Using device: {device}\")\n",
        "model  = TimeSeriesTransformer(\n",
        "    n_channels=12,\n",
        "    d_model=128,\n",
        "    n_heads=4,\n",
        "    num_layers=3,\n",
        "    d_ff=256,\n",
        "    dropout=0.3,\n",
        "    seq_len=1024,\n",
        "    num_classes=2\n",
        ").to(device)\n",
        "\n",
        "criterion = nn.CrossEntropyLoss()\n",
        "optimizer = torch.optim.AdamW(model.parameters(), lr=1e-3, weight_decay=1e-3)\n",
        "\n"
      ]
    },
    {
      "cell_type": "code",
      "execution_count": 62,
      "metadata": {
        "id": "Fz5jZOUXFuFi"
      },
      "outputs": [],
      "source": [
        "train_losses = []\n",
        "val_losses   = []\n",
        "train_accs   = []\n",
        "val_accs     = []\n"
      ]
    },
    {
      "cell_type": "code",
      "execution_count": null,
      "metadata": {
        "colab": {
          "base_uri": "https://localhost:8080/"
        },
        "id": "OSWFs6s7ia1m",
        "outputId": "989ace54-f894-4d5b-f0e1-1141aefcd16a"
      },
      "outputs": [
        {
          "name": "stdout",
          "output_type": "stream",
          "text": [
            "env: CUDA_LAUNCH_BLOCKING=1\n"
          ]
        }
      ],
      "source": [
        "%env CUDA_LAUNCH_BLOCKING=1"
      ]
    },
    {
      "cell_type": "code",
      "execution_count": 63,
      "metadata": {
        "id": "Wc8JxAYsgTUd"
      },
      "outputs": [],
      "source": [
        "from sklearn.metrics import accuracy_score\n",
        "\n",
        "def train_epoch(loader):\n",
        "    model.train()\n",
        "    running_loss = 0.0\n",
        "    preds, targets = [], []\n",
        "    for xb, yb in loader:\n",
        "        xb, yb = xb.to(device), yb.to(device)\n",
        "        optimizer.zero_grad()\n",
        "        logits = model(xb)\n",
        "        loss = criterion(logits, yb)\n",
        "        loss.backward()\n",
        "        optimizer.step()\n",
        "\n",
        "        running_loss += loss.item() * xb.size(0)\n",
        "        preds.extend(logits.argmax(dim=1).cpu().tolist())\n",
        "        targets.extend(yb.cpu().tolist())\n",
        "\n",
        "    avg_loss = running_loss / len(loader.dataset)\n",
        "    acc = accuracy_score(targets, preds)\n",
        "    return avg_loss, acc\n",
        "\n",
        "def eval_epoch(loader):\n",
        "    model.eval()\n",
        "    running_loss = 0.0\n",
        "    preds, targets = [], []\n",
        "    with torch.no_grad():\n",
        "        for xb, yb in loader:\n",
        "            xb, yb = xb.to(device), yb.to(device)\n",
        "            logits = model(xb)\n",
        "            loss = criterion(logits, yb)\n",
        "\n",
        "            running_loss += loss.item() * xb.size(0)\n",
        "            preds.extend(logits.argmax(dim=1).cpu().tolist())\n",
        "            targets.extend(yb.cpu().tolist())\n",
        "\n",
        "    avg_loss = running_loss / len(loader.dataset)\n",
        "    acc = accuracy_score(targets, preds)\n",
        "    return avg_loss, acc\n"
      ]
    },
    {
      "cell_type": "code",
      "execution_count": null,
      "metadata": {
        "id": "lbJEdgf1EEA3"
      },
      "outputs": [],
      "source": [
        "num_epochs = 5\n",
        "best_val_acc = 0.0\n",
        "\n",
        "for epoch in range(1, num_epochs+1):\n",
        "    train_loss, train_acc = train_epoch(train_loader)\n",
        "    val_loss, val_acc     = eval_epoch(val_loader)\n",
        "    # scheduler.step()\n",
        "\n",
        "    train_losses.append(train_loss)\n",
        "    train_accs  .append(train_acc)\n",
        "    val_losses  .append(val_loss)\n",
        "    val_accs    .append(val_acc)\n",
        "\n",
        "    print(f\"Epoch {epoch:02d} │ \"\n",
        "          f\"Train: loss={train_loss:.4f}, acc={train_acc:.3f} ││ \"\n",
        "          f\"Val:   loss={val_loss:.4f}, acc={val_acc:.3f}\")\n",
        "\n",
        "    # save best model\n",
        "    if val_acc > best_val_acc:\n",
        "        best_val_acc = val_acc\n",
        "        torch.save(model.state_dict(), \"best_asce_transformer.pt\")\n",
        "        print(\"  ↳ new best, model saved.\")\n"
      ]
    },
    {
      "cell_type": "code",
      "source": [
        "from sklearn.metrics import accuracy_score, f1_score, roc_auc_score\n",
        "\n",
        "def eval_epoch(loader):\n",
        "    model.eval()\n",
        "    running_loss = 0.0\n",
        "    preds, targets, probs = [], [], []\n",
        "    with torch.no_grad():\n",
        "        for xb, yb in loader:\n",
        "            xb, yb = xb.to(device), yb.to(device)\n",
        "            logits = model(xb)\n",
        "            loss = criterion(logits, yb)\n",
        "\n",
        "            running_loss += loss.item() * xb.size(0)\n",
        "            pr = logits.softmax(dim=1)[:,1]  # prob of class 1\n",
        "            probs.extend(pr.cpu().numpy().tolist())\n",
        "            preds.extend(logits.argmax(dim=1).cpu().tolist())\n",
        "            targets.extend(yb.cpu().tolist())\n",
        "\n",
        "    avg_loss = running_loss / len(loader.dataset)\n",
        "    acc = accuracy_score(targets, preds)\n",
        "    try:\n",
        "        auc = roc_auc_score(targets, probs)\n",
        "    except ValueError:\n",
        "        auc = float('nan')\n",
        "    f1 = f1_score(targets, preds)\n",
        "    return avg_loss, acc, f1, auc\n",
        "_, acc, f1, auc = eval_epoch(test_loader)\n",
        "print(f\"Test: acc={acc:.3f}, f1={f1:.3f}, auc={auc:.3f}\")"
      ],
      "metadata": {
        "colab": {
          "base_uri": "https://localhost:8080/"
        },
        "id": "ElG8TAl3uuAz",
        "outputId": "63072202-0d9e-40fb-a763-6d2c89c0b089"
      },
      "execution_count": 37,
      "outputs": [
        {
          "output_type": "stream",
          "name": "stdout",
          "text": [
            "Test: acc=1.000, f1=1.000, auc=1.000\n"
          ]
        }
      ]
    },
    {
      "cell_type": "code",
      "execution_count": 36,
      "metadata": {
        "colab": {
          "base_uri": "https://localhost:8080/",
          "height": 472
        },
        "id": "3AMSyM3LNlqu",
        "outputId": "550723ca-2f3e-403a-caa2-1f21bc4feef7"
      },
      "outputs": [
        {
          "output_type": "display_data",
          "data": {
            "text/plain": [
              "<Figure size 640x480 with 1 Axes>"
            ],
            "image/png": "[encoded data removed]"
          },
          "metadata": {}
        }
      ],
      "source": [
        "import matplotlib.pyplot as plt\n",
        "\n",
        "epochs = list(range(1, len(train_losses) + 1))\n",
        "\n",
        "plt.figure()\n",
        "plt.plot(epochs, train_losses, label='Train Loss')\n",
        "plt.plot(epochs, val_losses,   label='Val Loss')\n",
        "plt.xlabel('Epoch')\n",
        "plt.ylabel('Loss')\n",
        "plt.title('Training vs. Validation Loss')\n",
        "plt.legend()\n",
        "plt.show()\n"
      ]
    },
    {
      "cell_type": "code",
      "execution_count": 22,
      "metadata": {
        "colab": {
          "base_uri": "https://localhost:8080/",
          "height": 332
        },
        "id": "Lw9I9lIfOSwZ",
        "outputId": "5f8622a1-3d5b-4665-b1ff-2f688ddf917f"
      },
      "outputs": [
        {
          "output_type": "error",
          "ename": "AttributeError",
          "evalue": "'TimeSeriesTransformer' object has no attribute 'input_proj'",
          "traceback": [
            "\u001b[0;31m---------------------------------------------------------------------------\u001b[0m",
            "\u001b[0;31mAttributeError\u001b[0m                            Traceback (most recent call last)",
            "\u001b[0;32m/tmp/ipython-input-3610882745.py\u001b[0m in \u001b[0;36m<cell line: 0>\u001b[0;34m()\u001b[0m\n\u001b[1;32m     26\u001b[0m         \u001b[0mxb\u001b[0m \u001b[0;34m=\u001b[0m \u001b[0mxb\u001b[0m\u001b[0;34m.\u001b[0m\u001b[0mcpu\u001b[0m\u001b[0;34m(\u001b[0m\u001b[0;34m)\u001b[0m\u001b[0;34m\u001b[0m\u001b[0;34m\u001b[0m\u001b[0m\n\u001b[1;32m     27\u001b[0m         \u001b[0;31m# Manually run up through the transformer, stopping at the pooled output:\u001b[0m\u001b[0;34m\u001b[0m\u001b[0;34m\u001b[0m\u001b[0m\n\u001b[0;32m---> 28\u001b[0;31m         \u001b[0mx_proj\u001b[0m   \u001b[0;34m=\u001b[0m \u001b[0mmodel_cpu\u001b[0m\u001b[0;34m.\u001b[0m\u001b[0minput_proj\u001b[0m\u001b[0;34m(\u001b[0m\u001b[0mxb\u001b[0m\u001b[0;34m)\u001b[0m                             \u001b[0;31m# (B, L, d_model)\u001b[0m\u001b[0;34m\u001b[0m\u001b[0;34m\u001b[0m\u001b[0m\n\u001b[0m\u001b[1;32m     29\u001b[0m         \u001b[0mx_pos\u001b[0m    \u001b[0;34m=\u001b[0m \u001b[0mx_proj\u001b[0m \u001b[0;34m+\u001b[0m \u001b[0mmodel_cpu\u001b[0m\u001b[0;34m.\u001b[0m\u001b[0mpos_emb\u001b[0m\u001b[0;34m[\u001b[0m\u001b[0;34m:\u001b[0m\u001b[0;34m,\u001b[0m \u001b[0;34m:\u001b[0m\u001b[0mx_proj\u001b[0m\u001b[0;34m.\u001b[0m\u001b[0msize\u001b[0m\u001b[0;34m(\u001b[0m\u001b[0;36m1\u001b[0m\u001b[0;34m)\u001b[0m\u001b[0;34m,\u001b[0m \u001b[0;34m:\u001b[0m\u001b[0;34m]\u001b[0m     \u001b[0;31m# add pos emb\u001b[0m\u001b[0;34m\u001b[0m\u001b[0;34m\u001b[0m\u001b[0m\n\u001b[1;32m     30\u001b[0m         \u001b[0mx_trans\u001b[0m  \u001b[0;34m=\u001b[0m \u001b[0mmodel_cpu\u001b[0m\u001b[0;34m.\u001b[0m\u001b[0mtransformer\u001b[0m\u001b[0;34m(\u001b[0m\u001b[0mx_pos\u001b[0m\u001b[0;34m)\u001b[0m                          \u001b[0;31m# (B, L, d_model)\u001b[0m\u001b[0;34m\u001b[0m\u001b[0;34m\u001b[0m\u001b[0m\n",
            "\u001b[0;32m/usr/local/lib/python3.12/dist-packages/torch/nn/modules/module.py\u001b[0m in \u001b[0;36m__getattr__\u001b[0;34m(self, name)\u001b[0m\n\u001b[1;32m   1960\u001b[0m             \u001b[0;32mif\u001b[0m \u001b[0mname\u001b[0m \u001b[0;32min\u001b[0m \u001b[0mmodules\u001b[0m\u001b[0;34m:\u001b[0m\u001b[0;34m\u001b[0m\u001b[0;34m\u001b[0m\u001b[0m\n\u001b[1;32m   1961\u001b[0m                 \u001b[0;32mreturn\u001b[0m \u001b[0mmodules\u001b[0m\u001b[0;34m[\u001b[0m\u001b[0mname\u001b[0m\u001b[0;34m]\u001b[0m\u001b[0;34m\u001b[0m\u001b[0;34m\u001b[0m\u001b[0m\n\u001b[0;32m-> 1962\u001b[0;31m         raise AttributeError(\n\u001b[0m\u001b[1;32m   1963\u001b[0m             \u001b[0;34mf\"'{type(self).__name__}' object has no attribute '{name}'\"\u001b[0m\u001b[0;34m\u001b[0m\u001b[0;34m\u001b[0m\u001b[0m\n\u001b[1;32m   1964\u001b[0m         )\n",
            "\u001b[0;31mAttributeError\u001b[0m: 'TimeSeriesTransformer' object has no attribute 'input_proj'"
          ]
        }
      ],
      "source": [
        "# ─── Cell E ───\n",
        "# [Training loop here]\n",
        "# At the end, you have a trained model in memory or you load the best checkpoint:\n",
        "model.load_state_dict(torch.load(\"best_asce_transformer.pt\"))\n",
        "model.eval()\n",
        "# ────────────────────────────────────────────────────────────\n",
        "\n",
        "# ─── Cell F (new) ───\n",
        "import numpy as np\n",
        "from sklearn.decomposition import PCA\n",
        "from sklearn.manifold import TSNE\n",
        "import matplotlib.pyplot as plt\n",
        "from torch.utils.data import DataLoader\n",
        "\n",
        "# (1) Move model to CPU for visualization\n",
        "model_cpu = model.to('cpu')\n",
        "\n",
        "# (2) Create a DataLoader over the entire dataset (no shuffling)\n",
        "full_loader = DataLoader(dataset, batch_size=64, shuffle=False)\n",
        "\n",
        "# (3) Extract the d_model‐dim feature for each window by forwarding through everything\n",
        "all_features = []\n",
        "all_labels   = []\n",
        "with torch.no_grad():\n",
        "    for xb, yb in full_loader:\n",
        "        xb = xb.cpu()\n",
        "        # Manually run up through the transformer, stopping at the pooled output:\n",
        "        x_proj   = model_cpu.input_proj(xb)                             # (B, L, d_model)\n",
        "        x_pos    = x_proj + model_cpu.pos_emb[:, :x_proj.size(1), :]     # add pos emb\n",
        "        x_trans  = model_cpu.transformer(x_pos)                          # (B, L, d_model)\n",
        "        features = x_trans.mean(dim=1)                                   # (B, d_model)\n",
        "        all_features.append(features.numpy())\n",
        "        all_labels.append(yb.numpy())\n",
        "\n",
        "# (4) Stack everything into arrays\n",
        "features_array = np.vstack(all_features)   # shape: (n_windows, d_model)\n",
        "labels_array   = np.concatenate(all_labels)\n",
        "\n",
        "# (5) PCA → 2D\n",
        "pca = PCA(n_components=2)\n",
        "pca_result = pca.fit_transform(features_array)\n",
        "\n",
        "plt.figure(figsize=(8,6))\n",
        "scatter = plt.scatter(\n",
        "    pca_result[:,0], pca_result[:,1],\n",
        "    c=labels_array, cmap='coolwarm', alpha=0.7\n",
        ")\n",
        "plt.xlabel('PCA 1')\n",
        "plt.ylabel('PCA 2')\n",
        "plt.title('PCA of Transformer Features')\n",
        "plt.legend(*scatter.legend_elements(), title=\"State\")\n",
        "plt.show()\n",
        "\n",
        "# (6) t-SNE → 2D\n",
        "tsne = TSNE(n_components=2, perplexity=30, n_iter=1000, init='pca', random_state=42)\n",
        "tsne_result = tsne.fit_transform(features_array)\n",
        "\n",
        "plt.figure(figsize=(8,6))\n",
        "scatter = plt.scatter(\n",
        "    tsne_result[:,0], tsne_result[:,1],\n",
        "    c=labels_array, cmap='coolwarm', alpha=0.7\n",
        ")\n",
        "plt.xlabel('t-SNE 1')\n",
        "plt.ylabel('t-SNE 2')\n",
        "plt.title('t-SNE of Transformer Features')\n",
        "plt.legend(*scatter.legend_elements(), title=\"State\")\n",
        "plt.show()\n",
        "# ────────────────────────────────────────────────────────────\n"
      ]
    },
    {
      "cell_type": "code",
      "execution_count": null,
      "metadata": {
        "colab": {
          "base_uri": "https://localhost:8080/",
          "height": 472
        },
        "id": "YpTDf7HkNwnf",
        "outputId": "a0f857a9-e896-43f4-c2f8-7d1645649a0f"
      },
      "outputs": [
        {
          "data": {
            "image/png": "[encoded data removed]",
            "text/plain": [
              "<Figure size 640x480 with 1 Axes>"
            ]
          },
          "metadata": {},
          "output_type": "display_data"
        }
      ],
      "source": [
        "plt.figure()\n",
        "plt.plot(epochs, train_accs, label='Train Accuracy')\n",
        "plt.plot(epochs, val_accs,   label='Val Accuracy')\n",
        "plt.xlabel('Epoch')\n",
        "plt.ylabel('Accuracy')\n",
        "plt.title('Training vs. Validation Accuracy')\n",
        "plt.legend()\n",
        "plt.show()\n"
      ]
    },
    {
      "cell_type": "code",
      "execution_count": null,
      "metadata": {
        "colab": {
          "base_uri": "https://localhost:8080/",
          "height": 541
        },
        "id": "A9xO-wonOF7G",
        "outputId": "519cfcb9-d0ab-485e-f986-da9954312e89"
      },
      "outputs": [
        {
          "data": {
            "image/png": "[encoded data removed]",
            "text/plain": [
              "<Figure size 640x480 with 1 Axes>"
            ]
          },
          "metadata": {},
          "output_type": "display_data"
        },
        {
          "name": "stdout",
          "output_type": "stream",
          "text": [
            "Confusion Matrix:\n",
            "              Pred State1  Pred State2\n",
            "True State1            0           14\n",
            "True State2            0           10\n"
          ]
        }
      ],
      "source": [
        "import matplotlib.pyplot as plt\n",
        "from sklearn.metrics import confusion_matrix\n",
        "import pandas as pd\n",
        "import torch\n",
        "\n",
        "# 1) Plot training & validation loss\n",
        "epochs = list(range(1, len(train_losses) + 1))\n",
        "plt.figure()\n",
        "plt.plot(epochs, train_losses, label='Train Loss')\n",
        "plt.plot(epochs, val_losses,   label='Val Loss')\n",
        "plt.xlabel('Epoch')\n",
        "plt.ylabel('Loss')\n",
        "plt.title('Training vs. Validation Loss')\n",
        "plt.legend()\n",
        "plt.show()\n",
        "\n",
        "# 2) Compute confusion matrix on the test set\n",
        "model.eval()\n",
        "# Move model to CPU before inference to match data device\n",
        "model_cpu = model.to('cpu')\n",
        "all_preds, all_targets = [], []\n",
        "with torch.no_grad():\n",
        "    for xb, yb in test_loader:\n",
        "        # Move data to CPU to match model device\n",
        "        xb, yb = xb.to('cpu'), yb.to('cpu')\n",
        "        logits = model_cpu(xb)\n",
        "        preds = logits.argmax(dim=1).cpu().numpy()\n",
        "        all_preds.extend(preds)\n",
        "        all_targets.extend(yb.cpu().numpy())\n",
        "\n",
        "# Build & display as a DataFrame\n",
        "cm = confusion_matrix(all_targets, all_preds)\n",
        "df_cm = pd.DataFrame(cm,\n",
        "    index=['True State1','True State2'],\n",
        "    columns=['Pred State1','Pred State2']\n",
        "    # index=['True State1','True State2','True State3','True State4','True State5', 'True State6', 'True State7', 'True State8','True State9'],\n",
        "    # columns=['Pred State1','Pred State2','Pred State3','Pred State4', 'Pred State5', 'Pred State6', 'Pred State7', 'Pred State8', 'Pred State9']\n",
        ")\n",
        "print(\"Confusion Matrix:\\n\", df_cm)"
      ]
    },
    {
      "cell_type": "code",
      "execution_count": null,
      "metadata": {
        "id": "rU6IvHbxlsEG"
      },
      "outputs": [],
      "source": []
    }
  ],
  "metadata": {
    "colab": {
      "provenance": [],
      "authorship_tag": "ABX9TyOjfd62p7ZN6couINfd5fS+",
      "include_colab_link": true
    },
    "kernelspec": {
      "display_name": "Python 3",
      "name": "python3"
    },
    "language_info": {
      "name": "python"
    }
  },
  "nbformat": 4,
  "nbformat_minor": 0
}