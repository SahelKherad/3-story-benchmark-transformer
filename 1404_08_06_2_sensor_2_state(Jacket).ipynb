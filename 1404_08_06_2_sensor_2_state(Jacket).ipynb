{
  "cells": [
    {
      "cell_type": "markdown",
      "metadata": {
        "id": "view-in-github",
        "colab_type": "text"
      },
      "source": [
        "<a href=\"https://colab.research.google.com/github/SahelKherad/3-story-benchmark-transformer/blob/main/1404_08_06_2_sensor_2_state(Jacket).ipynb\" target=\"_parent\"><img src=\"https://colab.research.google.com/assets/colab-badge.svg\" alt=\"Open In Colab\"/></a>"
      ]
    },
    {
      "cell_type": "code",
      "execution_count": null,
      "metadata": {
        "id": "JzyYbQohztXG"
      },
      "outputs": [],
      "source": [
        "import os\n",
        "import scipy.io\n",
        "from scipy.io.matlab._mio5_params import mat_struct\n",
        "import numpy as np\n",
        "import pandas as pd\n",
        "import torch\n",
        "import torch.nn as nn\n",
        "from torch.utils.data import Dataset, DataLoader\n",
        "import matplotlib.pyplot as plt\n",
        "from sklearn.metrics import confusion_matrix\n",
        "from sklearn.model_selection import train_test_split"
      ]
    },
    {
      "cell_type": "code",
      "execution_count": null,
      "metadata": {
        "colab": {
          "base_uri": "https://localhost:8080/"
        },
        "id": "rEjAYmOPAbYE",
        "outputId": "b45d85f2-87f8-4ebe-dd12-ef81fdd54416"
      },
      "outputs": [
        {
          "output_type": "stream",
          "name": "stdout",
          "text": [
            "Mounted at /content/drive\n"
          ]
        }
      ],
      "source": [
        "from google.colab import drive\n",
        "drive.mount('/content/drive', force_remount=True)"
      ]
    },
    {
      "cell_type": "code",
      "execution_count": null,
      "metadata": {
        "colab": {
          "base_uri": "https://localhost:8080/"
        },
        "id": "84ltkG1zAdmw",
        "outputId": "e80733d0-1fb3-4b39-8389-ac9c3770a729"
      },
      "outputs": [
        {
          "output_type": "stream",
          "name": "stdout",
          "text": [
            "shm01a.mat  shm03a.mat\tshm05a.mat  shm07a.mat\tshm09a.mat\n",
            "shm02a.mat  shm04a.mat\tshm06a.mat  shm08a.mat\n"
          ]
        }
      ],
      "source": [
        "!ls \"/content/drive/My Drive/ASCE\""
      ]
    },
    {
      "cell_type": "code",
      "execution_count": null,
      "metadata": {
        "colab": {
          "base_uri": "https://localhost:8080/"
        },
        "id": "mOPozofZA9NS",
        "outputId": "1d2b4eaf-4d57-48e9-fe67-6f395a6a164d"
      },
      "outputs": [
        {
          "output_type": "stream",
          "name": "stdout",
          "text": [
            "(60000, 16)\n",
            "(60000,)\n",
            "(60000,)\n"
          ]
        }
      ],
      "source": [
        "def load_mat(path):\n",
        "    mat = scipy.io.loadmat(path, squeeze_me=True, struct_as_record=False)\n",
        "    raw = mat.get('dasy')\n",
        "    if isinstance(raw, mat_struct):\n",
        "        channels = []\n",
        "        for f in raw._fieldnames:\n",
        "            arr = getattr(raw, f)\n",
        "            channels.append(np.asarray(arr).reshape(-1))\n",
        "        data = np.stack(channels, axis=1)  # (n_samples, n_channels)\n",
        "    else:\n",
        "        raise ValueError(\"Unexpected MAT structure. 'dasy' not a struct.\")\n",
        "    return data  # float64 by default\n",
        "\n",
        "base_dir = '/content/drive/MyDrive/ASCE/'\n",
        "state_files = {\n",
        "    1: 'shm01a.mat', 2: 'shm02a.mat', 3: 'shm03a.mat',\n",
        "    4: 'shm04a.mat', 5: 'shm05a.mat', 6: 'shm06a.mat',\n",
        "    7: 'shm07a.mat', 8: 'shm08a.mat', 9: 'shm09a.mat',\n",
        "}\n",
        "# label_to_class_id: 1..9 -> 0..8\n",
        "label_to_cid = {lab: i for i, lab in enumerate(sorted(state_files.keys()))}\n",
        "\n",
        "scenario_data = {}   # cid -> np.ndarray [N, C]\n",
        "for lab, fname in state_files.items():\n",
        "    x = load_mat(os.path.join(base_dir, fname)).astype(np.float32)\n",
        "    scenario_data[label_to_cid[lab]] = x\n",
        "print(scenario_data[0][:,:].shape)\n",
        "print(scenario_data[0][:,4].shape)\n",
        "print(scenario_data[4][:,4].shape)\n",
        "    # print(fname, x.shape)"
      ]
    },
    {
      "cell_type": "code",
      "execution_count": null,
      "metadata": {
        "id": "X-4vPwZ9Qigo"
      },
      "outputs": [],
      "source": [
        "win = 128\n"
      ]
    },
    {
      "cell_type": "code",
      "execution_count": null,
      "metadata": {
        "id": "t8Vx6tVvBNOR"
      },
      "outputs": [],
      "source": [
        "# print(scenario_data[0][:,4].shape)\n",
        "# print(scenario_data[0][:,4])\n",
        "# print('Max = ',max(scenario_data[0][:,4]))\n",
        "# print('Min = ',min(scenario_data[0][:,4]))\n",
        "# fig , axs = plt.subplots(2,3,figsize=(10,5))\n",
        "# axs[0,0].plot(scenario_data[0][:win,4])\n",
        "# axs[0,1].plot(scenario_data[0][win: 2*win,4])\n",
        "# axs[0,2].plot(scenario_data[0][:,4])\n",
        "\n",
        "# print(scenario_data[1][:,4].shape)\n",
        "# print('Max = ',max(scenario_data[1][:,4]))\n",
        "# print('Min = ',min(scenario_data[1][:,4]))\n",
        "# axs[1,0].plot(scenario_data[1][:win,4],c='r')\n",
        "# axs[1,1].plot(scenario_data[1][win:2*win,4], c='r')\n",
        "# axs[1,2].plot(scenario_data[1][:,4],c='r')\n"
      ]
    },
    {
      "cell_type": "code",
      "execution_count": null,
      "metadata": {
        "colab": {
          "base_uri": "https://localhost:8080/"
        },
        "id": "aNl3tzv1Fj63",
        "outputId": "29e41b7a-4ece-4229-fe74-c33113400bdd"
      },
      "outputs": [
        {
          "output_type": "stream",
          "name": "stdout",
          "text": [
            "(60000, 2)\n",
            "(60000, 2)\n"
          ]
        }
      ],
      "source": [
        "healthy_data_1 = scenario_data[0][:,4]\n",
        "healthy_data_2 = scenario_data[0][:,6]\n",
        "Healthy_data = np.stack([healthy_data_1, healthy_data_2], axis = 1)\n",
        "print(Healthy_data.shape)\n",
        "\n",
        "damaged_data_1 = scenario_data[1][:,4]\n",
        "damaged_data_2 = scenario_data[1][:,6]\n",
        "Damaged_data = np.stack([damaged_data_1, damaged_data_2], axis = 1)\n",
        "print(Damaged_data.shape)\n"
      ]
    },
    {
      "cell_type": "code",
      "execution_count": null,
      "metadata": {
        "id": "SNOjFVrO60Tm"
      },
      "outputs": [],
      "source": [
        "def make_windows(data, window_length, drop_last : bool = True):\n",
        "    # Calculate how many full frames can be created\n",
        "    num_frames = len(data) // window_length\n",
        "    # print(num_frames)\n",
        "    # Trim the data to be a perfect multiple of the frame length\n",
        "    trimmed_data = data[:num_frames * window_length]\n",
        "\n",
        "    # Reshape the data into a 2D array of frames\n",
        "    windows = trimmed_data.reshape((num_frames, window_length))\n",
        "    # return trimmed_data.shape , frames.shape\n",
        "    return windows"
      ]
    },
    {
      "cell_type": "code",
      "execution_count": null,
      "metadata": {
        "colab": {
          "base_uri": "https://localhost:8080/"
        },
        "id": "aqkjq8tN66qm",
        "outputId": "f20c1dae-8302-4030-c652-24ebe42b5420"
      },
      "outputs": [
        {
          "output_type": "stream",
          "name": "stdout",
          "text": [
            "[[-0.0027374  -0.0022796  -0.00162676 ... -0.00070696 -0.00056504\n",
            "  -0.000851  ]\n",
            " [-0.00165148 -0.0025706  -0.0032168  ... -0.0023534  -0.00190296\n",
            "  -0.00120744]\n",
            " [-0.00067856 -0.0004741  -0.00092424 ... -0.0036352  -0.0035318\n",
            "  -0.002559  ]\n",
            " ...\n",
            " [-0.00186022 -0.002514   -0.002882   ... -0.0026012  -0.0020042\n",
            "  -0.0012642 ]\n",
            " [-0.00065934 -0.0004744  -0.00099168 ... -0.0025732  -0.0028744\n",
            "  -0.0028426 ]\n",
            " [-0.0023872  -0.00174854 -0.0009395  ... -0.00078324 -0.00165668\n",
            "  -0.0026356 ]]\n",
            "[[0.0034868 0.0034172 0.0033064 ... 0.0035214 0.003618  0.003622 ]\n",
            " [0.0035558 0.003536  0.0034898 ... 0.0032994 0.0034502 0.0036016]\n",
            " [0.0036586 0.003634  0.003614  ... 0.0035698 0.0034966 0.0033776]\n",
            " ...\n",
            " [0.003626  0.0035104 0.0033712 ... 0.0033614 0.0033944 0.0034486]\n",
            " [0.0035104 0.0035668 0.0035836 ... 0.0033452 0.0033428 0.0033214]\n",
            " [0.0033578 0.0034862 0.0036052 ... 0.0035244 0.003484  0.0034268]]\n",
            "(468, 128)\n",
            "(468, 128)\n",
            "(468, 256)\n",
            "(468, 256)\n"
          ]
        }
      ],
      "source": [
        "# 2) Make windows per class\n",
        "h_1 = make_windows(healthy_data_1, win, drop_last=True)\n",
        "h_2 = make_windows(healthy_data_2, win, drop_last=True)\n",
        "\n",
        "print(h_1)\n",
        "print(h_2)\n",
        "print(h_1.shape)\n",
        "print(h_2.shape)\n",
        "\n",
        "\n",
        "healthy_data = np.concatenate([h_1,h_2], axis = 1)\n",
        "print(healthy_data.shape)\n",
        "# print(healthy_data)\n",
        "\n",
        "d_1 = make_windows(damaged_data_1, win, drop_last=True)\n",
        "d_2 = make_windows(damaged_data_2, win, drop_last=True)\n",
        "damaged_data = np.concatenate([d_1,d_2], axis = 1)\n",
        "\n",
        "print(damaged_data.shape)\n",
        "\n"
      ]
    },
    {
      "cell_type": "code",
      "execution_count": null,
      "metadata": {
        "colab": {
          "base_uri": "https://localhost:8080/"
        },
        "id": "No19Av0aGGke",
        "outputId": "76ea8831-9122-4bf2-e70a-0df51b0d8d56"
      },
      "outputs": [
        {
          "output_type": "stream",
          "name": "stdout",
          "text": [
            "468\n",
            "280\n",
            "468\n",
            "280\n",
            "X_train_0 (280, 256)\n",
            "X_val_0 (93, 256)\n",
            "X_test_0 (95, 256)\n",
            "(468,)\n",
            "(468,)\n"
          ]
        }
      ],
      "source": [
        "n_train = 0.6\n",
        "n_val = 0.2\n",
        "\n",
        "m_0 = int(n_train * (healthy_data.shape[0]))\n",
        "print(healthy_data.shape[0])\n",
        "print(m_0)\n",
        "l_0 = int(n_val * (healthy_data.shape[0]))\n",
        "\n",
        "m_1 = int(n_train * (damaged_data.shape[0]))\n",
        "print(damaged_data.shape[0])\n",
        "print(m_1)\n",
        "l_1 = int(n_val * (damaged_data.shape[0]))\n",
        "\n",
        "X_train_0 = healthy_data[0:m_0,:]\n",
        "print('X_train_0',X_train_0.shape)\n",
        "X_val_0 = healthy_data[m_0 :m_0+l_0,:]\n",
        "print('X_val_0',X_val_0.shape)\n",
        "X_test_0 = healthy_data[m_0+l_0:,:]\n",
        "print('X_test_0',X_test_0.shape)\n",
        "\n",
        "y_0 = np.zeros((X_train_0.shape[0]+X_val_0.shape[0]+X_test_0.shape[0]), dtype=np.int64)\n",
        "print(y_0.shape)\n",
        "\n",
        "X_train_1 = damaged_data[0:m_1,:]\n",
        "X_val_1 = damaged_data[m_1 :m_1+l_1,:]\n",
        "X_test_1 = damaged_data[m_1+l_1:,:]\n",
        "y_1 = np.ones((X_train_1.shape[0]+X_val_1.shape[0]+X_test_1.shape[0]), dtype=np.int64)\n",
        "print(y_1.shape)"
      ]
    },
    {
      "cell_type": "code",
      "execution_count": null,
      "metadata": {
        "colab": {
          "base_uri": "https://localhost:8080/"
        },
        "id": "iaHN_fqBGGft",
        "outputId": "32f35f8d-d0f9-4617-df79-f2ecf60fba03"
      },
      "outputs": [
        {
          "output_type": "stream",
          "name": "stdout",
          "text": [
            "x_train_o.shape: (280, 256)\n",
            "x_val_o.shape: (93, 256)\n",
            "x_test_o.shape: (95, 256)\n"
          ]
        }
      ],
      "source": [
        "print('x_train_o.shape:', X_train_0.shape)\n",
        "print('x_val_o.shape:', X_val_0.shape)\n",
        "print('x_test_o.shape:', X_test_0.shape)"
      ]
    },
    {
      "cell_type": "code",
      "execution_count": null,
      "metadata": {
        "colab": {
          "base_uri": "https://localhost:8080/"
        },
        "id": "nWopbzLHD6LO",
        "outputId": "5f5b0990-d413-4e59-bf06-a5856db33ee0"
      },
      "outputs": [
        {
          "output_type": "stream",
          "name": "stdout",
          "text": [
            "x_train_1.shape: (280, 256)\n",
            "x_val_1.shape: (93, 256)\n",
            "x_test_1.shape: (95, 256)\n",
            "y_1.shape: (468,)\n"
          ]
        }
      ],
      "source": [
        "print('x_train_1.shape:', X_train_1.shape)\n",
        "print('x_val_1.shape:', X_val_1.shape)\n",
        "print('x_test_1.shape:', X_test_1.shape)\n",
        "print('y_1.shape:', y_1.shape)"
      ]
    },
    {
      "cell_type": "code",
      "execution_count": null,
      "metadata": {
        "colab": {
          "base_uri": "https://localhost:8080/"
        },
        "id": "LoIL10XiEji9",
        "outputId": "af712b85-54b6-41a1-dabb-894769239c15"
      },
      "outputs": [
        {
          "output_type": "stream",
          "name": "stdout",
          "text": [
            "(560, 256, 1)\n",
            "[0 0 0 0 0 0 0 0 0 0 0 0 0 0 0 0 0 0 0 0 0 0 0 0 0 0 0 0 0 0 0 0 0 0 0 0 0\n",
            " 0 0 0 0 0 0 0 0 0 0 0 0 0 0 0 0 0 0 0 0 0 0 0 0 0 0 0 0 0 0 0 0 0 0 0 0 0\n",
            " 0 0 0 0 0 0 0 0 0 0 0 0 0 0 0 0 0 0 0 0 0 0 0 0 0 0 0 0 0 0 0 0 0 0 0 0 0\n",
            " 0 0 0 0 0 0 0 0 0 0 0 0 0 0 0 0 0 0 0 0 0 0 0 0 0 0 0 0 0 0 0 0 0 0 0 0 0\n",
            " 0 0 0 0 0 0 0 0 0 0 0 0 0 0 0 0 0 0 0 0 0 0 0 0 0 0 0 0 0 0 0 0 0 0 0 0 0\n",
            " 0 0 0 0 0 0 0 0 0 0 0 0 0 0 0 0 0 0 0 0 0 0 0 0 0 0 0 0 0 0 0 0 0 0 0 0 0\n",
            " 0 0 0 0 0 0 0 0 0 0 0 0 0 0 0 0 0 0 0 0 0 0 0 0 0 0 0 0 0 0 0 0 0 0 0 0 0\n",
            " 0 0 0 0 0 0 0 0 0 0 0 0 0 0 0 0 0 0 0 0 0 1 1 1 1 1 1 1 1 1 1 1 1 1 1 1 1\n",
            " 1 1 1 1 1 1 1 1 1 1 1 1 1 1 1 1 1 1 1 1 1 1 1 1 1 1 1 1 1 1 1 1 1 1 1 1 1\n",
            " 1 1 1 1 1 1 1 1 1 1 1 1 1 1 1 1 1 1 1 1 1 1 1 1 1 1 1 1 1 1 1 1 1 1 1 1 1\n",
            " 1 1 1 1 1 1 1 1 1 1 1 1 1 1 1 1 1 1 1 1 1 1 1 1 1 1 1 1 1 1 1 1 1 1 1 1 1\n",
            " 1 1 1 1 1 1 1 1 1 1 1 1 1 1 1 1 1 1 1 1 1 1 1 1 1 1 1 1 1 1 1 1 1 1 1 1 1\n",
            " 1 1 1 1 1 1 1 1 1 1 1 1 1 1 1 1 1 1 1 1 1 1 1 1 1 1 1 1 1 1 1 1 1 1 1 1 1\n",
            " 1 1 1 1 1 1 1 1 1 1 1 1 1 1 1 1 1 1 1 1 1 1 1 1 1 1 1 1 1 1 1 1 1 1 1 1 1\n",
            " 1 1 1 1 1 1 1 1 1 1 1 1 1 1 1 1 1 1 1 1 1 1 1 1 1 1 1 1 1 1 1 1 1 1 1 1 1\n",
            " 1 1 1 1 1]\n",
            "(560,)\n"
          ]
        }
      ],
      "source": [
        "X_train = np.vstack([X_train_0, X_train_1])[:, :, None]      # [N, 5, 1]\n",
        "print(X_train.shape)\n",
        "\n",
        "y_train = np.concatenate([y_0[0:int(len(X_train_0))], y_1[0:int(len(X_train_1))]])             # [N]\n",
        "print(y_train)\n",
        "print(y_train.shape)"
      ]
    },
    {
      "cell_type": "code",
      "execution_count": null,
      "metadata": {
        "colab": {
          "base_uri": "https://localhost:8080/"
        },
        "id": "XUigudXtGTof",
        "outputId": "0f1eb4dd-e0d0-4b78-d0cc-ee979f0c4fb5"
      },
      "outputs": [
        {
          "output_type": "stream",
          "name": "stdout",
          "text": [
            "(560, 128)\n",
            "mu: [[-0.00205936]]\n"
          ]
        }
      ],
      "source": [
        "H = np.concatenate([X_train_0[:,0:128],X_train_1[:,0:128]])\n",
        "print(H.shape)\n",
        "mu = H.mean(axis=(0,1) , keepdims = True)\n",
        "print('mu:',mu)\n",
        "std = H.std(axis=(0,1), keepdims=True) + 1e-6"
      ]
    },
    {
      "cell_type": "code",
      "execution_count": null,
      "metadata": {
        "id": "V71gTlEZGGar"
      },
      "outputs": [],
      "source": [
        "X_train_0[:,0:128] = (X_train_0[:,0:128]- mu) / std\n",
        "X_val_0 [:,0:128]  = (X_val_0[:,0:128]   - mu) / std\n",
        "X_test_0[:,0:128]  = (X_test_0[:,0:128]  - mu) / std\n",
        "\n",
        "X_train_1[:,0:128] = (X_train_1[:,0:128] - mu) / std\n",
        "X_val_1 [:,0:128]  = (X_val_1[:,0:128]   - mu) / std\n",
        "X_test_1 [:,0:128] = (X_test_1[:,0:128]  - mu) / std"
      ]
    },
    {
      "cell_type": "code",
      "execution_count": null,
      "metadata": {
        "colab": {
          "base_uri": "https://localhost:8080/"
        },
        "id": "2pt7pDjPryEO",
        "outputId": "7e357d31-e089-430a-dff7-d6ec6e5d09d0"
      },
      "outputs": [
        {
          "output_type": "stream",
          "name": "stdout",
          "text": [
            "(560, 128)\n",
            "mu: [[0.00300069]]\n"
          ]
        }
      ],
      "source": [
        "D = np.concatenate([X_train_0[:,128:],X_train_1[:,128:]])\n",
        "print(H.shape)\n",
        "mu = D.mean(axis=(0,1) , keepdims = True)\n",
        "print('mu:',mu)\n",
        "std = D.std(axis=(0,1), keepdims=True) + 1e-6"
      ]
    },
    {
      "cell_type": "code",
      "execution_count": null,
      "metadata": {
        "id": "BjfPPXkBfYzK"
      },
      "outputs": [],
      "source": [
        "X_train_0[:,128:] = (X_train_0[:,128:]- mu) / std\n",
        "X_val_0 [:,128:]  = (X_val_0[:,128:]   - mu) / std\n",
        "X_test_0[:,128:]  = (X_test_0[:,128:]  - mu) / std\n",
        "\n",
        "X_train_1[:,128:] = (X_train_1[:,128:] - mu) / std\n",
        "X_val_1[:,128:]   = (X_val_1[:,128:]   - mu) / std\n",
        "X_test_1[:,128:]  = (X_test_1[:,128:]  - mu) / std"
      ]
    },
    {
      "cell_type": "code",
      "execution_count": null,
      "metadata": {
        "colab": {
          "base_uri": "https://localhost:8080/"
        },
        "id": "xCQQkDlH8ZYS",
        "outputId": "00447ab0-6234-4905-8e13-5fa01ec746e5"
      },
      "outputs": [
        {
          "output_type": "stream",
          "name": "stdout",
          "text": [
            "[1 0 0 1 1 0 1 1 0 0 0 0 0 0 1 0 0 1 0 0 1 1 1 0 0 0 0 0 1 0 0 0 1 0 1 0 1\n",
            " 0 1 0 0 1 0 1 1 0 0 1 0 1 0 0 1 1 0 1 1 0 0 1 0 1 1 0 0 0 0 1 1 1 1 0 0 0\n",
            " 1 1 1 0 0 1 0 1 1 1 0 0 0 0 0 0 0 1 0 0 1 0 1 1 1 1 0 1 1 0 0 1 0 0 1 1 0\n",
            " 1 0 0 0 0 1 1 1 0 1 0 1 0 1 1 0 0 1 1 1 0 0 1 1 0 0 1 1 0 1 1 0 1 0 0 0 0\n",
            " 0 0 1 0 0 0 1 1 1 0 1 0 1 0 0 1 1 0 1 1 1 1 0 1 1 0 1 0 1 0 1 1 1 1 0 1 1\n",
            " 1 1 0 0 0 1 0 0 1 0 0 1 0 1 1 1 0 0 1 1 1 1 0 0 0 0 0 0 0 0 1 0 1 0 0 0 0\n",
            " 0 1 1 1 1 0 1 0 0 1 0 1 0 1 1 0 1 1 1 1 0 0 1 0 1 1 1 1 1 1 1 0 0 1 0 0 0\n",
            " 0 1 1 0 1 0 1 0 1 1 1 1 1 1 0 0 0 1 1 0 0 1 0 1 0 1 0 1 0 1 1 1 1 0 0 0 1\n",
            " 0 0 1 1 0 0 1 0 1 0 0 1 1 0 1 1 1 0 0 1 1 0 1 1 1 0 0 0 1 0 1 1 1 0 1 0 0\n",
            " 1 1 0 1 1 0 1 1 0 0 0 0 0 1 0 1 1 0 1 1 0 0 0 1 1 1 1 1 0 1 0 1 0 1 0 0 1\n",
            " 0 1 0 0 0 0 1 0 0 0 0 0 0 1 0 1 1 1 0 0 1 1 0 0 1 1 0 0 0 1 0 1 1 1 1 1 0\n",
            " 1 1 1 0 1 1 0 1 0 0 0 1 0 1 1 0 1 1 1 1 0 0 1 0 0 0 0 0 1 1 0 0 0 1 0 0 1\n",
            " 0 1 1 0 1 1 0 1 0 0 1 1 0 0 0 1 1 1 1 1 1 1 1 0 1 0 1 1 1 0 0 1 0 1 0 0 0\n",
            " 0 1 0 0 0 1 0 0 1 1 1 1 0 1 1 1 1 0 0 0 1 0 0 0 0 1 1 0 0 0 0 0 1 0 0 1 0\n",
            " 0 0 0 1 1 1 1 1 1 0 1 1 0 0 0 1 1 0 1 1 1 1 0 0 1 1 1 0 0 1 0 0 1 1 0 1 0\n",
            " 1 1 1 0 1]\n"
          ]
        }
      ],
      "source": [
        "rng = np.random.default_rng(42)\n",
        "perm = rng.permutation(len(X_train))\n",
        "\n",
        "X_train = X_train[perm]\n",
        "y_train = y_train[perm]\n",
        "print(y_train)"
      ]
    },
    {
      "cell_type": "code",
      "execution_count": null,
      "metadata": {
        "colab": {
          "base_uri": "https://localhost:8080/"
        },
        "id": "BdK647bqG2zX",
        "outputId": "c6b9d0ba-9a50-4269-fcc2-785c1387c884"
      },
      "outputs": [
        {
          "output_type": "stream",
          "name": "stdout",
          "text": [
            "(186, 256, 1)\n",
            "[0 0 0 0 0 0 0 0 0 0 0 0 0 0 0 0 0 0 0 0 0 0 0 0 0 0 0 0 0 0 0 0 0 0 0 0 0\n",
            " 0 0 0 0 0 0 0 0 0 0 0 0 0 0 0 0 0 0 0 0 0 0 0 0 0 0 0 0 0 0 0 0 0 0 0 0 0\n",
            " 0 0 0 0 0 0 0 0 0 0 0 0 0 0 0 0 0 0 0 1 1 1 1 1 1 1 1 1 1 1 1 1 1 1 1 1 1\n",
            " 1 1 1 1 1 1 1 1 1 1 1 1 1 1 1 1 1 1 1 1 1 1 1 1 1 1 1 1 1 1 1 1 1 1 1 1 1\n",
            " 1 1 1 1 1 1 1 1 1 1 1 1 1 1 1 1 1 1 1 1 1 1 1 1 1 1 1 1 1 1 1 1 1 1 1 1 1\n",
            " 1]\n",
            "(186,)\n"
          ]
        }
      ],
      "source": [
        "X_val = np.vstack([X_val_0, X_val_1])[:, :, None]  # [N, 5, 1]\n",
        "print(X_val.shape)\n",
        "\n",
        "y_val = np.concatenate([y_0[int(len(X_train_0)):int(len(X_train_0) + len(X_val_0))], y_1[int(len(X_train_1)):int(len(X_train_1) + len(X_val_1))]])             # [N]\n",
        "print(y_val)\n",
        "print(y_val.shape)"
      ]
    },
    {
      "cell_type": "code",
      "execution_count": null,
      "metadata": {
        "colab": {
          "base_uri": "https://localhost:8080/"
        },
        "id": "5tnMiR0IHGBN",
        "outputId": "cf7fb6dd-e0cc-47f0-f532-033ca981ae59"
      },
      "outputs": [
        {
          "output_type": "stream",
          "name": "stdout",
          "text": [
            "(190, 256, 1)\n",
            "[0 0 0 0 0 0 0 0 0 0 0 0 0 0 0 0 0 0 0 0 0 0 0 0 0 0 0 0 0 0 0 0 0 0 0 0 0\n",
            " 0 0 0 0 0 0 0 0 0 0 0 0 0 0 0 0 0 0 0 0 0 0 0 0 0 0 0 0 0 0 0 0 0 0 0 0 0\n",
            " 0 0 0 0 0 0 0 0 0 0 0 0 0 0 0 0 0 0 0 0 0 1 1 1 1 1 1 1 1 1 1 1 1 1 1 1 1\n",
            " 1 1 1 1 1 1 1 1 1 1 1 1 1 1 1 1 1 1 1 1 1 1 1 1 1 1 1 1 1 1 1 1 1 1 1 1 1\n",
            " 1 1 1 1 1 1 1 1 1 1 1 1 1 1 1 1 1 1 1 1 1 1 1 1 1 1 1 1 1 1 1 1 1 1 1 1 1\n",
            " 1 1 1 1 1]\n",
            "(190,)\n"
          ]
        }
      ],
      "source": [
        "X_test =  np.vstack([X_test_0, X_test_1])[:, :, None]  # [N, 5, 1]\n",
        "print(X_test.shape)\n",
        "\n",
        "y_test = np.concatenate([y_0[int(len(X_train_0) + len(X_val_0)):], y_1[int(len(X_train_1) + len(X_val_1)):]], axis=0)             # [N]\n",
        "print(y_test)\n",
        "print(y_test.shape)"
      ]
    },
    {
      "cell_type": "code",
      "execution_count": null,
      "metadata": {
        "id": "EyfNxcS0OW3Z"
      },
      "outputs": [],
      "source": [
        "# 5) Torch tensors\n",
        "X_train = torch.from_numpy(X_train).float()  # float32\n",
        "y_train = torch.from_numpy(y_train).long()  # int64\n",
        "X_val   = torch.from_numpy(X_val).float()\n",
        "y_val   = torch.from_numpy(y_val).long()\n",
        "X_test  = torch.from_numpy(X_test).float()\n",
        "y_test  = torch.from_numpy(y_test).long()"
      ]
    },
    {
      "cell_type": "code",
      "execution_count": null,
      "metadata": {
        "colab": {
          "base_uri": "https://localhost:8080/"
        },
        "id": "ITFAlRmJOWdB",
        "outputId": "843b35e7-5a3b-4ca8-f2dd-9ce290d0cc2f"
      },
      "outputs": [
        {
          "output_type": "stream",
          "name": "stdout",
          "text": [
            "torch.Size([560, 256, 1]) torch.Size([560])\n",
            "torch.Size([186, 256, 1]) torch.Size([186])\n",
            "torch.Size([190, 256, 1]) torch.Size([190])\n"
          ]
        }
      ],
      "source": [
        "print(X_train.shape, y_train.shape)\n",
        "print(X_val.shape, y_val.shape)\n",
        "print(X_test.shape, y_test.shape)"
      ]
    },
    {
      "cell_type": "code",
      "execution_count": null,
      "metadata": {
        "id": "Vn18DVVKq76e"
      },
      "outputs": [],
      "source": [
        "class SeqDataset(Dataset):\n",
        "    def __init__(self, X: torch.Tensor, y: torch.Tensor):\n",
        "        self.X = X  # [N, seq_len, 1]\n",
        "        self.y = y  # [N]\n",
        "    def __len__(self): return self.y.shape[0]\n",
        "    def __getitem__(self, i): return self.X[i], self.y[i]\n",
        "\n",
        "train_ds = SeqDataset(X_train, y_train)\n",
        "# print(X_train.shape)\n",
        "# print(train_ds[0])\n",
        "# print(train_ds[1])\n",
        "# print(train_ds[2])\n",
        "val_ds   = SeqDataset(X_val,   y_val)\n",
        "test_ds  = SeqDataset(X_test,  y_test)"
      ]
    },
    {
      "cell_type": "code",
      "execution_count": null,
      "metadata": {
        "id": "3ma0uxTa8nsD"
      },
      "outputs": [],
      "source": [
        "# 6) DataLoaders: shuffle only the training set\n",
        "batch_size = 64\n",
        "train_loader = DataLoader(train_ds, batch_size=batch_size, shuffle=True)\n",
        "val_loader   = DataLoader(val_ds,   batch_size=batch_size, shuffle=False)\n",
        "test_loader  = DataLoader(test_ds,  batch_size=batch_size, shuffle=False)"
      ]
    },
    {
      "cell_type": "code",
      "execution_count": null,
      "metadata": {
        "colab": {
          "base_uri": "https://localhost:8080/"
        },
        "id": "ILHeIaNA_Y1t",
        "outputId": "ec3e5ddb-fd64-44d2-eb72-c618bf41d092"
      },
      "outputs": [
        {
          "output_type": "stream",
          "name": "stdout",
          "text": [
            "train label set/counts: (tensor([0, 1]), tensor([280, 280]))\n",
            "val   label set/counts: (tensor([0, 1]), tensor([93, 93]))\n",
            "train min/max: 0 1\n",
            "val   min/max: 0 1\n"
          ]
        }
      ],
      "source": [
        "with torch.no_grad():\n",
        "    ys_tr = torch.cat([yb.view(-1) for _, yb in train_loader], dim=0).cpu()\n",
        "    ys_va = torch.cat([yb.view(-1) for _, yb in val_loader], dim=0).cpu()\n",
        "\n",
        "print(\"train label set/counts:\", ys_tr.unique(return_counts=True))\n",
        "print(\"val   label set/counts:\", ys_va.unique(return_counts=True))\n",
        "print(\"train min/max:\", ys_tr.min().item(), ys_tr.max().item())\n",
        "print(\"val   min/max:\", ys_va.min().item(), ys_va.max().item())"
      ]
    },
    {
      "cell_type": "code",
      "execution_count": null,
      "metadata": {
        "id": "ue57o5HKq7fi"
      },
      "outputs": [],
      "source": [
        "# 7) Example: adapt a batch for a Transformer [seq_len, batch, d_model]\n",
        "xb, yb = next(iter(train_loader))   # xb: [B, 5, 1]"
      ]
    },
    {
      "cell_type": "code",
      "execution_count": null,
      "metadata": {
        "id": "KAd745oVq7Sd"
      },
      "outputs": [],
      "source": [
        "class LearnablePositionalEncoding(nn.Module):\n",
        "    \"\"\"\n",
        "    Learnable positional encoding added to token embeddings.\n",
        "    Shape stored: [1, max_len, d_model]\n",
        "    \"\"\"\n",
        "    def __init__(self, d_model: int, max_len: int):\n",
        "        super().__init__()\n",
        "        self.pe = nn.Parameter(torch.zeros(1, max_len, d_model))\n",
        "        print(self.pe)\n",
        "        nn.init.trunc_normal_(self.pe, std=0.02)\n",
        "\n",
        "    def forward(self, x):\n",
        "        # x: [B, T, d_model]\n",
        "        T = x.size(1)\n",
        "        return x + self.pe[:, :T, :]"
      ]
    },
    {
      "cell_type": "code",
      "execution_count": null,
      "metadata": {
        "id": "wBe4P6n8puIs"
      },
      "outputs": [],
      "source": [
        "class TimeSeriesTransformer(nn.Module):\n",
        "    def __init__(self, d_model=256, nhead=4, num_layers=3, d_ff=256, seq_len= X_train.shape[1], num_classes=2, dropout=0.1):\n",
        "        super().__init__()\n",
        "        self.inp = nn.Linear(1, d_model)                            # project feature_dim=1 -> d_model\n",
        "        self.pos = LearnablePositionalEncoding(d_model, seq_len)    # learnable PE\n",
        "        enc_layer = nn.TransformerEncoderLayer(\n",
        "            d_model=d_model, nhead=nhead,\n",
        "            dim_feedforward=d_ff, dropout=dropout,\n",
        "            batch_first=True                                        # so we keep [B, T, d]\n",
        "        )\n",
        "        self.encoder = nn.TransformerEncoder(enc_layer, num_layers=num_layers)\n",
        "        self.norm = nn.LayerNorm(d_model)\n",
        "        self.head = nn.Linear(d_model, num_classes)\n",
        "\n",
        "    def forward(self, x):\n",
        "        # x: [B, T, 1]\n",
        "        x = self.inp(x)                  # [B, T, d]\n",
        "        x = self.pos(x)                  # add learnable PE\n",
        "        x = self.encoder(x)              # [B, T, d]\n",
        "        x = self.norm(x)\n",
        "        x = x.mean(dim=1)                # mean pool over time\n",
        "\n",
        "        logits = self.head(x)            # [B, C]\n",
        "        return logits"
      ]
    },
    {
      "cell_type": "code",
      "execution_count": null,
      "metadata": {
        "colab": {
          "base_uri": "https://localhost:8080/"
        },
        "id": "gfewTjRosCAY",
        "outputId": "484df09a-efbb-451b-e5c3-311053046bc8"
      },
      "outputs": [
        {
          "output_type": "stream",
          "name": "stdout",
          "text": [
            "Parameter containing:\n",
            "tensor([[[0., 0., 0.,  ..., 0., 0., 0.],\n",
            "         [0., 0., 0.,  ..., 0., 0., 0.],\n",
            "         [0., 0., 0.,  ..., 0., 0., 0.],\n",
            "         ...,\n",
            "         [0., 0., 0.,  ..., 0., 0., 0.],\n",
            "         [0., 0., 0.,  ..., 0., 0., 0.],\n",
            "         [0., 0., 0.,  ..., 0., 0., 0.]]], requires_grad=True)\n"
          ]
        }
      ],
      "source": [
        "device = torch.device(\"cuda\" if torch.cuda.is_available() else \"cpu\")\n",
        "seq_len = X_train.shape[1]\n",
        "num_classes = 2\n",
        "model = TimeSeriesTransformer(\n",
        "    d_model=32,\n",
        "    nhead=4,\n",
        "    num_layers=2,\n",
        "    d_ff=16,\n",
        "    seq_len=seq_len ,\n",
        "    num_classes=2,\n",
        "    dropout=0.1).to(device)"
      ]
    },
    {
      "cell_type": "code",
      "execution_count": null,
      "metadata": {
        "colab": {
          "base_uri": "https://localhost:8080/"
        },
        "id": "2149a252",
        "outputId": "84dfc615-b98e-4d92-de7f-3dd894c7d4a0"
      },
      "outputs": [
        {
          "output_type": "stream",
          "name": "stdout",
          "text": [
            "Using device: cuda\n"
          ]
        },
        {
          "output_type": "execute_result",
          "data": {
            "text/plain": [
              "TimeSeriesTransformer(\n",
              "  (inp): Linear(in_features=1, out_features=32, bias=True)\n",
              "  (pos): LearnablePositionalEncoding()\n",
              "  (encoder): TransformerEncoder(\n",
              "    (layers): ModuleList(\n",
              "      (0-1): 2 x TransformerEncoderLayer(\n",
              "        (self_attn): MultiheadAttention(\n",
              "          (out_proj): NonDynamicallyQuantizableLinear(in_features=32, out_features=32, bias=True)\n",
              "        )\n",
              "        (linear1): Linear(in_features=32, out_features=16, bias=True)\n",
              "        (dropout): Dropout(p=0.1, inplace=False)\n",
              "        (linear2): Linear(in_features=16, out_features=32, bias=True)\n",
              "        (norm1): LayerNorm((32,), eps=1e-05, elementwise_affine=True)\n",
              "        (norm2): LayerNorm((32,), eps=1e-05, elementwise_affine=True)\n",
              "        (dropout1): Dropout(p=0.1, inplace=False)\n",
              "        (dropout2): Dropout(p=0.1, inplace=False)\n",
              "      )\n",
              "    )\n",
              "  )\n",
              "  (norm): LayerNorm((32,), eps=1e-05, elementwise_affine=True)\n",
              "  (head): Linear(in_features=32, out_features=2, bias=True)\n",
              ")"
            ]
          },
          "metadata": {},
          "execution_count": 147
        }
      ],
      "source": [
        "device = torch.device(\"cuda\" if torch.cuda.is_available() else \"cpu\")\n",
        "print(f\"Using device: {device}\")\n",
        "model.to(device) # Move the model to the selected device"
      ]
    },
    {
      "cell_type": "code",
      "execution_count": null,
      "metadata": {
        "id": "dp_VLwP7sB7K"
      },
      "outputs": [],
      "source": [
        "# Optional class weights for CE or focal alpha; compute from training labels\n",
        "class_counts = torch.bincount(y_train)\n",
        "class_weights = (class_counts.sum() / (class_counts.float().clamp(min=1)))  # inverse freq\n",
        "class_weights = class_weights / class_weights.sum() * num_classes           # normalize\n",
        "class_weights = class_weights.to(device)"
      ]
    },
    {
      "cell_type": "code",
      "execution_count": null,
      "metadata": {
        "id": "4xc9Wh7DsB0e"
      },
      "outputs": [],
      "source": [
        "# from torch.optim.lr_scheduler import CosineAnnealingLR\n",
        "# # optimizer = torch.optim.AdamW(model.parameters(), lr=1e-3, weight_decay=0)\n",
        "# # loss_fn = nn.CrossEntropyLoss()\n",
        "# from torch.optim.lr_scheduler import CosineAnnealingLR\n",
        "# scheduler = CosineAnnealingLR(optimizer, T_max=num_epochs)\n",
        "\n",
        "optimizer = torch.optim.AdamW(model.parameters(), lr=1e-3, weight_decay=1e-4)\n",
        "\n",
        "loss_fn = nn.CrossEntropyLoss()"
      ]
    },
    {
      "cell_type": "code",
      "execution_count": null,
      "metadata": {
        "colab": {
          "base_uri": "https://localhost:8080/"
        },
        "id": "dZbtuUUR-_dk",
        "outputId": "921594e0-65eb-46bd-bd39-e64816a4e93d"
      },
      "outputs": [
        {
          "output_type": "stream",
          "name": "stdout",
          "text": [
            "Epoch 1/100: Train Loss: 0.6934, Train Accuracy: 0.5054 | Validation Loss: 0.4440, Validation Accuracy: 1.0000\n",
            "\n",
            "Epoch 2/100: Train Loss: 0.6936, Train Accuracy: 0.5000 | Validation Loss: 0.4401, Validation Accuracy: 1.0000\n",
            "\n",
            "Epoch 3/100: Train Loss: 0.6948, Train Accuracy: 0.4768 | Validation Loss: 0.4402, Validation Accuracy: 1.0000\n",
            "\n",
            "Epoch 4/100: Train Loss: 0.6950, Train Accuracy: 0.5018 | Validation Loss: 0.4389, Validation Accuracy: 1.0000\n",
            "\n",
            "Epoch 5/100: Train Loss: 0.6947, Train Accuracy: 0.4679 | Validation Loss: 0.4378, Validation Accuracy: 1.0000\n",
            "\n",
            "Epoch 6/100: Train Loss: 0.6937, Train Accuracy: 0.5000 | Validation Loss: 0.4358, Validation Accuracy: 1.0000\n",
            "\n",
            "Epoch 7/100: Train Loss: 0.6937, Train Accuracy: 0.4839 | Validation Loss: 0.4329, Validation Accuracy: 1.0000\n",
            "\n",
            "Epoch 8/100: Train Loss: 0.6934, Train Accuracy: 0.4804 | Validation Loss: 0.4292, Validation Accuracy: 1.0000\n",
            "\n",
            "Epoch 9/100: Train Loss: 0.6945, Train Accuracy: 0.4750 | Validation Loss: 0.4263, Validation Accuracy: 1.0000\n",
            "\n",
            "Epoch 10/100: Train Loss: 0.6937, Train Accuracy: 0.4893 | Validation Loss: 0.4237, Validation Accuracy: 1.0000\n",
            "\n",
            "Epoch 11/100: Train Loss: 0.6937, Train Accuracy: 0.4911 | Validation Loss: 0.4210, Validation Accuracy: 1.0000\n",
            "\n",
            "Epoch 12/100: Train Loss: 0.6950, Train Accuracy: 0.5000 | Validation Loss: 0.4192, Validation Accuracy: 1.0000\n",
            "\n",
            "Epoch 13/100: Train Loss: 0.6961, Train Accuracy: 0.4946 | Validation Loss: 0.4196, Validation Accuracy: 1.0000\n",
            "\n",
            "Epoch 14/100: Train Loss: 0.6978, Train Accuracy: 0.4679 | Validation Loss: 0.4253, Validation Accuracy: 1.0000\n",
            "\n",
            "Epoch 15/100: Train Loss: 0.6966, Train Accuracy: 0.4750 | Validation Loss: 0.4271, Validation Accuracy: 1.0000\n",
            "\n",
            "Epoch 16/100: Train Loss: 0.6938, Train Accuracy: 0.4964 | Validation Loss: 0.4297, Validation Accuracy: 1.0000\n",
            "\n",
            "Epoch 17/100: Train Loss: 0.6945, Train Accuracy: 0.5000 | Validation Loss: 0.4292, Validation Accuracy: 1.0000\n",
            "\n",
            "Epoch 18/100: Train Loss: 0.6928, Train Accuracy: 0.5179 | Validation Loss: 0.4281, Validation Accuracy: 1.0000\n",
            "\n",
            "Epoch 19/100: Train Loss: 0.6942, Train Accuracy: 0.4911 | Validation Loss: 0.4267, Validation Accuracy: 1.0000\n",
            "\n",
            "Epoch 20/100: Train Loss: 0.6946, Train Accuracy: 0.5018 | Validation Loss: 0.4266, Validation Accuracy: 1.0000\n",
            "\n",
            "Epoch 21/100: Train Loss: 0.6929, Train Accuracy: 0.5018 | Validation Loss: 0.4238, Validation Accuracy: 1.0000\n",
            "\n",
            "Epoch 22/100: Train Loss: 0.6952, Train Accuracy: 0.4911 | Validation Loss: 0.4219, Validation Accuracy: 1.0000\n",
            "\n",
            "Epoch 23/100: Train Loss: 0.6929, Train Accuracy: 0.5107 | Validation Loss: 0.4209, Validation Accuracy: 1.0000\n",
            "\n",
            "Epoch 24/100: Train Loss: 0.6935, Train Accuracy: 0.5000 | Validation Loss: 0.4176, Validation Accuracy: 1.0000\n",
            "\n",
            "Epoch 25/100: Train Loss: 0.6942, Train Accuracy: 0.4839 | Validation Loss: 0.4141, Validation Accuracy: 1.0000\n",
            "\n",
            "Epoch 26/100: Train Loss: 0.6941, Train Accuracy: 0.4821 | Validation Loss: 0.4141, Validation Accuracy: 1.0000\n",
            "\n",
            "Epoch 27/100: Train Loss: 0.6944, Train Accuracy: 0.4857 | Validation Loss: 0.4122, Validation Accuracy: 1.0000\n",
            "\n",
            "Epoch 28/100: Train Loss: 0.6939, Train Accuracy: 0.4839 | Validation Loss: 0.4120, Validation Accuracy: 1.0000\n",
            "\n",
            "Epoch 29/100: Train Loss: 0.6944, Train Accuracy: 0.4786 | Validation Loss: 0.4095, Validation Accuracy: 1.0000\n",
            "\n",
            "Epoch 30/100: Train Loss: 0.6933, Train Accuracy: 0.5161 | Validation Loss: 0.4084, Validation Accuracy: 1.0000\n",
            "\n",
            "Epoch 31/100: Train Loss: 0.6939, Train Accuracy: 0.4732 | Validation Loss: 0.4046, Validation Accuracy: 1.0000\n",
            "\n",
            "Epoch 32/100: Train Loss: 0.6938, Train Accuracy: 0.5018 | Validation Loss: 0.4032, Validation Accuracy: 1.0000\n",
            "\n",
            "Epoch 33/100: Train Loss: 0.6940, Train Accuracy: 0.5000 | Validation Loss: 0.4004, Validation Accuracy: 1.0000\n",
            "\n",
            "Epoch 34/100: Train Loss: 0.6940, Train Accuracy: 0.5000 | Validation Loss: 0.3981, Validation Accuracy: 1.0000\n",
            "\n",
            "Epoch 35/100: Train Loss: 0.6932, Train Accuracy: 0.5000 | Validation Loss: 0.3960, Validation Accuracy: 1.0000\n",
            "\n",
            "Epoch 36/100: Train Loss: 0.6980, Train Accuracy: 0.4982 | Validation Loss: 0.4007, Validation Accuracy: 1.0000\n",
            "\n",
            "Epoch 37/100: Train Loss: 0.6944, Train Accuracy: 0.4893 | Validation Loss: 0.4020, Validation Accuracy: 1.0000\n",
            "\n",
            "Epoch 38/100: Train Loss: 0.6981, Train Accuracy: 0.4482 | Validation Loss: 0.4115, Validation Accuracy: 1.0000\n",
            "\n",
            "Epoch 39/100: Train Loss: 0.6933, Train Accuracy: 0.4893 | Validation Loss: 0.4100, Validation Accuracy: 1.0000\n",
            "\n",
            "Epoch 40/100: Train Loss: 0.6942, Train Accuracy: 0.4857 | Validation Loss: 0.4099, Validation Accuracy: 1.0000\n",
            "\n",
            "Epoch 41/100: Train Loss: 0.6934, Train Accuracy: 0.4893 | Validation Loss: 0.4072, Validation Accuracy: 1.0000\n",
            "\n",
            "Epoch 42/100: Train Loss: 0.6958, Train Accuracy: 0.4625 | Validation Loss: 0.4081, Validation Accuracy: 1.0000\n",
            "\n",
            "Epoch 43/100: Train Loss: 0.6938, Train Accuracy: 0.5000 | Validation Loss: 0.4061, Validation Accuracy: 1.0000\n",
            "\n",
            "Epoch 44/100: Train Loss: 0.6931, Train Accuracy: 0.4911 | Validation Loss: 0.4029, Validation Accuracy: 1.0000\n",
            "\n",
            "Epoch 45/100: Train Loss: 0.6953, Train Accuracy: 0.4714 | Validation Loss: 0.4040, Validation Accuracy: 1.0000\n",
            "\n",
            "Epoch 46/100: Train Loss: 0.6930, Train Accuracy: 0.5089 | Validation Loss: 0.4005, Validation Accuracy: 1.0000\n",
            "\n",
            "Epoch 47/100: Train Loss: 0.6935, Train Accuracy: 0.5000 | Validation Loss: 0.3987, Validation Accuracy: 1.0000\n",
            "\n",
            "Epoch 48/100: Train Loss: 0.6933, Train Accuracy: 0.5107 | Validation Loss: 0.3981, Validation Accuracy: 1.0000\n",
            "\n",
            "Epoch 49/100: Train Loss: 0.6939, Train Accuracy: 0.5000 | Validation Loss: 0.3959, Validation Accuracy: 1.0000\n",
            "\n",
            "Epoch 50/100: Train Loss: 0.6951, Train Accuracy: 0.4804 | Validation Loss: 0.3893, Validation Accuracy: 1.0000\n",
            "\n",
            "Epoch 51/100: Train Loss: 0.6957, Train Accuracy: 0.4786 | Validation Loss: 0.3986, Validation Accuracy: 1.0000\n",
            "\n",
            "Epoch 52/100: Train Loss: 0.6937, Train Accuracy: 0.4946 | Validation Loss: 0.3981, Validation Accuracy: 1.0000\n",
            "\n",
            "Epoch 53/100: Train Loss: 0.6955, Train Accuracy: 0.5000 | Validation Loss: 0.3977, Validation Accuracy: 1.0000\n",
            "\n",
            "Epoch 54/100: Train Loss: 0.6943, Train Accuracy: 0.4786 | Validation Loss: 0.4033, Validation Accuracy: 1.0000\n",
            "\n",
            "Epoch 55/100: Train Loss: 0.6931, Train Accuracy: 0.4946 | Validation Loss: 0.3995, Validation Accuracy: 1.0000\n",
            "\n",
            "Epoch 56/100: Train Loss: 0.6947, Train Accuracy: 0.4946 | Validation Loss: 0.3962, Validation Accuracy: 1.0000\n",
            "\n",
            "Epoch 57/100: Train Loss: 0.6925, Train Accuracy: 0.5000 | Validation Loss: 0.3984, Validation Accuracy: 1.0000\n",
            "\n",
            "Epoch 58/100: Train Loss: 0.6939, Train Accuracy: 0.5000 | Validation Loss: 0.3988, Validation Accuracy: 1.0000\n",
            "\n",
            "Epoch 59/100: Train Loss: 0.6934, Train Accuracy: 0.4893 | Validation Loss: 0.3937, Validation Accuracy: 1.0000\n",
            "\n",
            "Epoch 60/100: Train Loss: 0.6933, Train Accuracy: 0.5000 | Validation Loss: 0.3914, Validation Accuracy: 1.0000\n",
            "\n",
            "Epoch 61/100: Train Loss: 0.6951, Train Accuracy: 0.4661 | Validation Loss: 0.3915, Validation Accuracy: 1.0000\n",
            "\n",
            "Epoch 62/100: Train Loss: 0.6928, Train Accuracy: 0.5196 | Validation Loss: 0.3852, Validation Accuracy: 1.0000\n",
            "\n",
            "Epoch 63/100: Train Loss: 0.6948, Train Accuracy: 0.5000 | Validation Loss: 0.3859, Validation Accuracy: 1.0000\n",
            "\n",
            "Epoch 64/100: Train Loss: 0.6941, Train Accuracy: 0.4911 | Validation Loss: 0.3942, Validation Accuracy: 1.0000\n",
            "\n",
            "Epoch 65/100: Train Loss: 0.6945, Train Accuracy: 0.4839 | Validation Loss: 0.3899, Validation Accuracy: 1.0000\n",
            "\n",
            "Epoch 66/100: Train Loss: 0.6933, Train Accuracy: 0.4982 | Validation Loss: 0.3921, Validation Accuracy: 1.0000\n",
            "\n",
            "Epoch 67/100: Train Loss: 0.6941, Train Accuracy: 0.4982 | Validation Loss: 0.3889, Validation Accuracy: 1.0000\n",
            "\n",
            "Epoch 68/100: Train Loss: 0.6942, Train Accuracy: 0.5000 | Validation Loss: 0.3853, Validation Accuracy: 1.0000\n",
            "\n",
            "Epoch 69/100: Train Loss: 0.6938, Train Accuracy: 0.5054 | Validation Loss: 0.3911, Validation Accuracy: 1.0000\n",
            "\n",
            "Epoch 70/100: Train Loss: 0.6948, Train Accuracy: 0.4571 | Validation Loss: 0.3862, Validation Accuracy: 1.0000\n",
            "\n",
            "Epoch 71/100: Train Loss: 0.6935, Train Accuracy: 0.4929 | Validation Loss: 0.3889, Validation Accuracy: 1.0000\n",
            "\n",
            "Epoch 72/100: Train Loss: 0.6948, Train Accuracy: 0.4625 | Validation Loss: 0.3854, Validation Accuracy: 1.0000\n",
            "\n",
            "Epoch 73/100: Train Loss: 0.6931, Train Accuracy: 0.5071 | Validation Loss: 0.3873, Validation Accuracy: 1.0000\n",
            "\n",
            "Epoch 74/100: Train Loss: 0.6947, Train Accuracy: 0.5036 | Validation Loss: 0.3878, Validation Accuracy: 1.0000\n",
            "\n",
            "Epoch 75/100: Train Loss: 0.6950, Train Accuracy: 0.4732 | Validation Loss: 0.3826, Validation Accuracy: 1.0000\n",
            "\n",
            "Epoch 76/100: Train Loss: 0.6931, Train Accuracy: 0.4839 | Validation Loss: 0.3890, Validation Accuracy: 1.0000\n",
            "\n",
            "Epoch 77/100: Train Loss: 0.6938, Train Accuracy: 0.5000 | Validation Loss: 0.3884, Validation Accuracy: 1.0000\n",
            "\n",
            "Epoch 78/100: Train Loss: 0.6929, Train Accuracy: 0.5000 | Validation Loss: 0.3823, Validation Accuracy: 1.0000\n",
            "\n",
            "Epoch 79/100: Train Loss: 0.6936, Train Accuracy: 0.5000 | Validation Loss: 0.3785, Validation Accuracy: 1.0000\n",
            "\n",
            "Epoch 80/100: Train Loss: 0.6944, Train Accuracy: 0.4714 | Validation Loss: 0.3798, Validation Accuracy: 1.0000\n",
            "\n",
            "Epoch 81/100: Train Loss: 0.6930, Train Accuracy: 0.5036 | Validation Loss: 0.3801, Validation Accuracy: 1.0000\n",
            "\n",
            "Epoch 82/100: Train Loss: 0.6933, Train Accuracy: 0.5000 | Validation Loss: 0.3779, Validation Accuracy: 1.0000\n",
            "\n",
            "Epoch 83/100: Train Loss: 0.6931, Train Accuracy: 0.5000 | Validation Loss: 0.3705, Validation Accuracy: 1.0000\n",
            "\n",
            "Epoch 84/100: Train Loss: 0.6928, Train Accuracy: 0.4946 | Validation Loss: 0.3634, Validation Accuracy: 1.0000\n",
            "\n",
            "Epoch 85/100: Train Loss: 0.6933, Train Accuracy: 0.5000 | Validation Loss: 0.3608, Validation Accuracy: 1.0000\n",
            "\n",
            "Epoch 86/100: Train Loss: 0.6929, Train Accuracy: 0.4982 | Validation Loss: 0.3589, Validation Accuracy: 1.0000\n",
            "\n",
            "Epoch 87/100: Train Loss: 0.6930, Train Accuracy: 0.5107 | Validation Loss: 0.3539, Validation Accuracy: 1.0000\n",
            "\n",
            "Epoch 88/100: Train Loss: 0.6938, Train Accuracy: 0.5000 | Validation Loss: 0.3504, Validation Accuracy: 1.0000\n",
            "\n",
            "Epoch 89/100: Train Loss: 0.6933, Train Accuracy: 0.5089 | Validation Loss: 0.3438, Validation Accuracy: 1.0000\n",
            "\n",
            "Epoch 90/100: Train Loss: 0.6936, Train Accuracy: 0.5018 | Validation Loss: 0.3476, Validation Accuracy: 1.0000\n",
            "\n",
            "Epoch 91/100: Train Loss: 0.6947, Train Accuracy: 0.5054 | Validation Loss: 0.3499, Validation Accuracy: 1.0000\n",
            "\n",
            "Epoch 92/100: Train Loss: 0.6955, Train Accuracy: 0.4857 | Validation Loss: 0.3498, Validation Accuracy: 1.0000\n",
            "\n",
            "Epoch 93/100: Train Loss: 0.6941, Train Accuracy: 0.5071 | Validation Loss: 0.3547, Validation Accuracy: 1.0000\n",
            "\n",
            "Epoch 94/100: Train Loss: 0.6937, Train Accuracy: 0.5036 | Validation Loss: 0.3523, Validation Accuracy: 1.0000\n",
            "\n",
            "Epoch 95/100: Train Loss: 0.6928, Train Accuracy: 0.5000 | Validation Loss: 0.3489, Validation Accuracy: 1.0000\n",
            "\n",
            "Epoch 96/100: Train Loss: 0.6929, Train Accuracy: 0.5268 | Validation Loss: 0.3406, Validation Accuracy: 1.0000\n",
            "\n",
            "Epoch 97/100: Train Loss: 0.6933, Train Accuracy: 0.4893 | Validation Loss: 0.3347, Validation Accuracy: 1.0000\n",
            "\n",
            "Epoch 98/100: Train Loss: 0.6945, Train Accuracy: 0.5000 | Validation Loss: 0.3366, Validation Accuracy: 1.0000\n",
            "\n",
            "Epoch 99/100: Train Loss: 0.6933, Train Accuracy: 0.4875 | Validation Loss: 0.3334, Validation Accuracy: 1.0000\n",
            "\n",
            "Epoch 100/100: Train Loss: 0.6932, Train Accuracy: 0.5000 | Validation Loss: 0.3310, Validation Accuracy: 1.0000\n",
            "\n"
          ]
        }
      ],
      "source": [
        "num_epochs = 100\n",
        "tr_losses, tr_accs, val_losses, val_accs = [], [], [], []\n",
        "\n",
        "for epoch in range(num_epochs):\n",
        "     model.train()\n",
        "     total_loss, total_samples, correct_predictions = 0, 0, 0\n",
        "     for xb, yb in train_loader:\n",
        "        xb , yb = xb.to(device) , yb.to(device).long()\n",
        "        optimizer.zero_grad()\n",
        "        output = model(xb)\n",
        "        # print('output',output)\n",
        "        # print('max',torch.max(output, 1))\n",
        "        # print('yb',yb)\n",
        "\n",
        "        loss = loss_fn(output , yb)\n",
        "        # print('loss',loss)\n",
        "        # optimizer.zero_grad()\n",
        "        loss.backward()\n",
        "        torch.nn.utils.clip_grad_norm_(model.parameters(), 1.0)\n",
        "        optimizer.step()\n",
        "        total_loss += loss.item() * xb.size(0)\n",
        "        # print(loss.item())\n",
        "        # print(xb.size(0))\n",
        "        # print('total:',total_loss)\n",
        "\n",
        "        # Calculate accuracy\n",
        "        pred = output.argmax(dim=1) # the index of the maximum value for each column\n",
        "        # print('p',predicted)\n",
        "        # print('real',yb)\n",
        "        total_samples += xb.size(0)\n",
        "        # print(total_samples)\n",
        "        correct_predictions += (pred == yb).sum().item()\n",
        "        # print(correct_predictions)\n",
        "\n",
        "     epoch_loss = total_loss / total_samples\n",
        "     epoch_accuracy = correct_predictions / total_samples\n",
        "     tr_losses.append(epoch_loss)\n",
        "     tr_accs.append(epoch_accuracy)\n",
        "\n",
        "    #  print(f\"Epoch {epoch+1}/{num_epochs}: \" f\"Train Loss: {epoch_loss:.4f}, \"f\"Train Accuracy: {epoch_accuracy:.4f}\")\n",
        "\n",
        "     model.eval()\n",
        "     val_correct_predictions , val_total_samples , val_total_loss = 0 , 0 , 0\n",
        "\n",
        "     with torch.no_grad():\n",
        "          for xb, yb in val_loader:\n",
        "              xb, yb = xb.to(device), yb.to(device).long()\n",
        "              output = model(xb)\n",
        "              val_loss = loss_fn(output,yb)\n",
        "              val_total_loss += val_loss.item() * xb.size(0)\n",
        "              pred = output.argmax(dim=1)\n",
        "              val_total_samples += xb.size(0)\n",
        "              val_correct_predictions += (pred == yb).sum().item()\n",
        "\n",
        "     val_epoch_loss = val_total_loss / val_total_samples\n",
        "     val_epoch_accuracy = val_correct_predictions / val_total_samples\n",
        "    #  print(    f\"Validation Loss: {val_epoch_loss:.4f}, \"f\"Validation Accuracy: {val_epoch_accuracy:.4f}\\n\")\n",
        "     val_losses.append(val_epoch_loss)\n",
        "     val_accs.append(val_epoch_accuracy)\n",
        "     # 3) Step the scheduler once per epoch, after validation\n",
        "    #  scheduler.step()\n",
        "\n",
        "     # Optional: print current lr to confirm schedule\n",
        "     current_lr = optimizer.param_groups[0][\"lr\"]\n",
        "     print(f\"Epoch {epoch+1}/{num_epochs}: \" f\"Train Loss: {epoch_loss:.4f}, \"f\"Train Accuracy: {epoch_accuracy:.4f} | \"f\"Validation Loss: {val_epoch_loss:.4f}, \"f\"Validation Accuracy: {val_epoch_accuracy:.4f}\\n\")\n",
        "\n",
        "\n"
      ]
    },
    {
      "cell_type": "code",
      "execution_count": null,
      "metadata": {
        "colab": {
          "base_uri": "https://localhost:8080/"
        },
        "id": "Rv6VrEcbOmsG",
        "outputId": "23f89448-5fd2-45c4-b672-02fbeafc7afd"
      },
      "outputs": [
        {
          "output_type": "stream",
          "name": "stdout",
          "text": [
            "Val avg max-softmax: 0.7185153961181641\n"
          ]
        }
      ],
      "source": [
        "import torch.nn.functional as F\n",
        "val_probs = []\n",
        "val_true  = []\n",
        "with torch.no_grad():\n",
        "    for xb, yb in val_loader:\n",
        "        out = model(xb.to(device))\n",
        "        val_probs.append(F.softmax(out, dim=1).max(1).values.cpu())\n",
        "        val_true.append(yb)\n",
        "val_probs = torch.cat(val_probs)\n",
        "print('Val avg max-softmax:', val_probs.mean().item())"
      ]
    },
    {
      "cell_type": "code",
      "execution_count": null,
      "metadata": {
        "colab": {
          "base_uri": "https://localhost:8080/"
        },
        "id": "O2Kz8WWGOxP8",
        "outputId": "4d7716bb-eec7-4644-decb-bf239fe4a45b"
      },
      "outputs": [
        {
          "output_type": "stream",
          "name": "stdout",
          "text": [
            "[[93  0]\n",
            " [ 0 93]]\n"
          ]
        }
      ],
      "source": [
        "from sklearn.metrics import confusion_matrix\n",
        "import numpy as np\n",
        "all_pred, all_true = [], []\n",
        "with torch.no_grad():\n",
        "    for xb, yb in val_loader:\n",
        "        out = model(xb.to(device))\n",
        "        all_pred.append(out.argmax(1).cpu().numpy())\n",
        "        all_true.append(yb.numpy())\n",
        "cm = confusion_matrix(np.concatenate(all_true), np.concatenate(all_pred))\n",
        "print(cm)"
      ]
    },
    {
      "cell_type": "code",
      "execution_count": null,
      "metadata": {
        "colab": {
          "base_uri": "https://localhost:8080/",
          "height": 449
        },
        "id": "KklICuBQ_MlM",
        "outputId": "882248b7-56ae-4327-81ef-3b45aec2813c"
      },
      "outputs": [
        {
          "output_type": "display_data",
          "data": {
            "text/plain": [
              "<Figure size 640x480 with 1 Axes>"
            ],
            "image/png": "[encoded data removed]"
          },
          "metadata": {}
        }
      ],
      "source": [
        "epoch = np.arange(0,num_epochs , 1)\n",
        "import matplotlib.pyplot as plt\n",
        "\n",
        "plt.plot(epoch, tr_losses , label=\"Train_loss\", c='b')\n",
        "plt.plot(epoch, val_losses, label=\"val_losss\", c='r')\n",
        "plt.xlabel(\"Epoch\")\n",
        "plt.ylabel(\"Loss\")\n",
        "plt.legend()\n",
        "plt.show()"
      ]
    },
    {
      "cell_type": "code",
      "execution_count": null,
      "metadata": {
        "colab": {
          "base_uri": "https://localhost:8080/",
          "height": 1000
        },
        "id": "NhEnH9lVsBis",
        "outputId": "9a5904ee-7db8-4b88-aa19-1c028ea12d2b"
      },
      "outputs": [
        {
          "output_type": "display_data",
          "data": {
            "text/plain": [
              "<Figure size 640x480 with 2 Axes>"
            ],
            "image/png": "[encoded data removed]"
          },
          "metadata": {}
        },
        {
          "output_type": "display_data",
          "data": {
            "text/plain": [
              "<Figure size 640x480 with 1 Axes>"
            ],
            "image/png": "[encoded data removed]"
          },
          "metadata": {}
        },
        {
          "output_type": "display_data",
          "data": {
            "text/plain": [
              "<Figure size 640x480 with 1 Axes>"
            ],
            "image/png": "[encoded data removed]"
          },
          "metadata": {}
        }
      ],
      "source": [
        "import torch\n",
        "import torch.nn.functional as F\n",
        "from sklearn.metrics import confusion_matrix, ConfusionMatrixDisplay\n",
        "from sklearn.metrics import RocCurveDisplay, PrecisionRecallDisplay\n",
        "import matplotlib.pyplot as plt\n",
        "\n",
        "y_true, y_pred, y_score = [], [], []\n",
        "model.eval()\n",
        "\n",
        "with torch.no_grad():\n",
        "    for xb, yb in val_loader:\n",
        "        xb, yb = xb.to(device), yb.to(device).long()   # targets should be int for CE\n",
        "        logits = model(xb)                             # [B,2]\n",
        "\n",
        "        # 1) Probability of class 1\n",
        "        probs  = torch.softmax(logits, dim=1)          # [B,2]\n",
        "        score1 = probs[:, 1]                           # [B]\n",
        "\n",
        "        # 2) Predicted class index\n",
        "        preds  = logits.argmax(dim=1)                  # [B]\n",
        "\n",
        "        # Save results\n",
        "        y_true.extend(yb.cpu().tolist())\n",
        "        y_pred.extend(preds.cpu().tolist())\n",
        "        y_score.extend(score1.cpu().tolist())\n",
        "\n",
        "# 1) Confusion Matrix\n",
        "ConfusionMatrixDisplay.from_predictions(y_true, y_pred, cmap=\"Blues\", values_format=\"d\")\n",
        "plt.title(\"Confusion Matrix (Validation)\")\n",
        "plt.show()\n",
        "\n",
        "# 2) ROC\n",
        "RocCurveDisplay.from_predictions(y_true, y_score)\n",
        "plt.title(\"ROC Curve (Validation)\")\n",
        "plt.show()\n",
        "\n",
        "# 3) Precision–Recall\n",
        "PrecisionRecallDisplay.from_predictions(y_true, y_score)\n",
        "plt.title(\"Precision–Recall Curve (Validation)\")\n",
        "plt.show()"
      ]
    },
    {
      "cell_type": "code",
      "execution_count": null,
      "metadata": {
        "colab": {
          "base_uri": "https://localhost:8080/",
          "height": 545
        },
        "id": "JZAQEGdnsi9u",
        "outputId": "bef065ad-8a38-4afe-f113-e0a06c279347"
      },
      "outputs": [
        {
          "output_type": "display_data",
          "data": {
            "text/plain": [
              "<Figure size 600x600 with 2 Axes>"
            ],
            "image/png": "[encoded data removed]"
          },
          "metadata": {}
        }
      ],
      "source": [
        "from sklearn.manifold import TSNE\n",
        "import matplotlib.pyplot as plt\n",
        "import torch\n",
        "\n",
        "model.eval()\n",
        "all_embeds, all_labels = [], []\n",
        "\n",
        "with torch.no_grad():\n",
        "    for xb, yb in val_loader:\n",
        "        xb = xb.to(device)\n",
        "        # Pass through encoder only (skip classifier head)\n",
        "        embeds = model.encoder(model.inp(xb) + model.pos(model.inp(xb)))\n",
        "        embeds = embeds.mean(dim=1)                # [B, d_model]\n",
        "\n",
        "        all_embeds.append(embeds.cpu())\n",
        "        all_labels.append(yb.cpu())\n",
        "\n",
        "# Concatenate all batches\n",
        "all_embeds = torch.cat(all_embeds, dim=0).numpy()\n",
        "all_labels = torch.cat(all_labels, dim=0).numpy()\n",
        "\n",
        "# Run t-SNE\n",
        "X_2d = TSNE(n_components=2, random_state=42).fit_transform(all_embeds)\n",
        "\n",
        "# Plot\n",
        "plt.figure(figsize=(6,6))\n",
        "plt.scatter(X_2d[:,0], X_2d[:,1], c=all_labels, cmap=\"coolwarm\", alpha=0.7)\n",
        "plt.colorbar(label=\"Class\")\n",
        "plt.title(\"t-SNE of Validation Embeddings\")\n",
        "plt.show()"
      ]
    }
  ],
  "metadata": {
    "accelerator": "GPU",
    "colab": {
      "gpuType": "T4",
      "provenance": [],
      "authorship_tag": "ABX9TyN5zI9w1HH+jqRhV/LK4GxW",
      "include_colab_link": true
    },
    "kernelspec": {
      "display_name": "Python 3",
      "name": "python3"
    },
    "language_info": {
      "name": "python"
    }
  },
  "nbformat": 4,
  "nbformat_minor": 0
}