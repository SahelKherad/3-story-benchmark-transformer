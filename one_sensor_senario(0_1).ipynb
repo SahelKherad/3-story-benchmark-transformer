{
  "cells": [
    {
      "cell_type": "markdown",
      "metadata": {
        "id": "view-in-github",
        "colab_type": "text"
      },
      "source": [
        "<a href=\"https://colab.research.google.com/github/SahelKherad/3-story-benchmark-transformer/blob/main/1404-0-15-one_sensor_state0_1.ipynb\" target=\"_parent\"><img src=\"https://colab.research.google.com/assets/colab-badge.svg\" alt=\"Open In Colab\"/></a>"
      ]
    },
    {
      "cell_type": "code",
      "execution_count": null,
      "metadata": {
        "id": "JzyYbQohztXG"
      },
      "outputs": [],
      "source": [
        "import os\n",
        "import scipy.io\n",
        "from scipy.io.matlab._mio5_params import mat_struct\n",
        "import numpy as np\n",
        "import pandas as pd\n",
        "import torch\n",
        "import torch.nn as nn\n",
        "from torch.utils.data import Dataset, DataLoader\n",
        "import matplotlib.pyplot as plt\n",
        "from sklearn.metrics import confusion_matrix\n",
        "from sklearn.model_selection import train_test_split"
      ]
    },
    {
      "cell_type": "code",
      "execution_count": null,
      "metadata": {
        "colab": {
          "base_uri": "https://localhost:8080/"
        },
        "id": "rEjAYmOPAbYE",
        "outputId": "7ef7b37d-6ae8-456c-ffbc-ee3f3136248f"
      },
      "outputs": [
        {
          "output_type": "stream",
          "name": "stdout",
          "text": [
            "Mounted at /content/drive\n"
          ]
        }
      ],
      "source": [
        "from google.colab import drive\n",
        "drive.mount('/content/drive', force_remount=True)"
      ]
    },
    {
      "cell_type": "code",
      "execution_count": null,
      "metadata": {
        "colab": {
          "base_uri": "https://localhost:8080/"
        },
        "id": "84ltkG1zAdmw",
        "outputId": "2a2eda94-a162-4220-b25e-9b16b697ef3f"
      },
      "outputs": [
        {
          "output_type": "stream",
          "name": "stdout",
          "text": [
            "shm01a.mat  shm03a.mat\tshm05a.mat  shm07a.mat\tshm09a.mat\n",
            "shm02a.mat  shm04a.mat\tshm06a.mat  shm08a.mat\n"
          ]
        }
      ],
      "source": [
        "!ls \"/content/drive/My Drive/ASCE\""
      ]
    },
    {
      "cell_type": "code",
      "execution_count": null,
      "metadata": {
        "colab": {
          "base_uri": "https://localhost:8080/"
        },
        "id": "mOPozofZA9NS",
        "outputId": "c9b752ab-a30a-4357-e05d-8ea4a5209e53"
      },
      "outputs": [
        {
          "output_type": "stream",
          "name": "stdout",
          "text": [
            "(60000, 16)\n",
            "(60000,)\n",
            "(60000,)\n"
          ]
        }
      ],
      "source": [
        "def load_mat(path):\n",
        "    mat = scipy.io.loadmat(path, squeeze_me=True, struct_as_record=False)\n",
        "    raw = mat.get('dasy')\n",
        "    if isinstance(raw, mat_struct):\n",
        "        channels = []\n",
        "        for f in raw._fieldnames:\n",
        "            arr = getattr(raw, f)\n",
        "            channels.append(np.asarray(arr).reshape(-1))\n",
        "        data = np.stack(channels, axis=1)  # (n_samples, n_channels)\n",
        "    else:\n",
        "        raise ValueError(\"Unexpected MAT structure. 'dasy' not a struct.\")\n",
        "    return data  # float64 by default\n",
        "\n",
        "base_dir = '/content/drive/MyDrive/ASCE/'\n",
        "state_files = {\n",
        "    1: 'shm01a.mat', 2: 'shm02a.mat', 3: 'shm03a.mat',\n",
        "    4: 'shm04a.mat', 5: 'shm05a.mat', 6: 'shm06a.mat',\n",
        "    7: 'shm07a.mat', 8: 'shm08a.mat', 9: 'shm09a.mat',\n",
        "}\n",
        "# label_to_class_id: 1..9 -> 0..8\n",
        "label_to_cid = {lab: i for i, lab in enumerate(sorted(state_files.keys()))}\n",
        "\n",
        "scenario_data = {}   # cid -> np.ndarray [N, C]\n",
        "for lab, fname in state_files.items():\n",
        "    x = load_mat(os.path.join(base_dir, fname)).astype(np.float32)\n",
        "    scenario_data[label_to_cid[lab]] = x\n",
        "print(scenario_data[0][:,:].shape)\n",
        "print(scenario_data[0][:,4].shape)\n",
        "print(scenario_data[4][:,4].shape)\n",
        "    # print(fname, x.shape)"
      ]
    },
    {
      "cell_type": "code",
      "execution_count": null,
      "metadata": {
        "colab": {
          "base_uri": "https://localhost:8080/",
          "height": 534
        },
        "id": "t8Vx6tVvBNOR",
        "outputId": "c5dd893a-d014-4c61-a180-ce3bc183d2a5"
      },
      "outputs": [
        {
          "output_type": "stream",
          "name": "stdout",
          "text": [
            "(60000,)\n",
            "[-0.0027374  -0.0022796  -0.00162676 ... -0.0025698  -0.00189136\n",
            " -0.0011516 ]\n",
            "0.00035812\n",
            "-0.0037434\n"
          ]
        },
        {
          "output_type": "execute_result",
          "data": {
            "text/plain": [
              "[<matplotlib.lines.Line2D at 0x7f02acfef530>]"
            ]
          },
          "metadata": {},
          "execution_count": 212
        },
        {
          "output_type": "display_data",
          "data": {
            "text/plain": [
              "<Figure size 640x480 with 1 Axes>"
            ],
            "image/png": "[encoded data removed]"
          },
          "metadata": {}
        }
      ],
      "source": [
        "print(scenario_data[0][:,4].shape)\n",
        "print(scenario_data[0][:,4])\n",
        "print(max(scenario_data[0][:,4]))\n",
        "print(min(scenario_data[0][:,4]))\n",
        "plt.plot(scenario_data[0][:,4])"
      ]
    },
    {
      "cell_type": "code",
      "execution_count": null,
      "metadata": {
        "colab": {
          "base_uri": "https://localhost:8080/",
          "height": 499
        },
        "id": "uc0wn5EvFn9L",
        "outputId": "01c6d151-134a-4545-fe26-2ed27087f559"
      },
      "outputs": [
        {
          "output_type": "stream",
          "name": "stdout",
          "text": [
            "(60000,)\n",
            "-0.0018175\n",
            "-0.0027156\n"
          ]
        },
        {
          "output_type": "execute_result",
          "data": {
            "text/plain": [
              "[<matplotlib.lines.Line2D at 0x7f02ad080170>]"
            ]
          },
          "metadata": {},
          "execution_count": 213
        },
        {
          "output_type": "display_data",
          "data": {
            "text/plain": [
              "<Figure size 640x480 with 1 Axes>"
            ],
            "image/png": "[encoded data removed]"
          },
          "metadata": {}
        }
      ],
      "source": [
        "print(scenario_data[4][:,4].shape)\n",
        "print(max(scenario_data[4][:,4]))\n",
        "print(min(scenario_data[4][:,4]))\n",
        "plt.plot(scenario_data[4][:,4], c='r')"
      ]
    },
    {
      "cell_type": "code",
      "execution_count": null,
      "metadata": {
        "id": "Z84i7et7Mbri"
      },
      "outputs": [],
      "source": [
        "def create_windows(data, frame_length):\n",
        "    # Calculate how many full frames can be created\n",
        "    num_frames = len(data) // frame_length\n",
        "    # print(num_frames)\n",
        "    # Trim the data to be a perfect multiple of the frame length\n",
        "    trimmed_data = data[:num_frames * frame_length]\n",
        "\n",
        "    # Reshape the data into a 2D array of frames\n",
        "    frames = trimmed_data.reshape((num_frames, frame_length))\n",
        "    # return trimmed_data.shape , frames.shape\n",
        "    return frames"
      ]
    },
    {
      "cell_type": "code",
      "execution_count": null,
      "metadata": {
        "colab": {
          "base_uri": "https://localhost:8080/"
        },
        "id": "fWplqSYBpLUA",
        "outputId": "7ccc95d7-609e-4f60-87c0-dbc142437191"
      },
      "outputs": [
        {
          "output_type": "stream",
          "name": "stdout",
          "text": [
            "Frames: (468, 128)\n",
            "Frames: (468, 128)\n"
          ]
        }
      ],
      "source": [
        "healthy_frames = create_windows(scenario_data[0][:,4], frame_length = 128)\n",
        "print(\"Frames:\", healthy_frames.shape)\n",
        "damaged_frames = create_windows(scenario_data[4][:,4], frame_length = 128)\n",
        "print(\"Frames:\", damaged_frames.shape)"
      ]
    },
    {
      "cell_type": "code",
      "execution_count": null,
      "metadata": {
        "colab": {
          "base_uri": "https://localhost:8080/"
        },
        "id": "lDM-XPlupua0",
        "outputId": "014ce14d-f02e-455c-c920-02891c7ba8c9"
      },
      "outputs": [
        {
          "output_type": "stream",
          "name": "stdout",
          "text": [
            "(468,)\n",
            "(468,)\n"
          ]
        }
      ],
      "source": [
        "healthy_labels = np.zeros(len(healthy_frames), dtype=int)\n",
        "print(healthy_labels.shape)\n",
        "\n",
        "damaged_labels = np.ones(len(damaged_frames), dtype=int)\n",
        "print(damaged_labels.shape)"
      ]
    },
    {
      "cell_type": "code",
      "execution_count": null,
      "metadata": {
        "colab": {
          "base_uri": "https://localhost:8080/"
        },
        "id": "pgEtdxJApuUY",
        "outputId": "77d29c1c-f7c9-4c9a-b909-bd81d7668f76"
      },
      "outputs": [
        {
          "output_type": "stream",
          "name": "stdout",
          "text": [
            "(936, 128, 1)\n",
            "(936,)\n"
          ]
        }
      ],
      "source": [
        "# 3) Combine, add feature dim, and shuffle the COMBINED set once\n",
        "X = np.concatenate([healthy_frames, damaged_frames], axis=0)[:, :, None]  # [N, 5, 1]\n",
        "print(X.shape)\n",
        "# print(X)\n",
        "y = np.concatenate([healthy_labels, damaged_labels], axis=0)             # [N]\n",
        "print(y.shape)"
      ]
    },
    {
      "cell_type": "code",
      "execution_count": null,
      "metadata": {
        "colab": {
          "base_uri": "https://localhost:8080/"
        },
        "id": "YbtjY2O3qWNk",
        "outputId": "acaa47f2-d224-4739-9b63-f3669c16de7c"
      },
      "outputs": [
        {
          "output_type": "stream",
          "name": "stdout",
          "text": [
            "[273 830   2 780 572 660 206 236 918 171 541  25 417  98 365 472 390 694\n",
            " 131 563 180 875 591 738 556 916 913 218 310 710  82 363 433 354 278 662\n",
            " 232 185 116 810 626 331 653 315 424  55 152 259 222 166  51 469 382 274\n",
            "  61  83   7 319 811  36 241 393 527 248 381 281 402 307  38 447 655  96\n",
            " 127 142 856 879 380  79 594 468 201 610 803 326 804 100 658 426 151 268\n",
            " 143 498 782 238 708 147 595 909 413 704 671 733 562 150 304 179 193 691\n",
            " 567 670 367 925  66 128 801 723 914 747 379 361 415 395 873 135 408 627\n",
            " 761 743 868 352 129  21 753 552 463 305 701 199 336  86 931 758 429 802\n",
            " 243  88 580 250   6 328 421  11 853 388 245 700 834 120 115  29 513 425\n",
            "   9 683 910  91 698 154 126 843 260 299 759 674 346 895 840 607 394 760\n",
            " 570 589 734 285 435 794 224 107 509 676 350 754 787 778 169 276  30 823\n",
            " 312 203 230 119 368 231 330  35 863 741 756  45 824 479 657 334 746 373\n",
            " 343 793 785 613 882 744 297 762 839 156  28 926 467 846 601 542 771 253\n",
            " 493 474 877 239 806 340 101 146  71 399  77 928 356 885 480 136 302 431\n",
            "   0 631 693 859 643  92 750 618 745 164 244 387 849 838 371 774 722 582\n",
            " 448 820 680 632 321 288  44 163 923 740 219 726 550  12  56 444 531 887\n",
            " 225 815 769 659 911 360 903 818 742 306 344 557 709 204 217  48 645 427\n",
            "  14 619 455 324 176 696 173 848 598 445 635 159 775   8 496 298 198  60\n",
            " 289 798 409 596 644 799 237 781 836 697 616  20 900 271 608 476 727 924\n",
            " 183 140 202 605 656 124 891  59 546 511 763 767 714  64 234 816 544 784\n",
            "  40 558 559 488 933 461 584 132 620 138 121  46 666 184  53 728 857 905\n",
            "  26 439 719 374 690 168 478 530 172 269 554 258 724 858 664 144 647 833\n",
            "  85 470 831 844 482 226 110 457 629 777 679 892 377 351 174 731 471 684\n",
            " 420 851  47 624 400  97 464 725 211 309 576 874   3 827 636 192 406 915\n",
            "  80 692 419 357 422 814 871 561 208 345 256 581 133 921 145 579  62 551\n",
            "  50 663  90 737 441 536  72 108 404 434 338  68 852 454 585 650 929 773\n",
            " 822 197 797 155 501 678 130 220 695  33 194 867 614 512 673 800 538  58\n",
            " 462 932 847 904 812 569  43 261 398 703 713 252 842 715 459 588 603 213\n",
            " 514 125 539 894 235 280 153 864 688 532 293 178 516 865 919 229 353  84\n",
            " 565 813 639 282 522 438 160  74 668 575 927 200 705 517 898 917 295 423\n",
            " 118 337 545 888 215 866  54 573 686 792 829 712 446 284 817  99 139 755\n",
            " 320 246  23 191 505 264 770 465 739 880 592 934 748 520 436 430 262 242\n",
            " 768 612 593 486 103 414 327 104 789 878 825 443 623  31 630 383 254  17\n",
            "  24 355 764 378 729 716 568 460  19 162  16 841 308 907 495 325  73  75\n",
            " 515 776 901 577 855 652 283 574 456 922 466 638 677  27 249 292 477 265\n",
            " 765 247 682 228 646 819 294  22 210  89 148 485 196 134 524 661  67 494\n",
            " 805 497 850 519 707 625 897 537 604 358 886 489 233 109 872 412 291 181\n",
            " 587 783 405 391 165 449 845 209 401 649 473 149 899  70 255  37 428 566\n",
            " 318 681 717 322 884 890 158 935  95 348 487 175 341 751 186 862 263 411\n",
            " 257 757 316 251 883 600 506  78 240 376 214 549 418 826 270  13 492 161\n",
            " 392 216 207 606 685 112 507  18 665 523 157 205 335 458 223 870 578 521\n",
            " 362 876 510 571 861 407 766   4  94 560 481 499 323  93 788 796 389 397\n",
            " 564  32 386 364 667 453 440 640 633 227 369 642 416 452  81 772 807 370\n",
            " 311 450  52 854 342 540 267 721 106 122 396 930 533 730 384 105 266 347\n",
            " 190 808 795  39 339 188 403 525 189  87 732 483   5 597 699 893 442 835\n",
            " 385 332 790 359 590 504 902 375 114 170 123 301 615 602 711 786 860 508\n",
            " 718 599 221 654 111 475 484 329 279 277 349 896 187  65 912 611 583 889\n",
            "  69 410 689 637 177 736 920 117 586 372  10 628 869 669  63 735 500   1\n",
            "  42 634 529 167 809 821  76 313 296 502 490 720 837 543 641 881 617 290\n",
            " 779 212 555 906 672 317  57 791 535 272  15 432 503 828 621 137 702 287\n",
            " 451 528 300 752 622 195  34 286 314 547 333 182  49 518 102 687 651  41\n",
            " 553 366 534 275 675 832 303 113 749 908 437 491 526 141 706 548 609 648]\n",
            "[0 1 0 1 1 1 0 0 1 0 1 0 0 0 0 1 0 1 0 1 0 1 1 1 1 1 1 0 0 1 0 0 0 0 0 1 0\n",
            " 0 0 1 1 0 1 0 0 0 0 0 0 0 0 1 0 0 0 0 0 0 1 0 0 0 1 0 0 0 0 0 0 0 1 0 0 0\n",
            " 1 1 0 0 1 1 0 1 1 0 1 0 1 0 0 0 0 1 1 0 1 0 1 1 0 1 1 1 1 0 0 0 0 1 1 1 0\n",
            " 1 0 0 1 1 1 1 0 0 0 0 1 0 0 1 1 1 1 0 0 0 1 1 0 0 1 0 0 0 1 1 0 1 0 0 1 0\n",
            " 0 0 0 0 1 0 0 1 1 0 0 0 1 0 0 1 1 0 1 0 0 1 0 0 1 1 0 1 1 1 0 1 1 1 1 0 0\n",
            " 1 0 0 1 1 0 1 1 1 0 0 0 1 0 0 0 0 0 0 0 0 1 1 1 0 1 1 1 0 1 0 0 1 1 1 1 1\n",
            " 0 1 1 0 0 1 0 1 1 1 1 0 1 1 1 0 1 0 0 0 0 0 0 1 0 1 1 0 0 0 0 1 1 1 1 0 1\n",
            " 1 1 0 0 0 1 1 0 1 1 1 0 1 1 1 0 0 0 0 1 1 0 1 1 0 0 0 1 1 0 1 1 1 1 0 1 1\n",
            " 1 0 0 1 1 0 0 0 1 0 0 1 0 0 0 1 0 1 1 0 1 0 1 0 1 0 0 0 0 1 0 1 1 1 0 1 1\n",
            " 1 1 0 1 0 1 1 1 1 0 0 0 1 1 0 1 0 1 1 1 1 1 0 0 1 1 1 0 1 1 1 1 0 1 0 1 0\n",
            " 0 0 1 0 0 1 1 1 0 0 1 0 1 0 1 1 0 0 1 0 1 1 1 0 1 1 0 1 1 1 1 0 0 0 1 1 1\n",
            " 1 0 0 0 1 1 1 0 1 0 1 0 0 0 1 0 0 1 1 0 1 1 0 0 1 0 1 0 0 0 1 1 1 0 0 0 1\n",
            " 0 1 0 1 0 1 0 1 0 1 0 1 0 0 0 0 0 0 1 0 1 1 1 1 1 0 1 0 1 1 0 0 1 0 0 1 1\n",
            " 1 1 1 1 0 0 1 1 1 1 1 0 0 0 1 1 0 1 1 0 1 1 0 1 0 1 1 0 0 0 1 1 1 0 0 1 1\n",
            " 1 0 0 0 1 1 1 0 1 0 0 0 1 1 1 0 1 1 1 1 0 0 0 0 1 1 0 1 0 1 1 1 1 1 0 0 1\n",
            " 0 0 1 0 0 0 0 1 0 1 0 1 1 1 1 1 1 0 0 0 0 1 1 1 1 0 0 0 0 1 1 1 0 1 0 1 0\n",
            " 0 0 0 0 1 0 1 1 1 0 0 0 0 1 0 1 1 0 0 0 1 1 1 1 1 1 0 1 0 1 0 1 1 0 0 0 1\n",
            " 0 1 0 1 0 1 1 0 0 0 0 0 1 0 0 1 1 0 1 1 1 1 1 1 1 1 1 1 0 1 1 0 0 1 0 0 0\n",
            " 1 1 0 0 0 0 1 0 0 1 1 0 1 0 0 0 0 1 0 1 1 0 1 1 0 1 0 0 1 0 0 1 0 1 0 0 0\n",
            " 1 0 0 1 1 1 0 0 0 0 1 0 1 0 0 1 0 0 0 0 1 1 0 1 0 1 1 0 0 0 0 0 1 1 1 0 1\n",
            " 1 1 1 0 1 0 0 1 1 1 0 0 1 1 0 0 1 0 0 0 1 0 0 1 1 0 0 1 0 0 0 1 1 0 0 0 0\n",
            " 1 0 1 0 1 0 0 0 1 1 1 0 0 0 0 0 1 1 0 0 0 0 1 0 0 1 1 0 1 1 1 0 1 0 0 1 0\n",
            " 1 1 1 0 0 0 0 0 1 1 1 1 1 1 1 1 0 1 0 1 1 0 0 0 0 1 0 0 1 1 1 1 0 0 1 1 0\n",
            " 1 1 0 1 0 0 1 1 1 0 1 1 0 0 1 1 0 1 1 0 0 0 1 1 1 1 1 1 1 1 0 1 0 1 1 1 0\n",
            " 0 1 1 0 0 0 1 1 1 0 1 0 0 1 0 1 1 0 0 0 0 1 0 0 0 1 0 1 1 0 1 0 1 0 1 1 0\n",
            " 0 1 1 0 1 1 0 1 1 1 1]\n"
          ]
        }
      ],
      "source": [
        "# One global shuffle to mix classes well\n",
        "rng = np.random.default_rng(42)\n",
        "perm = rng.permutation(len(y))\n",
        "\n",
        "print(perm)\n",
        "X = X[perm]\n",
        "y = y[perm]\n",
        "print(y)"
      ]
    },
    {
      "cell_type": "code",
      "execution_count": null,
      "metadata": {
        "colab": {
          "base_uri": "https://localhost:8080/"
        },
        "id": "qqdlvAuHqkKQ",
        "outputId": "e928061b-a108-44b3-bafa-6671e103d69c"
      },
      "outputs": [
        {
          "output_type": "stream",
          "name": "stdout",
          "text": [
            "(655, 128, 1) (281, 128, 1) (655,) (281,)\n",
            "(140, 128, 1) (141, 128, 1) (140,) (141,)\n",
            "test: (141, 128, 1)\n"
          ]
        }
      ],
      "source": [
        "# 4) Stratified split: 60% train, 20% val, 20% test\n",
        "X_train, X_tmp, y_train, y_tmp = train_test_split(X, y, test_size=0.3, random_state=42, stratify=y)\n",
        "print(X_train.shape, X_tmp.shape, y_train.shape, y_tmp.shape)\n",
        "# print(X_train)\n",
        "# print(y_train)\n",
        "# print('tmp:',X_tmp)\n",
        "X_val, X_test, y_val, y_test = train_test_split(X_tmp, y_tmp, test_size=0.5, random_state=42, stratify=y_tmp)\n",
        "print(X_val.shape, X_test.shape, y_val.shape, y_test.shape)\n",
        "# print(X_val)\n",
        "# print(y_val)\n",
        "print('test:',X_test.shape)\n",
        "# print(y_test.shape)"
      ]
    },
    {
      "cell_type": "code",
      "execution_count": null,
      "metadata": {
        "id": "lGqukpxkq4h_"
      },
      "outputs": [],
      "source": [
        "# 5) Torch tensors\n",
        "X_train = torch.from_numpy(X_train)  # float32\n",
        "y_train = torch.from_numpy(y_train)  # int64\n",
        "X_val   = torch.from_numpy(X_val)\n",
        "y_val   = torch.from_numpy(y_val)\n",
        "X_test  = torch.from_numpy(X_test)\n",
        "y_test  = torch.from_numpy(y_test)"
      ]
    },
    {
      "cell_type": "code",
      "execution_count": null,
      "metadata": {
        "id": "b9AiLDFUaGSE"
      },
      "outputs": [],
      "source": [
        "# mu = X_train.mean(dim=(0,1), keepdim=True)\n",
        "# # print(mu)\n",
        "# sd = X_train.std(dim=(0,1), keepdim=True).clamp_min(1e-6)\n",
        "# # print(sd)\n",
        "# X_train = (X_train - mu) / sd\n",
        "# # print(X_train)\n",
        "# X_val   = (X_val   - mu) / sd\n",
        "# X_test  = (X_test  - mu) / sd"
      ]
    },
    {
      "cell_type": "code",
      "execution_count": null,
      "metadata": {
        "id": "Vn18DVVKq76e"
      },
      "outputs": [],
      "source": [
        "class SeqDataset(Dataset):\n",
        "    def __init__(self, X: torch.Tensor, y: torch.Tensor):\n",
        "        self.X = X  # [N, seq_len, 1]\n",
        "        self.y = y  # [N]\n",
        "    def __len__(self): return self.y.shape[0]\n",
        "    def __getitem__(self, i): return self.X[i], self.y[i]\n",
        "\n",
        "train_ds = SeqDataset(X_train, y_train)\n",
        "# print(X_train.shape)\n",
        "# print(train_ds[0])\n",
        "# print(train_ds[1])\n",
        "# print(train_ds[2])\n",
        "val_ds   = SeqDataset(X_val,   y_val)\n",
        "test_ds  = SeqDataset(X_test,  y_test)"
      ]
    },
    {
      "cell_type": "code",
      "execution_count": null,
      "metadata": {
        "id": "8Sk03aV2q7sh"
      },
      "outputs": [],
      "source": [
        "# 6) DataLoaders: shuffle only the training set\n",
        "batch_size = 100\n",
        "train_loader = DataLoader(train_ds, batch_size=batch_size, shuffle=True)\n",
        "val_loader   = DataLoader(val_ds,   batch_size=batch_size, shuffle=False)\n",
        "test_loader  = DataLoader(test_ds,  batch_size=batch_size, shuffle=False)"
      ]
    },
    {
      "cell_type": "code",
      "execution_count": null,
      "metadata": {
        "id": "ue57o5HKq7fi"
      },
      "outputs": [],
      "source": [
        "# 7) Example: adapt a batch for a Transformer [seq_len, batch, d_model]\n",
        "xb, yb = next(iter(train_loader))   # xb: [B, 5, 1]"
      ]
    },
    {
      "cell_type": "code",
      "execution_count": null,
      "metadata": {
        "id": "KAd745oVq7Sd"
      },
      "outputs": [],
      "source": [
        "class LearnablePositionalEncoding(nn.Module):\n",
        "    \"\"\"\n",
        "    Learnable positional encoding added to token embeddings.\n",
        "    Shape stored: [1, max_len, d_model]\n",
        "    \"\"\"\n",
        "    def __init__(self, d_model: int, max_len: int):\n",
        "        super().__init__()\n",
        "        self.pe = nn.Parameter(torch.zeros(1, max_len, d_model))\n",
        "        print(self.pe)\n",
        "        nn.init.trunc_normal_(self.pe, std=0.02)\n",
        "\n",
        "    def forward(self, x):\n",
        "        # x: [B, T, d_model]\n",
        "        T = x.size(1)\n",
        "        return x + self.pe[:, :T, :]"
      ]
    },
    {
      "cell_type": "code",
      "execution_count": null,
      "metadata": {
        "id": "wBe4P6n8puIs"
      },
      "outputs": [],
      "source": [
        "class TimeSeriesTransformer(nn.Module):\n",
        "    def __init__(self, d_model=64, nhead=2, num_layers=2, d_ff=128, seq_len=5, num_classes=2, dropout=0.1):\n",
        "        super().__init__()\n",
        "        self.inp = nn.Linear(1, d_model)                            # project feature_dim=1 -> d_model\n",
        "        self.pos = LearnablePositionalEncoding(d_model, seq_len)    # learnable PE\n",
        "        enc_layer = nn.TransformerEncoderLayer(\n",
        "            d_model=d_model, nhead=nhead,\n",
        "            dim_feedforward=d_ff, dropout=dropout,\n",
        "            batch_first=True                                        # so we keep [B, T, d]\n",
        "        )\n",
        "        self.encoder = nn.TransformerEncoder(enc_layer, num_layers=num_layers)\n",
        "        self.norm = nn.LayerNorm(d_model)\n",
        "        self.head = nn.Linear(d_model, num_classes)\n",
        "\n",
        "    def forward(self, x):\n",
        "        # x: [B, T, 1]\n",
        "        x = self.inp(x)                  # [B, T, d]\n",
        "        x = self.pos(x)                  # add learnable PE\n",
        "        x = self.encoder(x)              # [B, T, d]\n",
        "        x = self.norm(x)\n",
        "        x = x.mean(dim=1)                # mean pool over time\n",
        "        logits = self.head(x)            # [B, C]\n",
        "        return logits"
      ]
    },
    {
      "cell_type": "code",
      "execution_count": null,
      "metadata": {
        "colab": {
          "base_uri": "https://localhost:8080/"
        },
        "id": "gfewTjRosCAY",
        "outputId": "f0441b01-0fd4-4995-ccd0-babd8f6afc9e"
      },
      "outputs": [
        {
          "output_type": "stream",
          "name": "stdout",
          "text": [
            "Parameter containing:\n",
            "tensor([[[0., 0., 0.,  ..., 0., 0., 0.],\n",
            "         [0., 0., 0.,  ..., 0., 0., 0.],\n",
            "         [0., 0., 0.,  ..., 0., 0., 0.],\n",
            "         ...,\n",
            "         [0., 0., 0.,  ..., 0., 0., 0.],\n",
            "         [0., 0., 0.,  ..., 0., 0., 0.],\n",
            "         [0., 0., 0.,  ..., 0., 0., 0.]]], requires_grad=True)\n"
          ]
        }
      ],
      "source": [
        "device = torch.device(\"cuda\" if torch.cuda.is_available() else \"cpu\")\n",
        "seq_len = X_train.shape[1]\n",
        "num_classes = 2\n",
        "model = TimeSeriesTransformer(\n",
        "    d_model=64,\n",
        "    nhead=2,\n",
        "    num_layers=2,\n",
        "    d_ff=128,\n",
        "    seq_len=128,\n",
        "    num_classes=2,\n",
        "    dropout=0)"
      ]
    },
    {
      "cell_type": "code",
      "execution_count": null,
      "metadata": {
        "id": "s7yhn2Tlieo9"
      },
      "outputs": [],
      "source": []
    },
    {
      "cell_type": "code",
      "execution_count": null,
      "metadata": {
        "colab": {
          "base_uri": "https://localhost:8080/"
        },
        "id": "2149a252",
        "outputId": "2e2cd412-8047-4398-a87a-171c7fc8e7d9"
      },
      "outputs": [
        {
          "output_type": "stream",
          "name": "stdout",
          "text": [
            "Using device: cpu\n"
          ]
        },
        {
          "output_type": "execute_result",
          "data": {
            "text/plain": [
              "TimeSeriesTransformer(\n",
              "  (inp): Linear(in_features=1, out_features=64, bias=True)\n",
              "  (pos): LearnablePositionalEncoding()\n",
              "  (encoder): TransformerEncoder(\n",
              "    (layers): ModuleList(\n",
              "      (0-1): 2 x TransformerEncoderLayer(\n",
              "        (self_attn): MultiheadAttention(\n",
              "          (out_proj): NonDynamicallyQuantizableLinear(in_features=64, out_features=64, bias=True)\n",
              "        )\n",
              "        (linear1): Linear(in_features=64, out_features=128, bias=True)\n",
              "        (dropout): Dropout(p=0, inplace=False)\n",
              "        (linear2): Linear(in_features=128, out_features=64, bias=True)\n",
              "        (norm1): LayerNorm((64,), eps=1e-05, elementwise_affine=True)\n",
              "        (norm2): LayerNorm((64,), eps=1e-05, elementwise_affine=True)\n",
              "        (dropout1): Dropout(p=0, inplace=False)\n",
              "        (dropout2): Dropout(p=0, inplace=False)\n",
              "      )\n",
              "    )\n",
              "  )\n",
              "  (norm): LayerNorm((64,), eps=1e-05, elementwise_affine=True)\n",
              "  (head): Linear(in_features=64, out_features=2, bias=True)\n",
              ")"
            ]
          },
          "metadata": {},
          "execution_count": 228
        }
      ],
      "source": [
        "device = torch.device(\"cuda\" if torch.cuda.is_available() else \"cpu\")\n",
        "print(f\"Using device: {device}\")\n",
        "model.to(device) # Move the model to the selected device"
      ]
    },
    {
      "cell_type": "code",
      "execution_count": null,
      "metadata": {
        "id": "dp_VLwP7sB7K"
      },
      "outputs": [],
      "source": [
        "# # Optional class weights for CE or focal alpha; compute from training labels\n",
        "# class_counts = torch.bincount(y_train)\n",
        "# class_weights = (class_counts.sum() / (class_counts.float().clamp(min=1)))  # inverse freq\n",
        "# class_weights = class_weights / class_weights.sum() * num_classes           # normalize\n",
        "# class_weights = class_weights.to(device)"
      ]
    },
    {
      "cell_type": "code",
      "execution_count": null,
      "metadata": {
        "id": "4xc9Wh7DsB0e"
      },
      "outputs": [],
      "source": [
        "optimizer = torch.optim.AdamW(model.parameters(), lr=1e-3, weight_decay=0)\n",
        "loss_fn = nn.CrossEntropyLoss()"
      ]
    },
    {
      "cell_type": "code",
      "execution_count": null,
      "metadata": {
        "id": "8G2A5cWssBuX"
      },
      "outputs": [],
      "source": [
        "def run_epoch(loader, train=True):\n",
        "    model.train(mode=train)\n",
        "    total, correct, total_loss = 0, 0, 0.0\n",
        "    for xb, yb in loader:\n",
        "        xb, yb = xb.to(device), yb.to(device)\n",
        "        logits = model(xb)\n",
        "        # print('Logits\\n',logits)\n",
        "        # print('argmax\\n',torch.sigmoid(logits.argmax(dim=1)))\n",
        "        # print('yb\\n', yb.shape)\n",
        "        # print('yb\\n', yb)\n",
        "        loss = loss_fn(logits, yb)\n",
        "\n",
        "        # print(loss)\n",
        "        if train:\n",
        "            optimizer.zero_grad()\n",
        "            loss.backward()\n",
        "            optimizer.step()\n",
        "\n",
        "        with torch.no_grad():\n",
        "            preds = logits.argmax(dim=1)\n",
        "            correct += (preds == yb).sum().item()\n",
        "            total += yb.size(0)\n",
        "            total_loss += loss.item() * yb.size(0)\n",
        "\n",
        "    return total_loss / total, correct / total"
      ]
    },
    {
      "cell_type": "code",
      "execution_count": null,
      "metadata": {
        "colab": {
          "base_uri": "https://localhost:8080/"
        },
        "id": "NOxd3J64sBpO",
        "outputId": "acf12c80-b4cd-44d3-ba25-df4b7f2b7b99"
      },
      "outputs": [
        {
          "output_type": "stream",
          "name": "stdout",
          "text": [
            "Epoch 01 | train loss 0.7459 acc 0.476 | val loss 0.7165 acc 0.500\n",
            "Epoch 02 | train loss 0.7037 acc 0.487 | val loss 0.6971 acc 0.500\n",
            "Epoch 03 | train loss 0.6953 acc 0.498 | val loss 0.6979 acc 0.500\n",
            "Epoch 04 | train loss 0.6984 acc 0.475 | val loss 0.6939 acc 0.500\n",
            "Epoch 05 | train loss 0.6966 acc 0.498 | val loss 0.6942 acc 0.500\n",
            "Epoch 06 | train loss 0.7045 acc 0.460 | val loss 0.6931 acc 0.500\n",
            "Epoch 07 | train loss 0.6974 acc 0.501 | val loss 0.6940 acc 0.500\n",
            "Epoch 08 | train loss 0.6938 acc 0.508 | val loss 0.6953 acc 0.500\n",
            "Epoch 09 | train loss 0.6998 acc 0.470 | val loss 0.6949 acc 0.500\n",
            "Epoch 10 | train loss 0.6962 acc 0.490 | val loss 0.6940 acc 0.500\n",
            "Epoch 11 | train loss 0.6943 acc 0.510 | val loss 0.6946 acc 0.500\n",
            "Epoch 12 | train loss 0.6959 acc 0.478 | val loss 0.6939 acc 0.500\n",
            "Epoch 13 | train loss 0.6924 acc 0.525 | val loss 0.6956 acc 0.500\n",
            "Epoch 14 | train loss 0.6948 acc 0.501 | val loss 0.6934 acc 0.500\n",
            "Epoch 15 | train loss 0.6953 acc 0.499 | val loss 0.6933 acc 0.500\n",
            "Epoch 16 | train loss 0.6959 acc 0.499 | val loss 0.6937 acc 0.500\n",
            "Epoch 17 | train loss 0.6965 acc 0.501 | val loss 0.6934 acc 0.500\n",
            "Epoch 18 | train loss 0.6944 acc 0.493 | val loss 0.6935 acc 0.500\n",
            "Epoch 19 | train loss 0.6939 acc 0.461 | val loss 0.6937 acc 0.500\n",
            "Epoch 20 | train loss 0.6959 acc 0.476 | val loss 0.6931 acc 0.500\n",
            "Epoch 21 | train loss 0.6950 acc 0.478 | val loss 0.6933 acc 0.500\n",
            "Epoch 22 | train loss 0.7012 acc 0.501 | val loss 0.6931 acc 0.500\n",
            "Epoch 23 | train loss 0.7026 acc 0.518 | val loss 0.6959 acc 0.500\n",
            "Epoch 24 | train loss 0.6940 acc 0.510 | val loss 0.6962 acc 0.500\n",
            "Epoch 25 | train loss 0.6939 acc 0.518 | val loss 0.6949 acc 0.500\n",
            "Epoch 26 | train loss 0.7035 acc 0.499 | val loss 0.6931 acc 0.500\n",
            "Epoch 27 | train loss 0.7040 acc 0.501 | val loss 0.6951 acc 0.500\n",
            "Epoch 28 | train loss 0.6923 acc 0.524 | val loss 0.6973 acc 0.500\n",
            "Epoch 29 | train loss 0.6966 acc 0.492 | val loss 0.6940 acc 0.500\n",
            "Epoch 30 | train loss 0.6990 acc 0.447 | val loss 0.6931 acc 0.500\n",
            "Epoch 31 | train loss 0.6928 acc 0.531 | val loss 0.6959 acc 0.500\n",
            "Epoch 32 | train loss 0.6980 acc 0.469 | val loss 0.6937 acc 0.500\n",
            "Epoch 33 | train loss 0.6956 acc 0.495 | val loss 0.6946 acc 0.500\n",
            "Epoch 34 | train loss 0.6963 acc 0.501 | val loss 0.6934 acc 0.500\n",
            "Epoch 35 | train loss 0.6991 acc 0.499 | val loss 0.6936 acc 0.500\n",
            "Epoch 36 | train loss 0.6984 acc 0.485 | val loss 0.6957 acc 0.500\n",
            "Epoch 37 | train loss 0.6966 acc 0.487 | val loss 0.6961 acc 0.500\n",
            "Epoch 38 | train loss 0.6986 acc 0.476 | val loss 0.6940 acc 0.500\n",
            "Epoch 39 | train loss 0.6934 acc 0.490 | val loss 0.6935 acc 0.500\n",
            "Epoch 40 | train loss 0.6937 acc 0.499 | val loss 0.6933 acc 0.500\n",
            "Epoch 41 | train loss 0.6948 acc 0.473 | val loss 0.6932 acc 0.500\n",
            "Epoch 42 | train loss 0.6934 acc 0.499 | val loss 0.6932 acc 0.500\n",
            "Epoch 43 | train loss 0.6936 acc 0.472 | val loss 0.6931 acc 0.500\n",
            "Epoch 44 | train loss 0.6942 acc 0.499 | val loss 0.6931 acc 0.500\n",
            "Epoch 45 | train loss 0.6969 acc 0.501 | val loss 0.6933 acc 0.500\n",
            "Epoch 46 | train loss 0.6947 acc 0.515 | val loss 0.6976 acc 0.500\n",
            "Epoch 47 | train loss 0.6941 acc 0.510 | val loss 0.6942 acc 0.500\n",
            "Epoch 48 | train loss 0.6945 acc 0.501 | val loss 0.6935 acc 0.500\n",
            "Epoch 49 | train loss 0.6934 acc 0.493 | val loss 0.6939 acc 0.500\n",
            "Epoch 50 | train loss 0.6945 acc 0.473 | val loss 0.6932 acc 0.500\n",
            "Epoch 51 | train loss 0.6935 acc 0.484 | val loss 0.6932 acc 0.500\n",
            "Epoch 52 | train loss 0.6943 acc 0.499 | val loss 0.6933 acc 0.500\n",
            "Epoch 53 | train loss 0.6946 acc 0.482 | val loss 0.6938 acc 0.500\n",
            "Epoch 54 | train loss 0.6934 acc 0.487 | val loss 0.6935 acc 0.500\n",
            "Epoch 55 | train loss 0.6965 acc 0.452 | val loss 0.6934 acc 0.500\n",
            "Epoch 56 | train loss 0.6947 acc 0.487 | val loss 0.6945 acc 0.500\n",
            "Epoch 57 | train loss 0.6933 acc 0.495 | val loss 0.6935 acc 0.500\n",
            "Epoch 58 | train loss 0.6952 acc 0.501 | val loss 0.6939 acc 0.500\n",
            "Epoch 59 | train loss 0.6938 acc 0.505 | val loss 0.6943 acc 0.500\n",
            "Epoch 60 | train loss 0.6942 acc 0.499 | val loss 0.6931 acc 0.500\n",
            "Epoch 61 | train loss 0.6938 acc 0.504 | val loss 0.6936 acc 0.500\n",
            "Epoch 62 | train loss 0.6941 acc 0.484 | val loss 0.6935 acc 0.500\n",
            "Epoch 63 | train loss 0.6939 acc 0.476 | val loss 0.6933 acc 0.500\n",
            "Epoch 64 | train loss 0.6935 acc 0.478 | val loss 0.6931 acc 0.500\n",
            "Epoch 65 | train loss 0.6937 acc 0.504 | val loss 0.6933 acc 0.500\n",
            "Epoch 66 | train loss 0.6935 acc 0.487 | val loss 0.6935 acc 0.500\n",
            "Epoch 67 | train loss 0.6945 acc 0.485 | val loss 0.6932 acc 0.500\n",
            "Epoch 68 | train loss 0.6938 acc 0.490 | val loss 0.6932 acc 0.500\n",
            "Epoch 69 | train loss 0.6932 acc 0.499 | val loss 0.6931 acc 0.500\n",
            "Epoch 70 | train loss 0.6940 acc 0.490 | val loss 0.6931 acc 0.500\n",
            "Epoch 71 | train loss 0.6937 acc 0.470 | val loss 0.6931 acc 0.500\n",
            "Epoch 72 | train loss 0.6933 acc 0.482 | val loss 0.6931 acc 0.500\n",
            "Epoch 73 | train loss 0.6951 acc 0.490 | val loss 0.6933 acc 0.500\n",
            "Epoch 74 | train loss 0.6934 acc 0.507 | val loss 0.6949 acc 0.500\n",
            "Epoch 75 | train loss 0.6954 acc 0.472 | val loss 0.6935 acc 0.500\n",
            "Epoch 76 | train loss 0.6955 acc 0.464 | val loss 0.6934 acc 0.500\n",
            "Epoch 77 | train loss 0.6965 acc 0.505 | val loss 0.6946 acc 0.500\n",
            "Epoch 78 | train loss 0.6939 acc 0.492 | val loss 0.6937 acc 0.500\n",
            "Epoch 79 | train loss 0.6939 acc 0.501 | val loss 0.6933 acc 0.500\n",
            "Epoch 80 | train loss 0.6946 acc 0.475 | val loss 0.6937 acc 0.500\n",
            "Epoch 81 | train loss 0.6943 acc 0.499 | val loss 0.6932 acc 0.500\n",
            "Epoch 82 | train loss 0.6940 acc 0.501 | val loss 0.6935 acc 0.500\n",
            "Epoch 83 | train loss 0.6938 acc 0.490 | val loss 0.6932 acc 0.500\n",
            "Epoch 84 | train loss 0.6941 acc 0.485 | val loss 0.6932 acc 0.500\n",
            "Epoch 85 | train loss 0.6932 acc 0.505 | val loss 0.6935 acc 0.500\n",
            "Epoch 86 | train loss 0.6941 acc 0.499 | val loss 0.6932 acc 0.500\n",
            "Epoch 87 | train loss 0.6972 acc 0.485 | val loss 0.6956 acc 0.500\n",
            "Epoch 88 | train loss 0.6936 acc 0.493 | val loss 0.6941 acc 0.500\n",
            "Epoch 89 | train loss 0.6968 acc 0.499 | val loss 0.6939 acc 0.500\n",
            "Epoch 90 | train loss 0.7006 acc 0.476 | val loss 0.6964 acc 0.500\n",
            "Epoch 91 | train loss 0.6949 acc 0.493 | val loss 0.6933 acc 0.500\n",
            "Epoch 92 | train loss 0.6939 acc 0.499 | val loss 0.6934 acc 0.500\n",
            "Epoch 93 | train loss 0.6961 acc 0.467 | val loss 0.6941 acc 0.500\n",
            "Epoch 94 | train loss 0.6947 acc 0.475 | val loss 0.6933 acc 0.500\n",
            "Epoch 95 | train loss 0.6933 acc 0.495 | val loss 0.6933 acc 0.500\n",
            "Epoch 96 | train loss 0.6944 acc 0.463 | val loss 0.6932 acc 0.500\n",
            "Epoch 97 | train loss 0.6934 acc 0.492 | val loss 0.6933 acc 0.500\n",
            "Epoch 98 | train loss 0.6944 acc 0.467 | val loss 0.6931 acc 0.500\n",
            "Epoch 99 | train loss 0.6933 acc 0.501 | val loss 0.6932 acc 0.500\n",
            "Epoch 100 | train loss 0.6938 acc 0.496 | val loss 0.6931 acc 0.500\n",
            "Epoch 101 | train loss 0.6932 acc 0.499 | val loss 0.6931 acc 0.500\n",
            "Epoch 102 | train loss 0.6942 acc 0.499 | val loss 0.6933 acc 0.500\n",
            "Epoch 103 | train loss 0.6935 acc 0.492 | val loss 0.6936 acc 0.500\n",
            "Epoch 104 | train loss 0.6949 acc 0.501 | val loss 0.6938 acc 0.500\n",
            "Epoch 105 | train loss 0.6955 acc 0.472 | val loss 0.6938 acc 0.500\n",
            "Epoch 106 | train loss 0.6936 acc 0.499 | val loss 0.6931 acc 0.500\n",
            "Epoch 107 | train loss 0.6957 acc 0.501 | val loss 0.6941 acc 0.500\n",
            "Epoch 108 | train loss 0.6959 acc 0.478 | val loss 0.6945 acc 0.500\n",
            "Epoch 109 | train loss 0.6938 acc 0.499 | val loss 0.6932 acc 0.500\n",
            "Epoch 110 | train loss 0.6936 acc 0.501 | val loss 0.6937 acc 0.500\n",
            "Epoch 111 | train loss 0.6935 acc 0.501 | val loss 0.6931 acc 0.500\n",
            "Epoch 112 | train loss 0.6936 acc 0.499 | val loss 0.6933 acc 0.500\n",
            "Epoch 113 | train loss 0.6934 acc 0.510 | val loss 0.6932 acc 0.500\n",
            "Epoch 114 | train loss 0.6940 acc 0.446 | val loss 0.6934 acc 0.500\n",
            "Epoch 115 | train loss 0.6949 acc 0.453 | val loss 0.6931 acc 0.500\n",
            "Epoch 116 | train loss 0.6933 acc 0.501 | val loss 0.6938 acc 0.500\n",
            "Epoch 117 | train loss 0.6940 acc 0.501 | val loss 0.6932 acc 0.500\n",
            "Epoch 118 | train loss 0.6937 acc 0.496 | val loss 0.6932 acc 0.500\n",
            "Epoch 119 | train loss 0.6936 acc 0.475 | val loss 0.6931 acc 0.500\n",
            "Epoch 120 | train loss 0.6932 acc 0.489 | val loss 0.6931 acc 0.500\n",
            "Epoch 121 | train loss 0.6936 acc 0.496 | val loss 0.6932 acc 0.500\n",
            "Epoch 122 | train loss 0.6929 acc 0.510 | val loss 0.6933 acc 0.500\n",
            "Epoch 123 | train loss 0.6935 acc 0.501 | val loss 0.6935 acc 0.500\n",
            "Epoch 124 | train loss 0.6936 acc 0.501 | val loss 0.6931 acc 0.500\n",
            "Epoch 125 | train loss 0.6938 acc 0.493 | val loss 0.6932 acc 0.500\n",
            "Epoch 126 | train loss 0.6931 acc 0.501 | val loss 0.6933 acc 0.500\n",
            "Epoch 127 | train loss 0.6949 acc 0.501 | val loss 0.6941 acc 0.500\n",
            "Epoch 128 | train loss 0.6958 acc 0.496 | val loss 0.6946 acc 0.500\n",
            "Epoch 129 | train loss 0.6953 acc 0.476 | val loss 0.6932 acc 0.500\n",
            "Epoch 130 | train loss 0.6938 acc 0.472 | val loss 0.6932 acc 0.500\n",
            "Epoch 131 | train loss 0.6931 acc 0.510 | val loss 0.6932 acc 0.500\n",
            "Epoch 132 | train loss 0.6935 acc 0.501 | val loss 0.6937 acc 0.500\n",
            "Epoch 133 | train loss 0.6934 acc 0.501 | val loss 0.6931 acc 0.500\n",
            "Epoch 134 | train loss 0.6934 acc 0.508 | val loss 0.6933 acc 0.500\n",
            "Epoch 135 | train loss 0.6945 acc 0.455 | val loss 0.6931 acc 0.500\n",
            "Epoch 136 | train loss 0.6934 acc 0.499 | val loss 0.6932 acc 0.500\n",
            "Epoch 137 | train loss 0.6934 acc 0.499 | val loss 0.6931 acc 0.500\n",
            "Epoch 138 | train loss 0.6931 acc 0.504 | val loss 0.6934 acc 0.500\n",
            "Epoch 139 | train loss 0.6938 acc 0.475 | val loss 0.6932 acc 0.500\n",
            "Epoch 140 | train loss 0.6934 acc 0.470 | val loss 0.6932 acc 0.500\n",
            "Epoch 141 | train loss 0.6932 acc 0.501 | val loss 0.6934 acc 0.500\n",
            "Epoch 142 | train loss 0.6934 acc 0.501 | val loss 0.6932 acc 0.500\n",
            "Epoch 143 | train loss 0.6942 acc 0.490 | val loss 0.6934 acc 0.500\n",
            "Epoch 144 | train loss 0.6936 acc 0.489 | val loss 0.6933 acc 0.500\n",
            "Epoch 145 | train loss 0.6936 acc 0.501 | val loss 0.6931 acc 0.500\n",
            "Epoch 146 | train loss 0.6946 acc 0.501 | val loss 0.6932 acc 0.500\n",
            "Epoch 147 | train loss 0.6931 acc 0.502 | val loss 0.6934 acc 0.500\n",
            "Epoch 148 | train loss 0.6938 acc 0.499 | val loss 0.6933 acc 0.500\n",
            "Epoch 149 | train loss 0.6936 acc 0.482 | val loss 0.6934 acc 0.500\n",
            "Epoch 150 | train loss 0.6942 acc 0.481 | val loss 0.6932 acc 0.500\n",
            "Epoch 151 | train loss 0.6934 acc 0.499 | val loss 0.6932 acc 0.500\n",
            "Epoch 152 | train loss 0.6942 acc 0.482 | val loss 0.6934 acc 0.500\n",
            "Epoch 153 | train loss 0.6932 acc 0.501 | val loss 0.6931 acc 0.500\n",
            "Epoch 154 | train loss 0.6937 acc 0.499 | val loss 0.6935 acc 0.500\n",
            "Epoch 155 | train loss 0.6953 acc 0.467 | val loss 0.6937 acc 0.500\n",
            "Epoch 156 | train loss 0.6939 acc 0.469 | val loss 0.6934 acc 0.500\n",
            "Epoch 157 | train loss 0.6937 acc 0.499 | val loss 0.6932 acc 0.500\n",
            "Epoch 158 | train loss 0.6933 acc 0.489 | val loss 0.6933 acc 0.500\n",
            "Epoch 159 | train loss 0.6935 acc 0.501 | val loss 0.6932 acc 0.500\n",
            "Epoch 160 | train loss 0.6935 acc 0.473 | val loss 0.6931 acc 0.500\n",
            "Epoch 161 | train loss 0.6937 acc 0.502 | val loss 0.6934 acc 0.500\n",
            "Epoch 162 | train loss 0.6938 acc 0.499 | val loss 0.6931 acc 0.500\n",
            "Epoch 163 | train loss 0.6947 acc 0.498 | val loss 0.6939 acc 0.500\n",
            "Epoch 164 | train loss 0.6937 acc 0.487 | val loss 0.6933 acc 0.500\n",
            "Epoch 165 | train loss 0.6942 acc 0.499 | val loss 0.6934 acc 0.500\n",
            "Epoch 166 | train loss 0.6940 acc 0.489 | val loss 0.6939 acc 0.500\n",
            "Epoch 167 | train loss 0.6940 acc 0.481 | val loss 0.6932 acc 0.500\n",
            "Epoch 168 | train loss 0.6934 acc 0.499 | val loss 0.6932 acc 0.500\n",
            "Epoch 169 | train loss 0.6933 acc 0.489 | val loss 0.6933 acc 0.500\n",
            "Epoch 170 | train loss 0.6947 acc 0.501 | val loss 0.6940 acc 0.500\n",
            "Epoch 171 | train loss 0.6936 acc 0.501 | val loss 0.6932 acc 0.500\n",
            "Epoch 172 | train loss 0.6938 acc 0.496 | val loss 0.6941 acc 0.500\n",
            "Epoch 173 | train loss 0.6950 acc 0.499 | val loss 0.6935 acc 0.500\n",
            "Epoch 174 | train loss 0.6936 acc 0.498 | val loss 0.6934 acc 0.500\n",
            "Epoch 175 | train loss 0.6934 acc 0.501 | val loss 0.6932 acc 0.500\n",
            "Epoch 176 | train loss 0.6969 acc 0.475 | val loss 0.6946 acc 0.500\n",
            "Epoch 177 | train loss 0.6939 acc 0.489 | val loss 0.6935 acc 0.500\n",
            "Epoch 178 | train loss 0.6938 acc 0.501 | val loss 0.6934 acc 0.500\n",
            "Epoch 179 | train loss 0.6939 acc 0.501 | val loss 0.6934 acc 0.500\n",
            "Epoch 180 | train loss 0.6929 acc 0.508 | val loss 0.6932 acc 0.500\n",
            "Epoch 181 | train loss 0.6935 acc 0.499 | val loss 0.6934 acc 0.500\n",
            "Epoch 182 | train loss 0.6935 acc 0.489 | val loss 0.6931 acc 0.500\n",
            "Epoch 183 | train loss 0.6937 acc 0.501 | val loss 0.6932 acc 0.500\n",
            "Epoch 184 | train loss 0.6934 acc 0.487 | val loss 0.6932 acc 0.500\n",
            "Epoch 185 | train loss 0.6939 acc 0.499 | val loss 0.6931 acc 0.500\n",
            "Epoch 186 | train loss 0.6934 acc 0.499 | val loss 0.6932 acc 0.500\n",
            "Epoch 187 | train loss 0.6932 acc 0.499 | val loss 0.6932 acc 0.500\n",
            "Epoch 188 | train loss 0.6933 acc 0.501 | val loss 0.6932 acc 0.500\n",
            "Epoch 189 | train loss 0.6934 acc 0.501 | val loss 0.6933 acc 0.500\n",
            "Epoch 190 | train loss 0.6934 acc 0.501 | val loss 0.6931 acc 0.500\n",
            "Epoch 191 | train loss 0.6934 acc 0.467 | val loss 0.6931 acc 0.500\n",
            "Epoch 192 | train loss 0.6934 acc 0.499 | val loss 0.6932 acc 0.500\n",
            "Epoch 193 | train loss 0.6933 acc 0.499 | val loss 0.6931 acc 0.500\n",
            "Epoch 194 | train loss 0.6935 acc 0.501 | val loss 0.6934 acc 0.500\n",
            "Epoch 195 | train loss 0.6935 acc 0.487 | val loss 0.6931 acc 0.500\n",
            "Epoch 196 | train loss 0.6936 acc 0.473 | val loss 0.6931 acc 0.500\n",
            "Epoch 197 | train loss 0.6934 acc 0.502 | val loss 0.6934 acc 0.500\n",
            "Epoch 198 | train loss 0.6936 acc 0.499 | val loss 0.6932 acc 0.500\n",
            "Epoch 199 | train loss 0.6938 acc 0.499 | val loss 0.6932 acc 0.500\n",
            "Epoch 200 | train loss 0.6938 acc 0.485 | val loss 0.6932 acc 0.500\n",
            "Test  | loss 0.6933 acc 0.496\n"
          ]
        }
      ],
      "source": [
        "train_losses = []\n",
        "val_losses   = []\n",
        "train_accs   = []\n",
        "val_accs     = []\n",
        "# Small demo loop\n",
        "for epoch in range(200):\n",
        "    tr_loss, tr_acc = run_epoch(train_loader, train=True)\n",
        "    va_loss, va_acc = run_epoch(val_loader,   train=False)\n",
        "    train_losses.append(tr_loss)\n",
        "    train_accs  .append(tr_acc)\n",
        "    val_losses  .append(va_loss)\n",
        "    val_accs    .append(va_acc)\n",
        "\n",
        "\n",
        "\n",
        "    print(f\"Epoch {epoch+1:02d} | train loss {tr_loss:.4f} acc {tr_acc:.3f} | val loss {va_loss:.4f} acc {va_acc:.3f}\")\n",
        "\n",
        "# Final evaluation\n",
        "test_loss, test_acc = run_epoch(test_loader, train=False)\n",
        "print(f\"Test  | loss {test_loss:.4f} acc {test_acc:.3f}\")"
      ]
    },
    {
      "cell_type": "code",
      "execution_count": null,
      "metadata": {
        "id": "HYQSDYkTsaFe",
        "colab": {
          "base_uri": "https://localhost:8080/",
          "height": 449
        },
        "outputId": "508ae929-128b-43c4-9fff-3ecfc72f4a50"
      },
      "outputs": [
        {
          "output_type": "display_data",
          "data": {
            "text/plain": [
              "<Figure size 640x480 with 1 Axes>"
            ],
            "image/png": "[encoded data removed]"
          },
          "metadata": {}
        }
      ],
      "source": [
        "epoch = np.arange(0, 200, 1) # Create epoch with length 20\n",
        "import matplotlib.pyplot as plt\n",
        "\n",
        "plt.plot(epoch, train_losses , label=\"Train Loss\")\n",
        "plt.plot(epoch, val_losses, label=\"Val Loss\")\n",
        "plt.xlabel(\"Epoch\")\n",
        "plt.ylabel(\"Loss\")\n",
        "plt.legend()\n",
        "plt.show()"
      ]
    },
    {
      "cell_type": "code",
      "execution_count": null,
      "metadata": {
        "colab": {
          "base_uri": "https://localhost:8080/",
          "height": 1000
        },
        "id": "NhEnH9lVsBis",
        "outputId": "e6572777-e73d-4a8a-ca35-57091c987b9a"
      },
      "outputs": [
        {
          "output_type": "display_data",
          "data": {
            "text/plain": [
              "<Figure size 640x480 with 2 Axes>"
            ],
            "image/png": "[encoded data removed]"
          },
          "metadata": {}
        },
        {
          "output_type": "display_data",
          "data": {
            "text/plain": [
              "<Figure size 640x480 with 1 Axes>"
            ],
            "image/png": "[encoded data removed]"
          },
          "metadata": {}
        },
        {
          "output_type": "display_data",
          "data": {
            "text/plain": [
              "<Figure size 640x480 with 1 Axes>"
            ],
            "image/png": "[encoded data removed]"
          },
          "metadata": {}
        }
      ],
      "source": [
        "import torch\n",
        "import torch.nn.functional as F\n",
        "from sklearn.metrics import confusion_matrix, ConfusionMatrixDisplay\n",
        "from sklearn.metrics import RocCurveDisplay, PrecisionRecallDisplay\n",
        "import matplotlib.pyplot as plt\n",
        "\n",
        "y_true, y_pred, y_score = [], [], []\n",
        "model.eval()\n",
        "\n",
        "with torch.no_grad():\n",
        "    for xb, yb in val_loader:\n",
        "        xb, yb = xb.to(device), yb.to(device).long()   # targets should be int for CE\n",
        "        logits = model(xb)                             # [B,2]\n",
        "\n",
        "        # 1) Probability of class 1\n",
        "        probs  = torch.softmax(logits, dim=1)          # [B,2]\n",
        "        score1 = probs[:, 1]                           # [B]\n",
        "\n",
        "        # 2) Predicted class index\n",
        "        preds  = logits.argmax(dim=1)                  # [B]\n",
        "\n",
        "        # Save results\n",
        "        y_true.extend(yb.cpu().tolist())\n",
        "        y_pred.extend(preds.cpu().tolist())\n",
        "        y_score.extend(score1.cpu().tolist())\n",
        "\n",
        "# 1) Confusion Matrix\n",
        "ConfusionMatrixDisplay.from_predictions(y_true, y_pred, cmap=\"Blues\", values_format=\"d\")\n",
        "plt.title(\"Confusion Matrix (Validation)\")\n",
        "plt.show()\n",
        "\n",
        "# 2) ROC\n",
        "RocCurveDisplay.from_predictions(y_true, y_score)\n",
        "plt.title(\"ROC Curve (Validation)\")\n",
        "plt.show()\n",
        "\n",
        "# 3) Precision–Recall\n",
        "PrecisionRecallDisplay.from_predictions(y_true, y_score)\n",
        "plt.title(\"Precision–Recall Curve (Validation)\")\n",
        "plt.show()"
      ]
    },
    {
      "cell_type": "code",
      "execution_count": null,
      "metadata": {
        "colab": {
          "base_uri": "https://localhost:8080/",
          "height": 545
        },
        "id": "JZAQEGdnsi9u",
        "outputId": "896639f3-5f72-427f-d112-ffe1943d148c"
      },
      "outputs": [
        {
          "output_type": "display_data",
          "data": {
            "text/plain": [
              "<Figure size 600x600 with 2 Axes>"
            ],
            "image/png": "[encoded data removed]"
          },
          "metadata": {}
        }
      ],
      "source": [
        "from sklearn.manifold import TSNE\n",
        "import matplotlib.pyplot as plt\n",
        "import torch\n",
        "\n",
        "model.eval()\n",
        "all_embeds, all_labels = [], []\n",
        "\n",
        "with torch.no_grad():\n",
        "    for xb, yb in val_loader:\n",
        "        xb = xb.to(device)\n",
        "        # Pass through encoder only (skip classifier head)\n",
        "        embeds = model.encoder(model.inp(xb) + model.pos(model.inp(xb)))\n",
        "        embeds = embeds.mean(dim=1)                # [B, d_model]\n",
        "\n",
        "        all_embeds.append(embeds.cpu())\n",
        "        all_labels.append(yb.cpu())\n",
        "\n",
        "# Concatenate all batches\n",
        "all_embeds = torch.cat(all_embeds, dim=0).numpy()\n",
        "all_labels = torch.cat(all_labels, dim=0).numpy()\n",
        "\n",
        "# Run t-SNE\n",
        "X_2d = TSNE(n_components=2, random_state=42).fit_transform(all_embeds)\n",
        "\n",
        "# Plot\n",
        "plt.figure(figsize=(6,6))\n",
        "plt.scatter(X_2d[:,0], X_2d[:,1], c=all_labels, cmap=\"coolwarm\", alpha=0.7)\n",
        "plt.colorbar(label=\"Class\")\n",
        "plt.title(\"t-SNE of Validation Embeddings\")\n",
        "plt.show()"
      ]
    },
    {
      "cell_type": "code",
      "execution_count": null,
      "metadata": {
        "id": "1RFxOOPQsixh"
      },
      "outputs": [],
      "source": []
    },
    {
      "cell_type": "code",
      "execution_count": null,
      "metadata": {
        "id": "Lw201iaJsBZp"
      },
      "outputs": [],
      "source": []
    },
    {
      "cell_type": "code",
      "execution_count": null,
      "metadata": {
        "id": "YeQeCNtmvRRj"
      },
      "outputs": [],
      "source": [
        "# healthy_frames = create_windows(scenario_data[0][:,4], frame_length = 128)\n",
        "# healthy_labels = np.zeros(len(scenario_data[0][:,4]) //  128)\n",
        "# print(\"Frames:\\n\", healthy_frames)\n",
        "# # print(\"Labels:\", healthy_labels)\n",
        "\n",
        "# combined_data = np.hstack((healthy_frames, healthy_labels.reshape(-1, 1)))\n",
        "# np.random.shuffle(combined_data)\n",
        "# shuffled_time_series = combined_data\n",
        "# print(\"Shuffeled_Frames:\\n\", combined_data)\n"
      ]
    },
    {
      "cell_type": "code",
      "execution_count": null,
      "metadata": {
        "id": "_7P_520m2N3X"
      },
      "outputs": [],
      "source": [
        "# def split(dataset, ratios=(0.7, 0.1, 0.2)):\n",
        "#     # idx = np.arange(dataset.shape[0])\n",
        "#     n_train = int(ratios[0] * dataset.shape[0])\n",
        "#     print(n_train)\n",
        "#     n_val   = int(ratios[1] * dataset.shape[0])\n",
        "#     print(n_val)\n",
        "#     train_ids = dataset[:n_train]\n",
        "#     val_ids   = dataset[n_train:n_train+n_val]\n",
        "#     test_ids  = dataset[n_train+n_val:]\n",
        "#     return train_ids, val_ids, test_ids"
      ]
    },
    {
      "cell_type": "code",
      "execution_count": null,
      "metadata": {
        "id": "bo4qfGsr3r_B"
      },
      "outputs": [],
      "source": [
        "# train_combined, val_combined, test_combined = split(combined_data)\n",
        "\n",
        "# train_ids = train_combined[:, :-1]  # All columns except the last one\n",
        "# train_ids_labels = train_combined[:, -1] # The last column\n",
        "# print(train_ids_labels.shape)\n",
        "# val_ids = val_combined[:, :-1]\n",
        "# val_ids_labels = val_combined[:, -1]\n",
        "\n",
        "# test_ids = test_combined[:, :-1]\n",
        "# test_ids_labels = test_combined[:, -1]\n",
        "\n",
        "# # train_ids, val_ids, test_ids = split(shuffled_time_series)\n",
        "# print(train_ids,train_ids_labels,val_ids,val_ids_labels, test_ids, test_ids_labels)"
      ]
    },
    {
      "cell_type": "code",
      "execution_count": null,
      "metadata": {
        "id": "Om1NMVMhS5e7"
      },
      "outputs": [],
      "source": [
        "# print(train_ids.max())\n",
        "# print(train_ids.min())\n",
        "# train_ids = (train_ids - train_ids.min())/(train_ids.max()-train_ids.min())\n",
        "# print(train_ids)"
      ]
    },
    {
      "cell_type": "code",
      "execution_count": null,
      "metadata": {
        "id": "QcHMA7LNHNeF"
      },
      "outputs": [],
      "source": [
        "\n",
        "\n",
        "# healthy_data_stack = np.hstack((healthy_frames, healthy_labels.reshape(-1, 1)))\n",
        "# np.random.shuffle(healthy_data_stack)\n",
        "# shuffled_healthy_frames = healthy_data_stack\n",
        "\n",
        "# train_H, val_H, test_H = split(shuffled_healthy_frames)\n",
        "# print(\"Training data shape:\", train_H.shape)\n",
        "# # 4) Standardize using train only\n",
        "# m = train_H[:,:-1].mean()\n",
        "# s = train_H[:,:-1].std()\n",
        "# train_H[:,:-1] = (train_H[:,:-1] - m) / s\n",
        "# val_H[:,:-1]   = (val_H[:,:-1]   - m) / s\n",
        "# test_H[:,:-1]  = (test_H[:,:-1]  - m) / s"
      ]
    },
    {
      "cell_type": "code",
      "execution_count": null,
      "metadata": {
        "id": "1_1hgqrDSbXj"
      },
      "outputs": [],
      "source": [
        "\n",
        "# damaged_data_stack = np.hstack((damaged_frames, damaged_labels.reshape(-1,1)))\n",
        "# np.random.shuffle(damaged_data_stack)\n",
        "# shuffled_damaged_frames = damaged_data_stack\n",
        "\n",
        "# train_D, val_D, test_D = split(shuffled_damaged_frames)\n",
        "\n",
        "# print(\"Training data shape:\", train_D[:,-1])\n",
        "# m = train_D[:,:-1].mean()\n",
        "# s = train_D[:,:-1].std ()\n",
        "# train_D[:,:-1] = (train_D[:,:-1] - m) / s\n",
        "# val_D[:,:-1]   = (val_D[:,:-1]   - m) / s\n",
        "# test_D[:,:-1]  = (test_D[:,:-1]  - m) / s"
      ]
    },
    {
      "cell_type": "code",
      "execution_count": null,
      "metadata": {
        "id": "w41gr0RYEuBQ"
      },
      "outputs": [],
      "source": [
        "# H = [[3,2,3],[2,5,2]]\n",
        "# D = [[0,0,1],[2,2,0]]\n",
        "# train_combined0 = np.concatenate((H, D), axis=0)\n",
        "# print(train_combined0)\n",
        "# print(train_combined0[:,:-1].mean())"
      ]
    },
    {
      "cell_type": "code",
      "execution_count": null,
      "metadata": {
        "id": "h2S7e0fbmhgk"
      },
      "outputs": [],
      "source": [
        "# from torch.utils.data import random_split\n",
        "# from torch.utils.data import TensorDataset\n",
        "\n",
        "# train_combined = np.concatenate((train_H, train_D), axis=0)\n",
        "# print(train_combined[:,-1])\n",
        "# print(train_combined.shape)\n",
        "# val_combined   = np.concatenate((val_H, val_D), axis=0)\n",
        "# test_combined  = np.concatenate((test_H, test_D), axis=0)\n",
        "\n",
        "# indices0 = np.arange(train_combined.shape[0])\n",
        "# indices1 = np.arange(val_combined.shape[0])\n",
        "# indices2 = np.arange(test_combined.shape[0])\n",
        "# np.random.shuffle(indices0)\n",
        "# np.random.shuffle(indices1)\n",
        "# np.random.shuffle(indices2)\n",
        "\n",
        "# X_train = train_combined[indices0][:, :-1]\n",
        "# print(type(X_train))\n",
        "# Y_train = train_combined[indices0][:, -1]\n",
        "# print(Y_train)\n",
        "\n",
        "# X_val = val_combined[indices1][:, :-1]\n",
        "# Y_val = val_combined[indices1][:, -1]\n",
        "\n",
        "# X_test = test_combined[indices2][:, :-1]\n",
        "# Y_test = test_combined[indices2][:, -1]\n",
        "\n",
        "# dataset_train = TensorDataset(torch.from_numpy(X_train).float(), torch.from_numpy(Y_train).long())\n",
        "# dataset_val   = TensorDataset(torch.from_numpy(X_val).float(), torch.from_numpy(Y_val).long())\n",
        "# dataset_test  = TensorDataset(torch.from_numpy(X_test).float(), torch.from_numpy(Y_test).long())\n",
        "\n",
        "# # dataset_train = TensorDataset(torch.from_numpy(train_combined[:, :-1]).float(), torch.from_numpy(train_combined[:, -1]).long())\n",
        "# # dataset_val   = TensorDataset(torch.from_numpy(val_combined[:, :-1]).float(), torch.from_numpy(val_combined[:, -1]).long())\n",
        "# # dataset_test  = TensorDataset(torch.from_numpy(test_combined[:, :-1]).float(), torch.from_numpy(test_combined[:, -1]).long())\n",
        "\n",
        "# print(\"Training data shape:\", X_train.shape)\n",
        "# # print(\"Training labels shape:\", Y_train.shape)\n",
        "# print('Y_train',Y_train)\n",
        "\n",
        "# print(\"val data shape:\", X_val.shape)\n",
        "# print(\"val labels shape:\", Y_val.shape)\n",
        "\n",
        "# print(\"Test data shape:\", X_test.shape)\n",
        "# print(\"Test labels shape:\", Y_test.shape)\n",
        "\n",
        "# batch_size = 32\n",
        "\n",
        "# train_loader = DataLoader(dataset_train, batch_size = batch_size, shuffle = True)\n",
        "# val_loader   = DataLoader(dataset_val ,  batch_size = batch_size, shuffle = False)\n",
        "# test_loader  = DataLoader(dataset_test,  batch_size = batch_size, shuffle = False)\n",
        "\n",
        "# print(train_loader)\n",
        "\n",
        "# xb, yb = next(iter(train_loader))\n",
        "# xb = xb.unsqueeze(-1)\n",
        "# yb = yb.unsqueeze(-1)\n",
        "# print(\"train batch X:\", xb.shape)  # (32, 1024, 15)\n",
        "# print(\"train batch y:\", yb.shape)"
      ]
    },
    {
      "cell_type": "code",
      "execution_count": null,
      "metadata": {
        "id": "iG70CsVvAVMX"
      },
      "outputs": [],
      "source": [
        "# import torch\n",
        "# import torch.nn as nn\n",
        "\n",
        "# class TimeSeriesTransformer(nn.Module):\n",
        "#     def __init__(self,n_channels=1,d_model=128,n_heads=4,num_layers=3,d_ff=256,dropout=0.1,seq_len=512,num_classes=2):\n",
        "#         super().__init__()\n",
        "#         self.input_proj = nn.Linear(in_features = n_channels, out_features = d_model)\n",
        "#         self.pos_emb = nn.Parameter(torch.zeros(1, seq_len, d_model))\n",
        "#         encoder_layer = nn.TransformerEncoderLayer(d_model=d_model,nhead=n_heads,dim_feedforward=d_ff,dropout=dropout,batch_first=True)\n",
        "#         self.transformer = nn.TransformerEncoder(encoder_layer, num_layers=num_layers)\n",
        "#         self.classifier = nn.Sequential(nn.LayerNorm(d_model),\n",
        "#                                         nn.Linear(d_model, d_model//2),\n",
        "#                                         nn.GELU(),\n",
        "#                                         nn.Dropout(dropout),\n",
        "#                                        nn.Linear(d_model//2, num_classes))\n",
        "#     def forward(self, x):\n",
        "#         x = self.input_proj(x)                        # → (batch, seq_len, d_model)\n",
        "#         x = x + self.pos_emb[:, :x.size(1), :]        # → (batch, seq_len, d_model)\n",
        "#         x = self.transformer(x)                       # → (batch, seq_len, d_model)\n",
        "#         x = x.mean(dim=1)                             # → (batch, d_model)\n",
        "#         return self.classifier(x)                     # → (batch, num_classes)"
      ]
    },
    {
      "cell_type": "code",
      "execution_count": null,
      "metadata": {
        "id": "TlKeehv5hzDP"
      },
      "outputs": [],
      "source": [
        "# device = torch.device(\"cuda\" if torch.cuda.is_available() else \"cpu\")\n",
        "# print(f\"Using device: {device}\")\n",
        "# model  = TimeSeriesTransformer(\n",
        "#     n_channels=1,\n",
        "#     d_model=128,\n",
        "#     n_heads=4,\n",
        "#     num_layers=3,\n",
        "#     d_ff=256,\n",
        "#     dropout=0.1,\n",
        "#     seq_len=512,\n",
        "#     num_classes=2\n",
        "# ).to(device)\n",
        "\n",
        "# criterion = nn.CrossEntropyLoss()\n",
        "# optimizer = torch.optim.AdamW(model.parameters(), lr=1e-3, weight_decay=1e-2)"
      ]
    },
    {
      "cell_type": "code",
      "execution_count": null,
      "metadata": {
        "id": "exIl2ZVIpAvW"
      },
      "outputs": [],
      "source": [
        "# print(model)"
      ]
    },
    {
      "cell_type": "code",
      "execution_count": null,
      "metadata": {
        "id": "s1L0JQT8h-Ez"
      },
      "outputs": [],
      "source": [
        "# train_losses = []\n",
        "# val_losses   = []\n",
        "# train_accs   = []\n",
        "# val_accs     = []"
      ]
    },
    {
      "cell_type": "code",
      "execution_count": null,
      "metadata": {
        "id": "l5l9sVUMiFAy"
      },
      "outputs": [],
      "source": [
        "# from sklearn.metrics import accuracy_score\n",
        "# # Training loop\n",
        "# from datetime import datetime\n",
        "# def train_epoch(loader):\n",
        "#     model.train()\n",
        "#     running_loss = 0.0\n",
        "#     preds, targets = [], []\n",
        "#     for xb, yb in loader:\n",
        "#         xb, yb = xb.unsqueeze(-1).to(device), yb.to(device)\n",
        "#         optimizer.zero_grad()\n",
        "#         logits = model(xb)\n",
        "#         loss = criterion(logits, yb)\n",
        "#         loss.backward()\n",
        "#         optimizer.step()\n",
        "\n",
        "#         running_loss += loss.item() * xb.size(0)\n",
        "#         preds.extend(logits.argmax(dim=1).cpu().tolist())\n",
        "#         targets.extend(yb.cpu().tolist())\n",
        "\n",
        "#     avg_loss = running_loss / len(loader.dataset)\n",
        "#     acc = accuracy_score(targets, preds)\n",
        "#     return avg_loss, acc\n",
        "\n",
        "# def eval_epoch(loader):\n",
        "#     model.eval()\n",
        "#     running_loss = 0.0\n",
        "#     preds, targets = [], []\n",
        "#     with torch.no_grad():\n",
        "#         for xb, yb in loader:\n",
        "#             xb, yb = xb.unsqueeze(-1).to(device), yb.to(device)\n",
        "#             logits = model(xb)\n",
        "#             loss = criterion(logits, yb)\n",
        "\n",
        "#             running_loss += loss.item() * xb.size(0)\n",
        "#             preds.extend(logits.argmax(dim=1).cpu().tolist())\n",
        "#             targets.extend(yb.cpu().tolist())\n",
        "\n",
        "#     avg_loss = running_loss / len(loader.dataset)\n",
        "#     acc = accuracy_score(targets, preds)\n",
        "#     return avg_loss, acc\n"
      ]
    },
    {
      "cell_type": "code",
      "execution_count": null,
      "metadata": {
        "id": "cDAcruRujFb1"
      },
      "outputs": [],
      "source": [
        "# num_epochs = 50\n",
        "# best_val_acc = 0.0\n",
        "\n",
        "# for epoch in range(1, num_epochs+1):\n",
        "#     train_loss, train_acc = train_epoch(train_loader)\n",
        "#     val_loss, val_acc     = eval_epoch(val_loader)\n",
        "#     # scheduler.step()\n",
        "\n",
        "#     train_losses.append(train_loss)\n",
        "#     train_accs  .append(train_acc)\n",
        "#     val_losses  .append(val_loss)\n",
        "#     val_accs    .append(val_acc)\n",
        "\n",
        "#     print(f\"Epoch {epoch:02d} │ \"\n",
        "#           f\"Train: loss={train_loss:.4f}, acc={train_acc:.3f} ││ \"\n",
        "#           f\"Val:   loss={val_loss:.4f}, acc={val_acc:.3f}\")\n",
        "\n",
        "#     # save best model\n",
        "#     if val_acc > best_val_acc:\n",
        "#         best_val_acc = val_acc\n",
        "#         torch.save(model.state_dict(), \"best_asce_transformer.pt\")\n",
        "#         print(\"  ↳ new best, model saved.\")"
      ]
    }
  ],
  "metadata": {
    "colab": {
      "provenance": [],
      "authorship_tag": "ABX9TyMdVzLBEX8wiRXTTYmeopMY",
      "include_colab_link": true
    },
    "kernelspec": {
      "display_name": "Python 3",
      "name": "python3"
    },
    "language_info": {
      "name": "python"
    }
  },
  "nbformat": 4,
  "nbformat_minor": 0
}
