{
  "cells": [
    {
      "cell_type": "markdown",
      "metadata": {
        "id": "view-in-github",
        "colab_type": "text"
      },
      "source": [
        "<a href=\"https://colab.research.google.com/github/SahelKherad/3-story-benchmark-transformer/blob/main/1404_08_06_one_sensor_state0_1.ipynb\" target=\"_parent\"><img src=\"https://colab.research.google.com/assets/colab-badge.svg\" alt=\"Open In Colab\"/></a>"
      ]
    },
    {
      "cell_type": "code",
      "execution_count": 126,
      "metadata": {
        "id": "JzyYbQohztXG"
      },
      "outputs": [],
      "source": [
        "import os\n",
        "import scipy.io\n",
        "from scipy.io.matlab._mio5_params import mat_struct\n",
        "import numpy as np\n",
        "import pandas as pd\n",
        "import torch\n",
        "import torch.nn as nn\n",
        "from torch.utils.data import Dataset, DataLoader\n",
        "import matplotlib.pyplot as plt\n",
        "from sklearn.metrics import confusion_matrix\n",
        "from sklearn.model_selection import train_test_split"
      ]
    },
    {
      "cell_type": "code",
      "execution_count": 127,
      "metadata": {
        "colab": {
          "base_uri": "https://localhost:8080/"
        },
        "id": "rEjAYmOPAbYE",
        "outputId": "e0562d94-e350-4efe-e329-e5fbae300e34"
      },
      "outputs": [
        {
          "output_type": "stream",
          "name": "stdout",
          "text": [
            "Mounted at /content/drive\n"
          ]
        }
      ],
      "source": [
        "from google.colab import drive\n",
        "drive.mount('/content/drive', force_remount=True)"
      ]
    },
    {
      "cell_type": "code",
      "execution_count": 128,
      "metadata": {
        "id": "84ltkG1zAdmw",
        "colab": {
          "base_uri": "https://localhost:8080/"
        },
        "outputId": "46b945bf-0e2a-4ed4-c29b-a847523b9ab7"
      },
      "outputs": [
        {
          "output_type": "stream",
          "name": "stdout",
          "text": [
            "shm01a.mat  shm03a.mat\tshm05a.mat  shm07a.mat\tshm09a.mat\n",
            "shm02a.mat  shm04a.mat\tshm06a.mat  shm08a.mat\n"
          ]
        }
      ],
      "source": [
        "!ls \"/content/drive/My Drive/ASCE\""
      ]
    },
    {
      "cell_type": "code",
      "execution_count": 129,
      "metadata": {
        "id": "mOPozofZA9NS",
        "colab": {
          "base_uri": "https://localhost:8080/"
        },
        "outputId": "ed2d8dc7-ad66-4818-9664-885c895a05bf"
      },
      "outputs": [
        {
          "output_type": "stream",
          "name": "stdout",
          "text": [
            "(60000, 16)\n",
            "(60000,)\n",
            "(60000,)\n"
          ]
        }
      ],
      "source": [
        "def load_mat(path):\n",
        "    mat = scipy.io.loadmat(path, squeeze_me=True, struct_as_record=False)\n",
        "    raw = mat.get('dasy')\n",
        "    if isinstance(raw, mat_struct):\n",
        "        channels = []\n",
        "        for f in raw._fieldnames:\n",
        "            arr = getattr(raw, f)\n",
        "            channels.append(np.asarray(arr).reshape(-1))\n",
        "        data = np.stack(channels, axis=1)  # (n_samples, n_channels)\n",
        "    else:\n",
        "        raise ValueError(\"Unexpected MAT structure. 'dasy' not a struct.\")\n",
        "    return data  # float64 by default\n",
        "\n",
        "base_dir = '/content/drive/MyDrive/ASCE/'\n",
        "state_files = {\n",
        "    1: 'shm01a.mat', 2: 'shm02a.mat', 3: 'shm03a.mat',\n",
        "    4: 'shm04a.mat', 5: 'shm05a.mat', 6: 'shm06a.mat',\n",
        "    7: 'shm07a.mat', 8: 'shm08a.mat', 9: 'shm09a.mat',\n",
        "}\n",
        "# label_to_class_id: 1..9 -> 0..8\n",
        "label_to_cid = {lab: i for i, lab in enumerate(sorted(state_files.keys()))}\n",
        "\n",
        "scenario_data = {}   # cid -> np.ndarray [N, C]\n",
        "for lab, fname in state_files.items():\n",
        "    x = load_mat(os.path.join(base_dir, fname)).astype(np.float32)\n",
        "    scenario_data[label_to_cid[lab]] = x\n",
        "print(scenario_data[0][:,:].shape)\n",
        "print(scenario_data[0][:,4].shape)\n",
        "print(scenario_data[4][:,4].shape)\n",
        "    # print(fname, x.shape)"
      ]
    },
    {
      "cell_type": "code",
      "source": [
        "win = 512\n",
        "stride = 128"
      ],
      "metadata": {
        "id": "X-4vPwZ9Qigo"
      },
      "execution_count": 130,
      "outputs": []
    },
    {
      "cell_type": "code",
      "execution_count": 131,
      "metadata": {
        "id": "t8Vx6tVvBNOR"
      },
      "outputs": [],
      "source": [
        "# print(scenario_data[0][:,4].shape)\n",
        "# print(scenario_data[0][:,4])\n",
        "# print('Max = ',max(scenario_data[0][:,4]))\n",
        "# print('Min = ',min(scenario_data[0][:,4]))\n",
        "# fig , axs = plt.subplots(2,3,figsize=(10,5))\n",
        "# axs[0,0].plot(scenario_data[0][:win,4])\n",
        "# axs[0,1].plot(scenario_data[0][win: 2*win,4])\n",
        "# axs[0,2].plot(scenario_data[0][:,4])\n",
        "\n",
        "# print(scenario_data[1][:,4].shape)\n",
        "# print('Max = ',max(scenario_data[1][:,4]))\n",
        "# print('Min = ',min(scenario_data[1][:,4]))\n",
        "# axs[1,0].plot(scenario_data[1][:win,4],c='r')\n",
        "# axs[1,1].plot(scenario_data[1][win:2*win,4], c='r')\n",
        "# axs[1,2].plot(scenario_data[1][:,4],c='r')\n"
      ]
    },
    {
      "cell_type": "code",
      "source": [
        "healthy_data = scenario_data[0][:,4]\n",
        "damaged_data = scenario_data[1][:,4]"
      ],
      "metadata": {
        "id": "aNl3tzv1Fj63"
      },
      "execution_count": 132,
      "outputs": []
    },
    {
      "cell_type": "code",
      "source": [
        "n_train = 0.6\n",
        "n_val = 0.2\n",
        "\n",
        "m_0 = int(n_train * len(healthy_data))\n",
        "l_0 = int(n_val * len(healthy_data))\n",
        "\n",
        "m_1 = int(n_train * len(damaged_data))\n",
        "l_1 = int(n_val * len(damaged_data))\n",
        "\n",
        "X_train_0 = healthy_data[0:m_0]\n",
        "X_val_0 = healthy_data[m_0 :m_0+l_0]\n",
        "X_test_0 = healthy_data[m_0+l_0:]\n",
        "\n",
        "X_train_1 = damaged_data[0:m_1]\n",
        "X_val_1 = damaged_data[m_1 :m_1+l_1]\n",
        "X_test_1 = damaged_data[m_1+l_1:]"
      ],
      "metadata": {
        "id": "No19Av0aGGke"
      },
      "execution_count": 133,
      "outputs": []
    },
    {
      "cell_type": "code",
      "source": [
        "print('x_train_o.shape:', X_train_0.shape)\n",
        "print('x_val_o.shape:', X_val_0.shape)\n",
        "print('x_test_o.shape:', X_test_0.shape)"
      ],
      "metadata": {
        "colab": {
          "base_uri": "https://localhost:8080/"
        },
        "id": "iaHN_fqBGGft",
        "outputId": "abf35115-4836-4c97-dbeb-dd4f245838fa"
      },
      "execution_count": 134,
      "outputs": [
        {
          "output_type": "stream",
          "name": "stdout",
          "text": [
            "x_train_o.shape: (36000,)\n",
            "x_val_o.shape: (12000,)\n",
            "x_test_o.shape: (12000,)\n"
          ]
        }
      ]
    },
    {
      "cell_type": "code",
      "source": [
        "con = np.concatenate([X_train_0,X_train_1])\n",
        "print(con.shape)\n",
        "mu = con.mean(axis=(0) , keepdims = True)\n",
        "print('mu:',mu)\n",
        "std = con.std(axis=(0), keepdims=True) + 1e-6"
      ],
      "metadata": {
        "colab": {
          "base_uri": "https://localhost:8080/"
        },
        "id": "XUigudXtGTof",
        "outputId": "a8337f5f-d14a-4bef-95bc-ee7e3930a5ea"
      },
      "execution_count": 135,
      "outputs": [
        {
          "output_type": "stream",
          "name": "stdout",
          "text": [
            "(72000,)\n",
            "mu: [-0.00205946]\n"
          ]
        }
      ]
    },
    {
      "cell_type": "code",
      "source": [
        "X_train_0 = (X_train_0 - mu) / std\n",
        "X_val_0   = (X_val_0   - mu) / std\n",
        "X_test_0  = (X_test_0  - mu) / std\n",
        "\n",
        "X_train_1 = (X_train_1 - mu) / std\n",
        "X_val_1   = (X_val_1   - mu) / std\n",
        "X_test_1  = (X_test_1  - mu) / std"
      ],
      "metadata": {
        "id": "V71gTlEZGGar"
      },
      "execution_count": 136,
      "outputs": []
    },
    {
      "cell_type": "code",
      "source": [
        "print(X_train_0.shape)\n",
        "print(X_val_0.shape)\n",
        "print(X_test_0.shape)"
      ],
      "metadata": {
        "colab": {
          "base_uri": "https://localhost:8080/"
        },
        "id": "ad4Jc54ldQOe",
        "outputId": "58e60bd1-8a51-427c-dad6-e51c1871417c"
      },
      "execution_count": 137,
      "outputs": [
        {
          "output_type": "stream",
          "name": "stdout",
          "text": [
            "(36000,)\n",
            "(12000,)\n",
            "(12000,)\n"
          ]
        }
      ]
    },
    {
      "cell_type": "code",
      "source": [
        "\n",
        "def make_windows_with_stride(data, window_length, stride):\n",
        "\n",
        "    num_frames = int((len(data) - window_length) // (stride + 1e-8) + 1)\n",
        "    print(num_frames)\n",
        "\n",
        "    if num_frames <= 0:\n",
        "        # اگر طول داده برای یک پنجره هم کافی نبود\n",
        "        return np.empty((0, window_length), dtype=data.dtype)\n",
        "\n",
        "    # 2. ایجاد اندیس‌های شروع برای هر پنجره\n",
        "    # شروع: 0، پایان: اندیس لازم برای آخرین پنجره کامل\n",
        "    start_indices = np.arange(num_frames) * stride\n",
        "\n",
        "    # 3. ایجاد یک ماتریس اندیس برای استخراج داده ها\n",
        "    # این کار از حلقه زدن کندتر جلوگیری می کند و کل فرآیند را برداری (Vectorized) می کند\n",
        "    window_indices = start_indices[:, None] + np.arange(window_length)\n",
        "\n",
        "    # 4. استخراج داده ها با استفاده از اندیس‌های محاسبه شده\n",
        "    windows = data[window_indices]\n",
        "\n",
        "    return windows"
      ],
      "metadata": {
        "id": "Ho4EyqjQDezv"
      },
      "execution_count": 138,
      "outputs": []
    },
    {
      "cell_type": "code",
      "source": [
        "win = 512\n",
        "stride = 128"
      ],
      "metadata": {
        "id": "LgCOCzHEdpbg"
      },
      "execution_count": 139,
      "outputs": []
    },
    {
      "cell_type": "code",
      "source": [
        "# 2) Make windows per class\n",
        "X_train_0 = make_windows_with_stride(X_train_0, win, stride)\n",
        "X_val_0   = make_windows_with_stride(X_val_0, win, stride)\n",
        "X_test_0  = make_windows_with_stride(X_test_0, win, stride)\n",
        "\n",
        "y_0 = np.zeros((X_train_0.shape[0]+X_val_0.shape[0]+X_test_0.shape[0]), dtype=np.int64)\n",
        "\n",
        "print('Train_0 = \\n')\n",
        "print(X_train_0.shape)\n",
        "print(X_val_0.shape)\n",
        "print(X_test_0.shape)\n",
        "print(y_0.shape)\n",
        "\n",
        "X_train_1 = make_windows_with_stride(X_train_1, win, stride)\n",
        "X_val_1 = make_windows_with_stride(X_val_1, win, stride)\n",
        "X_test_1 = make_windows_with_stride(X_test_1, win, stride)\n",
        "\n",
        "y_1 = np.ones((X_train_1.shape[0]+X_val_1.shape[0]+X_test_1.shape[0]), dtype=np.int64)\n",
        "\n",
        "print('\\n Train_1 = \\n')\n",
        "print(X_train_1.shape)\n",
        "print(X_val_1.shape)\n",
        "print(X_test_1.shape)\n",
        "print(y_1.shape)"
      ],
      "metadata": {
        "colab": {
          "base_uri": "https://localhost:8080/"
        },
        "id": "BuJ8Wpy9VtcZ",
        "outputId": "84be910f-f59e-44d2-8659-323e52356690"
      },
      "execution_count": 140,
      "outputs": [
        {
          "output_type": "stream",
          "name": "stdout",
          "text": [
            "278\n",
            "90\n",
            "90\n",
            "Train_0 = \n",
            "\n",
            "(278, 512)\n",
            "(90, 512)\n",
            "(90, 512)\n",
            "(458,)\n",
            "278\n",
            "90\n",
            "90\n",
            "\n",
            " Train_1 = \n",
            "\n",
            "(278, 512)\n",
            "(90, 512)\n",
            "(90, 512)\n",
            "(458,)\n"
          ]
        }
      ]
    },
    {
      "cell_type": "code",
      "execution_count": 141,
      "metadata": {
        "id": "iHRDgV6D57Ac"
      },
      "outputs": [],
      "source": [
        "# def make_windows(data, window_length, drop_last : bool = True):\n",
        "#     # Calculate how many full frames can be created\n",
        "#     num_frames = len(data) // window_length\n",
        "#     # print(num_frames)\n",
        "#     # Trim the data to be a perfect multiple of the frame length\n",
        "#     trimmed_data = data[:num_frames * window_length]\n",
        "\n",
        "#     # Reshape the data into a 2D array of frames\n",
        "#     windows = trimmed_data.reshape((num_frames, window_length))\n",
        "#     # return trimmed_data.shape , frames.shape\n",
        "#     return windows"
      ]
    },
    {
      "cell_type": "code",
      "source": [
        "# win = 300\n",
        "# 2) Make windows per class\n",
        "# X_train_0 = make_windows(X_train_0, win, drop_last=True)\n",
        "# X_val_0 = make_windows(X_val_0, win, drop_last=True)\n",
        "# X_test_0 = make_windows(X_test_0, win, drop_last=True)\n",
        "\n",
        "# y_0 = np.zeros((X_train_0.shape[0]+X_val_0.shape[0]+X_test_0.shape[0]), dtype=np.int64)\n",
        "\n",
        "# print('Train_0 = \\n')\n",
        "# print(X_train_0.shape)\n",
        "# print(X_val_0.shape)\n",
        "# print(X_test_0.shape)\n",
        "# print(y_0.shape)\n",
        "\n",
        "# X_train_1 = make_windows(X_train_1, win, drop_last=True)\n",
        "# X_val_1 = make_windows(X_val_1, win, drop_last=True)\n",
        "# X_test_1 = make_windows(X_test_1, win, drop_last=True)\n",
        "\n",
        "# y_1 = np.ones((X_train_1.shape[0]+X_val_1.shape[0]+X_test_1.shape[0]), dtype=np.int64)\n",
        "\n",
        "# print('\\n Train_1 = \\n')\n",
        "# print(X_train_1.shape)\n",
        "# print(X_val_1.shape)\n",
        "# print(X_test_1.shape)\n",
        "# print(y_1.shape)"
      ],
      "metadata": {
        "id": "ofjlMTSxGhED"
      },
      "execution_count": 142,
      "outputs": []
    },
    {
      "cell_type": "code",
      "source": [
        "X_train = np.vstack([X_train_0, X_train_1])[:, :, None]  # [N, 5, 1]\n",
        "print(X_train.shape)\n",
        "\n",
        "y_train = np.concatenate([y_0[0:int(len(X_train_0))], y_1[0:int(len(X_train_1))]])             # [N]\n",
        "print(y_train)\n",
        "print(y_train.shape)"
      ],
      "metadata": {
        "id": "hXkqupXzGqem",
        "colab": {
          "base_uri": "https://localhost:8080/"
        },
        "outputId": "c3d3508b-0a8d-4ef4-91d3-c2a41be5d19d"
      },
      "execution_count": 143,
      "outputs": [
        {
          "output_type": "stream",
          "name": "stdout",
          "text": [
            "(556, 512, 1)\n",
            "[0 0 0 0 0 0 0 0 0 0 0 0 0 0 0 0 0 0 0 0 0 0 0 0 0 0 0 0 0 0 0 0 0 0 0 0 0\n",
            " 0 0 0 0 0 0 0 0 0 0 0 0 0 0 0 0 0 0 0 0 0 0 0 0 0 0 0 0 0 0 0 0 0 0 0 0 0\n",
            " 0 0 0 0 0 0 0 0 0 0 0 0 0 0 0 0 0 0 0 0 0 0 0 0 0 0 0 0 0 0 0 0 0 0 0 0 0\n",
            " 0 0 0 0 0 0 0 0 0 0 0 0 0 0 0 0 0 0 0 0 0 0 0 0 0 0 0 0 0 0 0 0 0 0 0 0 0\n",
            " 0 0 0 0 0 0 0 0 0 0 0 0 0 0 0 0 0 0 0 0 0 0 0 0 0 0 0 0 0 0 0 0 0 0 0 0 0\n",
            " 0 0 0 0 0 0 0 0 0 0 0 0 0 0 0 0 0 0 0 0 0 0 0 0 0 0 0 0 0 0 0 0 0 0 0 0 0\n",
            " 0 0 0 0 0 0 0 0 0 0 0 0 0 0 0 0 0 0 0 0 0 0 0 0 0 0 0 0 0 0 0 0 0 0 0 0 0\n",
            " 0 0 0 0 0 0 0 0 0 0 0 0 0 0 0 0 0 0 0 1 1 1 1 1 1 1 1 1 1 1 1 1 1 1 1 1 1\n",
            " 1 1 1 1 1 1 1 1 1 1 1 1 1 1 1 1 1 1 1 1 1 1 1 1 1 1 1 1 1 1 1 1 1 1 1 1 1\n",
            " 1 1 1 1 1 1 1 1 1 1 1 1 1 1 1 1 1 1 1 1 1 1 1 1 1 1 1 1 1 1 1 1 1 1 1 1 1\n",
            " 1 1 1 1 1 1 1 1 1 1 1 1 1 1 1 1 1 1 1 1 1 1 1 1 1 1 1 1 1 1 1 1 1 1 1 1 1\n",
            " 1 1 1 1 1 1 1 1 1 1 1 1 1 1 1 1 1 1 1 1 1 1 1 1 1 1 1 1 1 1 1 1 1 1 1 1 1\n",
            " 1 1 1 1 1 1 1 1 1 1 1 1 1 1 1 1 1 1 1 1 1 1 1 1 1 1 1 1 1 1 1 1 1 1 1 1 1\n",
            " 1 1 1 1 1 1 1 1 1 1 1 1 1 1 1 1 1 1 1 1 1 1 1 1 1 1 1 1 1 1 1 1 1 1 1 1 1\n",
            " 1 1 1 1 1 1 1 1 1 1 1 1 1 1 1 1 1 1 1 1 1 1 1 1 1 1 1 1 1 1 1 1 1 1 1 1 1\n",
            " 1]\n",
            "(556,)\n"
          ]
        }
      ]
    },
    {
      "cell_type": "code",
      "source": [
        "rng = np.random.default_rng(42)\n",
        "perm = rng.permutation(len(X_train))\n",
        "\n",
        "X_train = X_train[perm]\n",
        "y_train = y_train[perm]\n",
        "print(y_train)"
      ],
      "metadata": {
        "id": "xCQQkDlH8ZYS",
        "colab": {
          "base_uri": "https://localhost:8080/"
        },
        "outputId": "7e16ecd8-f8ee-4538-b01a-41a9ca112fc4"
      },
      "execution_count": 144,
      "outputs": [
        {
          "output_type": "stream",
          "name": "stdout",
          "text": [
            "[1 0 0 1 1 0 1 0 0 0 0 1 1 0 1 0 0 0 0 1 0 0 1 0 0 0 1 0 0 1 0 1 0 1 1 0 0\n",
            " 0 0 0 0 1 1 1 1 1 0 0 0 1 1 0 0 1 0 0 0 1 0 1 1 1 1 0 1 1 0 0 0 1 0 0 1 0\n",
            " 1 1 0 0 0 0 1 1 0 0 1 1 0 0 0 0 1 1 1 1 0 0 0 0 0 0 1 1 1 1 1 0 0 1 1 1 1\n",
            " 0 0 0 1 1 0 0 1 0 0 1 1 1 1 0 0 1 1 0 1 0 1 1 1 0 0 0 0 1 1 0 1 0 1 0 0 0\n",
            " 0 1 0 0 0 1 1 1 0 0 0 1 0 0 1 1 0 1 1 1 1 1 1 0 0 1 0 1 1 1 1 1 0 1 1 1 1\n",
            " 1 1 0 0 0 0 0 1 0 1 0 0 1 1 0 0 1 1 1 0 0 0 1 0 0 0 0 1 0 1 0 0 0 0 0 1 1\n",
            " 1 1 0 1 0 0 0 1 1 1 1 0 1 1 1 1 0 0 1 0 1 1 1 1 1 1 1 0 0 1 0 1 0 0 0 0 0\n",
            " 1 0 1 0 1 0 1 1 1 1 1 1 0 0 0 1 1 0 0 1 0 1 0 1 0 1 0 1 1 1 0 0 0 1 0 0 1\n",
            " 1 0 0 1 0 1 0 0 1 1 0 1 1 1 0 0 1 1 0 1 1 1 0 0 0 1 0 1 1 0 1 0 0 1 1 0 1\n",
            " 1 0 1 1 0 0 0 0 0 1 0 1 0 1 1 0 0 0 1 1 1 1 1 0 1 0 1 0 1 0 0 1 0 1 0 0 0\n",
            " 0 1 0 0 0 0 0 1 0 1 1 1 0 0 1 1 0 1 1 1 0 0 0 1 0 1 1 1 1 1 0 1 1 1 0 1 1\n",
            " 0 1 0 0 0 1 0 1 0 1 1 1 1 0 1 1 0 0 0 0 0 1 1 0 0 0 1 0 0 1 0 1 0 1 0 1 0\n",
            " 0 1 1 0 0 0 1 1 1 1 1 1 1 1 1 1 0 1 1 1 0 0 1 0 1 0 0 0 0 1 0 0 0 1 0 0 1\n",
            " 1 1 0 1 1 1 1 0 0 0 1 0 0 1 0 1 1 0 0 0 0 0 0 1 0 0 1 0 0 0 1 1 0 0 0 0 1\n",
            " 1 1 1 1 1 0 1 1 0 0 0 1 1 0 1 1 1 1 0 0 1 1 1 0 0 1 0 0 1 1 0 1 0 1 1 1 0\n",
            " 1]\n"
          ]
        }
      ]
    },
    {
      "cell_type": "code",
      "source": [
        "X_val = np.vstack([X_val_0, X_val_1])[:, :, None]  # [N, 5, 1]\n",
        "print(X_val.shape)\n",
        "\n",
        "y_val = np.concatenate([y_0[int(len(X_train_0)):int(len(X_train_0) + len(X_val_0))], y_1[int(len(X_train_1)):int(len(X_train_1) + len(X_val_1))]])             # [N]\n",
        "print(y_val)\n",
        "print(y_val.shape)"
      ],
      "metadata": {
        "id": "BdK647bqG2zX",
        "colab": {
          "base_uri": "https://localhost:8080/"
        },
        "outputId": "277f4c6d-c89a-40ea-c57c-17744470d730"
      },
      "execution_count": 145,
      "outputs": [
        {
          "output_type": "stream",
          "name": "stdout",
          "text": [
            "(180, 512, 1)\n",
            "[0 0 0 0 0 0 0 0 0 0 0 0 0 0 0 0 0 0 0 0 0 0 0 0 0 0 0 0 0 0 0 0 0 0 0 0 0\n",
            " 0 0 0 0 0 0 0 0 0 0 0 0 0 0 0 0 0 0 0 0 0 0 0 0 0 0 0 0 0 0 0 0 0 0 0 0 0\n",
            " 0 0 0 0 0 0 0 0 0 0 0 0 0 0 0 0 1 1 1 1 1 1 1 1 1 1 1 1 1 1 1 1 1 1 1 1 1\n",
            " 1 1 1 1 1 1 1 1 1 1 1 1 1 1 1 1 1 1 1 1 1 1 1 1 1 1 1 1 1 1 1 1 1 1 1 1 1\n",
            " 1 1 1 1 1 1 1 1 1 1 1 1 1 1 1 1 1 1 1 1 1 1 1 1 1 1 1 1 1 1 1 1]\n",
            "(180,)\n"
          ]
        }
      ]
    },
    {
      "cell_type": "code",
      "source": [
        "X_test =  np.vstack([X_test_0, X_test_1])[:, :, None]  # [N, 5, 1]\n",
        "print(X_test.shape)\n",
        "\n",
        "y_test = np.concatenate([y_0[int(len(X_train_0) + len(X_val_0)):], y_1[int(len(X_train_1) + len(X_val_1)):]], axis=0)             # [N]\n",
        "print(y_test)\n",
        "print(y_test.shape)"
      ],
      "metadata": {
        "id": "5tnMiR0IHGBN",
        "colab": {
          "base_uri": "https://localhost:8080/"
        },
        "outputId": "9c3c9e63-bafd-4735-c681-86cb7de33c33"
      },
      "execution_count": 146,
      "outputs": [
        {
          "output_type": "stream",
          "name": "stdout",
          "text": [
            "(180, 512, 1)\n",
            "[0 0 0 0 0 0 0 0 0 0 0 0 0 0 0 0 0 0 0 0 0 0 0 0 0 0 0 0 0 0 0 0 0 0 0 0 0\n",
            " 0 0 0 0 0 0 0 0 0 0 0 0 0 0 0 0 0 0 0 0 0 0 0 0 0 0 0 0 0 0 0 0 0 0 0 0 0\n",
            " 0 0 0 0 0 0 0 0 0 0 0 0 0 0 0 0 1 1 1 1 1 1 1 1 1 1 1 1 1 1 1 1 1 1 1 1 1\n",
            " 1 1 1 1 1 1 1 1 1 1 1 1 1 1 1 1 1 1 1 1 1 1 1 1 1 1 1 1 1 1 1 1 1 1 1 1 1\n",
            " 1 1 1 1 1 1 1 1 1 1 1 1 1 1 1 1 1 1 1 1 1 1 1 1 1 1 1 1 1 1 1 1]\n",
            "(180,)\n"
          ]
        }
      ]
    },
    {
      "cell_type": "code",
      "source": [
        "# 5) Torch tensors\n",
        "X_train = torch.from_numpy(X_train).float()  # float32\n",
        "y_train = torch.from_numpy(y_train).long()  # int64\n",
        "X_val   = torch.from_numpy(X_val).float()\n",
        "y_val   = torch.from_numpy(y_val).long()\n",
        "X_test  = torch.from_numpy(X_test).float()\n",
        "y_test  = torch.from_numpy(y_test).long()"
      ],
      "metadata": {
        "id": "EyfNxcS0OW3Z"
      },
      "execution_count": 147,
      "outputs": []
    },
    {
      "cell_type": "code",
      "source": [
        "print(X_train.shape, y_train.shape)\n",
        "print(X_val.shape, y_val.shape)\n",
        "print(X_test.shape, y_test.shape)"
      ],
      "metadata": {
        "id": "ITFAlRmJOWdB",
        "colab": {
          "base_uri": "https://localhost:8080/"
        },
        "outputId": "1ae71c72-47f0-479b-d503-d649c00c2363"
      },
      "execution_count": 148,
      "outputs": [
        {
          "output_type": "stream",
          "name": "stdout",
          "text": [
            "torch.Size([556, 512, 1]) torch.Size([556])\n",
            "torch.Size([180, 512, 1]) torch.Size([180])\n",
            "torch.Size([180, 512, 1]) torch.Size([180])\n"
          ]
        }
      ]
    },
    {
      "cell_type": "code",
      "execution_count": 149,
      "metadata": {
        "id": "Vn18DVVKq76e"
      },
      "outputs": [],
      "source": [
        "class SeqDataset(Dataset):\n",
        "    def __init__(self, X: torch.Tensor, y: torch.Tensor):\n",
        "        self.X = X  # [N, seq_len, 1]\n",
        "        self.y = y  # [N]\n",
        "    def __len__(self): return self.y.shape[0]\n",
        "    def __getitem__(self, i): return self.X[i], self.y[i]\n",
        "\n",
        "train_ds = SeqDataset(X_train, y_train)\n",
        "# print(X_train.shape)\n",
        "# print(train_ds[0])\n",
        "# print(train_ds[1])\n",
        "# print(train_ds[2])\n",
        "val_ds   = SeqDataset(X_val,   y_val)\n",
        "test_ds  = SeqDataset(X_test,  y_test)"
      ]
    },
    {
      "cell_type": "code",
      "execution_count": 150,
      "metadata": {
        "id": "3ma0uxTa8nsD"
      },
      "outputs": [],
      "source": [
        "# 6) DataLoaders: shuffle only the training set\n",
        "batch_size = 64\n",
        "train_loader = DataLoader(train_ds, batch_size=batch_size, shuffle=True)\n",
        "val_loader   = DataLoader(val_ds,   batch_size=batch_size, shuffle=False)\n",
        "test_loader  = DataLoader(test_ds,  batch_size=batch_size, shuffle=False)"
      ]
    },
    {
      "cell_type": "code",
      "execution_count": 151,
      "metadata": {
        "id": "ILHeIaNA_Y1t",
        "colab": {
          "base_uri": "https://localhost:8080/"
        },
        "outputId": "3c8abd27-54f1-42f2-8e62-df5932f6c51c"
      },
      "outputs": [
        {
          "output_type": "stream",
          "name": "stdout",
          "text": [
            "train label set/counts: (tensor([0, 1]), tensor([278, 278]))\n",
            "val   label set/counts: (tensor([0, 1]), tensor([90, 90]))\n",
            "train min/max: 0 1\n",
            "val   min/max: 0 1\n"
          ]
        }
      ],
      "source": [
        "with torch.no_grad():\n",
        "    ys_tr = torch.cat([yb.view(-1) for _, yb in train_loader], dim=0).cpu()\n",
        "    ys_va = torch.cat([yb.view(-1) for _, yb in val_loader], dim=0).cpu()\n",
        "\n",
        "print(\"train label set/counts:\", ys_tr.unique(return_counts=True))\n",
        "print(\"val   label set/counts:\", ys_va.unique(return_counts=True))\n",
        "print(\"train min/max:\", ys_tr.min().item(), ys_tr.max().item())\n",
        "print(\"val   min/max:\", ys_va.min().item(), ys_va.max().item())"
      ]
    },
    {
      "cell_type": "code",
      "execution_count": 152,
      "metadata": {
        "id": "ue57o5HKq7fi"
      },
      "outputs": [],
      "source": [
        "# 7) Example: adapt a batch for a Transformer [seq_len, batch, d_model]\n",
        "xb, yb = next(iter(train_loader))   # xb: [B, 5, 1]"
      ]
    },
    {
      "cell_type": "code",
      "execution_count": 153,
      "metadata": {
        "id": "KAd745oVq7Sd"
      },
      "outputs": [],
      "source": [
        "class LearnablePositionalEncoding(nn.Module):\n",
        "    \"\"\"\n",
        "    Learnable positional encoding added to token embeddings.\n",
        "    Shape stored: [1, max_len, d_model]\n",
        "    \"\"\"\n",
        "    def __init__(self, d_model: int, max_len: int):\n",
        "        super().__init__()\n",
        "        self.pe = nn.Parameter(torch.zeros(1, max_len, d_model))\n",
        "        print(self.pe)\n",
        "        nn.init.trunc_normal_(self.pe, std=0.02)\n",
        "\n",
        "    def forward(self, x):\n",
        "        # x: [B, T, d_model]\n",
        "        T = x.size(1)\n",
        "        return x + self.pe[:, :T, :]"
      ]
    },
    {
      "cell_type": "code",
      "execution_count": 154,
      "metadata": {
        "id": "wBe4P6n8puIs"
      },
      "outputs": [],
      "source": [
        "class TimeSeriesTransformer(nn.Module):\n",
        "    def __init__(self, d_model=256, nhead=4, num_layers=3, d_ff=256, seq_len= X_train.shape[1], num_classes=2, dropout=0.1):\n",
        "        super().__init__()\n",
        "        self.inp = nn.Linear(1, d_model)                            # project feature_dim=1 -> d_model\n",
        "        self.pos = LearnablePositionalEncoding(d_model, seq_len)    # learnable PE\n",
        "        enc_layer = nn.TransformerEncoderLayer(\n",
        "            d_model=d_model, nhead=nhead,\n",
        "            dim_feedforward=d_ff, dropout=dropout,\n",
        "            batch_first=True                                        # so we keep [B, T, d]\n",
        "        )\n",
        "        self.encoder = nn.TransformerEncoder(enc_layer, num_layers=num_layers)\n",
        "        self.norm = nn.LayerNorm(d_model)\n",
        "        self.head = nn.Linear(d_model, num_classes)\n",
        "\n",
        "    def forward(self, x):\n",
        "        # x: [B, T, 1]\n",
        "        x = self.inp(x)                  # [B, T, d]\n",
        "        x = self.pos(x)                  # add learnable PE\n",
        "        x = self.encoder(x)              # [B, T, d]\n",
        "        x = self.norm(x)\n",
        "        x = x.mean(dim=1)                # mean pool over time\n",
        "\n",
        "        logits = self.head(x)            # [B, C]\n",
        "        return logits"
      ]
    },
    {
      "cell_type": "code",
      "execution_count": 155,
      "metadata": {
        "id": "gfewTjRosCAY",
        "colab": {
          "base_uri": "https://localhost:8080/"
        },
        "outputId": "2c685456-d3e0-4c51-d2e0-eb6affee0f94"
      },
      "outputs": [
        {
          "output_type": "stream",
          "name": "stdout",
          "text": [
            "Parameter containing:\n",
            "tensor([[[0., 0., 0.,  ..., 0., 0., 0.],\n",
            "         [0., 0., 0.,  ..., 0., 0., 0.],\n",
            "         [0., 0., 0.,  ..., 0., 0., 0.],\n",
            "         ...,\n",
            "         [0., 0., 0.,  ..., 0., 0., 0.],\n",
            "         [0., 0., 0.,  ..., 0., 0., 0.],\n",
            "         [0., 0., 0.,  ..., 0., 0., 0.]]], requires_grad=True)\n"
          ]
        }
      ],
      "source": [
        "device = torch.device(\"cuda\" if torch.cuda.is_available() else \"cpu\")\n",
        "seq_len = X_train.shape[1]\n",
        "num_classes = 2\n",
        "model = TimeSeriesTransformer(\n",
        "    d_model=64,\n",
        "    nhead=2,\n",
        "    num_layers=4,\n",
        "    d_ff=128,\n",
        "    seq_len=seq_len ,\n",
        "    num_classes=2,\n",
        "    dropout=0.1).to(device)"
      ]
    },
    {
      "cell_type": "code",
      "execution_count": 156,
      "metadata": {
        "id": "2149a252",
        "colab": {
          "base_uri": "https://localhost:8080/"
        },
        "outputId": "922688a1-7c57-4222-d0a9-ef7ff5481a54"
      },
      "outputs": [
        {
          "output_type": "stream",
          "name": "stdout",
          "text": [
            "Using device: cuda\n"
          ]
        },
        {
          "output_type": "execute_result",
          "data": {
            "text/plain": [
              "TimeSeriesTransformer(\n",
              "  (inp): Linear(in_features=1, out_features=64, bias=True)\n",
              "  (pos): LearnablePositionalEncoding()\n",
              "  (encoder): TransformerEncoder(\n",
              "    (layers): ModuleList(\n",
              "      (0-3): 4 x TransformerEncoderLayer(\n",
              "        (self_attn): MultiheadAttention(\n",
              "          (out_proj): NonDynamicallyQuantizableLinear(in_features=64, out_features=64, bias=True)\n",
              "        )\n",
              "        (linear1): Linear(in_features=64, out_features=128, bias=True)\n",
              "        (dropout): Dropout(p=0.1, inplace=False)\n",
              "        (linear2): Linear(in_features=128, out_features=64, bias=True)\n",
              "        (norm1): LayerNorm((64,), eps=1e-05, elementwise_affine=True)\n",
              "        (norm2): LayerNorm((64,), eps=1e-05, elementwise_affine=True)\n",
              "        (dropout1): Dropout(p=0.1, inplace=False)\n",
              "        (dropout2): Dropout(p=0.1, inplace=False)\n",
              "      )\n",
              "    )\n",
              "  )\n",
              "  (norm): LayerNorm((64,), eps=1e-05, elementwise_affine=True)\n",
              "  (head): Linear(in_features=64, out_features=2, bias=True)\n",
              ")"
            ]
          },
          "metadata": {},
          "execution_count": 156
        }
      ],
      "source": [
        "device = torch.device(\"cuda\" if torch.cuda.is_available() else \"cpu\")\n",
        "print(f\"Using device: {device}\")\n",
        "model.to(device) # Move the model to the selected device"
      ]
    },
    {
      "cell_type": "code",
      "execution_count": 157,
      "metadata": {
        "id": "dp_VLwP7sB7K"
      },
      "outputs": [],
      "source": [
        "# Optional class weights for CE or focal alpha; compute from training labels\n",
        "class_counts = torch.bincount(y_train)\n",
        "class_weights = (class_counts.sum() / (class_counts.float().clamp(min=1)))  # inverse freq\n",
        "class_weights = class_weights / class_weights.sum() * num_classes           # normalize\n",
        "class_weights = class_weights.to(device)"
      ]
    },
    {
      "cell_type": "code",
      "execution_count": 158,
      "metadata": {
        "id": "4xc9Wh7DsB0e"
      },
      "outputs": [],
      "source": [
        "# from torch.optim.lr_scheduler import CosineAnnealingLR\n",
        "# # optimizer = torch.optim.AdamW(model.parameters(), lr=1e-3, weight_decay=0)\n",
        "# # loss_fn = nn.CrossEntropyLoss()\n",
        "# from torch.optim.lr_scheduler import CosineAnnealingLR\n",
        "# scheduler = CosineAnnealingLR(optimizer, T_max=num_epochs)\n",
        "\n",
        "optimizer = torch.optim.AdamW(model.parameters(), lr=1e-3, weight_decay=1e-4)\n",
        "\n",
        "loss_fn = nn.CrossEntropyLoss()"
      ]
    },
    {
      "cell_type": "code",
      "execution_count": 159,
      "metadata": {
        "id": "dZbtuUUR-_dk",
        "colab": {
          "base_uri": "https://localhost:8080/"
        },
        "outputId": "3274a1d8-d9ba-4904-8359-572f4c6e42ae"
      },
      "outputs": [
        {
          "output_type": "stream",
          "name": "stdout",
          "text": [
            "Epoch 1/20: Train Loss: 0.1538, Train Accuracy: 0.9119 | Validation Loss: 0.0039, Validation Accuracy: 1.0000\n",
            "\n",
            "Epoch 2/20: Train Loss: 0.0027, Train Accuracy: 1.0000 | Validation Loss: 0.0013, Validation Accuracy: 1.0000\n",
            "\n",
            "Epoch 3/20: Train Loss: 0.0012, Train Accuracy: 1.0000 | Validation Loss: 0.0008, Validation Accuracy: 1.0000\n",
            "\n",
            "Epoch 4/20: Train Loss: 0.0009, Train Accuracy: 1.0000 | Validation Loss: 0.0006, Validation Accuracy: 1.0000\n",
            "\n",
            "Epoch 5/20: Train Loss: 0.0007, Train Accuracy: 1.0000 | Validation Loss: 0.0005, Validation Accuracy: 1.0000\n",
            "\n",
            "Epoch 6/20: Train Loss: 0.0006, Train Accuracy: 1.0000 | Validation Loss: 0.0005, Validation Accuracy: 1.0000\n",
            "\n",
            "Epoch 7/20: Train Loss: 0.0005, Train Accuracy: 1.0000 | Validation Loss: 0.0004, Validation Accuracy: 1.0000\n",
            "\n",
            "Epoch 8/20: Train Loss: 0.0005, Train Accuracy: 1.0000 | Validation Loss: 0.0004, Validation Accuracy: 1.0000\n",
            "\n",
            "Epoch 9/20: Train Loss: 0.0005, Train Accuracy: 1.0000 | Validation Loss: 0.0004, Validation Accuracy: 1.0000\n",
            "\n",
            "Epoch 10/20: Train Loss: 0.0004, Train Accuracy: 1.0000 | Validation Loss: 0.0003, Validation Accuracy: 1.0000\n",
            "\n",
            "Epoch 11/20: Train Loss: 0.0004, Train Accuracy: 1.0000 | Validation Loss: 0.0003, Validation Accuracy: 1.0000\n",
            "\n",
            "Epoch 12/20: Train Loss: 0.0004, Train Accuracy: 1.0000 | Validation Loss: 0.0003, Validation Accuracy: 1.0000\n",
            "\n",
            "Epoch 13/20: Train Loss: 0.0003, Train Accuracy: 1.0000 | Validation Loss: 0.0003, Validation Accuracy: 1.0000\n",
            "\n",
            "Epoch 14/20: Train Loss: 0.0003, Train Accuracy: 1.0000 | Validation Loss: 0.0003, Validation Accuracy: 1.0000\n",
            "\n",
            "Epoch 15/20: Train Loss: 0.0003, Train Accuracy: 1.0000 | Validation Loss: 0.0002, Validation Accuracy: 1.0000\n",
            "\n",
            "Epoch 16/20: Train Loss: 0.0003, Train Accuracy: 1.0000 | Validation Loss: 0.0002, Validation Accuracy: 1.0000\n",
            "\n",
            "Epoch 17/20: Train Loss: 0.0003, Train Accuracy: 1.0000 | Validation Loss: 0.0002, Validation Accuracy: 1.0000\n",
            "\n",
            "Epoch 18/20: Train Loss: 0.0002, Train Accuracy: 1.0000 | Validation Loss: 0.0002, Validation Accuracy: 1.0000\n",
            "\n",
            "Epoch 19/20: Train Loss: 0.0002, Train Accuracy: 1.0000 | Validation Loss: 0.0002, Validation Accuracy: 1.0000\n",
            "\n",
            "Epoch 20/20: Train Loss: 0.0002, Train Accuracy: 1.0000 | Validation Loss: 0.0002, Validation Accuracy: 1.0000\n",
            "\n"
          ]
        }
      ],
      "source": [
        "num_epochs = 20\n",
        "tr_losses, tr_accs, val_losses, val_accs = [], [], [], []\n",
        "\n",
        "for epoch in range(num_epochs):\n",
        "     model.train()\n",
        "     total_loss, total_samples, correct_predictions = 0, 0, 0\n",
        "     for xb, yb in train_loader:\n",
        "        xb , yb = xb.to(device) , yb.to(device).long()\n",
        "        optimizer.zero_grad()\n",
        "        output = model(xb)\n",
        "        # print('output',output)\n",
        "        # print('max',torch.max(output, 1))\n",
        "        # print('yb',yb)\n",
        "\n",
        "        loss = loss_fn(output , yb)\n",
        "        # print('loss',loss)\n",
        "        # optimizer.zero_grad()\n",
        "        loss.backward()\n",
        "        torch.nn.utils.clip_grad_norm_(model.parameters(), 1.0)\n",
        "        optimizer.step()\n",
        "        total_loss += loss.item() * xb.size(0)\n",
        "        # print(loss.item())\n",
        "        # print(xb.size(0))\n",
        "        # print('total:',total_loss)\n",
        "\n",
        "        # Calculate accuracy\n",
        "        pred = output.argmax(dim=1) # the index of the maximum value for each column\n",
        "        # print('p',predicted)\n",
        "        # print('real',yb)\n",
        "        total_samples += xb.size(0)\n",
        "        # print(total_samples)\n",
        "        correct_predictions += (pred == yb).sum().item()\n",
        "        # print(correct_predictions)\n",
        "\n",
        "     epoch_loss = total_loss / total_samples\n",
        "     epoch_accuracy = correct_predictions / total_samples\n",
        "     tr_losses.append(epoch_loss)\n",
        "     tr_accs.append(epoch_accuracy)\n",
        "\n",
        "    #  print(f\"Epoch {epoch+1}/{num_epochs}: \" f\"Train Loss: {epoch_loss:.4f}, \"f\"Train Accuracy: {epoch_accuracy:.4f}\")\n",
        "\n",
        "     model.eval()\n",
        "     val_correct_predictions , val_total_samples , val_total_loss = 0 , 0 , 0\n",
        "\n",
        "     with torch.no_grad():\n",
        "          for xb, yb in val_loader:\n",
        "              xb, yb = xb.to(device), yb.to(device).long()\n",
        "              output = model(xb)\n",
        "              val_loss = loss_fn(output,yb)\n",
        "              val_total_loss += val_loss.item() * xb.size(0)\n",
        "              pred = output.argmax(dim=1)\n",
        "              val_total_samples += xb.size(0)\n",
        "              val_correct_predictions += (pred == yb).sum().item()\n",
        "\n",
        "     val_epoch_loss = val_total_loss / val_total_samples\n",
        "     val_epoch_accuracy = val_correct_predictions / val_total_samples\n",
        "    #  print(    f\"Validation Loss: {val_epoch_loss:.4f}, \"f\"Validation Accuracy: {val_epoch_accuracy:.4f}\\n\")\n",
        "     val_losses.append(val_epoch_loss)\n",
        "     val_accs.append(val_epoch_accuracy)\n",
        "     # 3) Step the scheduler once per epoch, after validation\n",
        "    #  scheduler.step()\n",
        "\n",
        "     # Optional: print current lr to confirm schedule\n",
        "     current_lr = optimizer.param_groups[0][\"lr\"]\n",
        "     print(f\"Epoch {epoch+1}/{num_epochs}: \" f\"Train Loss: {epoch_loss:.4f}, \"f\"Train Accuracy: {epoch_accuracy:.4f} | \"f\"Validation Loss: {val_epoch_loss:.4f}, \"f\"Validation Accuracy: {val_epoch_accuracy:.4f}\\n\")\n",
        "\n",
        "\n"
      ]
    },
    {
      "cell_type": "code",
      "source": [
        "import torch.nn.functional as F\n",
        "val_probs = []\n",
        "val_true  = []\n",
        "with torch.no_grad():\n",
        "    for xb, yb in val_loader:\n",
        "        out = model(xb.to(device))\n",
        "        val_probs.append(F.softmax(out, dim=1).max(1).values.cpu())\n",
        "        val_true.append(yb)\n",
        "val_probs = torch.cat(val_probs)\n",
        "print('Val avg max-softmax:', val_probs.mean().item())"
      ],
      "metadata": {
        "id": "Rv6VrEcbOmsG",
        "colab": {
          "base_uri": "https://localhost:8080/"
        },
        "outputId": "bcc676c6-cdec-4031-fc74-69639cf64966"
      },
      "execution_count": 160,
      "outputs": [
        {
          "output_type": "stream",
          "name": "stdout",
          "text": [
            "Val avg max-softmax: 0.9998183250427246\n"
          ]
        }
      ]
    },
    {
      "cell_type": "code",
      "source": [
        "from sklearn.metrics import confusion_matrix\n",
        "import numpy as np\n",
        "all_pred, all_true = [], []\n",
        "with torch.no_grad():\n",
        "    for xb, yb in val_loader:\n",
        "        out = model(xb.to(device))\n",
        "        all_pred.append(out.argmax(1).cpu().numpy())\n",
        "        all_true.append(yb.numpy())\n",
        "cm = confusion_matrix(np.concatenate(all_true), np.concatenate(all_pred))\n",
        "print(cm)"
      ],
      "metadata": {
        "id": "O2Kz8WWGOxP8",
        "colab": {
          "base_uri": "https://localhost:8080/"
        },
        "outputId": "048441c6-d9fc-4977-b715-62b6febcf657"
      },
      "execution_count": 161,
      "outputs": [
        {
          "output_type": "stream",
          "name": "stdout",
          "text": [
            "[[90  0]\n",
            " [ 0 90]]\n"
          ]
        }
      ]
    },
    {
      "cell_type": "code",
      "execution_count": 162,
      "metadata": {
        "id": "KklICuBQ_MlM",
        "colab": {
          "base_uri": "https://localhost:8080/",
          "height": 452
        },
        "outputId": "a24e42ce-ab62-40e2-fff3-8abb0d2921e7"
      },
      "outputs": [
        {
          "output_type": "display_data",
          "data": {
            "text/plain": [
              "<Figure size 640x480 with 1 Axes>"
            ],
            "image/png": "[encoded data removed]"
          },
          "metadata": {}
        }
      ],
      "source": [
        "epoch = np.arange(0,num_epochs , 1)\n",
        "import matplotlib.pyplot as plt\n",
        "\n",
        "plt.plot(epoch, tr_losses , label=\"Train_loss\", c='b')\n",
        "plt.plot(epoch, val_losses, label=\"val_losss\", c='r')\n",
        "plt.xlabel(\"Epoch\")\n",
        "plt.ylabel(\"Loss\")\n",
        "plt.legend()\n",
        "plt.show()"
      ]
    },
    {
      "cell_type": "code",
      "execution_count": 163,
      "metadata": {
        "id": "NhEnH9lVsBis",
        "colab": {
          "base_uri": "https://localhost:8080/",
          "height": 1000
        },
        "outputId": "537472e2-6212-46f3-9143-d4e6c2865002"
      },
      "outputs": [
        {
          "output_type": "display_data",
          "data": {
            "text/plain": [
              "<Figure size 640x480 with 2 Axes>"
            ],
            "image/png": "[encoded data removed]"
          },
          "metadata": {}
        },
        {
          "output_type": "display_data",
          "data": {
            "text/plain": [
              "<Figure size 640x480 with 1 Axes>"
            ],
            "image/png": "[encoded data removed]"
          },
          "metadata": {}
        },
        {
          "output_type": "display_data",
          "data": {
            "text/plain": [
              "<Figure size 640x480 with 1 Axes>"
            ],
            "image/png": "[encoded data removed]"
          },
          "metadata": {}
        }
      ],
      "source": [
        "import torch\n",
        "import torch.nn.functional as F\n",
        "from sklearn.metrics import confusion_matrix, ConfusionMatrixDisplay\n",
        "from sklearn.metrics import RocCurveDisplay, PrecisionRecallDisplay\n",
        "import matplotlib.pyplot as plt\n",
        "\n",
        "y_true, y_pred, y_score = [], [], []\n",
        "model.eval()\n",
        "\n",
        "with torch.no_grad():\n",
        "    for xb, yb in val_loader:\n",
        "        xb, yb = xb.to(device), yb.to(device).long()   # targets should be int for CE\n",
        "        logits = model(xb)                             # [B,2]\n",
        "\n",
        "        # 1) Probability of class 1\n",
        "        probs  = torch.softmax(logits, dim=1)          # [B,2]\n",
        "        score1 = probs[:, 1]                           # [B]\n",
        "\n",
        "        # 2) Predicted class index\n",
        "        preds  = logits.argmax(dim=1)                  # [B]\n",
        "\n",
        "        # Save results\n",
        "        y_true.extend(yb.cpu().tolist())\n",
        "        y_pred.extend(preds.cpu().tolist())\n",
        "        y_score.extend(score1.cpu().tolist())\n",
        "\n",
        "# 1) Confusion Matrix\n",
        "ConfusionMatrixDisplay.from_predictions(y_true, y_pred, cmap=\"Blues\", values_format=\"d\")\n",
        "plt.title(\"Confusion Matrix (Validation)\")\n",
        "plt.show()\n",
        "\n",
        "# 2) ROC\n",
        "RocCurveDisplay.from_predictions(y_true, y_score)\n",
        "plt.title(\"ROC Curve (Validation)\")\n",
        "plt.show()\n",
        "\n",
        "# 3) Precision–Recall\n",
        "PrecisionRecallDisplay.from_predictions(y_true, y_score)\n",
        "plt.title(\"Precision–Recall Curve (Validation)\")\n",
        "plt.show()"
      ]
    },
    {
      "cell_type": "code",
      "execution_count": 164,
      "metadata": {
        "id": "JZAQEGdnsi9u",
        "colab": {
          "base_uri": "https://localhost:8080/",
          "height": 545
        },
        "outputId": "d03f7b04-ad48-4dcd-aa43-a34ef5c11d92"
      },
      "outputs": [
        {
          "output_type": "display_data",
          "data": {
            "text/plain": [
              "<Figure size 600x600 with 2 Axes>"
            ],
            "image/png": "[encoded data removed]"
          },
          "metadata": {}
        }
      ],
      "source": [
        "from sklearn.manifold import TSNE\n",
        "import matplotlib.pyplot as plt\n",
        "import torch\n",
        "\n",
        "model.eval()\n",
        "all_embeds, all_labels = [], []\n",
        "\n",
        "with torch.no_grad():\n",
        "    for xb, yb in val_loader:\n",
        "        xb = xb.to(device)\n",
        "        # Pass through encoder only (skip classifier head)\n",
        "        embeds = model.encoder(model.inp(xb) + model.pos(model.inp(xb)))\n",
        "        embeds = embeds.mean(dim=1)                # [B, d_model]\n",
        "\n",
        "        all_embeds.append(embeds.cpu())\n",
        "        all_labels.append(yb.cpu())\n",
        "\n",
        "# Concatenate all batches\n",
        "all_embeds = torch.cat(all_embeds, dim=0).numpy()\n",
        "all_labels = torch.cat(all_labels, dim=0).numpy()\n",
        "\n",
        "# Run t-SNE\n",
        "X_2d = TSNE(n_components=2, random_state=42).fit_transform(all_embeds)\n",
        "\n",
        "# Plot\n",
        "plt.figure(figsize=(6,6))\n",
        "plt.scatter(X_2d[:,0], X_2d[:,1], c=all_labels, cmap=\"coolwarm\", alpha=0.7)\n",
        "plt.colorbar(label=\"Class\")\n",
        "plt.title(\"t-SNE of Validation Embeddings\")\n",
        "plt.show()"
      ]
    }
  ],
  "metadata": {
    "colab": {
      "provenance": [],
      "gpuType": "T4",
      "authorship_tag": "ABX9TyPuNuCkyIMRv9jJ270ynfM3",
      "include_colab_link": true
    },
    "kernelspec": {
      "display_name": "Python 3",
      "name": "python3"
    },
    "language_info": {
      "name": "python"
    },
    "accelerator": "GPU"
  },
  "nbformat": 4,
  "nbformat_minor": 0
}