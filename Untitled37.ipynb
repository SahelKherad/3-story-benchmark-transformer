{
  "nbformat": 4,
  "nbformat_minor": 0,
  "metadata": {
    "colab": {
      "provenance": [],
      "gpuType": "T4",
      "authorship_tag": "ABX9TyPQ0+/2ZKuPL+uJyVF8m/E9",
      "include_colab_link": true
    },
    "kernelspec": {
      "name": "python3",
      "display_name": "Python 3"
    },
    "language_info": {
      "name": "python"
    },
    "accelerator": "GPU"
  },
  "cells": [
    {
      "cell_type": "markdown",
      "metadata": {
        "id": "view-in-github",
        "colab_type": "text"
      },
      "source": [
        "<a href=\"https://colab.research.google.com/github/SahelKherad/3-story-benchmark-transformer/blob/main/Untitled37.ipynb\" target=\"_parent\"><img src=\"https://colab.research.google.com/assets/colab-badge.svg\" alt=\"Open In Colab\"/></a>"
      ]
    },
    {
      "cell_type": "code",
      "execution_count": 2,
      "metadata": {
        "id": "jESaGaJ8Y4fL"
      },
      "outputs": [],
      "source": [
        "import os\n",
        "import scipy.io\n",
        "from scipy.io.matlab._mio5_params import mat_struct\n",
        "import numpy as np\n",
        "import pandas as pd\n",
        "import torch\n",
        "from torch.utils.data import Dataset, DataLoader\n",
        "import matplotlib.pyplot as plt\n",
        "from sklearn.metrics import confusion_matrix"
      ]
    },
    {
      "cell_type": "code",
      "source": [
        "from google.colab import drive\n",
        "drive.mount('/content/drive', force_remount=True)"
      ],
      "metadata": {
        "colab": {
          "base_uri": "https://localhost:8080/"
        },
        "id": "8VnHyYOfY6Ts",
        "outputId": "1bcc22b0-bc59-4207-9cbd-b9be7a1cfba9"
      },
      "execution_count": 3,
      "outputs": [
        {
          "output_type": "stream",
          "name": "stdout",
          "text": [
            "Mounted at /content/drive\n"
          ]
        }
      ]
    },
    {
      "cell_type": "code",
      "source": [
        "!ls \"/content/drive/My Drive/ASCE\"\n"
      ],
      "metadata": {
        "colab": {
          "base_uri": "https://localhost:8080/"
        },
        "id": "_yoanGUbZwdT",
        "outputId": "b149cb31-b8c9-4b79-df15-01566ead558e"
      },
      "execution_count": 4,
      "outputs": [
        {
          "output_type": "stream",
          "name": "stdout",
          "text": [
            "shm01a.mat  shm03a.mat\tshm05a.mat  shm07a.mat\tshm09a.mat\n",
            "shm02a.mat  shm04a.mat\tshm06a.mat  shm08a.mat\n"
          ]
        }
      ]
    },
    {
      "cell_type": "code",
      "source": [
        "import scipy.io\n",
        "\n",
        "folder_path = '/content/drive/MyDrive/ASCE/shm01a.mat'  # adjust if your filename differs\n",
        "data = scipy.io.loadmat(folder_path)\n",
        "\n",
        "print(data.keys())"
      ],
      "metadata": {
        "colab": {
          "base_uri": "https://localhost:8080/"
        },
        "id": "w_7LbE3r6hHv",
        "outputId": "339d89e1-7a22-4fbb-f6bb-624cf81c1ca3"
      },
      "execution_count": 5,
      "outputs": [
        {
          "output_type": "stream",
          "name": "stdout",
          "text": [
            "dict_keys(['__header__', '__version__', '__globals__', 'dasy', 'dasy_dscr', 'filedescription', 'fsdasy'])\n"
          ]
        }
      ]
    },
    {
      "cell_type": "code",
      "source": [
        "def load_mat(path):\n",
        "    # 1) load and squeeze singletons\n",
        "    mat = scipy.io.loadmat(path, squeeze_me=True, struct_as_record=False)\n",
        "    raw = mat.get('dasy')\n",
        "    if raw is None:\n",
        "        raise KeyError(f\"'dasy' not found in {path}; keys: {list(mat.keys())}\")\n",
        "\n",
        "    # 2) if it came in as a 0-d object array, unpack it\n",
        "    if isinstance(raw, np.ndarray) and raw.shape == () and isinstance(raw.item(), mat_struct):\n",
        "        raw = raw.item()\n",
        "\n",
        "    # 3) if it’s a mat_struct, each field is one channel’s data\n",
        "    if isinstance(raw, mat_struct):\n",
        "        fields = raw._fieldnames  # e.g. ['ch1', 'ch2', …]\n",
        "        channels = []\n",
        "        for f in fields:\n",
        "            arr = getattr(raw, f)\n",
        "            # arr may be shape (n,1) or (n,), so flatten\n",
        "            channels.append(np.asarray(arr).reshape(-1))\n",
        "        data = np.stack(channels, axis=1)  # → (n_samples, n_channels)\n",
        "\n",
        "    # 4) otherwise if it’s already an ndarray, use it\n",
        "    elif isinstance(raw, np.ndarray):\n",
        "        data = raw\n",
        "\n",
        "    else:\n",
        "        raise ValueError(f\"Cannot interpret dasy of type {type(raw)}\")\n",
        "\n",
        "    # 5) final sanity check\n",
        "    if not (isinstance(data, np.ndarray) and data.ndim == 2):\n",
        "        raise ValueError(f\"After unwrapping, expected 2‐D array but got shape {getattr(data,'shape',None)}\")\n",
        "\n",
        "    return data, mat\n",
        "\n",
        "\n",
        "# Now try your loading loop again:\n",
        "base_dir = '/content/drive/MyDrive/ASCE/'\n",
        "state_files = {\n",
        "    1: 'shm01a.mat',   # state 1 → label 0\n",
        "    2: 'shm02a.mat',   # state 3 → label 1\n",
        "    3: 'shm03a.mat',   # state 3 → label 2\n",
        "    4: 'shm04a.mat',   # state 3 → label 1\n",
        "    5: 'shm05a.mat',   # state 3 → label 1\n",
        "    6: 'shm06a.mat',   # state 3 → label 1\n",
        "    7: 'shm07a.mat',   # state 3 → label 1\n",
        "    8: 'shm08a.mat',   # state 3 → label 1\n",
        "    9: 'shm09a.mat',   # state 3 → label 1\n",
        "}\n",
        "\n"
      ],
      "metadata": {
        "id": "-lNjv__AwP8T"
      },
      "execution_count": 6,
      "outputs": []
    },
    {
      "cell_type": "code",
      "source": [
        "all_data, all_labels = [], []\n",
        "for label, fname in state_files.items():\n",
        "    path = os.path.join(base_dir, fname)\n",
        "    dasy, mat = load_mat(path)\n",
        "    print(f\"{fname}: data shape = {dasy.shape}\")\n",
        "    all_data.append(dasy)\n",
        "    all_labels.append(np.full(dasy.shape[0], label, dtype=np.int64))\n",
        "all_labels2 = np.concatenate(all_labels)\n",
        "print(all_labels2.shape)\n",
        "# print(all_labels[5].shape)\n",
        "# print(all_data)"
      ],
      "metadata": {
        "colab": {
          "base_uri": "https://localhost:8080/"
        },
        "id": "kt-q273eZ4vG",
        "outputId": "26db3eae-fab1-4e13-abfe-db8017695d34"
      },
      "execution_count": 7,
      "outputs": [
        {
          "output_type": "stream",
          "name": "stdout",
          "text": [
            "shm01a.mat: data shape = (60000, 16)\n",
            "shm02a.mat: data shape = (60000, 16)\n",
            "shm03a.mat: data shape = (60000, 16)\n",
            "shm04a.mat: data shape = (60000, 16)\n",
            "shm05a.mat: data shape = (60000, 16)\n",
            "shm06a.mat: data shape = (45568, 16)\n",
            "shm07a.mat: data shape = (180000, 16)\n",
            "shm08a.mat: data shape = (180000, 16)\n",
            "shm09a.mat: data shape = (180000, 16)\n",
            "(885568,)\n"
          ]
        }
      ]
    },
    {
      "cell_type": "code",
      "source": [
        "data_state1 = all_data[0]\n",
        "data_state2 = all_data[1]\n",
        "data_state3 = all_data[2]\n",
        "data_state4 = all_data[3]\n",
        "data_state5 = all_data[4]\n",
        "data_state6 = all_data[5]\n",
        "data_state7 = all_data[6]\n",
        "data_state8 = all_data[7]\n",
        "data_state9 = all_data[8]\n",
        "# print(data_state1.dtype)\n",
        "print(data_state1.shape)\n",
        "print(data_state6.shape)\n",
        "print(data_state8.shape)\n",
        "# print(data_state2)\n",
        "\n",
        "# all_data0 = np.vstack([data_state1, data_state3])\n",
        "# means   = all_data0.mean(axis=0, keepdims=True)    # shape (1,15)\n",
        "# stds    = all_data0.std (axis=0, keepdims=True)\n",
        "\n",
        "# data_state1 = (data_state1 - means) / stds\n",
        "# data_state7 = (data_state3 - means) / stds"
      ],
      "metadata": {
        "colab": {
          "base_uri": "https://localhost:8080/"
        },
        "id": "9VVni1oHWagP",
        "outputId": "9dc5f277-a81a-4e79-c3da-5f9902fc982f"
      },
      "execution_count": 29,
      "outputs": [
        {
          "output_type": "stream",
          "name": "stdout",
          "text": [
            "(60000, 16)\n",
            "(45568, 16)\n",
            "(180000, 16)\n"
          ]
        }
      ]
    },
    {
      "cell_type": "code",
      "source": [
        "def segment_signal(x, L=1024, S=512):\n",
        "    \"\"\"\n",
        "    x: (n_samples, n_channels)\n",
        "    returns: np.ndarray of shape (n_windows, L, n_channels)\n",
        "    \"\"\"\n",
        "\n",
        "    n_samples, n_channels = x.shape\n",
        "\n",
        "    n_windows = int(np.floor((n_samples - L) / S) + 1)\n",
        "    windows = []\n",
        "    for start in range(0, n_samples - L + 1, S):\n",
        "        # print(start)\n",
        "        # print(x[start:start+L, 0:16].shape)\n",
        "        # print(x[start:start+L, 0:16])\n",
        "        windows.append(x[start:start+L, 0:15])\n",
        "    return np.stack(windows, axis=0)\n",
        "\n",
        "# apply to each state\n",
        "print(\"State1 shape:\", data_state1.shape)\n",
        "\n",
        "\n",
        "seg1 = segment_signal(data_state1, L=1024, S=512)\n",
        "seg3 = segment_signal(data_state3, L=1024, S=512)\n",
        "\n",
        "print(\"State1 windows:\", seg1.shape)  # e.g. (≈117, 1024, 15)\n",
        "print(\"State3 windows:\", seg3.shape)\n"
      ],
      "metadata": {
        "colab": {
          "base_uri": "https://localhost:8080/"
        },
        "id": "VFiGU3vVyI0M",
        "outputId": "13575b0e-fcb5-471d-a1d6-40768ba9d433"
      },
      "execution_count": 30,
      "outputs": [
        {
          "output_type": "stream",
          "name": "stdout",
          "text": [
            "State1 shape: (60000, 16)\n",
            "State1 windows: (116, 1024, 15)\n",
            "State3 windows: (116, 1024, 15)\n"
          ]
        }
      ]
    },
    {
      "cell_type": "code",
      "source": [
        "X = np.vstack([seg1, seg3])\n",
        "y = np.concatenate([\n",
        "    np.zeros(len(seg1), dtype=np.int64),   # label 0 for state1\n",
        "    np.ones(len(seg3),  dtype=np.int64),   # label 1 for state3\n",
        "])\n",
        "\n",
        "print(\"X shape:\", X.shape)\n",
        "print(\"y shape:\", y.shape, \"unique labels:\", np.unique(y))\n"
      ],
      "metadata": {
        "colab": {
          "base_uri": "https://localhost:8080/"
        },
        "id": "U2C4LSPh4exE",
        "outputId": "f9e4c611-65fa-4252-aff7-efe7b148ac35"
      },
      "execution_count": 31,
      "outputs": [
        {
          "output_type": "stream",
          "name": "stdout",
          "text": [
            "X shape: (232, 1024, 15)\n",
            "y shape: (232,) unique labels: [0 1]\n"
          ]
        }
      ]
    },
    {
      "cell_type": "code",
      "source": [
        "from torch.utils.data import random_split\n",
        "\n",
        "# 1) Wrap in a Dataset\n",
        "class ASCEWindowDataset(torch.utils.data.Dataset):\n",
        "    def __init__(self, X, y):\n",
        "        # ensure tensors\n",
        "        if not isinstance(X, torch.Tensor):\n",
        "            X = torch.from_numpy(X).float()\n",
        "        if not isinstance(y, torch.Tensor):\n",
        "            y = torch.from_numpy(y).long()\n",
        "        self.X = X   # shape (N, L, C)\n",
        "        self.y = y   # shape (N,)\n",
        "    def __len__(self):\n",
        "        return len(self.y)\n",
        "    def __getitem__(self, idx):\n",
        "        return self.X[idx], self.y[idx]\n",
        "\n",
        "dataset = ASCEWindowDataset(X, y)\n",
        "\n",
        "# 2) Split sizes\n",
        "N = len(dataset)\n",
        "n_train = int(0.8 * N)\n",
        "n_val   = int(0.1 * N)\n",
        "n_test  = N - n_train - n_val\n",
        "\n",
        "train_ds, val_ds, test_ds = random_split(dataset, [n_train, n_val, n_test],\n",
        "                                         generator=torch.Generator().manual_seed(42))\n",
        "\n",
        "# 3) DataLoaders\n",
        "batch_size = 32\n",
        "\n",
        "train_loader = DataLoader(train_ds, batch_size=batch_size, shuffle=True)\n",
        "val_loader   = DataLoader(val_ds,   batch_size=batch_size, shuffle=False)\n",
        "test_loader  = DataLoader(test_ds,  batch_size=batch_size, shuffle=False)\n",
        "\n",
        "# Sanity check\n",
        "xb, yb = next(iter(train_loader))\n",
        "print(\"train batch X:\", xb.shape)  # (32, 1024, 15)\n",
        "print(\"train batch y:\", yb.shape)  # (32,)\n"
      ],
      "metadata": {
        "colab": {
          "base_uri": "https://localhost:8080/"
        },
        "id": "Rjah1c47QduK",
        "outputId": "6bef95f0-dad7-41f9-9228-c056a9d0e827"
      },
      "execution_count": 32,
      "outputs": [
        {
          "output_type": "stream",
          "name": "stdout",
          "text": [
            "train batch X: torch.Size([32, 1024, 15])\n",
            "train batch y: torch.Size([32])\n"
          ]
        }
      ]
    },
    {
      "cell_type": "code",
      "source": [
        "import torch\n",
        "import torch.nn as nn\n",
        "\n",
        "class TimeSeriesTransformer(nn.Module):\n",
        "    def __init__(self,\n",
        "                 n_channels=15,\n",
        "                 d_model=64,\n",
        "                 n_heads=4,\n",
        "                 num_layers=3,\n",
        "                 d_ff=256,\n",
        "                 dropout=0.1,\n",
        "                 seq_len=1024,\n",
        "                 num_classes=2):\n",
        "        super().__init__()\n",
        "        # 1) Project 15→d_model per time‐step\n",
        "        self.input_proj = nn.Linear(n_channels, d_model)\n",
        "\n",
        "        # 2) Learned positional embeddings\n",
        "        self.pos_emb = nn.Parameter(torch.zeros(1, seq_len, d_model))\n",
        "\n",
        "        # 3) Transformer encoder layers (batch_first=True so input is (B, S, D))\n",
        "        encoder_layer = nn.TransformerEncoderLayer(\n",
        "            d_model=d_model,\n",
        "            nhead=n_heads,\n",
        "            dim_feedforward=d_ff,\n",
        "            dropout=dropout,\n",
        "            batch_first=True\n",
        "        )\n",
        "        self.transformer = nn.TransformerEncoder(encoder_layer, num_layers=num_layers)\n",
        "\n",
        "        # 4) Classification head: from d_model → d_model//2 → num_classes\n",
        "        #    *Notice the first Linear’s in_features = d_model*\n",
        "        #    *and the final Linear’s in_features = d_model//2*\n",
        "        self.classifier = nn.Sequential(\n",
        "            nn.LayerNorm(d_model),\n",
        "            nn.Linear(d_model, d_model//2),\n",
        "            nn.GELU(),\n",
        "            nn.Dropout(dropout),\n",
        "            nn.Linear(d_model//2, num_classes)\n",
        "        )\n",
        "\n",
        "    def forward(self, x):\n",
        "        # x: (batch, seq_len, n_channels)\n",
        "\n",
        "        # a) embed\n",
        "        x = self.input_proj(x)                        # → (batch, seq_len, d_model)\n",
        "\n",
        "        # b) add positional encoding\n",
        "        x = x + self.pos_emb[:, :x.size(1), :]        # → (batch, seq_len, d_model)\n",
        "\n",
        "        # c) encode\n",
        "        x = self.transformer(x)                       # → (batch, seq_len, d_model)\n",
        "\n",
        "        # d) **pool over the time axis** so we drop seq_len (1024)\n",
        "        x = x.mean(dim=1)                             # → (batch, d_model)\n",
        "\n",
        "        # e) classify\n",
        "        return self.classifier(x)                     # → (batch, num_classes)\n"
      ],
      "metadata": {
        "id": "Mk9j7tg4Vm7_"
      },
      "execution_count": 33,
      "outputs": []
    },
    {
      "cell_type": "code",
      "source": [
        "# assume you’ve already created DataLoaders: train_loader, val_loader, test_loader\n",
        "\n",
        "device = torch.device(\"cuda\" if torch.cuda.is_available() else \"cpu\")\n",
        "model  = TimeSeriesTransformer(\n",
        "    n_channels=15,\n",
        "    d_model=32,\n",
        "    n_heads=4,\n",
        "    num_layers=3,\n",
        "    d_ff=256,\n",
        "    dropout=0.1,\n",
        "    seq_len=1024,\n",
        "    num_classes=2\n",
        ").to(device)\n",
        "\n",
        "criterion = nn.CrossEntropyLoss()\n",
        "optimizer = torch.optim.AdamW(model.parameters(), lr=1e-4, weight_decay=1e-2)\n",
        "\n"
      ],
      "metadata": {
        "id": "xzyHnx_JgDHE"
      },
      "execution_count": 34,
      "outputs": []
    },
    {
      "cell_type": "code",
      "source": [
        "train_losses = []\n",
        "val_losses   = []\n",
        "train_accs   = []\n",
        "val_accs     = []\n"
      ],
      "metadata": {
        "id": "Fz5jZOUXFuFi"
      },
      "execution_count": 35,
      "outputs": []
    },
    {
      "cell_type": "code",
      "source": [
        "from sklearn.metrics import accuracy_score\n",
        "\n",
        "def train_epoch(loader):\n",
        "    model.train()\n",
        "    running_loss = 0.0\n",
        "    preds, targets = [], []\n",
        "    for xb, yb in loader:\n",
        "        xb, yb = xb.to(device), yb.to(device)\n",
        "        optimizer.zero_grad()\n",
        "        logits = model(xb)\n",
        "        loss = criterion(logits, yb)\n",
        "        loss.backward()\n",
        "        optimizer.step()\n",
        "\n",
        "        running_loss += loss.item() * xb.size(0)\n",
        "        preds.extend(logits.argmax(dim=1).cpu().tolist())\n",
        "        targets.extend(yb.cpu().tolist())\n",
        "\n",
        "    avg_loss = running_loss / len(loader.dataset)\n",
        "    acc = accuracy_score(targets, preds)\n",
        "    return avg_loss, acc\n",
        "\n",
        "def eval_epoch(loader):\n",
        "    model.eval()\n",
        "    running_loss = 0.0\n",
        "    preds, targets = [], []\n",
        "    with torch.no_grad():\n",
        "        for xb, yb in loader:\n",
        "            xb, yb = xb.to(device), yb.to(device)\n",
        "            logits = model(xb)\n",
        "            loss = criterion(logits, yb)\n",
        "\n",
        "            running_loss += loss.item() * xb.size(0)\n",
        "            preds.extend(logits.argmax(dim=1).cpu().tolist())\n",
        "            targets.extend(yb.cpu().tolist())\n",
        "\n",
        "    avg_loss = running_loss / len(loader.dataset)\n",
        "    acc = accuracy_score(targets, preds)\n",
        "    return avg_loss, acc\n"
      ],
      "metadata": {
        "id": "Wc8JxAYsgTUd"
      },
      "execution_count": 36,
      "outputs": []
    },
    {
      "cell_type": "code",
      "source": [
        "num_epochs = 150\n",
        "best_val_acc = 0.0\n",
        "\n",
        "for epoch in range(1, num_epochs+1):\n",
        "    train_loss, train_acc = train_epoch(train_loader)\n",
        "    val_loss, val_acc     = eval_epoch(val_loader)\n",
        "    # scheduler.step()\n",
        "\n",
        "    train_losses.append(train_loss)\n",
        "    train_accs  .append(train_acc)\n",
        "    val_losses  .append(val_loss)\n",
        "    val_accs    .append(val_acc)\n",
        "\n",
        "    print(f\"Epoch {epoch:02d} │ \"\n",
        "          f\"Train: loss={train_loss:.4f}, acc={train_acc:.3f} │ \"\n",
        "          f\"Val:   loss={val_loss:.4f}, acc={val_acc:.3f}\")\n",
        "\n",
        "    # save best model\n",
        "    if val_acc > best_val_acc:\n",
        "        best_val_acc = val_acc\n",
        "        torch.save(model.state_dict(), \"best_asce_transformer.pt\")\n",
        "        print(\"  ↳ new best, model saved.\")\n"
      ],
      "metadata": {
        "colab": {
          "base_uri": "https://localhost:8080/"
        },
        "id": "lbJEdgf1EEA3",
        "outputId": "3317e43c-a682-4eab-a3b0-3a56b18cc064"
      },
      "execution_count": 41,
      "outputs": [
        {
          "output_type": "stream",
          "name": "stdout",
          "text": [
            "Epoch 01 │ Train: loss=0.6945, acc=0.492 │ Val:   loss=0.6911, acc=0.478\n",
            "  ↳ new best, model saved.\n",
            "Epoch 02 │ Train: loss=0.6928, acc=0.530 │ Val:   loss=0.6915, acc=0.478\n",
            "Epoch 03 │ Train: loss=0.6904, acc=0.589 │ Val:   loss=0.6903, acc=0.522\n",
            "  ↳ new best, model saved.\n",
            "Epoch 04 │ Train: loss=0.6879, acc=0.551 │ Val:   loss=0.6895, acc=0.522\n",
            "Epoch 05 │ Train: loss=0.6900, acc=0.514 │ Val:   loss=0.6893, acc=0.522\n",
            "Epoch 06 │ Train: loss=0.6903, acc=0.524 │ Val:   loss=0.6892, acc=0.522\n",
            "Epoch 07 │ Train: loss=0.6877, acc=0.551 │ Val:   loss=0.6886, acc=0.522\n",
            "Epoch 08 │ Train: loss=0.6904, acc=0.508 │ Val:   loss=0.6888, acc=0.522\n",
            "Epoch 09 │ Train: loss=0.6832, acc=0.573 │ Val:   loss=0.6883, acc=0.522\n",
            "Epoch 10 │ Train: loss=0.6950, acc=0.530 │ Val:   loss=0.6874, acc=0.522\n",
            "Epoch 11 │ Train: loss=0.6879, acc=0.524 │ Val:   loss=0.6868, acc=0.522\n",
            "Epoch 12 │ Train: loss=0.6904, acc=0.497 │ Val:   loss=0.6875, acc=1.000\n",
            "  ↳ new best, model saved.\n",
            "Epoch 13 │ Train: loss=0.6943, acc=0.497 │ Val:   loss=0.6874, acc=0.478\n",
            "Epoch 14 │ Train: loss=0.6894, acc=0.508 │ Val:   loss=0.6856, acc=0.522\n",
            "Epoch 15 │ Train: loss=0.6884, acc=0.535 │ Val:   loss=0.6844, acc=0.522\n",
            "Epoch 16 │ Train: loss=0.6852, acc=0.530 │ Val:   loss=0.6835, acc=0.522\n",
            "Epoch 17 │ Train: loss=0.6852, acc=0.519 │ Val:   loss=0.6822, acc=0.522\n",
            "Epoch 18 │ Train: loss=0.6850, acc=0.638 │ Val:   loss=0.6838, acc=0.478\n",
            "Epoch 19 │ Train: loss=0.6858, acc=0.541 │ Val:   loss=0.6811, acc=0.478\n",
            "Epoch 20 │ Train: loss=0.6873, acc=0.573 │ Val:   loss=0.6769, acc=0.522\n",
            "Epoch 21 │ Train: loss=0.6798, acc=0.622 │ Val:   loss=0.6753, acc=1.000\n",
            "Epoch 22 │ Train: loss=0.6759, acc=0.686 │ Val:   loss=0.6702, acc=1.000\n",
            "Epoch 23 │ Train: loss=0.6735, acc=0.643 │ Val:   loss=0.6649, acc=1.000\n",
            "Epoch 24 │ Train: loss=0.6667, acc=0.730 │ Val:   loss=0.6549, acc=0.522\n",
            "Epoch 25 │ Train: loss=0.6660, acc=0.557 │ Val:   loss=0.6546, acc=0.478\n",
            "Epoch 26 │ Train: loss=0.6472, acc=0.622 │ Val:   loss=0.6222, acc=0.522\n",
            "Epoch 27 │ Train: loss=0.6350, acc=0.708 │ Val:   loss=0.6000, acc=0.522\n",
            "Epoch 28 │ Train: loss=0.5953, acc=0.714 │ Val:   loss=0.5759, acc=0.478\n",
            "Epoch 29 │ Train: loss=0.5768, acc=0.849 │ Val:   loss=0.4986, acc=1.000\n",
            "Epoch 30 │ Train: loss=0.5036, acc=0.903 │ Val:   loss=0.3981, acc=1.000\n",
            "Epoch 31 │ Train: loss=0.3988, acc=0.995 │ Val:   loss=0.2684, acc=1.000\n",
            "Epoch 32 │ Train: loss=0.3872, acc=0.849 │ Val:   loss=0.3858, acc=1.000\n",
            "Epoch 33 │ Train: loss=0.4232, acc=0.778 │ Val:   loss=0.1532, acc=1.000\n",
            "Epoch 34 │ Train: loss=0.2193, acc=0.978 │ Val:   loss=0.1620, acc=1.000\n",
            "Epoch 35 │ Train: loss=0.1641, acc=0.995 │ Val:   loss=0.1572, acc=1.000\n",
            "Epoch 36 │ Train: loss=0.1421, acc=0.989 │ Val:   loss=0.7060, acc=0.522\n",
            "Epoch 37 │ Train: loss=0.2766, acc=0.870 │ Val:   loss=0.0987, acc=1.000\n",
            "Epoch 38 │ Train: loss=0.2518, acc=0.903 │ Val:   loss=0.0897, acc=1.000\n",
            "Epoch 39 │ Train: loss=0.1753, acc=0.968 │ Val:   loss=0.0924, acc=1.000\n",
            "Epoch 40 │ Train: loss=0.1133, acc=1.000 │ Val:   loss=0.0727, acc=1.000\n",
            "Epoch 41 │ Train: loss=0.0939, acc=1.000 │ Val:   loss=0.0762, acc=1.000\n",
            "Epoch 42 │ Train: loss=0.0848, acc=1.000 │ Val:   loss=0.0748, acc=1.000\n",
            "Epoch 43 │ Train: loss=0.0763, acc=1.000 │ Val:   loss=0.0801, acc=1.000\n",
            "Epoch 44 │ Train: loss=0.0673, acc=1.000 │ Val:   loss=0.0633, acc=1.000\n",
            "Epoch 45 │ Train: loss=0.0589, acc=1.000 │ Val:   loss=0.0585, acc=1.000\n",
            "Epoch 46 │ Train: loss=0.0584, acc=1.000 │ Val:   loss=0.0533, acc=1.000\n",
            "Epoch 47 │ Train: loss=0.0525, acc=1.000 │ Val:   loss=0.0523, acc=1.000\n",
            "Epoch 48 │ Train: loss=0.0534, acc=1.000 │ Val:   loss=0.0489, acc=1.000\n",
            "Epoch 49 │ Train: loss=0.0491, acc=1.000 │ Val:   loss=0.0466, acc=1.000\n",
            "Epoch 50 │ Train: loss=0.0473, acc=1.000 │ Val:   loss=0.0453, acc=1.000\n",
            "Epoch 51 │ Train: loss=0.0447, acc=1.000 │ Val:   loss=0.0447, acc=1.000\n",
            "Epoch 52 │ Train: loss=0.0529, acc=1.000 │ Val:   loss=0.0430, acc=1.000\n",
            "Epoch 53 │ Train: loss=0.0389, acc=1.000 │ Val:   loss=0.0412, acc=1.000\n",
            "Epoch 54 │ Train: loss=0.0409, acc=1.000 │ Val:   loss=0.0399, acc=1.000\n",
            "Epoch 55 │ Train: loss=0.0413, acc=1.000 │ Val:   loss=0.0389, acc=1.000\n",
            "Epoch 56 │ Train: loss=0.0400, acc=1.000 │ Val:   loss=0.0377, acc=1.000\n",
            "Epoch 57 │ Train: loss=0.0388, acc=1.000 │ Val:   loss=0.0365, acc=1.000\n",
            "Epoch 58 │ Train: loss=0.0348, acc=1.000 │ Val:   loss=0.0353, acc=1.000\n",
            "Epoch 59 │ Train: loss=0.0350, acc=1.000 │ Val:   loss=0.0343, acc=1.000\n",
            "Epoch 60 │ Train: loss=0.0311, acc=1.000 │ Val:   loss=0.0332, acc=1.000\n",
            "Epoch 61 │ Train: loss=0.0365, acc=1.000 │ Val:   loss=0.0325, acc=1.000\n",
            "Epoch 62 │ Train: loss=0.0337, acc=1.000 │ Val:   loss=0.0315, acc=1.000\n",
            "Epoch 63 │ Train: loss=0.0319, acc=1.000 │ Val:   loss=0.0305, acc=1.000\n",
            "Epoch 64 │ Train: loss=0.0330, acc=1.000 │ Val:   loss=0.0297, acc=1.000\n",
            "Epoch 65 │ Train: loss=0.0308, acc=1.000 │ Val:   loss=0.0289, acc=1.000\n",
            "Epoch 66 │ Train: loss=0.0319, acc=1.000 │ Val:   loss=0.0281, acc=1.000\n",
            "Epoch 67 │ Train: loss=0.0290, acc=1.000 │ Val:   loss=0.0273, acc=1.000\n",
            "Epoch 68 │ Train: loss=0.0303, acc=1.000 │ Val:   loss=0.0266, acc=1.000\n",
            "Epoch 69 │ Train: loss=0.0267, acc=1.000 │ Val:   loss=0.0259, acc=1.000\n",
            "Epoch 70 │ Train: loss=0.0261, acc=1.000 │ Val:   loss=0.0252, acc=1.000\n",
            "Epoch 71 │ Train: loss=0.0261, acc=1.000 │ Val:   loss=0.0246, acc=1.000\n",
            "Epoch 72 │ Train: loss=0.0254, acc=1.000 │ Val:   loss=0.0241, acc=1.000\n",
            "Epoch 73 │ Train: loss=0.0258, acc=1.000 │ Val:   loss=0.0236, acc=1.000\n",
            "Epoch 74 │ Train: loss=0.0280, acc=1.000 │ Val:   loss=0.0230, acc=1.000\n",
            "Epoch 75 │ Train: loss=0.0250, acc=1.000 │ Val:   loss=0.0225, acc=1.000\n",
            "Epoch 76 │ Train: loss=0.0247, acc=1.000 │ Val:   loss=0.0220, acc=1.000\n",
            "Epoch 77 │ Train: loss=0.0216, acc=1.000 │ Val:   loss=0.0214, acc=1.000\n",
            "Epoch 78 │ Train: loss=0.0211, acc=1.000 │ Val:   loss=0.0209, acc=1.000\n",
            "Epoch 79 │ Train: loss=0.0240, acc=1.000 │ Val:   loss=0.0205, acc=1.000\n",
            "Epoch 80 │ Train: loss=0.0202, acc=1.000 │ Val:   loss=0.0201, acc=1.000\n",
            "Epoch 81 │ Train: loss=0.0226, acc=1.000 │ Val:   loss=0.0196, acc=1.000\n",
            "Epoch 82 │ Train: loss=0.0198, acc=1.000 │ Val:   loss=0.0191, acc=1.000\n",
            "Epoch 83 │ Train: loss=0.0200, acc=1.000 │ Val:   loss=0.0187, acc=1.000\n",
            "Epoch 84 │ Train: loss=0.0237, acc=1.000 │ Val:   loss=0.0183, acc=1.000\n",
            "Epoch 85 │ Train: loss=0.0197, acc=1.000 │ Val:   loss=0.0179, acc=1.000\n",
            "Epoch 86 │ Train: loss=0.0184, acc=1.000 │ Val:   loss=0.0176, acc=1.000\n",
            "Epoch 87 │ Train: loss=0.0195, acc=1.000 │ Val:   loss=0.0173, acc=1.000\n",
            "Epoch 88 │ Train: loss=0.0192, acc=1.000 │ Val:   loss=0.0170, acc=1.000\n",
            "Epoch 89 │ Train: loss=0.0199, acc=1.000 │ Val:   loss=0.0166, acc=1.000\n",
            "Epoch 90 │ Train: loss=0.0185, acc=1.000 │ Val:   loss=0.0163, acc=1.000\n",
            "Epoch 91 │ Train: loss=0.0186, acc=1.000 │ Val:   loss=0.0160, acc=1.000\n",
            "Epoch 92 │ Train: loss=0.0167, acc=1.000 │ Val:   loss=0.0156, acc=1.000\n",
            "Epoch 93 │ Train: loss=0.0170, acc=1.000 │ Val:   loss=0.0153, acc=1.000\n",
            "Epoch 94 │ Train: loss=0.0177, acc=1.000 │ Val:   loss=0.0150, acc=1.000\n",
            "Epoch 95 │ Train: loss=0.0183, acc=1.000 │ Val:   loss=0.0148, acc=1.000\n",
            "Epoch 96 │ Train: loss=0.0160, acc=1.000 │ Val:   loss=0.0146, acc=1.000\n",
            "Epoch 97 │ Train: loss=0.0156, acc=1.000 │ Val:   loss=0.0142, acc=1.000\n",
            "Epoch 98 │ Train: loss=0.0174, acc=1.000 │ Val:   loss=0.0139, acc=1.000\n",
            "Epoch 99 │ Train: loss=0.0157, acc=1.000 │ Val:   loss=0.0136, acc=1.000\n",
            "Epoch 100 │ Train: loss=0.0168, acc=1.000 │ Val:   loss=0.0134, acc=1.000\n",
            "Epoch 101 │ Train: loss=0.0151, acc=1.000 │ Val:   loss=0.0133, acc=1.000\n",
            "Epoch 102 │ Train: loss=0.0167, acc=1.000 │ Val:   loss=0.0131, acc=1.000\n",
            "Epoch 103 │ Train: loss=0.0143, acc=1.000 │ Val:   loss=0.0129, acc=1.000\n",
            "Epoch 104 │ Train: loss=0.0145, acc=1.000 │ Val:   loss=0.0126, acc=1.000\n",
            "Epoch 105 │ Train: loss=0.0121, acc=1.000 │ Val:   loss=0.0123, acc=1.000\n",
            "Epoch 106 │ Train: loss=0.0127, acc=1.000 │ Val:   loss=0.0120, acc=1.000\n",
            "Epoch 107 │ Train: loss=0.0131, acc=1.000 │ Val:   loss=0.0119, acc=1.000\n",
            "Epoch 108 │ Train: loss=0.0137, acc=1.000 │ Val:   loss=0.0116, acc=1.000\n",
            "Epoch 109 │ Train: loss=0.0130, acc=1.000 │ Val:   loss=0.0115, acc=1.000\n",
            "Epoch 110 │ Train: loss=0.0116, acc=1.000 │ Val:   loss=0.0113, acc=1.000\n",
            "Epoch 111 │ Train: loss=0.0124, acc=1.000 │ Val:   loss=0.0111, acc=1.000\n",
            "Epoch 112 │ Train: loss=0.0127, acc=1.000 │ Val:   loss=0.0109, acc=1.000\n",
            "Epoch 113 │ Train: loss=0.0108, acc=1.000 │ Val:   loss=0.0107, acc=1.000\n",
            "Epoch 114 │ Train: loss=0.0127, acc=1.000 │ Val:   loss=0.0105, acc=1.000\n",
            "Epoch 115 │ Train: loss=0.0119, acc=1.000 │ Val:   loss=0.0104, acc=1.000\n",
            "Epoch 116 │ Train: loss=0.0121, acc=1.000 │ Val:   loss=0.0102, acc=1.000\n",
            "Epoch 117 │ Train: loss=0.0121, acc=1.000 │ Val:   loss=0.0101, acc=1.000\n",
            "Epoch 118 │ Train: loss=0.0112, acc=1.000 │ Val:   loss=0.0100, acc=1.000\n",
            "Epoch 119 │ Train: loss=0.0113, acc=1.000 │ Val:   loss=0.0098, acc=1.000\n",
            "Epoch 120 │ Train: loss=0.0129, acc=1.000 │ Val:   loss=0.0096, acc=1.000\n",
            "Epoch 121 │ Train: loss=0.0110, acc=1.000 │ Val:   loss=0.0095, acc=1.000\n",
            "Epoch 122 │ Train: loss=0.0103, acc=1.000 │ Val:   loss=0.0094, acc=1.000\n",
            "Epoch 123 │ Train: loss=0.0119, acc=1.000 │ Val:   loss=0.0092, acc=1.000\n",
            "Epoch 124 │ Train: loss=0.0096, acc=1.000 │ Val:   loss=0.0090, acc=1.000\n",
            "Epoch 125 │ Train: loss=0.0111, acc=1.000 │ Val:   loss=0.0089, acc=1.000\n",
            "Epoch 126 │ Train: loss=0.0114, acc=1.000 │ Val:   loss=0.0088, acc=1.000\n",
            "Epoch 127 │ Train: loss=0.0101, acc=1.000 │ Val:   loss=0.0087, acc=1.000\n",
            "Epoch 128 │ Train: loss=0.0092, acc=1.000 │ Val:   loss=0.0086, acc=1.000\n",
            "Epoch 129 │ Train: loss=0.0098, acc=1.000 │ Val:   loss=0.0084, acc=1.000\n",
            "Epoch 130 │ Train: loss=0.0121, acc=1.000 │ Val:   loss=0.0083, acc=1.000\n",
            "Epoch 131 │ Train: loss=0.0109, acc=1.000 │ Val:   loss=0.0081, acc=1.000\n",
            "Epoch 132 │ Train: loss=0.0101, acc=1.000 │ Val:   loss=0.0080, acc=1.000\n",
            "Epoch 133 │ Train: loss=0.0080, acc=1.000 │ Val:   loss=0.0079, acc=1.000\n",
            "Epoch 134 │ Train: loss=0.0103, acc=1.000 │ Val:   loss=0.0078, acc=1.000\n",
            "Epoch 135 │ Train: loss=0.0095, acc=1.000 │ Val:   loss=0.0077, acc=1.000\n",
            "Epoch 136 │ Train: loss=0.0089, acc=1.000 │ Val:   loss=0.0075, acc=1.000\n",
            "Epoch 137 │ Train: loss=0.0098, acc=1.000 │ Val:   loss=0.0074, acc=1.000\n",
            "Epoch 138 │ Train: loss=0.0085, acc=1.000 │ Val:   loss=0.0073, acc=1.000\n",
            "Epoch 139 │ Train: loss=0.0075, acc=1.000 │ Val:   loss=0.0072, acc=1.000\n",
            "Epoch 140 │ Train: loss=0.0102, acc=1.000 │ Val:   loss=0.0071, acc=1.000\n",
            "Epoch 141 │ Train: loss=0.0072, acc=1.000 │ Val:   loss=0.0070, acc=1.000\n",
            "Epoch 142 │ Train: loss=0.0082, acc=1.000 │ Val:   loss=0.0069, acc=1.000\n",
            "Epoch 143 │ Train: loss=0.0072, acc=1.000 │ Val:   loss=0.0068, acc=1.000\n",
            "Epoch 144 │ Train: loss=0.0090, acc=1.000 │ Val:   loss=0.0067, acc=1.000\n",
            "Epoch 145 │ Train: loss=0.0084, acc=1.000 │ Val:   loss=0.0066, acc=1.000\n",
            "Epoch 146 │ Train: loss=0.0069, acc=1.000 │ Val:   loss=0.0065, acc=1.000\n",
            "Epoch 147 │ Train: loss=0.0068, acc=1.000 │ Val:   loss=0.0064, acc=1.000\n",
            "Epoch 148 │ Train: loss=0.0095, acc=1.000 │ Val:   loss=0.0063, acc=1.000\n",
            "Epoch 149 │ Train: loss=0.0075, acc=1.000 │ Val:   loss=0.0062, acc=1.000\n",
            "Epoch 150 │ Train: loss=0.0093, acc=1.000 │ Val:   loss=0.0062, acc=1.000\n"
          ]
        }
      ]
    },
    {
      "cell_type": "code",
      "source": [
        "import matplotlib.pyplot as plt\n",
        "\n",
        "epochs = list(range(1, len(train_losses) + 1))\n",
        "\n",
        "plt.figure()\n",
        "plt.plot(epochs, train_losses, label='Train Loss')\n",
        "plt.plot(epochs, val_losses,   label='Val Loss')\n",
        "plt.xlabel('Epoch')\n",
        "plt.ylabel('Loss')\n",
        "plt.title('Training vs. Validation Loss')\n",
        "plt.legend()\n",
        "plt.show()\n"
      ],
      "metadata": {
        "colab": {
          "base_uri": "https://localhost:8080/",
          "height": 472
        },
        "id": "3AMSyM3LNlqu",
        "outputId": "077218ff-2214-47ce-dad8-7afaf4a560b8"
      },
      "execution_count": 42,
      "outputs": [
        {
          "output_type": "display_data",
          "data": {
            "text/plain": [
              "<Figure size 640x480 with 1 Axes>"
            ],
            "image/png": "[encoded data removed]"
          },
          "metadata": {}
        }
      ]
    },
    {
      "cell_type": "code",
      "source": [
        "plt.figure()\n",
        "plt.plot(epochs, train_accs, label='Train Accuracy')\n",
        "plt.plot(epochs, val_accs,   label='Val Accuracy')\n",
        "plt.xlabel('Epoch')\n",
        "plt.ylabel('Accuracy')\n",
        "plt.title('Training vs. Validation Accuracy')\n",
        "plt.legend()\n",
        "plt.show()\n"
      ],
      "metadata": {
        "colab": {
          "base_uri": "https://localhost:8080/",
          "height": 472
        },
        "id": "YpTDf7HkNwnf",
        "outputId": "440a7226-c03c-4562-97c3-6565a6ab2bcc"
      },
      "execution_count": 43,
      "outputs": [
        {
          "output_type": "display_data",
          "data": {
            "text/plain": [
              "<Figure size 640x480 with 1 Axes>"
            ],
            "image/png": "[encoded data removed]"
          },
          "metadata": {}
        }
      ]
    },
    {
      "cell_type": "code",
      "source": [
        "import matplotlib.pyplot as plt\n",
        "from sklearn.metrics import confusion_matrix\n",
        "import pandas as pd\n",
        "import torch\n",
        "\n",
        "# 1) Plot training & validation loss\n",
        "epochs = list(range(1, len(train_losses) + 1))\n",
        "plt.figure()\n",
        "plt.plot(epochs, train_losses, label='Train Loss')\n",
        "plt.plot(epochs, val_losses,   label='Val Loss')\n",
        "plt.xlabel('Epoch')\n",
        "plt.ylabel('Loss')\n",
        "plt.title('Training vs. Validation Loss')\n",
        "plt.legend()\n",
        "plt.show()\n",
        "\n",
        "# 2) Compute confusion matrix on the test set\n",
        "model.eval()\n",
        "all_preds, all_targets = [], []\n",
        "with torch.no_grad():\n",
        "    for xb, yb in test_loader:\n",
        "        xb, yb = xb.to(device), yb.to(device)\n",
        "        logits = model(xb)\n",
        "        preds = logits.argmax(dim=1).cpu().numpy()\n",
        "        all_preds.extend(preds)\n",
        "        all_targets.extend(yb.cpu().numpy())\n",
        "\n",
        "# Build & display as a DataFrame\n",
        "cm = confusion_matrix(all_targets, all_preds)\n",
        "df_cm = pd.DataFrame(\n",
        "    cm,\n",
        "    index=['True State1','True State7'],\n",
        "    columns=['Pred State1','Pred State7']\n",
        ")\n",
        "print(\"Confusion Matrix:\\n\", df_cm)\n"
      ],
      "metadata": {
        "colab": {
          "base_uri": "https://localhost:8080/",
          "height": 541
        },
        "id": "A9xO-wonOF7G",
        "outputId": "36515ad3-53e4-42b7-842a-806a1e59b8e2"
      },
      "execution_count": 44,
      "outputs": [
        {
          "output_type": "display_data",
          "data": {
            "text/plain": [
              "<Figure size 640x480 with 1 Axes>"
            ],
            "image/png": "[encoded data removed]"
          },
          "metadata": {}
        },
        {
          "output_type": "stream",
          "name": "stdout",
          "text": [
            "Confusion Matrix:\n",
            "              Pred State1  Pred State7\n",
            "True State1           14            0\n",
            "True State7            0           10\n"
          ]
        }
      ]
    }
  ]
}