{
  "cells": [
    {
      "cell_type": "markdown",
      "metadata": {
        "id": "view-in-github",
        "colab_type": "text"
      },
      "source": [
        "<a href=\"https://colab.research.google.com/github/SahelKherad/3-story-benchmark-transformer/blob/main/1404_08_04_arbitrary_time_series.ipynb\" target=\"_parent\"><img src=\"https://colab.research.google.com/assets/colab-badge.svg\" alt=\"Open In Colab\"/></a>"
      ]
    },
    {
      "cell_type": "code",
      "execution_count": 45,
      "metadata": {
        "id": "WI4Va3XjlXwJ"
      },
      "outputs": [],
      "source": [
        "import numpy as np\n",
        "import torch\n",
        "import torch.nn as nn\n",
        "import torch.nn.functional as F\n",
        "from torch.utils.data import Dataset, DataLoader, random_split\n",
        "from sklearn.model_selection import train_test_split\n",
        "import torch.optim as optim"
      ]
    },
    {
      "cell_type": "code",
      "source": [
        "win = 2048\n",
        "t = np.arange(0, 800000, dtype=np.float32)\n",
        "a = np.sin(0.05*t)                       # class 0\n",
        "b = np.linspace(0, 1, 800000, dtype=np.float32)\n",
        "print(b)\n",
        "# b = np.arange(0, 80000, 2, dtype=np.float32)"
      ],
      "metadata": {
        "colab": {
          "base_uri": "https://localhost:8080/"
        },
        "id": "CPg-nHj-ubMd",
        "outputId": "ea844c6d-f606-43a1-a5ae-5f5ae952ad57"
      },
      "execution_count": 46,
      "outputs": [
        {
          "output_type": "stream",
          "name": "stdout",
          "text": [
            "[0.0000000e+00 1.2500016e-06 2.5000031e-06 ... 9.9999750e-01 9.9999875e-01\n",
            " 1.0000000e+00]\n"
          ]
        }
      ]
    },
    {
      "cell_type": "code",
      "execution_count": 47,
      "metadata": {
        "id": "0Gco8healpNp"
      },
      "outputs": [],
      "source": [
        "# win = 5\n",
        "# a = np.arange(1, 50, 2, dtype=np.float32)\n",
        "# print('a =',a)\n",
        "# print(len(a))\n",
        "# b = np.arange(0, 90, 2, dtype=np.float32)   # label 1\n",
        "# print(len(b))\n",
        "# print('b =',b)"
      ]
    },
    {
      "cell_type": "code",
      "source": [
        "n_train = 0.7\n",
        "n_val = 0.15\n",
        "\n",
        "m_0 = int(n_train * len(a))\n",
        "l_0 = int(n_val * len(a))\n",
        "\n",
        "m_1 = int(n_train * len(b))\n",
        "l_1 = int(n_val * len(b))\n",
        "\n",
        "X_train_0 = a[0:m_0]\n",
        "X_val_0   = a[m_0 :m_0+l_0]\n",
        "X_test_0  = a[m_0+l_0:]\n",
        "\n",
        "X_train_1 = b[0:m_1]\n",
        "X_val_1   = b[m_1 :m_1+l_1]\n",
        "X_test_1  = b[m_1+l_1:]"
      ],
      "metadata": {
        "id": "7E3fybwJtKx_"
      },
      "execution_count": 48,
      "outputs": []
    },
    {
      "cell_type": "code",
      "source": [
        "print(X_train_0)\n",
        "print('val:\\n',X_val_0)\n",
        "print(X_test_0)"
      ],
      "metadata": {
        "colab": {
          "base_uri": "https://localhost:8080/"
        },
        "id": "AbcVd9wCtAE-",
        "outputId": "2f8d0122-536d-45ba-d096-93232ad19ea2"
      },
      "execution_count": 49,
      "outputs": [
        {
          "output_type": "stream",
          "name": "stdout",
          "text": [
            "[0.         0.04997917 0.09983342 ... 0.9190692  0.8978803  0.8743766 ]\n",
            "val:\n",
            " [0.84965014 0.821787   0.7929966  ... 0.99938995 0.9998744  0.9980334 ]\n",
            "[0.993565  0.9865351 0.9769617 ... 0.8884225 0.9105772 0.9289451]\n"
          ]
        }
      ]
    },
    {
      "cell_type": "code",
      "source": [
        "print(X_train_1)\n",
        "print('val:\\n',X_val_1)\n",
        "print(X_test_1)"
      ],
      "metadata": {
        "colab": {
          "base_uri": "https://localhost:8080/"
        },
        "id": "2Q_MTzSdtGE9",
        "outputId": "860bc5a6-7e4b-48b0-bd53-7e3fc58cc199"
      },
      "execution_count": 50,
      "outputs": [
        {
          "output_type": "stream",
          "name": "stdout",
          "text": [
            "[0.0000000e+00 1.2500016e-06 2.5000031e-06 ... 6.9999713e-01 6.9999838e-01\n",
            " 6.9999963e-01]\n",
            "val:\n",
            " [0.7000009  0.70000213 0.7000034  ... 0.84999734 0.84999853 0.8499998 ]\n",
            "[0.85000104 0.8500023  0.85000354 ... 0.9999975  0.99999875 1.        ]\n"
          ]
        }
      ]
    },
    {
      "cell_type": "code",
      "source": [
        "con = np.concatenate([X_train_0,X_train_1])\n",
        "print(con)\n",
        "mu = con.mean(axis=(0) , keepdims = True)\n",
        "print(mu)\n",
        "std = X_train_1.std(axis=(0), keepdims=True) + 1e-6"
      ],
      "metadata": {
        "id": "6KUm2xomylsq",
        "colab": {
          "base_uri": "https://localhost:8080/"
        },
        "outputId": "252fc4aa-a0aa-48b9-ab78-f6892444a0bf"
      },
      "execution_count": 51,
      "outputs": [
        {
          "output_type": "stream",
          "name": "stdout",
          "text": [
            "[0.         0.04997917 0.09983342 ... 0.6999971  0.6999984  0.69999963]\n",
            "[0.17502682]\n"
          ]
        }
      ]
    },
    {
      "cell_type": "code",
      "source": [
        "X_train_0 = (X_train_0 - mu) / std\n",
        "X_val_0   = (X_val_0   - mu) / std\n",
        "X_test_0  = (X_test_0  - mu) / std\n",
        "\n",
        "X_train_1 = (X_train_1 - mu) / std\n",
        "X_val_1   = (X_val_1   - mu) / std\n",
        "X_test_1  = (X_test_1  - mu) / std"
      ],
      "metadata": {
        "id": "Xlkj2z9ht-dI"
      },
      "execution_count": 52,
      "outputs": []
    },
    {
      "cell_type": "code",
      "execution_count": 53,
      "metadata": {
        "id": "nqZDEBIf9mYV"
      },
      "outputs": [],
      "source": [
        "def make_windows(data, frame_length, drop_last : bool = True):\n",
        "    # Calculate how many full frames can be created\n",
        "    num_frames = len(data) // frame_length\n",
        "    # print(num_frames)\n",
        "    # Trim the data to be a perfect multiple of the frame length\n",
        "    trimmed_data = data[:num_frames * frame_length]\n",
        "\n",
        "    # Reshape the data into a 2D array of frames\n",
        "    windows = trimmed_data.reshape((num_frames, frame_length))\n",
        "    # return trimmed_data.shape , frames.shape\n",
        "    return windows"
      ]
    },
    {
      "cell_type": "code",
      "execution_count": 54,
      "metadata": {
        "colab": {
          "base_uri": "https://localhost:8080/"
        },
        "id": "c_Jie5jvobmL",
        "outputId": "8781442b-904a-49b2-a903-ea57ceeab6c6"
      },
      "outputs": [
        {
          "output_type": "stream",
          "name": "stdout",
          "text": [
            "Train_0 = \n",
            "\n",
            "(273, 2048)\n",
            "(58, 2048)\n",
            "(58, 2048)\n",
            "(389,)\n",
            "\n",
            " Train_1 = \n",
            "\n",
            "(273, 2048)\n",
            "(58, 2048)\n",
            "(58, 2048)\n",
            "(389,)\n"
          ]
        }
      ],
      "source": [
        "# 2) Make windows per class\n",
        "X_train_0 = make_windows(X_train_0, win, drop_last=True)\n",
        "X_val_0 = make_windows(X_val_0, win, drop_last=True)\n",
        "X_test_0 = make_windows(X_test_0, win, drop_last=True)\n",
        "\n",
        "y_0 = np.zeros((X_train_0.shape[0]+X_val_0.shape[0]+X_test_0.shape[0]), dtype=np.int64)\n",
        "\n",
        "print('Train_0 = \\n')\n",
        "print(X_train_0.shape)\n",
        "print(X_val_0.shape)\n",
        "print(X_test_0.shape)\n",
        "print(y_0.shape)\n",
        "\n",
        "X_train_1 = make_windows(X_train_1, win, drop_last=True)\n",
        "X_val_1 = make_windows(X_val_1, win, drop_last=True)\n",
        "X_test_1 = make_windows(X_test_1, win, drop_last=True)\n",
        "\n",
        "y_1 = np.ones((X_train_1.shape[0]+X_val_1.shape[0]+X_test_1.shape[0]), dtype=np.int64)\n",
        "\n",
        "print('\\n Train_1 = \\n')\n",
        "print(X_train_1.shape)\n",
        "print(X_val_1.shape)\n",
        "print(X_test_1.shape)\n",
        "print(y_1.shape)\n",
        "\n"
      ]
    },
    {
      "cell_type": "code",
      "source": [
        "X_train = np.vstack([X_train_0, X_train_1])[:, :, None]  # [N, 5, 1]\n",
        "print(X_train.shape)\n",
        "\n",
        "y_train = np.concatenate([y_0[0:int(len(X_train_0))], y_1[0:int(len(X_train_1))]])             # [N]\n",
        "print(y_train)\n",
        "print(y_train.shape)"
      ],
      "metadata": {
        "colab": {
          "base_uri": "https://localhost:8080/"
        },
        "id": "sRYDXLtPxEX_",
        "outputId": "6a851894-706c-47e8-8976-4081137e2ead"
      },
      "execution_count": 55,
      "outputs": [
        {
          "output_type": "stream",
          "name": "stdout",
          "text": [
            "(546, 2048, 1)\n",
            "[0 0 0 0 0 0 0 0 0 0 0 0 0 0 0 0 0 0 0 0 0 0 0 0 0 0 0 0 0 0 0 0 0 0 0 0 0\n",
            " 0 0 0 0 0 0 0 0 0 0 0 0 0 0 0 0 0 0 0 0 0 0 0 0 0 0 0 0 0 0 0 0 0 0 0 0 0\n",
            " 0 0 0 0 0 0 0 0 0 0 0 0 0 0 0 0 0 0 0 0 0 0 0 0 0 0 0 0 0 0 0 0 0 0 0 0 0\n",
            " 0 0 0 0 0 0 0 0 0 0 0 0 0 0 0 0 0 0 0 0 0 0 0 0 0 0 0 0 0 0 0 0 0 0 0 0 0\n",
            " 0 0 0 0 0 0 0 0 0 0 0 0 0 0 0 0 0 0 0 0 0 0 0 0 0 0 0 0 0 0 0 0 0 0 0 0 0\n",
            " 0 0 0 0 0 0 0 0 0 0 0 0 0 0 0 0 0 0 0 0 0 0 0 0 0 0 0 0 0 0 0 0 0 0 0 0 0\n",
            " 0 0 0 0 0 0 0 0 0 0 0 0 0 0 0 0 0 0 0 0 0 0 0 0 0 0 0 0 0 0 0 0 0 0 0 0 0\n",
            " 0 0 0 0 0 0 0 0 0 0 0 0 0 0 1 1 1 1 1 1 1 1 1 1 1 1 1 1 1 1 1 1 1 1 1 1 1\n",
            " 1 1 1 1 1 1 1 1 1 1 1 1 1 1 1 1 1 1 1 1 1 1 1 1 1 1 1 1 1 1 1 1 1 1 1 1 1\n",
            " 1 1 1 1 1 1 1 1 1 1 1 1 1 1 1 1 1 1 1 1 1 1 1 1 1 1 1 1 1 1 1 1 1 1 1 1 1\n",
            " 1 1 1 1 1 1 1 1 1 1 1 1 1 1 1 1 1 1 1 1 1 1 1 1 1 1 1 1 1 1 1 1 1 1 1 1 1\n",
            " 1 1 1 1 1 1 1 1 1 1 1 1 1 1 1 1 1 1 1 1 1 1 1 1 1 1 1 1 1 1 1 1 1 1 1 1 1\n",
            " 1 1 1 1 1 1 1 1 1 1 1 1 1 1 1 1 1 1 1 1 1 1 1 1 1 1 1 1 1 1 1 1 1 1 1 1 1\n",
            " 1 1 1 1 1 1 1 1 1 1 1 1 1 1 1 1 1 1 1 1 1 1 1 1 1 1 1 1 1 1 1 1 1 1 1 1 1\n",
            " 1 1 1 1 1 1 1 1 1 1 1 1 1 1 1 1 1 1 1 1 1 1 1 1 1 1 1 1]\n",
            "(546,)\n"
          ]
        }
      ]
    },
    {
      "cell_type": "code",
      "source": [
        "from math import perm\n",
        "perm = np.random.permutation(len(X_train))\n",
        "X_train = X_train[perm]\n",
        "y_train = y_train[perm]\n",
        "print(y_train)"
      ],
      "metadata": {
        "id": "rsrS_maq7Kpw",
        "colab": {
          "base_uri": "https://localhost:8080/"
        },
        "outputId": "2c111463-6f5d-40c2-c2e6-a6a51ffa23c6"
      },
      "execution_count": 56,
      "outputs": [
        {
          "output_type": "stream",
          "name": "stdout",
          "text": [
            "[1 1 0 0 1 0 1 0 1 1 0 1 0 0 1 0 1 0 1 0 1 1 1 1 0 1 1 0 1 0 1 1 1 1 1 0 1\n",
            " 1 0 0 0 0 0 0 0 0 1 1 0 1 0 0 0 0 1 0 0 0 0 1 1 1 1 0 0 1 0 1 1 0 1 0 0 1\n",
            " 0 0 1 0 1 0 1 0 1 0 0 0 0 1 0 0 0 1 0 0 1 1 0 0 0 1 1 0 1 1 0 0 1 1 1 1 0\n",
            " 0 0 0 1 1 1 1 1 0 1 1 1 0 1 0 0 1 0 1 1 1 0 1 1 1 0 0 0 0 1 0 1 0 1 1 0 0\n",
            " 0 1 0 1 1 0 0 0 1 1 1 1 1 1 1 1 1 0 0 0 0 0 1 0 0 0 1 1 0 1 1 1 0 1 1 1 0\n",
            " 0 1 0 0 1 1 0 1 0 0 1 0 1 0 0 1 0 1 1 0 1 1 0 0 1 1 1 1 1 0 0 1 0 0 1 0 1\n",
            " 1 0 1 1 0 1 1 0 1 1 1 1 1 1 1 1 0 0 0 1 0 0 0 1 1 0 0 0 0 1 0 1 0 1 0 0 0\n",
            " 0 1 1 1 0 0 0 1 0 0 0 1 1 1 0 0 0 1 1 1 0 0 0 0 0 1 1 0 0 0 1 0 0 0 1 1 1\n",
            " 1 0 1 1 0 1 0 0 1 0 1 1 0 1 1 1 1 0 1 1 1 0 1 0 0 0 1 1 0 1 0 1 0 0 0 0 0\n",
            " 1 0 1 1 1 1 1 1 1 0 1 0 0 1 0 0 0 0 0 0 1 1 1 0 1 1 0 1 1 0 0 0 1 0 1 0 0\n",
            " 1 1 1 0 1 1 0 0 0 1 0 0 1 0 0 1 1 0 1 1 1 0 0 1 0 0 1 0 1 0 1 0 0 0 0 0 0\n",
            " 1 0 1 0 0 0 1 1 1 1 1 0 1 0 0 0 0 0 1 0 1 1 0 0 1 0 1 0 1 0 0 0 1 1 0 0 1\n",
            " 0 0 1 1 0 1 1 1 1 1 1 0 0 1 0 0 1 1 0 0 0 0 0 1 1 0 1 0 1 0 1 1 1 0 0 0 1\n",
            " 1 1 1 0 0 0 1 0 1 0 0 1 0 0 1 0 0 0 0 1 1 1 0 0 1 1 0 0 0 0 0 1 1 0 1 0 1\n",
            " 1 1 1 0 1 1 1 1 1 0 0 1 0 1 1 1 0 0 1 1 1 0 1 0 1 1 0 1]\n"
          ]
        }
      ]
    },
    {
      "cell_type": "code",
      "source": [
        "X_val = np.vstack([X_val_0, X_val_1])[:, :, None]  # [N, 5, 1]\n",
        "print(X_val.shape)\n",
        "\n",
        "y_val = np.concatenate([y_0[int(len(X_train_0)):int(len(X_train_0) + len(X_val_0))], y_1[int(len(X_train_1)):int(len(X_train_1) + len(X_val_1))]])             # [N]\n",
        "print(y_val)\n",
        "print(y_val.shape)"
      ],
      "metadata": {
        "colab": {
          "base_uri": "https://localhost:8080/"
        },
        "id": "So-C1gRH3hI0",
        "outputId": "f4ef6497-fb59-4a44-e981-b00123c93068"
      },
      "execution_count": 57,
      "outputs": [
        {
          "output_type": "stream",
          "name": "stdout",
          "text": [
            "(116, 2048, 1)\n",
            "[0 0 0 0 0 0 0 0 0 0 0 0 0 0 0 0 0 0 0 0 0 0 0 0 0 0 0 0 0 0 0 0 0 0 0 0 0\n",
            " 0 0 0 0 0 0 0 0 0 0 0 0 0 0 0 0 0 0 0 0 0 1 1 1 1 1 1 1 1 1 1 1 1 1 1 1 1\n",
            " 1 1 1 1 1 1 1 1 1 1 1 1 1 1 1 1 1 1 1 1 1 1 1 1 1 1 1 1 1 1 1 1 1 1 1 1 1\n",
            " 1 1 1 1 1]\n",
            "(116,)\n"
          ]
        }
      ]
    },
    {
      "cell_type": "code",
      "source": [
        "X_test =  np.vstack([X_test_0, X_test_1])[:, :, None]  # [N, 5, 1]\n",
        "print(X_test.shape)\n",
        "\n",
        "y_test = np.concatenate([y_0[int(len(X_train_0) + len(X_val_0)):], y_1[int(len(X_train_1) + len(X_val_1)):]], axis=0)             # [N]\n",
        "print(y_test)\n",
        "print(y_test.shape) # Corrected to print y_val shape"
      ],
      "metadata": {
        "colab": {
          "base_uri": "https://localhost:8080/"
        },
        "id": "1pJfOpgK2eVC",
        "outputId": "ef983011-e25b-4500-8089-66bf46cc504f"
      },
      "execution_count": 58,
      "outputs": [
        {
          "output_type": "stream",
          "name": "stdout",
          "text": [
            "(116, 2048, 1)\n",
            "[0 0 0 0 0 0 0 0 0 0 0 0 0 0 0 0 0 0 0 0 0 0 0 0 0 0 0 0 0 0 0 0 0 0 0 0 0\n",
            " 0 0 0 0 0 0 0 0 0 0 0 0 0 0 0 0 0 0 0 0 0 1 1 1 1 1 1 1 1 1 1 1 1 1 1 1 1\n",
            " 1 1 1 1 1 1 1 1 1 1 1 1 1 1 1 1 1 1 1 1 1 1 1 1 1 1 1 1 1 1 1 1 1 1 1 1 1\n",
            " 1 1 1 1 1]\n",
            "(116,)\n"
          ]
        }
      ]
    },
    {
      "cell_type": "code",
      "execution_count": 59,
      "metadata": {
        "id": "PEItdL-i3BpI"
      },
      "outputs": [],
      "source": [
        "# 5) Torch tensors\n",
        "X_train = torch.from_numpy(X_train).float()  # float32\n",
        "y_train = torch.from_numpy(y_train).long()  # int64\n",
        "X_val   = torch.from_numpy(X_val).float()\n",
        "y_val   = torch.from_numpy(y_val).long()\n",
        "X_test  = torch.from_numpy(X_test).float()\n",
        "y_test  = torch.from_numpy(y_test).long()"
      ]
    },
    {
      "cell_type": "code",
      "source": [
        "print(X_train.shape, y_train.shape)\n",
        "print(X_val.shape, y_val.shape)\n",
        "print(X_test.shape, y_test.shape)"
      ],
      "metadata": {
        "colab": {
          "base_uri": "https://localhost:8080/"
        },
        "id": "SW5vLyEd22Nn",
        "outputId": "0d676fd8-c6f0-43f0-ed57-0e769c9270db"
      },
      "execution_count": 60,
      "outputs": [
        {
          "output_type": "stream",
          "name": "stdout",
          "text": [
            "torch.Size([546, 2048, 1]) torch.Size([546])\n",
            "torch.Size([116, 2048, 1]) torch.Size([116])\n",
            "torch.Size([116, 2048, 1]) torch.Size([116])\n"
          ]
        }
      ]
    },
    {
      "cell_type": "code",
      "execution_count": 61,
      "metadata": {
        "id": "6BO2wKwQ31Hl"
      },
      "outputs": [],
      "source": [
        "class SeqDataset(Dataset):\n",
        "    def __init__(self, X: torch.Tensor, y: torch.Tensor):\n",
        "        self.X = X  # [N, seq_len, 1]\n",
        "        self.y = y  # [N]\n",
        "    def __len__(self): return self.y.shape[0]\n",
        "    def __getitem__(self, i): return self.X[i], self.y[i]\n",
        "\n",
        "train_ds = SeqDataset(X_train, y_train)\n",
        "# print(X_train.shape)\n",
        "# print(train_ds[0])\n",
        "# print(train_ds[1])\n",
        "# print(train_ds[2])\n",
        "val_ds   = SeqDataset(X_val,   y_val)\n",
        "test_ds  = SeqDataset(X_test,  y_test)"
      ]
    },
    {
      "cell_type": "code",
      "execution_count": 62,
      "metadata": {
        "id": "trwRTA5l4x07"
      },
      "outputs": [],
      "source": [
        "# 6) DataLoaders: shuffle only the training set\n",
        "batch_size = 512\n",
        "train_loader = DataLoader(train_ds, batch_size=batch_size, shuffle=True)\n",
        "val_loader   = DataLoader(val_ds,   batch_size=batch_size, shuffle=False)\n",
        "test_loader  = DataLoader(test_ds,  batch_size=batch_size, shuffle=False)\n",
        "\n",
        "# tiny = 200\n",
        "# train_loader = DataLoader(SeqDataset(X_train[:tiny], y_train[:tiny]),batch_size=50, shuffle=True)\n",
        "\n",
        "# print('ppp',next(iter(train_loader)))"
      ]
    },
    {
      "cell_type": "code",
      "execution_count": 63,
      "metadata": {
        "id": "ShARWVtS53s6"
      },
      "outputs": [],
      "source": [
        "# 7) Example: adapt a batch for a Transformer [seq_len, batch, d_model]\n",
        "xb, yb = next(iter(train_loader))   # xb: [B, 5, 1]\n",
        "# xb_t = xb.transpose(0, 1)           # -> [5, B, 1]\n",
        "# print(\"Shapes:\", xb.shape, xb_t.shape, yb.shape)"
      ]
    },
    {
      "cell_type": "code",
      "execution_count": 64,
      "metadata": {
        "id": "vRC3Gc3HxdTB"
      },
      "outputs": [],
      "source": [
        "class LearnablePositionalEncoding(nn.Module):\n",
        "    \"\"\"\n",
        "    Learnable positional encoding added to token embeddings.\n",
        "    Shape stored: [1, max_len, d_model]\n",
        "    \"\"\"\n",
        "    def __init__(self, d_model: int, max_len: int):\n",
        "        super().__init__()\n",
        "        self.pe = nn.Parameter(torch.zeros(1, max_len, d_model))\n",
        "        print(self.pe)\n",
        "        nn.init.trunc_normal_(self.pe, std=0.02)\n",
        "\n",
        "    def forward(self, x):\n",
        "        # x: [B, T, d_model]\n",
        "        T = x.size(1)\n",
        "        return x + self.pe[:, :T, :]"
      ]
    },
    {
      "cell_type": "code",
      "execution_count": 65,
      "metadata": {
        "colab": {
          "base_uri": "https://localhost:8080/"
        },
        "id": "G9CsPkjZuGpY",
        "outputId": "ae90c9c7-819d-4914-e74c-066d4f9a9cf6"
      },
      "outputs": [
        {
          "output_type": "stream",
          "name": "stdout",
          "text": [
            "Parameter containing:\n",
            "tensor([[[0., 0., 0.],\n",
            "         [0., 0., 0.],\n",
            "         [0., 0., 0.],\n",
            "         [0., 0., 0.],\n",
            "         [0., 0., 0.]]], requires_grad=True)\n"
          ]
        }
      ],
      "source": [
        " pe = LearnablePositionalEncoding(d_model=3, max_len=5)\n",
        "#  print(pe(batch_X[0]))"
      ]
    },
    {
      "cell_type": "code",
      "execution_count": 66,
      "metadata": {
        "id": "DKX0TzqcgPDR"
      },
      "outputs": [],
      "source": [
        "class TimeSeriesTransformer(nn.Module):\n",
        "    def __init__(self, d_model=64, nhead=2, num_layers=2, d_ff=256, seq_len=5, num_classes=2, dropout=0.1):\n",
        "        super().__init__()\n",
        "        self.inp = nn.Linear(1, d_model)                            # project feature_dim=1 -> d_model\n",
        "        self.pos = LearnablePositionalEncoding(d_model, seq_len)    # learnable PE\n",
        "        enc_layer = nn.TransformerEncoderLayer(\n",
        "            d_model=d_model, nhead=nhead,\n",
        "            dim_feedforward=d_ff, dropout=dropout,\n",
        "            batch_first=True                                        # so we keep [B, T, d]\n",
        "        )\n",
        "        self.encoder = nn.TransformerEncoder(enc_layer, num_layers=num_layers)\n",
        "        self.norm = nn.LayerNorm(d_model)\n",
        "        self.head = nn.Linear(d_model, num_classes)\n",
        "\n",
        "    def forward(self, x):\n",
        "        # x: [B, T, 1]\n",
        "        x = self.inp(x)                  # [B, T, d]\n",
        "        x = self.pos(x)                  # add learnable PE\n",
        "        x = self.encoder(x)              # [B, T, d]\n",
        "        x = self.norm(x)\n",
        "        x = x.mean(dim=1)                # mean pool over time\n",
        "        logits = self.head(x)            # [B, C]\n",
        "        return logits"
      ]
    },
    {
      "cell_type": "code",
      "execution_count": 67,
      "metadata": {
        "colab": {
          "base_uri": "https://localhost:8080/"
        },
        "id": "HHfmZcI5RFV3",
        "outputId": "5b38b2e0-8e6c-407b-eba5-2046b5817d39"
      },
      "outputs": [
        {
          "output_type": "stream",
          "name": "stdout",
          "text": [
            "Parameter containing:\n",
            "tensor([[[0., 0., 0.,  ..., 0., 0., 0.],\n",
            "         [0., 0., 0.,  ..., 0., 0., 0.],\n",
            "         [0., 0., 0.,  ..., 0., 0., 0.],\n",
            "         ...,\n",
            "         [0., 0., 0.,  ..., 0., 0., 0.],\n",
            "         [0., 0., 0.,  ..., 0., 0., 0.],\n",
            "         [0., 0., 0.,  ..., 0., 0., 0.]]], requires_grad=True)\n"
          ]
        }
      ],
      "source": [
        "device = torch.device(\"cuda\" if torch.cuda.is_available() else \"cpu\")\n",
        "\n",
        "seq_len = X_train.shape[1]\n",
        "num_classes = 2\n",
        "model = TimeSeriesTransformer(d_model=64, nhead=2, num_layers=2, d_ff=256,seq_len=seq_len, num_classes=num_classes).to(device)"
      ]
    },
    {
      "cell_type": "code",
      "execution_count": 68,
      "metadata": {
        "id": "2XAbr2w1S3bo"
      },
      "outputs": [],
      "source": [
        "# Optional class weights for CE or focal alpha; compute from training labels\n",
        "class_counts = torch.bincount(y_train)\n",
        "class_weights = (class_counts.sum() / (class_counts.float().clamp(min=1)))  # inverse freq\n",
        "class_weights = class_weights / class_weights.sum() * num_classes           # normalize\n",
        "class_weights = class_weights.to(device)"
      ]
    },
    {
      "cell_type": "code",
      "execution_count": 69,
      "metadata": {
        "id": "UIleqd01Rm4V"
      },
      "outputs": [],
      "source": [
        "optimizer = torch.optim.AdamW(model.parameters(), lr=5e-4, weight_decay=1e-2)\n",
        "loss_fn = nn.CrossEntropyLoss(weight=class_weights)\n",
        "# loss = nn.BCELoss() # BCELoss = no sigmoid built-in\n",
        "# loss = nn.BCEWithLogitsLoss() # BCEWithLogitsLoss = sigmoid built-in"
      ]
    },
    {
      "cell_type": "code",
      "execution_count": 70,
      "metadata": {
        "colab": {
          "base_uri": "https://localhost:8080/"
        },
        "id": "s0_BflvMTrUH",
        "outputId": "026556b0-5c2d-452c-af78-ca5768be2239"
      },
      "outputs": [
        {
          "output_type": "stream",
          "name": "stdout",
          "text": [
            "Epoch 1/50: Train Loss: 0.5743, Train Accuracy: 0.4890 | Validation Loss: 0.2292, Validation Accuracy: 1.0000\n",
            "\n",
            "Epoch 2/50: Train Loss: 0.3182, Train Accuracy: 0.9249 | Validation Loss: 0.0956, Validation Accuracy: 1.0000\n",
            "\n",
            "Epoch 3/50: Train Loss: 0.1799, Train Accuracy: 0.9396 | Validation Loss: 0.0461, Validation Accuracy: 1.0000\n",
            "\n",
            "Epoch 4/50: Train Loss: 0.1006, Train Accuracy: 0.9652 | Validation Loss: 0.0272, Validation Accuracy: 1.0000\n",
            "\n",
            "Epoch 5/50: Train Loss: 0.0532, Train Accuracy: 0.9945 | Validation Loss: 0.0181, Validation Accuracy: 1.0000\n",
            "\n",
            "Epoch 6/50: Train Loss: 0.0284, Train Accuracy: 1.0000 | Validation Loss: 0.0128, Validation Accuracy: 1.0000\n",
            "\n",
            "Epoch 7/50: Train Loss: 0.0167, Train Accuracy: 1.0000 | Validation Loss: 0.0093, Validation Accuracy: 1.0000\n",
            "\n",
            "Epoch 8/50: Train Loss: 0.0111, Train Accuracy: 1.0000 | Validation Loss: 0.0070, Validation Accuracy: 1.0000\n",
            "\n",
            "Epoch 9/50: Train Loss: 0.0081, Train Accuracy: 1.0000 | Validation Loss: 0.0055, Validation Accuracy: 1.0000\n",
            "\n",
            "Epoch 10/50: Train Loss: 0.0062, Train Accuracy: 1.0000 | Validation Loss: 0.0045, Validation Accuracy: 1.0000\n",
            "\n",
            "Epoch 11/50: Train Loss: 0.0050, Train Accuracy: 1.0000 | Validation Loss: 0.0038, Validation Accuracy: 1.0000\n",
            "\n",
            "Epoch 12/50: Train Loss: 0.0042, Train Accuracy: 1.0000 | Validation Loss: 0.0032, Validation Accuracy: 1.0000\n",
            "\n",
            "Epoch 13/50: Train Loss: 0.0036, Train Accuracy: 1.0000 | Validation Loss: 0.0029, Validation Accuracy: 1.0000\n",
            "\n",
            "Epoch 14/50: Train Loss: 0.0032, Train Accuracy: 1.0000 | Validation Loss: 0.0026, Validation Accuracy: 1.0000\n",
            "\n",
            "Epoch 15/50: Train Loss: 0.0029, Train Accuracy: 1.0000 | Validation Loss: 0.0023, Validation Accuracy: 1.0000\n",
            "\n",
            "Epoch 16/50: Train Loss: 0.0026, Train Accuracy: 1.0000 | Validation Loss: 0.0021, Validation Accuracy: 1.0000\n",
            "\n",
            "Epoch 17/50: Train Loss: 0.0024, Train Accuracy: 1.0000 | Validation Loss: 0.0020, Validation Accuracy: 1.0000\n",
            "\n",
            "Epoch 18/50: Train Loss: 0.0023, Train Accuracy: 1.0000 | Validation Loss: 0.0019, Validation Accuracy: 1.0000\n",
            "\n",
            "Epoch 19/50: Train Loss: 0.0021, Train Accuracy: 1.0000 | Validation Loss: 0.0018, Validation Accuracy: 1.0000\n",
            "\n",
            "Epoch 20/50: Train Loss: 0.0020, Train Accuracy: 1.0000 | Validation Loss: 0.0017, Validation Accuracy: 1.0000\n",
            "\n",
            "Epoch 21/50: Train Loss: 0.0019, Train Accuracy: 1.0000 | Validation Loss: 0.0016, Validation Accuracy: 1.0000\n",
            "\n",
            "Epoch 22/50: Train Loss: 0.0018, Train Accuracy: 1.0000 | Validation Loss: 0.0015, Validation Accuracy: 1.0000\n",
            "\n",
            "Epoch 23/50: Train Loss: 0.0017, Train Accuracy: 1.0000 | Validation Loss: 0.0015, Validation Accuracy: 1.0000\n",
            "\n",
            "Epoch 24/50: Train Loss: 0.0017, Train Accuracy: 1.0000 | Validation Loss: 0.0014, Validation Accuracy: 1.0000\n",
            "\n",
            "Epoch 25/50: Train Loss: 0.0016, Train Accuracy: 1.0000 | Validation Loss: 0.0014, Validation Accuracy: 1.0000\n",
            "\n",
            "Epoch 26/50: Train Loss: 0.0016, Train Accuracy: 1.0000 | Validation Loss: 0.0013, Validation Accuracy: 1.0000\n",
            "\n",
            "Epoch 27/50: Train Loss: 0.0015, Train Accuracy: 1.0000 | Validation Loss: 0.0013, Validation Accuracy: 1.0000\n",
            "\n",
            "Epoch 28/50: Train Loss: 0.0015, Train Accuracy: 1.0000 | Validation Loss: 0.0012, Validation Accuracy: 1.0000\n",
            "\n",
            "Epoch 29/50: Train Loss: 0.0014, Train Accuracy: 1.0000 | Validation Loss: 0.0012, Validation Accuracy: 1.0000\n",
            "\n",
            "Epoch 30/50: Train Loss: 0.0014, Train Accuracy: 1.0000 | Validation Loss: 0.0011, Validation Accuracy: 1.0000\n",
            "\n",
            "Epoch 31/50: Train Loss: 0.0013, Train Accuracy: 1.0000 | Validation Loss: 0.0011, Validation Accuracy: 1.0000\n",
            "\n",
            "Epoch 32/50: Train Loss: 0.0013, Train Accuracy: 1.0000 | Validation Loss: 0.0011, Validation Accuracy: 1.0000\n",
            "\n",
            "Epoch 33/50: Train Loss: 0.0013, Train Accuracy: 1.0000 | Validation Loss: 0.0011, Validation Accuracy: 1.0000\n",
            "\n",
            "Epoch 34/50: Train Loss: 0.0013, Train Accuracy: 1.0000 | Validation Loss: 0.0010, Validation Accuracy: 1.0000\n",
            "\n",
            "Epoch 35/50: Train Loss: 0.0012, Train Accuracy: 1.0000 | Validation Loss: 0.0010, Validation Accuracy: 1.0000\n",
            "\n",
            "Epoch 36/50: Train Loss: 0.0012, Train Accuracy: 1.0000 | Validation Loss: 0.0010, Validation Accuracy: 1.0000\n",
            "\n",
            "Epoch 37/50: Train Loss: 0.0012, Train Accuracy: 1.0000 | Validation Loss: 0.0010, Validation Accuracy: 1.0000\n",
            "\n",
            "Epoch 38/50: Train Loss: 0.0011, Train Accuracy: 1.0000 | Validation Loss: 0.0009, Validation Accuracy: 1.0000\n",
            "\n",
            "Epoch 39/50: Train Loss: 0.0011, Train Accuracy: 1.0000 | Validation Loss: 0.0009, Validation Accuracy: 1.0000\n",
            "\n",
            "Epoch 40/50: Train Loss: 0.0011, Train Accuracy: 1.0000 | Validation Loss: 0.0009, Validation Accuracy: 1.0000\n",
            "\n",
            "Epoch 41/50: Train Loss: 0.0011, Train Accuracy: 1.0000 | Validation Loss: 0.0009, Validation Accuracy: 1.0000\n",
            "\n",
            "Epoch 42/50: Train Loss: 0.0011, Train Accuracy: 1.0000 | Validation Loss: 0.0009, Validation Accuracy: 1.0000\n",
            "\n",
            "Epoch 43/50: Train Loss: 0.0010, Train Accuracy: 1.0000 | Validation Loss: 0.0008, Validation Accuracy: 1.0000\n",
            "\n",
            "Epoch 44/50: Train Loss: 0.0010, Train Accuracy: 1.0000 | Validation Loss: 0.0008, Validation Accuracy: 1.0000\n",
            "\n",
            "Epoch 45/50: Train Loss: 0.0010, Train Accuracy: 1.0000 | Validation Loss: 0.0008, Validation Accuracy: 1.0000\n",
            "\n",
            "Epoch 46/50: Train Loss: 0.0010, Train Accuracy: 1.0000 | Validation Loss: 0.0008, Validation Accuracy: 1.0000\n",
            "\n",
            "Epoch 47/50: Train Loss: 0.0010, Train Accuracy: 1.0000 | Validation Loss: 0.0008, Validation Accuracy: 1.0000\n",
            "\n",
            "Epoch 48/50: Train Loss: 0.0010, Train Accuracy: 1.0000 | Validation Loss: 0.0008, Validation Accuracy: 1.0000\n",
            "\n",
            "Epoch 49/50: Train Loss: 0.0009, Train Accuracy: 1.0000 | Validation Loss: 0.0008, Validation Accuracy: 1.0000\n",
            "\n",
            "Epoch 50/50: Train Loss: 0.0009, Train Accuracy: 1.0000 | Validation Loss: 0.0007, Validation Accuracy: 1.0000\n",
            "\n"
          ]
        }
      ],
      "source": [
        "num_epochs = 50\n",
        "tr_losses = []\n",
        "tr_accs = []\n",
        "val_losses = []\n",
        "val_accs = []\n",
        "for epoch in range(num_epochs):\n",
        "     model.train()\n",
        "     total_loss = 0\n",
        "     total_samples = 0\n",
        "     correct_predictions = 0\n",
        "     for xb, yb in train_loader:\n",
        "        xb , yb = xb.to(device) , yb.to(device).long()\n",
        "        optimizer.zero_grad()\n",
        "        output = model(xb)\n",
        "        # print('output',output)\n",
        "        # print('max',torch.max(output, 1))\n",
        "        # print('yb',yb)\n",
        "\n",
        "        loss = loss_fn(output , yb)\n",
        "        # print('loss',loss)\n",
        "        # optimizer.zero_grad()\n",
        "        loss.backward()\n",
        "        optimizer.step()\n",
        "        total_loss += loss.item() * xb.size(0)\n",
        "        # print(loss.item())\n",
        "        # print(xb.size(0))\n",
        "        # print('total:',total_loss)\n",
        "\n",
        "        # Calculate accuracy\n",
        "        pred = output.argmax(dim=1) # the index of the maximum value for each column\n",
        "        # print('p',predicted)\n",
        "        # print('real',yb)\n",
        "        total_samples += xb.size(0)\n",
        "        # print(total_samples)\n",
        "        correct_predictions += (pred == yb).sum().item()\n",
        "        # print(correct_predictions)\n",
        "\n",
        "     epoch_loss = total_loss / total_samples\n",
        "     epoch_accuracy = correct_predictions / total_samples\n",
        "     tr_losses.append(epoch_loss)\n",
        "     tr_accs.append(epoch_accuracy)\n",
        "\n",
        "    #  print(f\"Epoch {epoch+1}/{num_epochs}: \" f\"Train Loss: {epoch_loss:.4f}, \"f\"Train Accuracy: {epoch_accuracy:.4f}\")\n",
        "\n",
        "     model.eval()\n",
        "     val_correct_predictions = 0\n",
        "     val_total_samples = 0\n",
        "     val_total_loss = 0\n",
        "     with torch.no_grad():\n",
        "          for xb, yb in val_loader:\n",
        "              xb, yb = xb.to(device), yb.to(device).long()\n",
        "              output = model(xb)\n",
        "              val_loss = loss_fn(output,yb)\n",
        "              val_total_loss += val_loss.item() * xb.size(0)\n",
        "              pred = output.argmax(dim=1)\n",
        "              val_total_samples += xb.size(0)\n",
        "              val_correct_predictions += (pred == yb).sum().item()\n",
        "\n",
        "     val_epoch_loss = val_total_loss / val_total_samples\n",
        "     val_epoch_accuracy = val_correct_predictions / val_total_samples\n",
        "    #  print(    f\"Validation Loss: {val_epoch_loss:.4f}, \"f\"Validation Accuracy: {val_epoch_accuracy:.4f}\\n\")\n",
        "     val_losses.append(val_epoch_loss)\n",
        "     val_accs.append(val_epoch_accuracy)\n",
        "     print(f\"Epoch {epoch+1}/{num_epochs}: \" f\"Train Loss: {epoch_loss:.4f}, \"f\"Train Accuracy: {epoch_accuracy:.4f} | \"f\"Validation Loss: {val_epoch_loss:.4f}, \"f\"Validation Accuracy: {val_epoch_accuracy:.4f}\\n\")\n",
        "\n",
        "\n",
        "\n"
      ]
    },
    {
      "cell_type": "code",
      "source": [
        "import torch.nn.functional as F\n",
        "val_probs = []\n",
        "val_true  = []\n",
        "with torch.no_grad():\n",
        "    for xb, yb in val_loader:\n",
        "        out = model(xb.to(device))\n",
        "        val_probs.append(F.softmax(out, dim=1).max(1).values.cpu())\n",
        "        val_true.append(yb)\n",
        "val_probs = torch.cat(val_probs)\n",
        "print('Val avg max-softmax:', val_probs.mean().item())\n"
      ],
      "metadata": {
        "colab": {
          "base_uri": "https://localhost:8080/"
        },
        "id": "8jMTdw52uDAX",
        "outputId": "e341667e-9b5c-4a4f-8cdf-34a43e41c18a"
      },
      "execution_count": 71,
      "outputs": [
        {
          "output_type": "stream",
          "name": "stdout",
          "text": [
            "Val avg max-softmax: 0.9992543458938599\n"
          ]
        }
      ]
    },
    {
      "cell_type": "code",
      "execution_count": 72,
      "metadata": {
        "id": "Xohv7SFb4gK8",
        "colab": {
          "base_uri": "https://localhost:8080/"
        },
        "outputId": "ff1a7462-410c-4195-c163-4585c1172aac"
      },
      "outputs": [
        {
          "output_type": "stream",
          "name": "stdout",
          "text": [
            "Test Loss: 0.0008, Test Acc: 1.0000\n"
          ]
        }
      ],
      "source": [
        "# =========================\n",
        "# Test evaluation (add this)\n",
        "# =========================\n",
        "model.eval()\n",
        "test_correct = 0\n",
        "test_total = 0\n",
        "test_loss_total = 0.0\n",
        "with torch.no_grad():\n",
        "    for xb, yb in test_loader:\n",
        "        xb, yb = xb.to(device), yb.to(device).long()\n",
        "        out = model(xb)\n",
        "        loss = loss_fn(out, yb)\n",
        "        test_loss_total += loss.item() * xb.size(0)\n",
        "        pred = out.argmax(dim=1)\n",
        "        test_correct += (pred == yb).sum().item()\n",
        "        test_total += xb.size(0)\n",
        "\n",
        "print(f\"Test Loss: {test_loss_total/test_total:.4f}, Test Acc: {test_correct/test_total:.4f}\")\n"
      ]
    },
    {
      "cell_type": "code",
      "execution_count": 73,
      "metadata": {
        "id": "QccAjtUR4f_q",
        "colab": {
          "base_uri": "https://localhost:8080/"
        },
        "outputId": "8abb1c41-14d5-4448-9f5d-11064a587603"
      },
      "outputs": [
        {
          "output_type": "stream",
          "name": "stdout",
          "text": [
            "[[58  0]\n",
            " [ 0 58]]\n"
          ]
        }
      ],
      "source": [
        "from sklearn.metrics import confusion_matrix\n",
        "import numpy as np\n",
        "all_pred, all_true = [], []\n",
        "with torch.no_grad():\n",
        "    for xb, yb in val_loader:\n",
        "        out = model(xb.to(device))\n",
        "        all_pred.append(out.argmax(1).cpu().numpy())\n",
        "        all_true.append(yb.numpy())\n",
        "cm = confusion_matrix(np.concatenate(all_true), np.concatenate(all_pred))\n",
        "print(cm)\n"
      ]
    },
    {
      "cell_type": "code",
      "execution_count": 73,
      "metadata": {
        "id": "afA73SCV4f5_"
      },
      "outputs": [],
      "source": []
    },
    {
      "cell_type": "code",
      "execution_count": 73,
      "metadata": {
        "id": "WUToogw34fzs"
      },
      "outputs": [],
      "source": []
    },
    {
      "cell_type": "code",
      "execution_count": 74,
      "metadata": {
        "id": "-qzzYlKo5xfL",
        "colab": {
          "base_uri": "https://localhost:8080/",
          "height": 453
        },
        "outputId": "2748b388-274a-4b2d-e36e-266454b92d45"
      },
      "outputs": [
        {
          "output_type": "display_data",
          "data": {
            "text/plain": [
              "<Figure size 640x480 with 1 Axes>"
            ],
            "image/png": "[encoded data removed]"
          },
          "metadata": {}
        }
      ],
      "source": [
        "epoch = np.arange(0,num_epochs , 1)\n",
        "import matplotlib.pyplot as plt\n",
        "\n",
        "plt.plot(epoch, tr_losses , label=\"Train_loss\")\n",
        "plt.plot(epoch, val_losses, label=\"val_losss\")\n",
        "plt.xlabel(\"Epoch\")\n",
        "plt.ylabel(\"Loss\")\n",
        "plt.legend()\n",
        "plt.show()"
      ]
    },
    {
      "cell_type": "code",
      "execution_count": 75,
      "metadata": {
        "id": "ino_bVP5sBx5",
        "colab": {
          "base_uri": "https://localhost:8080/",
          "height": 1000
        },
        "outputId": "26493659-8dac-476f-f042-923db274f69e"
      },
      "outputs": [
        {
          "output_type": "display_data",
          "data": {
            "text/plain": [
              "<Figure size 640x480 with 2 Axes>"
            ],
            "image/png": "[encoded data removed]"
          },
          "metadata": {}
        },
        {
          "output_type": "display_data",
          "data": {
            "text/plain": [
              "<Figure size 640x480 with 1 Axes>"
            ],
            "image/png": "[encoded data removed]"
          },
          "metadata": {}
        },
        {
          "output_type": "display_data",
          "data": {
            "text/plain": [
              "<Figure size 640x480 with 1 Axes>"
            ],
            "image/png": "[encoded data removed]"
          },
          "metadata": {}
        }
      ],
      "source": [
        "import torch\n",
        "import torch.nn.functional as F\n",
        "from sklearn.metrics import confusion_matrix, ConfusionMatrixDisplay\n",
        "from sklearn.metrics import RocCurveDisplay, PrecisionRecallDisplay\n",
        "import matplotlib.pyplot as plt\n",
        "\n",
        "y_true, y_pred, y_score = [], [], []\n",
        "model.eval()\n",
        "\n",
        "with torch.no_grad():\n",
        "    for xb, yb in test_loader:\n",
        "        xb, yb = xb.to(device), yb.to(device).long()   # targets should be int for CE\n",
        "        logits = model(xb)                             # [B,2]\n",
        "\n",
        "        # 1) Probability of class 1\n",
        "        probs  = torch.softmax(logits, dim=1)          # [B,2]\n",
        "        score1 = probs[:, 1]                           # [B]\n",
        "\n",
        "        # 2) Predicted class index\n",
        "        preds  = logits.argmax(dim=1)                  # [B]\n",
        "\n",
        "        # Save results\n",
        "        y_true.extend(yb.cpu().tolist())\n",
        "        y_pred.extend(preds.cpu().tolist())\n",
        "        y_score.extend(score1.cpu().tolist())\n",
        "\n",
        "# 1) Confusion Matrix\n",
        "ConfusionMatrixDisplay.from_predictions(y_true, y_pred, cmap=\"Blues\", values_format=\"d\")\n",
        "plt.title(\"Confusion Matrix (Validation)\")\n",
        "plt.show()\n",
        "\n",
        "# 2) ROC\n",
        "RocCurveDisplay.from_predictions(y_true, y_score)\n",
        "plt.title(\"ROC Curve (Validation)\")\n",
        "plt.show()\n",
        "\n",
        "# 3) Precision–Recall\n",
        "PrecisionRecallDisplay.from_predictions(y_true, y_score)\n",
        "plt.title(\"Precision–Recall Curve (Validation)\")\n",
        "plt.show()"
      ]
    },
    {
      "cell_type": "code",
      "execution_count": 76,
      "metadata": {
        "id": "a9rUl-yzt5ZU",
        "colab": {
          "base_uri": "https://localhost:8080/",
          "height": 545
        },
        "outputId": "80af4f45-2a88-4edc-bc81-6e4cb38cbf87"
      },
      "outputs": [
        {
          "output_type": "display_data",
          "data": {
            "text/plain": [
              "<Figure size 600x600 with 2 Axes>"
            ],
            "image/png": "[encoded data removed]"
          },
          "metadata": {}
        }
      ],
      "source": [
        "from sklearn.manifold import TSNE\n",
        "import matplotlib.pyplot as plt\n",
        "import torch\n",
        "\n",
        "model.eval()\n",
        "all_embeds, all_labels = [], []\n",
        "\n",
        "with torch.no_grad():\n",
        "    for xb, yb in val_loader:\n",
        "        xb = xb.to(device)\n",
        "        # Pass through encoder only (skip classifier head)\n",
        "        embeds = model.encoder(model.inp(xb) + model.pos(model.inp(xb)))\n",
        "        embeds = embeds.mean(dim=1)                # [B, d_model]\n",
        "\n",
        "        all_embeds.append(embeds.cpu())\n",
        "        all_labels.append(yb.cpu())\n",
        "\n",
        "# Concatenate all batches\n",
        "all_embeds = torch.cat(all_embeds, dim=0).numpy()\n",
        "all_labels = torch.cat(all_labels, dim=0).numpy()\n",
        "\n",
        "# Run t-SNE\n",
        "X_2d = TSNE(n_components=2, random_state=42).fit_transform(all_embeds)\n",
        "\n",
        "# Plot\n",
        "plt.figure(figsize=(6,6))\n",
        "plt.scatter(X_2d[:,0], X_2d[:,1], c=all_labels, cmap=\"coolwarm\", alpha=0.7)\n",
        "plt.colorbar(label=\"Class\")\n",
        "plt.title(\"t-SNE of Validation Embeddings\")\n",
        "plt.show()\n"
      ]
    }
  ],
  "metadata": {
    "colab": {
      "provenance": [],
      "gpuType": "T4",
      "authorship_tag": "ABX9TyNfFLCws9mqQgFcaEaTtyei",
      "include_colab_link": true
    },
    "kernelspec": {
      "display_name": "Python 3",
      "name": "python3"
    },
    "language_info": {
      "name": "python"
    },
    "accelerator": "GPU"
  },
  "nbformat": 4,
  "nbformat_minor": 0
}