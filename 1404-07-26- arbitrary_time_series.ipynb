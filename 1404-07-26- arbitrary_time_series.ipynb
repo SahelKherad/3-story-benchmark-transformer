{
  "cells": [
    {
      "cell_type": "markdown",
      "metadata": {
        "id": "view-in-github",
        "colab_type": "text"
      },
      "source": [
        "<a href=\"https://colab.research.google.com/github/SahelKherad/3-story-benchmark-transformer/blob/main/1404-07-26-%20arbitrary_time_series.ipynb\" target=\"_parent\"><img src=\"https://colab.research.google.com/assets/colab-badge.svg\" alt=\"Open In Colab\"/></a>"
      ]
    },
    {
      "cell_type": "code",
      "execution_count": 1,
      "metadata": {
        "id": "WI4Va3XjlXwJ"
      },
      "outputs": [],
      "source": [
        "import numpy as np\n",
        "import torch\n",
        "import torch.nn as nn\n",
        "import torch.nn.functional as F\n",
        "from torch.utils.data import Dataset, DataLoader, random_split\n",
        "from sklearn.model_selection import train_test_split\n",
        "import torch.optim as optim"
      ]
    },
    {
      "cell_type": "code",
      "execution_count": 2,
      "metadata": {
        "id": "0Gco8healpNp"
      },
      "outputs": [],
      "source": [
        "# win = 5\n",
        "# a = np.arange(1, 50, 2, dtype=np.float32)\n",
        "# print('a =',a)\n",
        "# b = np.arange(0, 40, 2, dtype=np.float32)   # label 1\n",
        "# print('b =',b)"
      ]
    },
    {
      "cell_type": "code",
      "execution_count": 3,
      "metadata": {
        "colab": {
          "base_uri": "https://localhost:8080/"
        },
        "id": "Se7XgRe4RwVo",
        "outputId": "3ec07c25-ecf0-4a1f-e185-31eb2f88c5b5"
      },
      "outputs": [
        {
          "output_type": "stream",
          "name": "stdout",
          "text": [
            "[0.0000000e+00 1.2500016e-06 2.5000031e-06 ... 9.9999750e-01 9.9999875e-01\n",
            " 1.0000000e+00]\n"
          ]
        }
      ],
      "source": [
        "win = 2048\n",
        "t = np.arange(0, 800000, dtype=np.float32)\n",
        "a = np.sin(0.05*t)                       # class 0\n",
        "b = np.linspace(0, 1, 800000, dtype=np.float32)\n",
        "print(b)\n",
        "# b = np.arange(0, 80000, 2, dtype=np.float32)"
      ]
    },
    {
      "cell_type": "code",
      "execution_count": 4,
      "metadata": {
        "id": "tVh4-3jSlpoB"
      },
      "outputs": [],
      "source": [
        "# def make_windows(x: np.ndarray, win: int, drop_last: bool = True):\n",
        "#     n = len(x)\n",
        "#     n_full = (n // win) * win\n",
        "#     if drop_last:\n",
        "#         x = x[:n_full]\n",
        "#     else:\n",
        "#         if n % win != 0:\n",
        "#             pad = win - (n % win)\n",
        "#             x = np.pad(x, (0, pad), mode=\"edge\")  # simple edge padding\n",
        "#     windows = x.reshape(-1, win)  # [n_windows, win]\n",
        "#     return windows"
      ]
    },
    {
      "cell_type": "code",
      "execution_count": 5,
      "metadata": {
        "id": "nqZDEBIf9mYV"
      },
      "outputs": [],
      "source": [
        "def make_windows(data, frame_length, drop_last : bool = True):\n",
        "    # Calculate how many full frames can be created\n",
        "    num_frames = len(data) // frame_length\n",
        "    # print(num_frames)\n",
        "    # Trim the data to be a perfect multiple of the frame length\n",
        "    trimmed_data = data[:num_frames * frame_length]\n",
        "\n",
        "    # Reshape the data into a 2D array of frames\n",
        "    windows = trimmed_data.reshape((num_frames, frame_length))\n",
        "    # return trimmed_data.shape , frames.shape\n",
        "    return windows"
      ]
    },
    {
      "cell_type": "code",
      "execution_count": 6,
      "metadata": {
        "colab": {
          "base_uri": "https://localhost:8080/"
        },
        "id": "c_Jie5jvobmL",
        "outputId": "35cc69cb-2d6e-4223-cb36-a6d6ca598bf5"
      },
      "outputs": [
        {
          "output_type": "stream",
          "name": "stdout",
          "text": [
            "(390, 2048)\n",
            "(390, 2048)\n"
          ]
        }
      ],
      "source": [
        "# 2) Make windows per class\n",
        "Xa = make_windows(a, win, drop_last=True)\n",
        "# print('Xa = \\n',Xa)\n",
        "print(Xa.shape)\n",
        "Xb = make_windows(b, win, drop_last=True)\n",
        "# print('Xb = \\n', Xb)\n",
        "print(Xb.shape)"
      ]
    },
    {
      "cell_type": "code",
      "execution_count": 7,
      "metadata": {
        "id": "0rrU7cvBtQp_"
      },
      "outputs": [],
      "source": [
        "# def NormalizeWindow(xa , w =5):\n",
        "#     aa = np.zeros_like(xa)  # Initialize an array of the same shape as xa\n",
        "#     # totSamples = xa.shape[0] # Number of windows\n",
        "\n",
        "#     for i in range(xa.shape[0]):\n",
        "#         ak = xa[i, :]  # Select the i-th window\n",
        "#         # print(ak)\n",
        "#         maxVec = np.max(ak)\n",
        "#         # print(maxVec)\n",
        "#         minVec = np.min(ak)\n",
        "\n",
        "#         # Avoid division by zero if max and min are the same\n",
        "#         if maxVec - minVec == 0:\n",
        "#             ak_norm = ak - minVec\n",
        "#         else:\n",
        "#             ak_norm = ((ak - minVec) / (maxVec - minVec) - 0.5) * 2\n",
        "\n",
        "#         aa[i, :] = ak_norm # Assign the normalized window back\n",
        "\n",
        "#     return aa\n",
        "\n",
        "# Xa = NormalizeWindow(Xa, win)\n",
        "# # print('Xa_norm = \\n', Xa)\n",
        "# print(Xa.shape)\n",
        "\n",
        "# # Do the same for Xb\n",
        "# Xb = NormalizeWindow(Xb, win)\n",
        "# print('Xb_norm = \\n', Xb)\n",
        "# # print(Xb.shape)"
      ]
    },
    {
      "cell_type": "code",
      "execution_count": 8,
      "metadata": {
        "colab": {
          "base_uri": "https://localhost:8080/"
        },
        "id": "iNMzy3s1p0_C",
        "outputId": "6f8d0ce4-5740-4da6-8d35-61a57aa3f095"
      },
      "outputs": [
        {
          "output_type": "stream",
          "name": "stdout",
          "text": [
            "ya =  (390,)\n",
            "yb =  (390,)\n"
          ]
        }
      ],
      "source": [
        "ya = np.zeros((Xa.shape[0]), dtype=np.int64)\n",
        "print('ya = ',ya.shape)\n",
        "yb = np.ones((Xb.shape[0]),  dtype=np.int64)\n",
        "print('yb = ',yb.shape)"
      ]
    },
    {
      "cell_type": "code",
      "source": [
        "print(Xa)"
      ],
      "metadata": {
        "colab": {
          "base_uri": "https://localhost:8080/"
        },
        "id": "GW0swC45uDbi",
        "outputId": "3a18a8fe-9b18-48fd-eb96-3a37e063f078"
      },
      "execution_count": 9,
      "outputs": [
        {
          "output_type": "stream",
          "name": "stdout",
          "text": [
            "[[ 0.          0.04997917  0.09983342 ...  0.98903275  0.98041433\n",
            "   0.96934706]\n",
            " [ 0.9558551   0.9399736   0.9217454  ... -0.4317993  -0.47632864\n",
            "  -0.519681  ]\n",
            " [-0.56173426 -0.6023833  -0.6415266  ... -0.7352678  -0.7004829\n",
            "  -0.66394806]\n",
            " ...\n",
            " [ 0.6824058   0.71862996  0.7530013  ...  0.6221679   0.5816271\n",
            "   0.5395868 ]\n",
            " [ 0.49954307  0.45492673  0.40913758 ... -0.930569   -0.9479533\n",
            "  -0.96289355]\n",
            " [-0.97535133 -0.98529446 -0.99221855 ... -0.07418173 -0.02346653\n",
            "   0.02340418]]\n"
          ]
        }
      ]
    },
    {
      "cell_type": "code",
      "source": [
        "print(Xb)"
      ],
      "metadata": {
        "colab": {
          "base_uri": "https://localhost:8080/"
        },
        "id": "pUl0w_TbuaL6",
        "outputId": "2e702027-20bd-4c1f-f604-a72482631df4"
      },
      "execution_count": 10,
      "outputs": [
        {
          "output_type": "stream",
          "name": "stdout",
          "text": [
            "[[0.0000000e+00 1.2500016e-06 2.5000031e-06 ... 2.5562532e-03\n",
            "  2.5575033e-03 2.5587531e-03]\n",
            " [2.5600032e-03 2.5612533e-03 2.5625031e-03 ... 5.1162564e-03\n",
            "  5.1175063e-03 5.1187566e-03]\n",
            " [5.1200064e-03 5.1212562e-03 5.1225065e-03 ... 7.6762596e-03\n",
            "  7.6775094e-03 7.6787597e-03]\n",
            " ...\n",
            " [9.9072123e-01 9.9072248e-01 9.9072373e-01 ... 9.9327749e-01\n",
            "  9.9327874e-01 9.9327999e-01]\n",
            " [9.9328125e-01 9.9328250e-01 9.9328375e-01 ... 9.9583751e-01\n",
            "  9.9583876e-01 9.9584001e-01]\n",
            " [9.9584126e-01 9.9584252e-01 9.9584377e-01 ... 9.9839747e-01\n",
            "  9.9839872e-01 9.9839997e-01]]\n"
          ]
        }
      ]
    },
    {
      "cell_type": "code",
      "source": [
        "n_train = 0.6\n",
        "n_val = 0.3\n",
        "\n",
        "m_0 = int(n_train * len(Xa))\n",
        "l_0 = int(n_val * len(Xa))\n",
        "\n",
        "m_1 = int(n_train * len(Xb))\n",
        "l_1 = int(n_val * len(Xb))\n",
        "\n",
        "X_train_0 = Xa[0:m_0, :]\n",
        "X_val_0   = Xa[m_0 :m_0+l_0, :]\n",
        "X_test_0  = Xa[m_0+l_0:, :]\n",
        "\n",
        "X_train_1 = Xb[0:m_1, :]\n",
        "X_val_1   = Xb[m_1 :m_1+l_1, :]\n",
        "X_test_1  = Xb[m_1+l_1:, :]"
      ],
      "metadata": {
        "id": "7E3fybwJtKx_"
      },
      "execution_count": 11,
      "outputs": []
    },
    {
      "cell_type": "code",
      "source": [
        "print(X_train_0)\n",
        "print('val:\\n',X_val_0)\n",
        "print(X_test_0)"
      ],
      "metadata": {
        "colab": {
          "base_uri": "https://localhost:8080/"
        },
        "id": "i5gz-iSDt3Cv",
        "outputId": "cf5e4bdc-f17f-45a9-8474-01a2b4d42ba6"
      },
      "execution_count": 12,
      "outputs": [
        {
          "output_type": "stream",
          "name": "stdout",
          "text": [
            "[[ 0.          0.04997917  0.09983342 ...  0.98903275  0.98041433\n",
            "   0.96934706]\n",
            " [ 0.9558551   0.9399736   0.9217454  ... -0.4317993  -0.47632864\n",
            "  -0.519681  ]\n",
            " [-0.56173426 -0.6023833  -0.6415266  ... -0.7352678  -0.7004829\n",
            "  -0.66394806]\n",
            " ...\n",
            " [-0.9755702  -0.98546386 -0.9925812  ... -0.07319032 -0.02247268\n",
            "   0.0263505 ]\n",
            " [ 0.07705834  0.1256301   0.17582542 ...  0.9747107   0.96264166\n",
            "   0.94765615]\n",
            " [ 0.93022746  0.9112068   0.88912183 ... -0.50035    -0.5420134\n",
            "  -0.5839714 ]]\n",
            "val:\n",
            " [[-0.622897   -0.66180336 -0.6990034  ... -0.6817244  -0.6437096\n",
            "  -0.60403514]\n",
            " [-0.5644167  -0.52178776 -0.4795283  ...  0.899799    0.92078567\n",
            "   0.93872696]\n",
            " [ 0.95501167  0.9688342   0.97976995 ...  0.15226379  0.10189993\n",
            "   0.05322382]\n",
            " ...\n",
            " [-0.11350394 -0.16378903 -0.21365184 ... -0.96587706 -0.95148516\n",
            "  -0.9346402 ]\n",
            " [-0.9153856  -0.893771   -0.87177235 ...  0.53336215  0.57561135\n",
            "   0.61329585]\n",
            " [ 0.6525977   0.69021714  0.72605705 ...  0.6530082   0.61372375\n",
            "   0.57285696]]\n",
            "[[ 0.5305133   0.49021024  0.44533622 ... -0.9167349  -0.9344474\n",
            "  -0.9513183 ]\n",
            " [-0.96573657 -0.97766495 -0.9870727  ... -0.1140423  -0.06346702\n",
            "  -0.01272811]\n",
            " [ 0.03413991  0.08482574  0.13529287 ...  0.9834139   0.9729396\n",
            "   0.95995694]\n",
            " ...\n",
            " [ 0.6824058   0.71862996  0.7530013  ...  0.6221679   0.5816271\n",
            "   0.5395868 ]\n",
            " [ 0.49954307  0.45492673  0.40913758 ... -0.930569   -0.9479533\n",
            "  -0.96289355]\n",
            " [-0.97535133 -0.98529446 -0.99221855 ... -0.07418173 -0.02346653\n",
            "   0.02340418]]\n"
          ]
        }
      ]
    },
    {
      "cell_type": "code",
      "source": [
        "print(X_train_1)\n",
        "print('val:\\n',X_val_1)\n",
        "print(X_test_1)"
      ],
      "metadata": {
        "colab": {
          "base_uri": "https://localhost:8080/"
        },
        "id": "SILjLo_EuUpj",
        "outputId": "57c2a466-fc26-4120-9d0c-ffde61a2cfb4"
      },
      "execution_count": 13,
      "outputs": [
        {
          "output_type": "stream",
          "name": "stdout",
          "text": [
            "[[0.0000000e+00 1.2500016e-06 2.5000031e-06 ... 2.5562532e-03\n",
            "  2.5575033e-03 2.5587531e-03]\n",
            " [2.5600032e-03 2.5612533e-03 2.5625031e-03 ... 5.1162564e-03\n",
            "  5.1175063e-03 5.1187566e-03]\n",
            " [5.1200064e-03 5.1212562e-03 5.1225065e-03 ... 7.6762596e-03\n",
            "  7.6775094e-03 7.6787597e-03]\n",
            " ...\n",
            " [5.9136075e-01 5.9136200e-01 5.9136325e-01 ... 5.9391701e-01\n",
            "  5.9391826e-01 5.9391952e-01]\n",
            " [5.9392077e-01 5.9392202e-01 5.9392327e-01 ... 5.9647697e-01\n",
            "  5.9647822e-01 5.9647948e-01]\n",
            " [5.9648073e-01 5.9648198e-01 5.9648323e-01 ... 5.9903699e-01\n",
            "  5.9903824e-01 5.9903949e-01]]\n",
            "val:\n",
            " [[0.59904075 0.599042   0.59904325 ... 0.601597   0.60159826 0.6015995 ]\n",
            " [0.60160077 0.601602   0.60160327 ... 0.60415703 0.6041583  0.60415953]\n",
            " [0.6041607  0.604162   0.6041632  ... 0.606717   0.60671824 0.6067195 ]\n",
            " ...\n",
            " [0.8908811  0.8908824  0.8908836  ... 0.8934374  0.89343864 0.8934399 ]\n",
            " [0.89344114 0.8934424  0.89344364 ... 0.89599735 0.8959986  0.89599985]\n",
            " [0.8960011  0.89600235 0.8960036  ... 0.89855736 0.8985586  0.89855987]]\n",
            "[[0.8985611  0.8985624  0.8985636  ... 0.9011174  0.90111864 0.9011199 ]\n",
            " [0.90112114 0.9011224  0.90112364 ... 0.9036774  0.90367866 0.9036799 ]\n",
            " [0.90368116 0.90368235 0.9036836  ... 0.90623736 0.9062386  0.90623987]\n",
            " ...\n",
            " [0.9907212  0.9907225  0.9907237  ... 0.9932775  0.99327874 0.99328   ]\n",
            " [0.99328125 0.9932825  0.99328375 ... 0.9958375  0.99583876 0.99584   ]\n",
            " [0.99584126 0.9958425  0.99584377 ... 0.99839747 0.9983987  0.9984    ]]\n"
          ]
        }
      ]
    },
    {
      "cell_type": "code",
      "source": [
        "X_train = np.vstack([X_train_0, X_train_1])[:, :, None]  # [N, 5, 1]\n",
        "print(X_train.shape)\n",
        "\n",
        "y_train = np.concatenate([ya[0:int(len(X_train_0))], yb[0:int(len(X_train_1))]])             # [N]\n",
        "print(y_train)\n",
        "print(y_train.shape)"
      ],
      "metadata": {
        "colab": {
          "base_uri": "https://localhost:8080/"
        },
        "id": "sRYDXLtPxEX_",
        "outputId": "8fd56101-dd00-429d-8f05-f491580fd67b"
      },
      "execution_count": 14,
      "outputs": [
        {
          "output_type": "stream",
          "name": "stdout",
          "text": [
            "(468, 2048, 1)\n",
            "[0 0 0 0 0 0 0 0 0 0 0 0 0 0 0 0 0 0 0 0 0 0 0 0 0 0 0 0 0 0 0 0 0 0 0 0 0\n",
            " 0 0 0 0 0 0 0 0 0 0 0 0 0 0 0 0 0 0 0 0 0 0 0 0 0 0 0 0 0 0 0 0 0 0 0 0 0\n",
            " 0 0 0 0 0 0 0 0 0 0 0 0 0 0 0 0 0 0 0 0 0 0 0 0 0 0 0 0 0 0 0 0 0 0 0 0 0\n",
            " 0 0 0 0 0 0 0 0 0 0 0 0 0 0 0 0 0 0 0 0 0 0 0 0 0 0 0 0 0 0 0 0 0 0 0 0 0\n",
            " 0 0 0 0 0 0 0 0 0 0 0 0 0 0 0 0 0 0 0 0 0 0 0 0 0 0 0 0 0 0 0 0 0 0 0 0 0\n",
            " 0 0 0 0 0 0 0 0 0 0 0 0 0 0 0 0 0 0 0 0 0 0 0 0 0 0 0 0 0 0 0 0 0 0 0 0 0\n",
            " 0 0 0 0 0 0 0 0 0 0 0 0 1 1 1 1 1 1 1 1 1 1 1 1 1 1 1 1 1 1 1 1 1 1 1 1 1\n",
            " 1 1 1 1 1 1 1 1 1 1 1 1 1 1 1 1 1 1 1 1 1 1 1 1 1 1 1 1 1 1 1 1 1 1 1 1 1\n",
            " 1 1 1 1 1 1 1 1 1 1 1 1 1 1 1 1 1 1 1 1 1 1 1 1 1 1 1 1 1 1 1 1 1 1 1 1 1\n",
            " 1 1 1 1 1 1 1 1 1 1 1 1 1 1 1 1 1 1 1 1 1 1 1 1 1 1 1 1 1 1 1 1 1 1 1 1 1\n",
            " 1 1 1 1 1 1 1 1 1 1 1 1 1 1 1 1 1 1 1 1 1 1 1 1 1 1 1 1 1 1 1 1 1 1 1 1 1\n",
            " 1 1 1 1 1 1 1 1 1 1 1 1 1 1 1 1 1 1 1 1 1 1 1 1 1 1 1 1 1 1 1 1 1 1 1 1 1\n",
            " 1 1 1 1 1 1 1 1 1 1 1 1 1 1 1 1 1 1 1 1 1 1 1 1]\n",
            "(468,)\n"
          ]
        }
      ]
    },
    {
      "cell_type": "code",
      "source": [
        "print(ya)\n",
        "print(yb)"
      ],
      "metadata": {
        "colab": {
          "base_uri": "https://localhost:8080/"
        },
        "id": "yUZNq-W80wuB",
        "outputId": "9dfb32ca-5a85-4837-ca11-d1fb47af4f95"
      },
      "execution_count": 15,
      "outputs": [
        {
          "output_type": "stream",
          "name": "stdout",
          "text": [
            "[0 0 0 0 0 0 0 0 0 0 0 0 0 0 0 0 0 0 0 0 0 0 0 0 0 0 0 0 0 0 0 0 0 0 0 0 0\n",
            " 0 0 0 0 0 0 0 0 0 0 0 0 0 0 0 0 0 0 0 0 0 0 0 0 0 0 0 0 0 0 0 0 0 0 0 0 0\n",
            " 0 0 0 0 0 0 0 0 0 0 0 0 0 0 0 0 0 0 0 0 0 0 0 0 0 0 0 0 0 0 0 0 0 0 0 0 0\n",
            " 0 0 0 0 0 0 0 0 0 0 0 0 0 0 0 0 0 0 0 0 0 0 0 0 0 0 0 0 0 0 0 0 0 0 0 0 0\n",
            " 0 0 0 0 0 0 0 0 0 0 0 0 0 0 0 0 0 0 0 0 0 0 0 0 0 0 0 0 0 0 0 0 0 0 0 0 0\n",
            " 0 0 0 0 0 0 0 0 0 0 0 0 0 0 0 0 0 0 0 0 0 0 0 0 0 0 0 0 0 0 0 0 0 0 0 0 0\n",
            " 0 0 0 0 0 0 0 0 0 0 0 0 0 0 0 0 0 0 0 0 0 0 0 0 0 0 0 0 0 0 0 0 0 0 0 0 0\n",
            " 0 0 0 0 0 0 0 0 0 0 0 0 0 0 0 0 0 0 0 0 0 0 0 0 0 0 0 0 0 0 0 0 0 0 0 0 0\n",
            " 0 0 0 0 0 0 0 0 0 0 0 0 0 0 0 0 0 0 0 0 0 0 0 0 0 0 0 0 0 0 0 0 0 0 0 0 0\n",
            " 0 0 0 0 0 0 0 0 0 0 0 0 0 0 0 0 0 0 0 0 0 0 0 0 0 0 0 0 0 0 0 0 0 0 0 0 0\n",
            " 0 0 0 0 0 0 0 0 0 0 0 0 0 0 0 0 0 0 0 0]\n",
            "[1 1 1 1 1 1 1 1 1 1 1 1 1 1 1 1 1 1 1 1 1 1 1 1 1 1 1 1 1 1 1 1 1 1 1 1 1\n",
            " 1 1 1 1 1 1 1 1 1 1 1 1 1 1 1 1 1 1 1 1 1 1 1 1 1 1 1 1 1 1 1 1 1 1 1 1 1\n",
            " 1 1 1 1 1 1 1 1 1 1 1 1 1 1 1 1 1 1 1 1 1 1 1 1 1 1 1 1 1 1 1 1 1 1 1 1 1\n",
            " 1 1 1 1 1 1 1 1 1 1 1 1 1 1 1 1 1 1 1 1 1 1 1 1 1 1 1 1 1 1 1 1 1 1 1 1 1\n",
            " 1 1 1 1 1 1 1 1 1 1 1 1 1 1 1 1 1 1 1 1 1 1 1 1 1 1 1 1 1 1 1 1 1 1 1 1 1\n",
            " 1 1 1 1 1 1 1 1 1 1 1 1 1 1 1 1 1 1 1 1 1 1 1 1 1 1 1 1 1 1 1 1 1 1 1 1 1\n",
            " 1 1 1 1 1 1 1 1 1 1 1 1 1 1 1 1 1 1 1 1 1 1 1 1 1 1 1 1 1 1 1 1 1 1 1 1 1\n",
            " 1 1 1 1 1 1 1 1 1 1 1 1 1 1 1 1 1 1 1 1 1 1 1 1 1 1 1 1 1 1 1 1 1 1 1 1 1\n",
            " 1 1 1 1 1 1 1 1 1 1 1 1 1 1 1 1 1 1 1 1 1 1 1 1 1 1 1 1 1 1 1 1 1 1 1 1 1\n",
            " 1 1 1 1 1 1 1 1 1 1 1 1 1 1 1 1 1 1 1 1 1 1 1 1 1 1 1 1 1 1 1 1 1 1 1 1 1\n",
            " 1 1 1 1 1 1 1 1 1 1 1 1 1 1 1 1 1 1 1 1]\n"
          ]
        }
      ]
    },
    {
      "cell_type": "code",
      "source": [
        "X_val =  np.vstack([X_val_0, X_val_1])[:, :, None]  # [N, 5, 1]\n",
        "print(X_val.shape)\n",
        "# print(X)\n",
        "print(int(len(X_train_0)))\n",
        "print(int( len(X_train_0)+len(X_val_0)))\n",
        "print(ya[int(len(X_train_0)): int(len(X_train_0)+len(X_val_0))])\n",
        "\n",
        "print(int(len(X_train_1)))\n",
        "print(int(len(X_train_1) + len(X_val_1)))\n",
        "\n",
        "y_val = np.concatenate([ya[int(len(X_train_0)): int(len(X_train_0) + len(X_val_0))], yb[int(len(X_train_1)): int(len(X_train_1) + len(X_val_1))]])             # [N]\n",
        "print(y_val.shape) # Corrected to print y_val shape\n",
        "print(y_val)"
      ],
      "metadata": {
        "colab": {
          "base_uri": "https://localhost:8080/"
        },
        "id": "59Ot2gaRx8Wn",
        "outputId": "b87d567c-6ca2-4a67-9478-70f11047ae66"
      },
      "execution_count": 16,
      "outputs": [
        {
          "output_type": "stream",
          "name": "stdout",
          "text": [
            "(234, 2048, 1)\n",
            "234\n",
            "351\n",
            "[0 0 0 0 0 0 0 0 0 0 0 0 0 0 0 0 0 0 0 0 0 0 0 0 0 0 0 0 0 0 0 0 0 0 0 0 0\n",
            " 0 0 0 0 0 0 0 0 0 0 0 0 0 0 0 0 0 0 0 0 0 0 0 0 0 0 0 0 0 0 0 0 0 0 0 0 0\n",
            " 0 0 0 0 0 0 0 0 0 0 0 0 0 0 0 0 0 0 0 0 0 0 0 0 0 0 0 0 0 0 0 0 0 0 0 0 0\n",
            " 0 0 0 0 0 0]\n",
            "234\n",
            "351\n",
            "(234,)\n",
            "[0 0 0 0 0 0 0 0 0 0 0 0 0 0 0 0 0 0 0 0 0 0 0 0 0 0 0 0 0 0 0 0 0 0 0 0 0\n",
            " 0 0 0 0 0 0 0 0 0 0 0 0 0 0 0 0 0 0 0 0 0 0 0 0 0 0 0 0 0 0 0 0 0 0 0 0 0\n",
            " 0 0 0 0 0 0 0 0 0 0 0 0 0 0 0 0 0 0 0 0 0 0 0 0 0 0 0 0 0 0 0 0 0 0 0 0 0\n",
            " 0 0 0 0 0 0 1 1 1 1 1 1 1 1 1 1 1 1 1 1 1 1 1 1 1 1 1 1 1 1 1 1 1 1 1 1 1\n",
            " 1 1 1 1 1 1 1 1 1 1 1 1 1 1 1 1 1 1 1 1 1 1 1 1 1 1 1 1 1 1 1 1 1 1 1 1 1\n",
            " 1 1 1 1 1 1 1 1 1 1 1 1 1 1 1 1 1 1 1 1 1 1 1 1 1 1 1 1 1 1 1 1 1 1 1 1 1\n",
            " 1 1 1 1 1 1 1 1 1 1 1 1]\n"
          ]
        }
      ]
    },
    {
      "cell_type": "code",
      "source": [
        "X_test =  np.vstack([X_test_0, X_test_1])[:, :, None]  # [N, 5, 1]\n",
        "print(X_test.shape)\n",
        "# print(X)\n",
        "y_test = np.concatenate([ya[int(len(X_train_0) + len(X_val_0)):], yb[int(len(X_train_1) + len(X_val_1)):]], axis=0)             # [N]\n",
        "print(y_test)\n",
        "print(y_test.shape) # Corrected to print y_val shape"
      ],
      "metadata": {
        "colab": {
          "base_uri": "https://localhost:8080/"
        },
        "id": "1pJfOpgK2eVC",
        "outputId": "ce31d8c8-af10-49df-885c-1d49d0e14e16"
      },
      "execution_count": 17,
      "outputs": [
        {
          "output_type": "stream",
          "name": "stdout",
          "text": [
            "(78, 2048, 1)\n",
            "[0 0 0 0 0 0 0 0 0 0 0 0 0 0 0 0 0 0 0 0 0 0 0 0 0 0 0 0 0 0 0 0 0 0 0 0 0\n",
            " 0 0 1 1 1 1 1 1 1 1 1 1 1 1 1 1 1 1 1 1 1 1 1 1 1 1 1 1 1 1 1 1 1 1 1 1 1\n",
            " 1 1 1 1]\n",
            "(78,)\n"
          ]
        }
      ]
    },
    {
      "cell_type": "code",
      "execution_count": 18,
      "metadata": {
        "id": "PEItdL-i3BpI"
      },
      "outputs": [],
      "source": [
        "# 5) Torch tensors\n",
        "X_train = torch.from_numpy(X_train).float()  # float32\n",
        "y_train = torch.from_numpy(y_train).long()  # int64\n",
        "X_val   = torch.from_numpy(X_val).float()\n",
        "y_val   = torch.from_numpy(y_val).long()\n",
        "X_test  = torch.from_numpy(X_test).float()\n",
        "y_test  = torch.from_numpy(y_test).long()"
      ]
    },
    {
      "cell_type": "code",
      "source": [
        "mu  = X_train.mean(axis=(0), keepdims=True)\n",
        "std = X_train.std(axis=(0), keepdims=True) + 1e-6\n",
        "X_train = (X_train - mu) / std\n",
        "X_val   = (X_val   - mu) / std\n",
        "X_test  = (X_test  - mu) / std"
      ],
      "metadata": {
        "id": "wsQS4AhE2zAf"
      },
      "execution_count": 19,
      "outputs": []
    },
    {
      "cell_type": "code",
      "source": [
        "print(X_train.shape, y_train.shape)\n",
        "print(X_val.shape, y_val.shape)\n",
        "print(X_test.shape, y_test.shape)"
      ],
      "metadata": {
        "colab": {
          "base_uri": "https://localhost:8080/"
        },
        "id": "SW5vLyEd22Nn",
        "outputId": "ef8b241d-bec8-4e14-c242-ae08abd87861"
      },
      "execution_count": 20,
      "outputs": [
        {
          "output_type": "stream",
          "name": "stdout",
          "text": [
            "torch.Size([468, 2048, 1]) torch.Size([468])\n",
            "torch.Size([234, 2048, 1]) torch.Size([234])\n",
            "torch.Size([78, 2048, 1]) torch.Size([78])\n"
          ]
        }
      ]
    },
    {
      "cell_type": "code",
      "execution_count": 21,
      "metadata": {
        "id": "6BO2wKwQ31Hl"
      },
      "outputs": [],
      "source": [
        "class SeqDataset(Dataset):\n",
        "    def __init__(self, X: torch.Tensor, y: torch.Tensor):\n",
        "        self.X = X  # [N, seq_len, 1]\n",
        "        self.y = y  # [N]\n",
        "    def __len__(self): return self.y.shape[0]\n",
        "    def __getitem__(self, i): return self.X[i], self.y[i]\n",
        "\n",
        "train_ds = SeqDataset(X_train, y_train)\n",
        "# print(X_train.shape)\n",
        "# print(train_ds[0])\n",
        "# print(train_ds[1])\n",
        "# print(train_ds[2])\n",
        "val_ds   = SeqDataset(X_val,   y_val)\n",
        "test_ds  = SeqDataset(X_test,  y_test)"
      ]
    },
    {
      "cell_type": "code",
      "execution_count": 22,
      "metadata": {
        "id": "trwRTA5l4x07"
      },
      "outputs": [],
      "source": [
        "# 6) DataLoaders: shuffle only the training set\n",
        "batch_size = 512\n",
        "train_loader = DataLoader(train_ds, batch_size=batch_size, shuffle=True)\n",
        "val_loader   = DataLoader(val_ds,   batch_size=batch_size, shuffle=False)\n",
        "test_loader  = DataLoader(test_ds,  batch_size=batch_size, shuffle=False)\n",
        "\n",
        "# tiny = 200\n",
        "# train_loader = DataLoader(SeqDataset(X_train[:tiny], y_train[:tiny]),batch_size=50, shuffle=True)\n",
        "\n",
        "# print('ppp',next(iter(train_loader)))"
      ]
    },
    {
      "cell_type": "code",
      "execution_count": 23,
      "metadata": {
        "id": "ShARWVtS53s6"
      },
      "outputs": [],
      "source": [
        "# 7) Example: adapt a batch for a Transformer [seq_len, batch, d_model]\n",
        "xb, yb = next(iter(train_loader))   # xb: [B, 5, 1]\n",
        "# xb_t = xb.transpose(0, 1)           # -> [5, B, 1]\n",
        "# print(\"Shapes:\", xb.shape, xb_t.shape, yb.shape)"
      ]
    },
    {
      "cell_type": "code",
      "execution_count": 24,
      "metadata": {
        "id": "vRC3Gc3HxdTB"
      },
      "outputs": [],
      "source": [
        "class LearnablePositionalEncoding(nn.Module):\n",
        "    \"\"\"\n",
        "    Learnable positional encoding added to token embeddings.\n",
        "    Shape stored: [1, max_len, d_model]\n",
        "    \"\"\"\n",
        "    def __init__(self, d_model: int, max_len: int):\n",
        "        super().__init__()\n",
        "        self.pe = nn.Parameter(torch.zeros(1, max_len, d_model))\n",
        "        print(self.pe)\n",
        "        nn.init.trunc_normal_(self.pe, std=0.02)\n",
        "\n",
        "    def forward(self, x):\n",
        "        # x: [B, T, d_model]\n",
        "        T = x.size(1)\n",
        "        return x + self.pe[:, :T, :]"
      ]
    },
    {
      "cell_type": "code",
      "execution_count": 25,
      "metadata": {
        "colab": {
          "base_uri": "https://localhost:8080/"
        },
        "id": "G9CsPkjZuGpY",
        "outputId": "cf7947a6-7dc6-4730-8ee5-99f23f575397"
      },
      "outputs": [
        {
          "output_type": "stream",
          "name": "stdout",
          "text": [
            "Parameter containing:\n",
            "tensor([[[0., 0., 0.],\n",
            "         [0., 0., 0.],\n",
            "         [0., 0., 0.],\n",
            "         [0., 0., 0.],\n",
            "         [0., 0., 0.]]], requires_grad=True)\n"
          ]
        }
      ],
      "source": [
        " pe = LearnablePositionalEncoding(d_model=3, max_len=5)\n",
        "#  print(pe(batch_X[0]))"
      ]
    },
    {
      "cell_type": "code",
      "execution_count": 26,
      "metadata": {
        "id": "DKX0TzqcgPDR"
      },
      "outputs": [],
      "source": [
        "class TimeSeriesTransformer(nn.Module):\n",
        "    def __init__(self, d_model=64, nhead=2, num_layers=2, d_ff=256, seq_len=5, num_classes=2, dropout=0.1):\n",
        "        super().__init__()\n",
        "        self.inp = nn.Linear(1, d_model)                            # project feature_dim=1 -> d_model\n",
        "        self.pos = LearnablePositionalEncoding(d_model, seq_len)    # learnable PE\n",
        "        enc_layer = nn.TransformerEncoderLayer(\n",
        "            d_model=d_model, nhead=nhead,\n",
        "            dim_feedforward=d_ff, dropout=dropout,\n",
        "            batch_first=True                                        # so we keep [B, T, d]\n",
        "        )\n",
        "        self.encoder = nn.TransformerEncoder(enc_layer, num_layers=num_layers)\n",
        "        self.norm = nn.LayerNorm(d_model)\n",
        "        self.head = nn.Linear(d_model, num_classes)\n",
        "\n",
        "    def forward(self, x):\n",
        "        # x: [B, T, 1]\n",
        "        x = self.inp(x)                  # [B, T, d]\n",
        "        x = self.pos(x)                  # add learnable PE\n",
        "        x = self.encoder(x)              # [B, T, d]\n",
        "        x = self.norm(x)\n",
        "        x = x.mean(dim=1)                # mean pool over time\n",
        "        logits = self.head(x)            # [B, C]\n",
        "        return logits"
      ]
    },
    {
      "cell_type": "code",
      "execution_count": 27,
      "metadata": {
        "colab": {
          "base_uri": "https://localhost:8080/"
        },
        "id": "HHfmZcI5RFV3",
        "outputId": "710c5585-ea0b-4cbf-90e6-a5545fa573a1"
      },
      "outputs": [
        {
          "output_type": "stream",
          "name": "stdout",
          "text": [
            "Parameter containing:\n",
            "tensor([[[0., 0., 0.,  ..., 0., 0., 0.],\n",
            "         [0., 0., 0.,  ..., 0., 0., 0.],\n",
            "         [0., 0., 0.,  ..., 0., 0., 0.],\n",
            "         ...,\n",
            "         [0., 0., 0.,  ..., 0., 0., 0.],\n",
            "         [0., 0., 0.,  ..., 0., 0., 0.],\n",
            "         [0., 0., 0.,  ..., 0., 0., 0.]]], requires_grad=True)\n"
          ]
        }
      ],
      "source": [
        "device = torch.device(\"cuda\" if torch.cuda.is_available() else \"cpu\")\n",
        "\n",
        "seq_len = X_train.shape[1]\n",
        "num_classes = 2\n",
        "model = TimeSeriesTransformer(d_model=64, nhead=2, num_layers=2, d_ff=256,seq_len=seq_len, num_classes=num_classes).to(device)"
      ]
    },
    {
      "cell_type": "code",
      "execution_count": 28,
      "metadata": {
        "id": "2XAbr2w1S3bo"
      },
      "outputs": [],
      "source": [
        "# Optional class weights for CE or focal alpha; compute from training labels\n",
        "class_counts = torch.bincount(y_train)\n",
        "class_weights = (class_counts.sum() / (class_counts.float().clamp(min=1)))  # inverse freq\n",
        "class_weights = class_weights / class_weights.sum() * num_classes           # normalize\n",
        "class_weights = class_weights.to(device)"
      ]
    },
    {
      "cell_type": "code",
      "execution_count": 29,
      "metadata": {
        "id": "UIleqd01Rm4V"
      },
      "outputs": [],
      "source": [
        "optimizer = torch.optim.AdamW(model.parameters(), lr=5e-4, weight_decay=1e-2)\n",
        "loss_fn = nn.CrossEntropyLoss(weight=class_weights)\n",
        "# loss = nn.BCELoss() # BCELoss = no sigmoid built-in\n",
        "# loss = nn.BCEWithLogitsLoss() # BCEWithLogitsLoss = sigmoid built-in"
      ]
    },
    {
      "cell_type": "code",
      "execution_count": 30,
      "metadata": {
        "colab": {
          "base_uri": "https://localhost:8080/"
        },
        "id": "s0_BflvMTrUH",
        "outputId": "a7c95864-97d5-4f69-8df9-8e4ae1d3952f"
      },
      "outputs": [
        {
          "output_type": "stream",
          "name": "stdout",
          "text": [
            "Epoch 1/50: Train Loss: 0.9822, Train Accuracy: 0.5000 | Validation Loss: 0.9100, Validation Accuracy: 0.5000\n",
            "\n",
            "Epoch 2/50: Train Loss: 0.7761, Train Accuracy: 0.5000 | Validation Loss: 0.7494, Validation Accuracy: 0.5000\n",
            "\n",
            "Epoch 3/50: Train Loss: 0.6602, Train Accuracy: 0.8568 | Validation Loss: 0.6557, Validation Accuracy: 0.5000\n",
            "\n",
            "Epoch 4/50: Train Loss: 0.6057, Train Accuracy: 0.5000 | Validation Loss: 0.5833, Validation Accuracy: 0.5000\n",
            "\n",
            "Epoch 5/50: Train Loss: 0.5602, Train Accuracy: 0.5000 | Validation Loss: 0.5001, Validation Accuracy: 0.5000\n",
            "\n",
            "Epoch 6/50: Train Loss: 0.4961, Train Accuracy: 0.5000 | Validation Loss: 0.4043, Validation Accuracy: 1.0000\n",
            "\n",
            "Epoch 7/50: Train Loss: 0.4176, Train Accuracy: 1.0000 | Validation Loss: 0.3097, Validation Accuracy: 1.0000\n",
            "\n",
            "Epoch 8/50: Train Loss: 0.3405, Train Accuracy: 1.0000 | Validation Loss: 0.2303, Validation Accuracy: 1.0000\n",
            "\n",
            "Epoch 9/50: Train Loss: 0.2785, Train Accuracy: 1.0000 | Validation Loss: 0.1704, Validation Accuracy: 1.0000\n",
            "\n",
            "Epoch 10/50: Train Loss: 0.2338, Train Accuracy: 1.0000 | Validation Loss: 0.1269, Validation Accuracy: 1.0000\n",
            "\n",
            "Epoch 11/50: Train Loss: 0.1997, Train Accuracy: 0.9872 | Validation Loss: 0.0952, Validation Accuracy: 1.0000\n",
            "\n",
            "Epoch 12/50: Train Loss: 0.1687, Train Accuracy: 0.9829 | Validation Loss: 0.0716, Validation Accuracy: 1.0000\n",
            "\n",
            "Epoch 13/50: Train Loss: 0.1379, Train Accuracy: 0.9893 | Validation Loss: 0.0542, Validation Accuracy: 1.0000\n",
            "\n",
            "Epoch 14/50: Train Loss: 0.1080, Train Accuracy: 1.0000 | Validation Loss: 0.0415, Validation Accuracy: 1.0000\n",
            "\n",
            "Epoch 15/50: Train Loss: 0.0813, Train Accuracy: 1.0000 | Validation Loss: 0.0321, Validation Accuracy: 1.0000\n",
            "\n",
            "Epoch 16/50: Train Loss: 0.0596, Train Accuracy: 1.0000 | Validation Loss: 0.0253, Validation Accuracy: 1.0000\n",
            "\n",
            "Epoch 17/50: Train Loss: 0.0434, Train Accuracy: 1.0000 | Validation Loss: 0.0203, Validation Accuracy: 1.0000\n",
            "\n",
            "Epoch 18/50: Train Loss: 0.0319, Train Accuracy: 1.0000 | Validation Loss: 0.0165, Validation Accuracy: 1.0000\n",
            "\n",
            "Epoch 19/50: Train Loss: 0.0239, Train Accuracy: 1.0000 | Validation Loss: 0.0136, Validation Accuracy: 1.0000\n",
            "\n",
            "Epoch 20/50: Train Loss: 0.0185, Train Accuracy: 1.0000 | Validation Loss: 0.0114, Validation Accuracy: 1.0000\n",
            "\n",
            "Epoch 21/50: Train Loss: 0.0147, Train Accuracy: 1.0000 | Validation Loss: 0.0097, Validation Accuracy: 1.0000\n",
            "\n",
            "Epoch 22/50: Train Loss: 0.0120, Train Accuracy: 1.0000 | Validation Loss: 0.0083, Validation Accuracy: 1.0000\n",
            "\n",
            "Epoch 23/50: Train Loss: 0.0100, Train Accuracy: 1.0000 | Validation Loss: 0.0071, Validation Accuracy: 1.0000\n",
            "\n",
            "Epoch 24/50: Train Loss: 0.0084, Train Accuracy: 1.0000 | Validation Loss: 0.0062, Validation Accuracy: 1.0000\n",
            "\n",
            "Epoch 25/50: Train Loss: 0.0072, Train Accuracy: 1.0000 | Validation Loss: 0.0055, Validation Accuracy: 1.0000\n",
            "\n",
            "Epoch 26/50: Train Loss: 0.0063, Train Accuracy: 1.0000 | Validation Loss: 0.0049, Validation Accuracy: 1.0000\n",
            "\n",
            "Epoch 27/50: Train Loss: 0.0055, Train Accuracy: 1.0000 | Validation Loss: 0.0043, Validation Accuracy: 1.0000\n",
            "\n",
            "Epoch 28/50: Train Loss: 0.0049, Train Accuracy: 1.0000 | Validation Loss: 0.0039, Validation Accuracy: 1.0000\n",
            "\n",
            "Epoch 29/50: Train Loss: 0.0044, Train Accuracy: 1.0000 | Validation Loss: 0.0036, Validation Accuracy: 1.0000\n",
            "\n",
            "Epoch 30/50: Train Loss: 0.0040, Train Accuracy: 1.0000 | Validation Loss: 0.0032, Validation Accuracy: 1.0000\n",
            "\n",
            "Epoch 31/50: Train Loss: 0.0037, Train Accuracy: 1.0000 | Validation Loss: 0.0030, Validation Accuracy: 1.0000\n",
            "\n",
            "Epoch 32/50: Train Loss: 0.0034, Train Accuracy: 1.0000 | Validation Loss: 0.0028, Validation Accuracy: 1.0000\n",
            "\n",
            "Epoch 33/50: Train Loss: 0.0031, Train Accuracy: 1.0000 | Validation Loss: 0.0026, Validation Accuracy: 1.0000\n",
            "\n",
            "Epoch 34/50: Train Loss: 0.0029, Train Accuracy: 1.0000 | Validation Loss: 0.0024, Validation Accuracy: 1.0000\n",
            "\n",
            "Epoch 35/50: Train Loss: 0.0027, Train Accuracy: 1.0000 | Validation Loss: 0.0022, Validation Accuracy: 1.0000\n",
            "\n",
            "Epoch 36/50: Train Loss: 0.0025, Train Accuracy: 1.0000 | Validation Loss: 0.0021, Validation Accuracy: 1.0000\n",
            "\n",
            "Epoch 37/50: Train Loss: 0.0024, Train Accuracy: 1.0000 | Validation Loss: 0.0020, Validation Accuracy: 1.0000\n",
            "\n",
            "Epoch 38/50: Train Loss: 0.0023, Train Accuracy: 1.0000 | Validation Loss: 0.0019, Validation Accuracy: 1.0000\n",
            "\n",
            "Epoch 39/50: Train Loss: 0.0021, Train Accuracy: 1.0000 | Validation Loss: 0.0018, Validation Accuracy: 1.0000\n",
            "\n",
            "Epoch 40/50: Train Loss: 0.0020, Train Accuracy: 1.0000 | Validation Loss: 0.0017, Validation Accuracy: 1.0000\n",
            "\n",
            "Epoch 41/50: Train Loss: 0.0020, Train Accuracy: 1.0000 | Validation Loss: 0.0016, Validation Accuracy: 1.0000\n",
            "\n",
            "Epoch 42/50: Train Loss: 0.0019, Train Accuracy: 1.0000 | Validation Loss: 0.0016, Validation Accuracy: 1.0000\n",
            "\n",
            "Epoch 43/50: Train Loss: 0.0018, Train Accuracy: 1.0000 | Validation Loss: 0.0015, Validation Accuracy: 1.0000\n",
            "\n",
            "Epoch 44/50: Train Loss: 0.0017, Train Accuracy: 1.0000 | Validation Loss: 0.0014, Validation Accuracy: 1.0000\n",
            "\n",
            "Epoch 45/50: Train Loss: 0.0017, Train Accuracy: 1.0000 | Validation Loss: 0.0014, Validation Accuracy: 1.0000\n",
            "\n",
            "Epoch 46/50: Train Loss: 0.0016, Train Accuracy: 1.0000 | Validation Loss: 0.0013, Validation Accuracy: 1.0000\n",
            "\n",
            "Epoch 47/50: Train Loss: 0.0016, Train Accuracy: 1.0000 | Validation Loss: 0.0013, Validation Accuracy: 1.0000\n",
            "\n",
            "Epoch 48/50: Train Loss: 0.0015, Train Accuracy: 1.0000 | Validation Loss: 0.0012, Validation Accuracy: 1.0000\n",
            "\n",
            "Epoch 49/50: Train Loss: 0.0015, Train Accuracy: 1.0000 | Validation Loss: 0.0012, Validation Accuracy: 1.0000\n",
            "\n",
            "Epoch 50/50: Train Loss: 0.0014, Train Accuracy: 1.0000 | Validation Loss: 0.0012, Validation Accuracy: 1.0000\n",
            "\n"
          ]
        }
      ],
      "source": [
        "num_epochs = 50\n",
        "tr_losses = []\n",
        "tr_accs = []\n",
        "val_losses = []\n",
        "val_accs = []\n",
        "for epoch in range(num_epochs):\n",
        "     model.train()\n",
        "     total_loss = 0\n",
        "     total_samples = 0\n",
        "     correct_predictions = 0\n",
        "     for xb, yb in train_loader:\n",
        "        xb , yb = xb.to(device) , yb.to(device).long()\n",
        "        optimizer.zero_grad()\n",
        "        output = model(xb)\n",
        "        # print('output',output)\n",
        "        # print('max',torch.max(output, 1))\n",
        "        # print('yb',yb)\n",
        "\n",
        "        loss = loss_fn(output , yb)\n",
        "        # print('loss',loss)\n",
        "        # optimizer.zero_grad()\n",
        "        loss.backward()\n",
        "        optimizer.step()\n",
        "        total_loss += loss.item() * xb.size(0)\n",
        "        # print(loss.item())\n",
        "        # print(xb.size(0))\n",
        "        # print('total:',total_loss)\n",
        "\n",
        "        # Calculate accuracy\n",
        "        pred = output.argmax(dim=1) # the index of the maximum value for each column\n",
        "        # print('p',predicted)\n",
        "        # print('real',yb)\n",
        "        total_samples += xb.size(0)\n",
        "        # print(total_samples)\n",
        "        correct_predictions += (pred == yb).sum().item()\n",
        "        # print(correct_predictions)\n",
        "\n",
        "     epoch_loss = total_loss / total_samples\n",
        "     epoch_accuracy = correct_predictions / total_samples\n",
        "     tr_losses.append(epoch_loss)\n",
        "     tr_accs.append(epoch_accuracy)\n",
        "\n",
        "    #  print(f\"Epoch {epoch+1}/{num_epochs}: \" f\"Train Loss: {epoch_loss:.4f}, \"f\"Train Accuracy: {epoch_accuracy:.4f}\")\n",
        "\n",
        "     model.eval()\n",
        "     val_correct_predictions = 0\n",
        "     val_total_samples = 0\n",
        "     val_total_loss = 0\n",
        "     with torch.no_grad():\n",
        "          for xb, yb in val_loader:\n",
        "              xb, yb = xb.to(device), yb.to(device).long()\n",
        "              output = model(xb)\n",
        "              val_loss = loss_fn(output,yb)\n",
        "              val_total_loss += val_loss.item() * xb.size(0)\n",
        "              pred = output.argmax(dim=1)\n",
        "              val_total_samples += xb.size(0)\n",
        "              val_correct_predictions += (pred == yb).sum().item()\n",
        "\n",
        "     val_epoch_loss = val_total_loss / val_total_samples\n",
        "     val_epoch_accuracy = val_correct_predictions / val_total_samples\n",
        "    #  print(    f\"Validation Loss: {val_epoch_loss:.4f}, \"f\"Validation Accuracy: {val_epoch_accuracy:.4f}\\n\")\n",
        "     val_losses.append(val_epoch_loss)\n",
        "     val_accs.append(val_epoch_accuracy)\n",
        "     print(f\"Epoch {epoch+1}/{num_epochs}: \" f\"Train Loss: {epoch_loss:.4f}, \"f\"Train Accuracy: {epoch_accuracy:.4f} | \"f\"Validation Loss: {val_epoch_loss:.4f}, \"f\"Validation Accuracy: {val_epoch_accuracy:.4f}\\n\")\n",
        "\n",
        "\n",
        "\n"
      ]
    },
    {
      "cell_type": "code",
      "source": [
        "import torch.nn.functional as F\n",
        "val_probs = []\n",
        "val_true  = []\n",
        "with torch.no_grad():\n",
        "    for xb, yb in val_loader:\n",
        "        out = model(xb.to(device))\n",
        "        val_probs.append(F.softmax(out, dim=1).max(1).values.cpu())\n",
        "        val_true.append(yb)\n",
        "val_probs = torch.cat(val_probs)\n",
        "print('Val avg max-softmax:', val_probs.mean().item())\n"
      ],
      "metadata": {
        "colab": {
          "base_uri": "https://localhost:8080/"
        },
        "id": "8jMTdw52uDAX",
        "outputId": "4d633d25-1a37-4aeb-fde8-179cd2a95391"
      },
      "execution_count": 31,
      "outputs": [
        {
          "output_type": "stream",
          "name": "stdout",
          "text": [
            "Val avg max-softmax: 0.9988307952880859\n"
          ]
        }
      ]
    },
    {
      "cell_type": "code",
      "source": [
        "model.eval()\n",
        "import torch.nn.functional as F\n",
        "probs = []\n",
        "with torch.no_grad():\n",
        "    for xb, yb in val_loader:\n",
        "        out = model(xb.to(device))\n",
        "        p = F.softmax(out, dim=1).max(dim=1).values\n",
        "        probs.append(p.cpu())\n",
        "probs = torch.cat(probs)\n",
        "print(\"Val avg max softmax:\", probs.mean().item())\n"
      ],
      "metadata": {
        "colab": {
          "base_uri": "https://localhost:8080/"
        },
        "id": "VSXkx-HYlB1k",
        "outputId": "a344e674-5c74-4ab0-f0ef-a5f987acca02"
      },
      "execution_count": 32,
      "outputs": [
        {
          "output_type": "stream",
          "name": "stdout",
          "text": [
            "Val avg max softmax: 0.9988307952880859\n"
          ]
        }
      ]
    },
    {
      "cell_type": "code",
      "execution_count": 33,
      "metadata": {
        "id": "Xohv7SFb4gK8",
        "colab": {
          "base_uri": "https://localhost:8080/"
        },
        "outputId": "d962c6ec-01f1-4bc8-c27c-dd5e2b766d50"
      },
      "outputs": [
        {
          "output_type": "stream",
          "name": "stdout",
          "text": [
            "Test Loss: 0.0013, Test Acc: 1.0000\n"
          ]
        }
      ],
      "source": [
        "# =========================\n",
        "# Test evaluation (add this)\n",
        "# =========================\n",
        "model.eval()\n",
        "test_correct = 0\n",
        "test_total = 0\n",
        "test_loss_total = 0.0\n",
        "with torch.no_grad():\n",
        "    for xb, yb in test_loader:\n",
        "        xb, yb = xb.to(device), yb.to(device).long()\n",
        "        out = model(xb)\n",
        "        loss = loss_fn(out, yb)\n",
        "        test_loss_total += loss.item() * xb.size(0)\n",
        "        pred = out.argmax(dim=1)\n",
        "        test_correct += (pred == yb).sum().item()\n",
        "        test_total += xb.size(0)\n",
        "\n",
        "print(f\"Test Loss: {test_loss_total/test_total:.4f}, Test Acc: {test_correct/test_total:.4f}\")\n"
      ]
    },
    {
      "cell_type": "code",
      "execution_count": 34,
      "metadata": {
        "id": "QccAjtUR4f_q",
        "colab": {
          "base_uri": "https://localhost:8080/"
        },
        "outputId": "f3199353-15d2-4fb9-a8cd-fc3b35353917"
      },
      "outputs": [
        {
          "output_type": "stream",
          "name": "stdout",
          "text": [
            "[[117   0]\n",
            " [  0 117]]\n"
          ]
        }
      ],
      "source": [
        "from sklearn.metrics import confusion_matrix\n",
        "import numpy as np\n",
        "all_pred, all_true = [], []\n",
        "with torch.no_grad():\n",
        "    for xb, yb in val_loader:\n",
        "        out = model(xb.to(device))\n",
        "        all_pred.append(out.argmax(1).cpu().numpy())\n",
        "        all_true.append(yb.numpy())\n",
        "cm = confusion_matrix(np.concatenate(all_true), np.concatenate(all_pred))\n",
        "print(cm)\n"
      ]
    },
    {
      "cell_type": "code",
      "execution_count": 34,
      "metadata": {
        "id": "afA73SCV4f5_"
      },
      "outputs": [],
      "source": []
    },
    {
      "cell_type": "code",
      "execution_count": 34,
      "metadata": {
        "id": "WUToogw34fzs"
      },
      "outputs": [],
      "source": []
    },
    {
      "cell_type": "code",
      "execution_count": 35,
      "metadata": {
        "id": "-qzzYlKo5xfL",
        "colab": {
          "base_uri": "https://localhost:8080/",
          "height": 449
        },
        "outputId": "320f450c-314a-4ed0-b5cd-8e22fdf89b4d"
      },
      "outputs": [
        {
          "output_type": "display_data",
          "data": {
            "text/plain": [
              "<Figure size 640x480 with 1 Axes>"
            ],
            "image/png": "[encoded data removed]"
          },
          "metadata": {}
        }
      ],
      "source": [
        "epoch = np.arange(0,num_epochs , 1)\n",
        "import matplotlib.pyplot as plt\n",
        "\n",
        "plt.plot(epoch, tr_losses , label=\"Train_loss\")\n",
        "plt.plot(epoch, val_losses, label=\"val_losss\")\n",
        "plt.xlabel(\"Epoch\")\n",
        "plt.ylabel(\"Loss\")\n",
        "plt.legend()\n",
        "plt.show()"
      ]
    },
    {
      "cell_type": "code",
      "execution_count": 36,
      "metadata": {
        "id": "ino_bVP5sBx5",
        "colab": {
          "base_uri": "https://localhost:8080/",
          "height": 1000
        },
        "outputId": "5bd39f7c-877e-4649-ccc5-796c14b86128"
      },
      "outputs": [
        {
          "output_type": "display_data",
          "data": {
            "text/plain": [
              "<Figure size 640x480 with 2 Axes>"
            ],
            "image/png": "[encoded data removed]"
          },
          "metadata": {}
        },
        {
          "output_type": "display_data",
          "data": {
            "text/plain": [
              "<Figure size 640x480 with 1 Axes>"
            ],
            "image/png": "[encoded data removed]"
          },
          "metadata": {}
        },
        {
          "output_type": "display_data",
          "data": {
            "text/plain": [
              "<Figure size 640x480 with 1 Axes>"
            ],
            "image/png": "[encoded data removed]"
          },
          "metadata": {}
        }
      ],
      "source": [
        "import torch\n",
        "import torch.nn.functional as F\n",
        "from sklearn.metrics import confusion_matrix, ConfusionMatrixDisplay\n",
        "from sklearn.metrics import RocCurveDisplay, PrecisionRecallDisplay\n",
        "import matplotlib.pyplot as plt\n",
        "\n",
        "y_true, y_pred, y_score = [], [], []\n",
        "model.eval()\n",
        "\n",
        "with torch.no_grad():\n",
        "    for xb, yb in val_loader:\n",
        "        xb, yb = xb.to(device), yb.to(device).long()   # targets should be int for CE\n",
        "        logits = model(xb)                             # [B,2]\n",
        "\n",
        "        # 1) Probability of class 1\n",
        "        probs  = torch.softmax(logits, dim=1)          # [B,2]\n",
        "        score1 = probs[:, 1]                           # [B]\n",
        "\n",
        "        # 2) Predicted class index\n",
        "        preds  = logits.argmax(dim=1)                  # [B]\n",
        "\n",
        "        # Save results\n",
        "        y_true.extend(yb.cpu().tolist())\n",
        "        y_pred.extend(preds.cpu().tolist())\n",
        "        y_score.extend(score1.cpu().tolist())\n",
        "\n",
        "# 1) Confusion Matrix\n",
        "ConfusionMatrixDisplay.from_predictions(y_true, y_pred, cmap=\"Blues\", values_format=\"d\")\n",
        "plt.title(\"Confusion Matrix (Validation)\")\n",
        "plt.show()\n",
        "\n",
        "# 2) ROC\n",
        "RocCurveDisplay.from_predictions(y_true, y_score)\n",
        "plt.title(\"ROC Curve (Validation)\")\n",
        "plt.show()\n",
        "\n",
        "# 3) Precision–Recall\n",
        "PrecisionRecallDisplay.from_predictions(y_true, y_score)\n",
        "plt.title(\"Precision–Recall Curve (Validation)\")\n",
        "plt.show()"
      ]
    },
    {
      "cell_type": "code",
      "execution_count": 37,
      "metadata": {
        "id": "a9rUl-yzt5ZU",
        "colab": {
          "base_uri": "https://localhost:8080/",
          "height": 545
        },
        "outputId": "780de5cc-2ecc-4d6b-f5b2-e857a5955bce"
      },
      "outputs": [
        {
          "output_type": "display_data",
          "data": {
            "text/plain": [
              "<Figure size 600x600 with 2 Axes>"
            ],
            "image/png": "[encoded data removed]"
          },
          "metadata": {}
        }
      ],
      "source": [
        "from sklearn.manifold import TSNE\n",
        "import matplotlib.pyplot as plt\n",
        "import torch\n",
        "\n",
        "model.eval()\n",
        "all_embeds, all_labels = [], []\n",
        "\n",
        "with torch.no_grad():\n",
        "    for xb, yb in val_loader:\n",
        "        xb = xb.to(device)\n",
        "        # Pass through encoder only (skip classifier head)\n",
        "        embeds = model.encoder(model.inp(xb) + model.pos(model.inp(xb)))\n",
        "        embeds = embeds.mean(dim=1)                # [B, d_model]\n",
        "\n",
        "        all_embeds.append(embeds.cpu())\n",
        "        all_labels.append(yb.cpu())\n",
        "\n",
        "# Concatenate all batches\n",
        "all_embeds = torch.cat(all_embeds, dim=0).numpy()\n",
        "all_labels = torch.cat(all_labels, dim=0).numpy()\n",
        "\n",
        "# Run t-SNE\n",
        "X_2d = TSNE(n_components=2, random_state=42).fit_transform(all_embeds)\n",
        "\n",
        "# Plot\n",
        "plt.figure(figsize=(6,6))\n",
        "plt.scatter(X_2d[:,0], X_2d[:,1], c=all_labels, cmap=\"coolwarm\", alpha=0.7)\n",
        "plt.colorbar(label=\"Class\")\n",
        "plt.title(\"t-SNE of Validation Embeddings\")\n",
        "plt.show()\n"
      ]
    }
  ],
  "metadata": {
    "colab": {
      "provenance": [],
      "gpuType": "T4",
      "authorship_tag": "ABX9TyNqAF+ADmjvvwr+xPF+O7ER",
      "include_colab_link": true
    },
    "kernelspec": {
      "display_name": "Python 3",
      "name": "python3"
    },
    "language_info": {
      "name": "python"
    },
    "accelerator": "GPU"
  },
  "nbformat": 4,
  "nbformat_minor": 0
}