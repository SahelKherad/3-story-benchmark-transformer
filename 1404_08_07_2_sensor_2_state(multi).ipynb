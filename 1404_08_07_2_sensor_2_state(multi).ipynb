{
  "cells": [
    {
      "cell_type": "markdown",
      "metadata": {
        "id": "view-in-github",
        "colab_type": "text"
      },
      "source": [
        "<a href=\"https://colab.research.google.com/github/SahelKherad/3-story-benchmark-transformer/blob/main/1404_08_07_2_sensor_2_state(multi).ipynb\" target=\"_parent\"><img src=\"https://colab.research.google.com/assets/colab-badge.svg\" alt=\"Open In Colab\"/></a>"
      ]
    },
    {
      "cell_type": "code",
      "execution_count": 210,
      "metadata": {
        "id": "JzyYbQohztXG"
      },
      "outputs": [],
      "source": [
        "import os\n",
        "import scipy.io\n",
        "from scipy.io.matlab._mio5_params import mat_struct\n",
        "import numpy as np\n",
        "import pandas as pd\n",
        "import torch\n",
        "import torch.nn as nn\n",
        "from torch.utils.data import Dataset, DataLoader\n",
        "import matplotlib.pyplot as plt\n",
        "from sklearn.metrics import confusion_matrix\n",
        "from sklearn.model_selection import train_test_split"
      ]
    },
    {
      "cell_type": "code",
      "execution_count": 211,
      "metadata": {
        "colab": {
          "base_uri": "https://localhost:8080/"
        },
        "id": "rEjAYmOPAbYE",
        "outputId": "4b74eb84-9080-49eb-baed-201ddf1d2fb0"
      },
      "outputs": [
        {
          "output_type": "stream",
          "name": "stdout",
          "text": [
            "Mounted at /content/drive\n"
          ]
        }
      ],
      "source": [
        "from google.colab import drive\n",
        "drive.mount('/content/drive', force_remount=True)"
      ]
    },
    {
      "cell_type": "code",
      "execution_count": 212,
      "metadata": {
        "colab": {
          "base_uri": "https://localhost:8080/"
        },
        "id": "84ltkG1zAdmw",
        "outputId": "e6526537-ec5a-4da1-e111-be02277dd7c0"
      },
      "outputs": [
        {
          "output_type": "stream",
          "name": "stdout",
          "text": [
            "shm01a.mat  shm03a.mat\tshm05a.mat  shm07a.mat\tshm09a.mat\n",
            "shm02a.mat  shm04a.mat\tshm06a.mat  shm08a.mat\n"
          ]
        }
      ],
      "source": [
        "!ls \"/content/drive/My Drive/ASCE\""
      ]
    },
    {
      "cell_type": "code",
      "execution_count": 213,
      "metadata": {
        "colab": {
          "base_uri": "https://localhost:8080/"
        },
        "id": "mOPozofZA9NS",
        "outputId": "d1e0c4b8-30c6-44bf-9c44-ad22fcf03b28"
      },
      "outputs": [
        {
          "output_type": "stream",
          "name": "stdout",
          "text": [
            "(60000, 16)\n",
            "(60000,)\n",
            "(60000,)\n"
          ]
        }
      ],
      "source": [
        "def load_mat(path):\n",
        "    mat = scipy.io.loadmat(path, squeeze_me=True, struct_as_record=False)\n",
        "    raw = mat.get('dasy')\n",
        "    if isinstance(raw, mat_struct):\n",
        "        channels = []\n",
        "        for f in raw._fieldnames:\n",
        "            arr = getattr(raw, f)\n",
        "            channels.append(np.asarray(arr).reshape(-1))\n",
        "        data = np.stack(channels, axis=1)  # (n_samples, n_channels)\n",
        "    else:\n",
        "        raise ValueError(\"Unexpected MAT structure. 'dasy' not a struct.\")\n",
        "    return data  # float64 by default\n",
        "\n",
        "base_dir = '/content/drive/MyDrive/ASCE/'\n",
        "state_files = {\n",
        "    1: 'shm01a.mat', 2: 'shm02a.mat', 3: 'shm03a.mat',\n",
        "    4: 'shm04a.mat', 5: 'shm05a.mat', 6: 'shm06a.mat',\n",
        "    7: 'shm07a.mat', 8: 'shm08a.mat', 9: 'shm09a.mat',\n",
        "}\n",
        "# label_to_class_id: 1..9 -> 0..8\n",
        "label_to_cid = {lab: i for i, lab in enumerate(sorted(state_files.keys()))}\n",
        "\n",
        "scenario_data = {}   # cid -> np.ndarray [N, C]\n",
        "for lab, fname in state_files.items():\n",
        "    x = load_mat(os.path.join(base_dir, fname)).astype(np.float32)\n",
        "    scenario_data[label_to_cid[lab]] = x\n",
        "print(scenario_data[0][:,:].shape)\n",
        "print(scenario_data[0][:,4].shape)\n",
        "print(scenario_data[4][:,4].shape)\n",
        "    # print(fname, x.shape)"
      ]
    },
    {
      "cell_type": "code",
      "execution_count": 214,
      "metadata": {
        "id": "t8Vx6tVvBNOR"
      },
      "outputs": [],
      "source": [
        "# print(scenario_data[0][:,4].shape)\n",
        "# print(scenario_data[0][:,4])\n",
        "# print('Max = ',max(scenario_data[0][:,4]))\n",
        "# print('Min = ',min(scenario_data[0][:,4]))\n",
        "# fig , axs = plt.subplots(2,3,figsize=(10,5))\n",
        "# axs[0,0].plot(scenario_data[0][:win,4])\n",
        "# axs[0,1].plot(scenario_data[0][win: 2*win,4])\n",
        "# axs[0,2].plot(scenario_data[0][:,4])\n",
        "\n",
        "# print(scenario_data[1][:,4].shape)\n",
        "# print('Max = ',max(scenario_data[1][:,4]))\n",
        "# print('Min = ',min(scenario_data[1][:,4]))\n",
        "# axs[1,0].plot(scenario_data[1][:win,4],c='r')\n",
        "# axs[1,1].plot(scenario_data[1][win:2*win,4], c='r')\n",
        "# axs[1,2].plot(scenario_data[1][:,4],c='r')\n"
      ]
    },
    {
      "cell_type": "code",
      "execution_count": 215,
      "metadata": {
        "colab": {
          "base_uri": "https://localhost:8080/"
        },
        "id": "aNl3tzv1Fj63",
        "outputId": "58f2e5dc-935e-44fd-ba04-e4e3b0e500cd"
      },
      "outputs": [
        {
          "output_type": "stream",
          "name": "stdout",
          "text": [
            "(60000, 2)\n",
            "(180000, 2)\n"
          ]
        }
      ],
      "source": [
        "healthy_data_1 = scenario_data[0][:,4]\n",
        "healthy_data_2 = scenario_data[0][:,6]\n",
        "Healthy_data = np.stack([healthy_data_1, healthy_data_2], axis = 1)\n",
        "print(Healthy_data.shape)\n",
        "\n",
        "damaged_data_1 = scenario_data[7][:,4]\n",
        "damaged_data_2 = scenario_data[7][:,6]\n",
        "Damaged_data = np.stack([damaged_data_1, damaged_data_2], axis = 1)\n",
        "print(Damaged_data.shape)\n"
      ]
    },
    {
      "cell_type": "code",
      "execution_count": 216,
      "metadata": {
        "id": "SNOjFVrO60Tm"
      },
      "outputs": [],
      "source": [
        "def make_windows(data, window_length, drop_last : bool = True):\n",
        "    # Calculate how many full frames can be created\n",
        "    num_frames = len(data) // window_length\n",
        "    # print(num_frames)\n",
        "    # Trim the data to be a perfect multiple of the frame length\n",
        "    trimmed_data = data[:num_frames * window_length]\n",
        "\n",
        "    # Reshape the data into a 2D array of frames\n",
        "    windows = trimmed_data.reshape((num_frames, window_length))\n",
        "    # return trimmed_data.shape , frames.shape\n",
        "    return windows"
      ]
    },
    {
      "cell_type": "code",
      "source": [
        "def make_windows_stride(x, win, stride):\n",
        "    n = 1 + (len(x) - win)//stride\n",
        "    idx = np.arange(win)[None,:] + stride*np.arange(n)[:,None]\n",
        "    return x[idx]\n"
      ],
      "metadata": {
        "id": "3YG2yWS_VTOq"
      },
      "execution_count": 217,
      "outputs": []
    },
    {
      "cell_type": "code",
      "source": [
        "win = 1024\n",
        "stride = 512\n",
        "\n",
        "# # Build windows per sensor (shape: [N_win, 128])\n",
        "# h_1 = make_windows(healthy_data_1, win)\n",
        "# h_2 = make_windows(healthy_data_2, win)\n",
        "# d_1 = make_windows(damaged_data_1, win)\n",
        "# d_2 = make_windows(damaged_data_2, win)\n",
        "\n",
        "# Build windows per sensor (shape: [N_win, 128])\n",
        "h_1 = make_windows(healthy_data_1, win, stride)\n",
        "h_2 = make_windows(healthy_data_2, win, stride)\n",
        "d_1 = make_windows(damaged_data_1, win, stride)\n",
        "d_2 = make_windows(damaged_data_2, win, stride)\n",
        "\n",
        "# WRONG before: np.concatenate([...], axis=1) -> (N, 256)  # mixes time with channels\n",
        "# RIGHT: stack as channels -> (N, 128, 2)\n",
        "healthy_data = np.stack([h_1, h_2], axis=-1)  # (N_h, 128, 2)\n",
        "damaged_data = np.stack([d_1, d_2], axis=-1)  # (N_d, 128, 2)\n",
        "\n",
        "print(healthy_data.shape) # Should be (468, 128, 2)\n",
        "print(damaged_data.shape) # Should be (468, 128, 2)\n"
      ],
      "metadata": {
        "colab": {
          "base_uri": "https://localhost:8080/"
        },
        "id": "NVjlpin_AqYb",
        "outputId": "016f2ae9-8019-4acd-a9c1-01ee3efbc918"
      },
      "execution_count": 218,
      "outputs": [
        {
          "output_type": "stream",
          "name": "stdout",
          "text": [
            "(58, 1024, 2)\n",
            "(175, 1024, 2)\n"
          ]
        }
      ]
    },
    {
      "cell_type": "code",
      "source": [
        "# win = 128\n",
        "\n",
        "# # Sensor 1 data from healthy (h_1) and damaged (d_1)\n",
        "# h_1 = make_windows(scenario_data[0][:,4], win, drop_last=True) # (468, 128)\n",
        "# d_1 = make_windows(scenario_data[1][:,4], win, drop_last=True) # (468, 128)\n",
        "\n",
        "# # Sensor 2 data from healthy (h_2) and damaged (d_2)\n",
        "# h_2 = make_windows(scenario_data[0][:,6], win, drop_last=True) # (468, 128)\n",
        "# d_2 = make_windows(scenario_data[1][:,6], win, drop_last=True) # (468, 128)\n",
        "\n",
        "# # Stack the two sensors along a new axis (the feature/channel axis)\n",
        "# # Resulting shape: (N_windows, window_length, N_channels) -> (468, 128, 2)\n",
        "# healthy_data = np.stack([h_1, h_2], axis=2)\n",
        "# damaged_data = np.stack([d_1, d_2], axis=2)\n",
        "\n",
        "# print(healthy_data.shape) # Should be (468, 128, 2)\n",
        "# print(damaged_data.shape) # Should be (468, 128, 2)"
      ],
      "metadata": {
        "id": "vdf5wUBsBEDs"
      },
      "execution_count": 219,
      "outputs": []
    },
    {
      "cell_type": "code",
      "execution_count": 220,
      "metadata": {
        "id": "aqkjq8tN66qm"
      },
      "outputs": [],
      "source": [
        "# # 2) Make windows per class\n",
        "# h_1 = make_windows(healthy_data_1, win, drop_last=True)\n",
        "# h_2 = make_windows(healthy_data_2, win, drop_last=True)\n",
        "\n",
        "# print(h_1)\n",
        "# print(h_2)\n",
        "# print(h_1.shape)\n",
        "# print(h_2.shape)\n",
        "\n",
        "\n",
        "# healthy_data = np.concatenate([h_1,h_2], axis = 1)\n",
        "# print(healthy_data.shape)\n",
        "# # print(healthy_data)\n",
        "\n",
        "# d_1 = make_windows(damaged_data_1, win, drop_last=True)\n",
        "# d_2 = make_windows(damaged_data_2, win, drop_last=True)\n",
        "# damaged_data = np.concatenate([d_1,d_2], axis = 1)\n",
        "\n",
        "# print(damaged_data.shape)\n",
        "\n"
      ]
    },
    {
      "cell_type": "code",
      "source": [
        "n_train, n_val = 0.6, 0.2\n",
        "print(len(healthy_data))\n",
        "m_0, l_0 = int(n_train*len(healthy_data)), int(n_val*len(healthy_data))\n",
        "m_1, l_1 = int(n_train*len(damaged_data)), int(n_val*len(damaged_data))\n",
        "\n",
        "X_train_0, X_val_0, X_test_0 = healthy_data[:m_0], healthy_data[m_0:m_0+l_0], healthy_data[m_0+l_0:]\n",
        "X_train_1, X_val_1, X_test_1 = damaged_data[:m_1], damaged_data[m_1:m_1+l_1], damaged_data[m_1+l_1:]\n",
        "\n",
        "# concat train sets to compute stats (axis=(0,1) => over samples and time; keep channel-wise stats)\n",
        "train_all = np.concatenate([X_train_0, X_train_1], axis=0)       # (N_tr, 128, 2)\n",
        "mu  = train_all.mean(axis=(0,1), keepdims=True)                   # (1,1,2)\n",
        "std = train_all.std(axis=(0,1), keepdims=True) + 1e-6             # (1,1,2)\n",
        "\n",
        "def norm(x): return (x - mu)/std\n",
        "X_train_0, X_val_0, X_test_0 = norm(X_train_0), norm(X_val_0), norm(X_test_0)\n",
        "X_train_1, X_val_1, X_test_1 = norm(X_train_1), norm(X_val_1), norm(X_test_1)\n",
        "\n",
        "print(X_train_0.shape)\n",
        "print(X_val_0.shape)\n",
        "print(X_test_0.shape)\n",
        "print(X_train_1.shape)\n",
        "print(X_val_1.shape)\n",
        "print(X_test_1.shape )\n"
      ],
      "metadata": {
        "colab": {
          "base_uri": "https://localhost:8080/"
        },
        "id": "WYmDYl8zKNK0",
        "outputId": "aca7a933-fa5c-4266-aaea-1511d3cfc291"
      },
      "execution_count": 221,
      "outputs": [
        {
          "output_type": "stream",
          "name": "stdout",
          "text": [
            "58\n",
            "(34, 1024, 2)\n",
            "(11, 1024, 2)\n",
            "(13, 1024, 2)\n",
            "(105, 1024, 2)\n",
            "(35, 1024, 2)\n",
            "(35, 1024, 2)\n"
          ]
        }
      ]
    },
    {
      "cell_type": "code",
      "execution_count": 222,
      "metadata": {
        "id": "No19Av0aGGke"
      },
      "outputs": [],
      "source": [
        "# n_train = 0.6\n",
        "# n_val = 0.2\n",
        "\n",
        "# m_0 = int(n_train * (healthy_data.shape[0]))\n",
        "# print(healthy_data.shape[0])\n",
        "# print(m_0)\n",
        "# l_0 = int(n_val * (healthy_data.shape[0]))\n",
        "\n",
        "# m_1 = int(n_train * (damaged_data.shape[0]))\n",
        "# print(damaged_data.shape[0])\n",
        "# print(m_1)\n",
        "# l_1 = int(n_val * (damaged_data.shape[0]))\n",
        "\n",
        "# X_train_0 = healthy_data[0:m_0,:]\n",
        "# print('X_train_0',X_train_0.shape)\n",
        "# X_val_0 = healthy_data[m_0 :m_0+l_0,:]\n",
        "# print('X_val_0',X_val_0.shape)\n",
        "# X_test_0 = healthy_data[m_0+l_0:,:]\n",
        "# print('X_test_0',X_test_0.shape)\n",
        "\n",
        "# y_0 = np.zeros((X_train_0.shape[0]+X_val_0.shape[0]+X_test_0.shape[0]), dtype=np.int64)\n",
        "# print(y_0.shape)\n",
        "\n",
        "# X_train_1 = damaged_data[0:m_1,:]\n",
        "# X_val_1 = damaged_data[m_1 :m_1+l_1,:]\n",
        "# X_test_1 = damaged_data[m_1+l_1:,:]\n",
        "# y_1 = np.ones((X_train_1.shape[0]+X_val_1.shape[0]+X_test_1.shape[0]), dtype=np.int64)\n",
        "# print(y_1.shape)"
      ]
    },
    {
      "cell_type": "code",
      "execution_count": 223,
      "metadata": {
        "colab": {
          "base_uri": "https://localhost:8080/"
        },
        "id": "iaHN_fqBGGft",
        "outputId": "267d5f0c-ab7a-4907-f35c-ef28db368930"
      },
      "outputs": [
        {
          "output_type": "stream",
          "name": "stdout",
          "text": [
            "x_train_o.shape: (34, 1024, 2)\n",
            "x_val_o.shape: (11, 1024, 2)\n",
            "x_test_o.shape: (13, 1024, 2)\n"
          ]
        }
      ],
      "source": [
        "print('x_train_o.shape:', X_train_0.shape)\n",
        "print('x_val_o.shape:', X_val_0.shape)\n",
        "print('x_test_o.shape:', X_test_0.shape)"
      ]
    },
    {
      "cell_type": "code",
      "execution_count": 224,
      "metadata": {
        "colab": {
          "base_uri": "https://localhost:8080/"
        },
        "id": "nWopbzLHD6LO",
        "outputId": "013b5a7c-18cc-4628-8a6c-661a2a745a6a"
      },
      "outputs": [
        {
          "output_type": "stream",
          "name": "stdout",
          "text": [
            "x_train_1.shape: (105, 1024, 2)\n",
            "x_val_1.shape: (35, 1024, 2)\n",
            "x_test_1.shape: (35, 1024, 2)\n"
          ]
        }
      ],
      "source": [
        "print('x_train_1.shape:', X_train_1.shape)\n",
        "print('x_val_1.shape:', X_val_1.shape)\n",
        "print('x_test_1.shape:', X_test_1.shape)\n"
      ]
    },
    {
      "cell_type": "code",
      "source": [
        "X_train = np.concatenate([X_train_0, X_train_1], axis=0)  # (N, 128, 2)\n",
        "y_train = np.array([0]*len(X_train_0) + [1]*len(X_train_1), dtype=np.int64)\n",
        "\n",
        "X_val = np.concatenate([X_val_0, X_val_1], axis=0)        # (N, 128, 2)\n",
        "y_val = np.array([0]*len(X_val_0) + [1]*len(X_val_1), dtype=np.int64)\n",
        "\n",
        "X_test = np.concatenate([X_test_0, X_test_1], axis=0)     # (N, 128, 2)\n",
        "y_test = np.array([0]*len(X_test_0) + [1]*len(X_test_1), dtype=np.int64)\n",
        "\n",
        "# shuffle train only\n",
        "rng = np.random.default_rng(42)\n",
        "perm = rng.permutation(len(X_train))\n",
        "X_train, y_train = X_train[perm], y_train[perm]\n",
        "\n",
        "# to torch\n",
        "X_train = torch.from_numpy(X_train).float()   # [N, 128, 2]\n",
        "X_val   = torch.from_numpy(X_val).float()\n",
        "X_test  = torch.from_numpy(X_test).float()\n",
        "y_train = torch.from_numpy(y_train).long()\n",
        "y_val   = torch.from_numpy(y_val).long()\n",
        "y_test  = torch.from_numpy(y_test).long()\n",
        "\n",
        "\n",
        "print(X_train.shape, y_train.shape)\n",
        "print(X_val.shape, y_val.shape)\n",
        "print(X_test.shape, y_test.shape)\n"
      ],
      "metadata": {
        "colab": {
          "base_uri": "https://localhost:8080/"
        },
        "id": "HMO6rpWaP2J3",
        "outputId": "9aeb5c7b-bd90-4cdb-fd3c-5ca61060adef"
      },
      "execution_count": 225,
      "outputs": [
        {
          "output_type": "stream",
          "name": "stdout",
          "text": [
            "torch.Size([139, 1024, 2]) torch.Size([139])\n",
            "torch.Size([46, 1024, 2]) torch.Size([46])\n",
            "torch.Size([48, 1024, 2]) torch.Size([48])\n"
          ]
        }
      ]
    },
    {
      "cell_type": "code",
      "execution_count": 226,
      "metadata": {
        "id": "Vn18DVVKq76e"
      },
      "outputs": [],
      "source": [
        "class SeqDataset(Dataset):\n",
        "    def __init__(self, X: torch.Tensor, y: torch.Tensor):\n",
        "        self.X = X  # [N, seq_len, 1]\n",
        "        self.y = y  # [N]\n",
        "    def __len__(self): return self.y.shape[0]\n",
        "    def __getitem__(self, i): return self.X[i], self.y[i]\n",
        "\n",
        "train_ds = SeqDataset(X_train, y_train)\n",
        "# print(X_train.shape)\n",
        "# print(train_ds[0])\n",
        "# print(train_ds[1])\n",
        "# print(train_ds[2])\n",
        "val_ds   = SeqDataset(X_val,   y_val)\n",
        "test_ds  = SeqDataset(X_test,  y_test)"
      ]
    },
    {
      "cell_type": "code",
      "execution_count": 227,
      "metadata": {
        "id": "3ma0uxTa8nsD"
      },
      "outputs": [],
      "source": [
        "# 6) DataLoaders: shuffle only the training set\n",
        "batch_size = 64\n",
        "train_loader = DataLoader(train_ds, batch_size=batch_size, shuffle=True)\n",
        "val_loader   = DataLoader(val_ds,   batch_size=batch_size, shuffle=False)\n",
        "test_loader  = DataLoader(test_ds,  batch_size=batch_size, shuffle=False)"
      ]
    },
    {
      "cell_type": "code",
      "execution_count": 228,
      "metadata": {
        "colab": {
          "base_uri": "https://localhost:8080/"
        },
        "id": "ILHeIaNA_Y1t",
        "outputId": "6351ded3-4531-40af-d341-5b74837e148f"
      },
      "outputs": [
        {
          "output_type": "stream",
          "name": "stdout",
          "text": [
            "train label set/counts: (tensor([0, 1]), tensor([ 34, 105]))\n",
            "val   label set/counts: (tensor([0, 1]), tensor([11, 35]))\n",
            "train min/max: 0 1\n",
            "val   min/max: 0 1\n"
          ]
        }
      ],
      "source": [
        "with torch.no_grad():\n",
        "    ys_tr = torch.cat([yb.view(-1) for _, yb in train_loader], dim=0).cpu()\n",
        "    ys_va = torch.cat([yb.view(-1) for _, yb in val_loader], dim=0).cpu()\n",
        "\n",
        "print(\"train label set/counts:\", ys_tr.unique(return_counts=True))\n",
        "print(\"val   label set/counts:\", ys_va.unique(return_counts=True))\n",
        "print(\"train min/max:\", ys_tr.min().item(), ys_tr.max().item())\n",
        "print(\"val   min/max:\", ys_va.min().item(), ys_va.max().item())"
      ]
    },
    {
      "cell_type": "code",
      "execution_count": 229,
      "metadata": {
        "id": "ue57o5HKq7fi"
      },
      "outputs": [],
      "source": [
        "# 7) Example: adapt a batch for a Transformer [seq_len, batch, d_model]\n",
        "xb, yb = next(iter(train_loader))   # xb: [B, 5, 1]"
      ]
    },
    {
      "cell_type": "code",
      "execution_count": 230,
      "metadata": {
        "id": "KAd745oVq7Sd"
      },
      "outputs": [],
      "source": [
        "class LearnablePositionalEncoding(nn.Module):\n",
        "    \"\"\"\n",
        "    Learnable positional encoding added to token embeddings.\n",
        "    Shape stored: [1, max_len, d_model]\n",
        "    \"\"\"\n",
        "    def __init__(self, d_model: int, max_len: int):\n",
        "        super().__init__()\n",
        "        self.pe = nn.Parameter(torch.zeros(1, max_len, d_model))\n",
        "        print(self.pe)\n",
        "        nn.init.trunc_normal_(self.pe, std=0.02)\n",
        "\n",
        "    def forward(self, x):\n",
        "        # x: [B, T, d_model]\n",
        "        T = x.size(1)\n",
        "        return x + self.pe[:, :T, :]"
      ]
    },
    {
      "cell_type": "code",
      "execution_count": 231,
      "metadata": {
        "id": "wBe4P6n8puIs"
      },
      "outputs": [],
      "source": [
        "class TimeSeriesTransformer(nn.Module):\n",
        "    def __init__(self, d_model=64, nhead=4, num_layers=4, d_ff=256, seq_len= X_train.shape[1], num_classes=2, dropout=0.1, in_features=2):\n",
        "        super().__init__()\n",
        "        self.inp = nn.Linear(in_features, d_model)\n",
        "        self.pos = LearnablePositionalEncoding(d_model, seq_len)    # learnable PE\n",
        "        enc_layer = nn.TransformerEncoderLayer(\n",
        "            d_model=d_model, nhead=nhead,\n",
        "            dim_feedforward=d_ff, dropout=dropout,\n",
        "            batch_first=True                                        # so we keep [B, T, d]\n",
        "        )\n",
        "        self.encoder = nn.TransformerEncoder(enc_layer, num_layers=num_layers)\n",
        "        self.norm = nn.LayerNorm(d_model)\n",
        "        self.head = nn.Linear(d_model, num_classes)\n",
        "\n",
        "    def forward(self, x):\n",
        "        # x: [B, T, 1]\n",
        "        x = self.inp(x)                  # [B, T, d]\n",
        "        x = self.pos(x)                  # add learnable PE\n",
        "        x = self.encoder(x)              # [B, T, d]\n",
        "        x = self.norm(x)\n",
        "        x = x.mean(dim=1)                # mean pool over time\n",
        "\n",
        "        logits = self.head(x)            # [B, C]\n",
        "        return logits"
      ]
    },
    {
      "cell_type": "code",
      "execution_count": 232,
      "metadata": {
        "colab": {
          "base_uri": "https://localhost:8080/"
        },
        "id": "gfewTjRosCAY",
        "outputId": "48bfee58-1977-4777-f790-2218841e71d4"
      },
      "outputs": [
        {
          "output_type": "stream",
          "name": "stdout",
          "text": [
            "Parameter containing:\n",
            "tensor([[[0., 0., 0.,  ..., 0., 0., 0.],\n",
            "         [0., 0., 0.,  ..., 0., 0., 0.],\n",
            "         [0., 0., 0.,  ..., 0., 0., 0.],\n",
            "         ...,\n",
            "         [0., 0., 0.,  ..., 0., 0., 0.],\n",
            "         [0., 0., 0.,  ..., 0., 0., 0.],\n",
            "         [0., 0., 0.,  ..., 0., 0., 0.]]], requires_grad=True)\n"
          ]
        }
      ],
      "source": [
        "device = torch.device(\"cuda\" if torch.cuda.is_available() else \"cpu\")\n",
        "seq_len = X_train.shape[1]\n",
        "num_classes = 2\n",
        "model = TimeSeriesTransformer(\n",
        "    d_model=32,\n",
        "    nhead=2,\n",
        "    num_layers=2,\n",
        "    d_ff=32,\n",
        "    seq_len=seq_len ,\n",
        "    num_classes=2,\n",
        "    dropout=0.1,\n",
        "    in_features=2).to(device)"
      ]
    },
    {
      "cell_type": "code",
      "execution_count": 233,
      "metadata": {
        "colab": {
          "base_uri": "https://localhost:8080/"
        },
        "id": "2149a252",
        "outputId": "6d58eb5e-3a7f-49db-e519-092d4989b9ae"
      },
      "outputs": [
        {
          "output_type": "stream",
          "name": "stdout",
          "text": [
            "Using device: cuda\n"
          ]
        },
        {
          "output_type": "execute_result",
          "data": {
            "text/plain": [
              "TimeSeriesTransformer(\n",
              "  (inp): Linear(in_features=2, out_features=32, bias=True)\n",
              "  (pos): LearnablePositionalEncoding()\n",
              "  (encoder): TransformerEncoder(\n",
              "    (layers): ModuleList(\n",
              "      (0-1): 2 x TransformerEncoderLayer(\n",
              "        (self_attn): MultiheadAttention(\n",
              "          (out_proj): NonDynamicallyQuantizableLinear(in_features=32, out_features=32, bias=True)\n",
              "        )\n",
              "        (linear1): Linear(in_features=32, out_features=32, bias=True)\n",
              "        (dropout): Dropout(p=0.1, inplace=False)\n",
              "        (linear2): Linear(in_features=32, out_features=32, bias=True)\n",
              "        (norm1): LayerNorm((32,), eps=1e-05, elementwise_affine=True)\n",
              "        (norm2): LayerNorm((32,), eps=1e-05, elementwise_affine=True)\n",
              "        (dropout1): Dropout(p=0.1, inplace=False)\n",
              "        (dropout2): Dropout(p=0.1, inplace=False)\n",
              "      )\n",
              "    )\n",
              "  )\n",
              "  (norm): LayerNorm((32,), eps=1e-05, elementwise_affine=True)\n",
              "  (head): Linear(in_features=32, out_features=2, bias=True)\n",
              ")"
            ]
          },
          "metadata": {},
          "execution_count": 233
        }
      ],
      "source": [
        "device = torch.device(\"cuda\" if torch.cuda.is_available() else \"cpu\")\n",
        "print(f\"Using device: {device}\")\n",
        "model.to(device) # Move the model to the selected device"
      ]
    },
    {
      "cell_type": "code",
      "execution_count": 234,
      "metadata": {
        "id": "dp_VLwP7sB7K"
      },
      "outputs": [],
      "source": [
        "# Optional class weights for CE or focal alpha; compute from training labels\n",
        "class_counts = torch.bincount(y_train)\n",
        "class_weights = (class_counts.sum() / (class_counts.float().clamp(min=1)))  # inverse freq\n",
        "class_weights = class_weights / class_weights.sum() * num_classes           # normalize\n",
        "class_weights = class_weights.to(device)"
      ]
    },
    {
      "cell_type": "code",
      "execution_count": 235,
      "metadata": {
        "id": "4xc9Wh7DsB0e"
      },
      "outputs": [],
      "source": [
        "# from torch.optim.lr_scheduler import CosineAnnealingLR\n",
        "# # optimizer = torch.optim.AdamW(model.parameters(), lr=1e-3, weight_decay=0)\n",
        "# # loss_fn = nn.CrossEntropyLoss()\n",
        "# from torch.optim.lr_scheduler import CosineAnnealingLR\n",
        "# scheduler = CosineAnnealingLR(optimizer, T_max=num_epochs)\n",
        "\n",
        "optimizer = torch.optim.AdamW(model.parameters(), lr=1e-3, weight_decay=1e-4)\n",
        "\n",
        "loss_fn = nn.CrossEntropyLoss()"
      ]
    },
    {
      "cell_type": "code",
      "execution_count": 236,
      "metadata": {
        "colab": {
          "base_uri": "https://localhost:8080/"
        },
        "id": "dZbtuUUR-_dk",
        "outputId": "7092657f-5482-488e-f70a-22f18ae9ff68"
      },
      "outputs": [
        {
          "output_type": "stream",
          "name": "stdout",
          "text": [
            "Epoch 1/50: Train Loss: 0.3820, Train Accuracy: 1.0000 | Validation Loss: 0.2077, Validation Accuracy: 1.0000\n",
            "\n",
            "Epoch 2/50: Train Loss: 0.1862, Train Accuracy: 1.0000 | Validation Loss: 0.1032, Validation Accuracy: 1.0000\n",
            "\n",
            "Epoch 3/50: Train Loss: 0.0953, Train Accuracy: 1.0000 | Validation Loss: 0.0558, Validation Accuracy: 1.0000\n",
            "\n",
            "Epoch 4/50: Train Loss: 0.0532, Train Accuracy: 1.0000 | Validation Loss: 0.0337, Validation Accuracy: 1.0000\n",
            "\n",
            "Epoch 5/50: Train Loss: 0.0331, Train Accuracy: 1.0000 | Validation Loss: 0.0225, Validation Accuracy: 1.0000\n",
            "\n",
            "Epoch 6/50: Train Loss: 0.0226, Train Accuracy: 1.0000 | Validation Loss: 0.0164, Validation Accuracy: 1.0000\n",
            "\n",
            "Epoch 7/50: Train Loss: 0.0168, Train Accuracy: 1.0000 | Validation Loss: 0.0126, Validation Accuracy: 1.0000\n",
            "\n",
            "Epoch 8/50: Train Loss: 0.0132, Train Accuracy: 1.0000 | Validation Loss: 0.0102, Validation Accuracy: 1.0000\n",
            "\n",
            "Epoch 9/50: Train Loss: 0.0108, Train Accuracy: 1.0000 | Validation Loss: 0.0086, Validation Accuracy: 1.0000\n",
            "\n",
            "Epoch 10/50: Train Loss: 0.0091, Train Accuracy: 1.0000 | Validation Loss: 0.0074, Validation Accuracy: 1.0000\n",
            "\n",
            "Epoch 11/50: Train Loss: 0.0079, Train Accuracy: 1.0000 | Validation Loss: 0.0064, Validation Accuracy: 1.0000\n",
            "\n",
            "Epoch 12/50: Train Loss: 0.0070, Train Accuracy: 1.0000 | Validation Loss: 0.0057, Validation Accuracy: 1.0000\n",
            "\n",
            "Epoch 13/50: Train Loss: 0.0062, Train Accuracy: 1.0000 | Validation Loss: 0.0052, Validation Accuracy: 1.0000\n",
            "\n",
            "Epoch 14/50: Train Loss: 0.0057, Train Accuracy: 1.0000 | Validation Loss: 0.0047, Validation Accuracy: 1.0000\n",
            "\n",
            "Epoch 15/50: Train Loss: 0.0052, Train Accuracy: 1.0000 | Validation Loss: 0.0043, Validation Accuracy: 1.0000\n",
            "\n",
            "Epoch 16/50: Train Loss: 0.0047, Train Accuracy: 1.0000 | Validation Loss: 0.0040, Validation Accuracy: 1.0000\n",
            "\n",
            "Epoch 17/50: Train Loss: 0.0044, Train Accuracy: 1.0000 | Validation Loss: 0.0037, Validation Accuracy: 1.0000\n",
            "\n",
            "Epoch 18/50: Train Loss: 0.0041, Train Accuracy: 1.0000 | Validation Loss: 0.0034, Validation Accuracy: 1.0000\n",
            "\n",
            "Epoch 19/50: Train Loss: 0.0038, Train Accuracy: 1.0000 | Validation Loss: 0.0032, Validation Accuracy: 1.0000\n",
            "\n",
            "Epoch 20/50: Train Loss: 0.0036, Train Accuracy: 1.0000 | Validation Loss: 0.0030, Validation Accuracy: 1.0000\n",
            "\n",
            "Epoch 21/50: Train Loss: 0.0034, Train Accuracy: 1.0000 | Validation Loss: 0.0028, Validation Accuracy: 1.0000\n",
            "\n",
            "Epoch 22/50: Train Loss: 0.0032, Train Accuracy: 1.0000 | Validation Loss: 0.0027, Validation Accuracy: 1.0000\n",
            "\n",
            "Epoch 23/50: Train Loss: 0.0030, Train Accuracy: 1.0000 | Validation Loss: 0.0025, Validation Accuracy: 1.0000\n",
            "\n",
            "Epoch 24/50: Train Loss: 0.0028, Train Accuracy: 1.0000 | Validation Loss: 0.0024, Validation Accuracy: 1.0000\n",
            "\n",
            "Epoch 25/50: Train Loss: 0.0027, Train Accuracy: 1.0000 | Validation Loss: 0.0023, Validation Accuracy: 1.0000\n",
            "\n",
            "Epoch 26/50: Train Loss: 0.0026, Train Accuracy: 1.0000 | Validation Loss: 0.0022, Validation Accuracy: 1.0000\n",
            "\n",
            "Epoch 27/50: Train Loss: 0.0024, Train Accuracy: 1.0000 | Validation Loss: 0.0020, Validation Accuracy: 1.0000\n",
            "\n",
            "Epoch 28/50: Train Loss: 0.0023, Train Accuracy: 1.0000 | Validation Loss: 0.0020, Validation Accuracy: 1.0000\n",
            "\n",
            "Epoch 29/50: Train Loss: 0.0022, Train Accuracy: 1.0000 | Validation Loss: 0.0019, Validation Accuracy: 1.0000\n",
            "\n",
            "Epoch 30/50: Train Loss: 0.0021, Train Accuracy: 1.0000 | Validation Loss: 0.0018, Validation Accuracy: 1.0000\n",
            "\n",
            "Epoch 31/50: Train Loss: 0.0020, Train Accuracy: 1.0000 | Validation Loss: 0.0017, Validation Accuracy: 1.0000\n",
            "\n",
            "Epoch 32/50: Train Loss: 0.0020, Train Accuracy: 1.0000 | Validation Loss: 0.0016, Validation Accuracy: 1.0000\n",
            "\n",
            "Epoch 33/50: Train Loss: 0.0019, Train Accuracy: 1.0000 | Validation Loss: 0.0016, Validation Accuracy: 1.0000\n",
            "\n",
            "Epoch 34/50: Train Loss: 0.0018, Train Accuracy: 1.0000 | Validation Loss: 0.0015, Validation Accuracy: 1.0000\n",
            "\n",
            "Epoch 35/50: Train Loss: 0.0017, Train Accuracy: 1.0000 | Validation Loss: 0.0015, Validation Accuracy: 1.0000\n",
            "\n",
            "Epoch 36/50: Train Loss: 0.0017, Train Accuracy: 1.0000 | Validation Loss: 0.0014, Validation Accuracy: 1.0000\n",
            "\n",
            "Epoch 37/50: Train Loss: 0.0016, Train Accuracy: 1.0000 | Validation Loss: 0.0014, Validation Accuracy: 1.0000\n",
            "\n",
            "Epoch 38/50: Train Loss: 0.0016, Train Accuracy: 1.0000 | Validation Loss: 0.0013, Validation Accuracy: 1.0000\n",
            "\n",
            "Epoch 39/50: Train Loss: 0.0015, Train Accuracy: 1.0000 | Validation Loss: 0.0013, Validation Accuracy: 1.0000\n",
            "\n",
            "Epoch 40/50: Train Loss: 0.0015, Train Accuracy: 1.0000 | Validation Loss: 0.0012, Validation Accuracy: 1.0000\n",
            "\n",
            "Epoch 41/50: Train Loss: 0.0014, Train Accuracy: 1.0000 | Validation Loss: 0.0012, Validation Accuracy: 1.0000\n",
            "\n",
            "Epoch 42/50: Train Loss: 0.0014, Train Accuracy: 1.0000 | Validation Loss: 0.0011, Validation Accuracy: 1.0000\n",
            "\n",
            "Epoch 43/50: Train Loss: 0.0013, Train Accuracy: 1.0000 | Validation Loss: 0.0011, Validation Accuracy: 1.0000\n",
            "\n",
            "Epoch 44/50: Train Loss: 0.0013, Train Accuracy: 1.0000 | Validation Loss: 0.0011, Validation Accuracy: 1.0000\n",
            "\n",
            "Epoch 45/50: Train Loss: 0.0012, Train Accuracy: 1.0000 | Validation Loss: 0.0010, Validation Accuracy: 1.0000\n",
            "\n",
            "Epoch 46/50: Train Loss: 0.0012, Train Accuracy: 1.0000 | Validation Loss: 0.0010, Validation Accuracy: 1.0000\n",
            "\n",
            "Epoch 47/50: Train Loss: 0.0012, Train Accuracy: 1.0000 | Validation Loss: 0.0010, Validation Accuracy: 1.0000\n",
            "\n",
            "Epoch 48/50: Train Loss: 0.0011, Train Accuracy: 1.0000 | Validation Loss: 0.0009, Validation Accuracy: 1.0000\n",
            "\n",
            "Epoch 49/50: Train Loss: 0.0011, Train Accuracy: 1.0000 | Validation Loss: 0.0009, Validation Accuracy: 1.0000\n",
            "\n",
            "Epoch 50/50: Train Loss: 0.0011, Train Accuracy: 1.0000 | Validation Loss: 0.0009, Validation Accuracy: 1.0000\n",
            "\n"
          ]
        }
      ],
      "source": [
        "num_epochs = 50\n",
        "tr_losses, tr_accs, val_losses, val_accs = [], [], [], []\n",
        "\n",
        "for epoch in range(num_epochs):\n",
        "     model.train()\n",
        "     total_loss, total_samples, correct_predictions = 0, 0, 0\n",
        "     for xb, yb in train_loader:\n",
        "        xb , yb = xb.to(device) , yb.to(device).long()\n",
        "        optimizer.zero_grad()\n",
        "        output = model(xb)\n",
        "        # print('output',output)\n",
        "        # print('max',torch.max(output, 1))\n",
        "        # print('yb',yb)\n",
        "\n",
        "        loss = loss_fn(output , yb)\n",
        "        # print('loss',loss)\n",
        "        # optimizer.zero_grad()\n",
        "        loss.backward()\n",
        "        torch.nn.utils.clip_grad_norm_(model.parameters(), 1.0)\n",
        "        optimizer.step()\n",
        "        total_loss += loss.item() * xb.size(0)\n",
        "        # print(loss.item())\n",
        "        # print(xb.size(0))\n",
        "        # print('total:',total_loss)\n",
        "\n",
        "        # Calculate accuracy\n",
        "        pred = output.argmax(dim=1) # the index of the maximum value for each column\n",
        "        # print('p',predicted)\n",
        "        # print('real',yb)\n",
        "        total_samples += xb.size(0)\n",
        "        # print(total_samples)\n",
        "        correct_predictions += (pred == yb).sum().item()\n",
        "        # print(correct_predictions)\n",
        "\n",
        "     epoch_loss = total_loss / total_samples\n",
        "     epoch_accuracy = correct_predictions / total_samples\n",
        "     tr_losses.append(epoch_loss)\n",
        "     tr_accs.append(epoch_accuracy)\n",
        "\n",
        "    #  print(f\"Epoch {epoch+1}/{num_epochs}: \" f\"Train Loss: {epoch_loss:.4f}, \"f\"Train Accuracy: {epoch_accuracy:.4f}\")\n",
        "\n",
        "     model.eval()\n",
        "     val_correct_predictions , val_total_samples , val_total_loss = 0 , 0 , 0\n",
        "\n",
        "     with torch.no_grad():\n",
        "          for xb, yb in val_loader:\n",
        "              xb, yb = xb.to(device), yb.to(device).long()\n",
        "              output = model(xb)\n",
        "              val_loss = loss_fn(output,yb)\n",
        "              val_total_loss += val_loss.item() * xb.size(0)\n",
        "              pred = output.argmax(dim=1)\n",
        "              val_total_samples += xb.size(0)\n",
        "              val_correct_predictions += (pred == yb).sum().item()\n",
        "\n",
        "     val_epoch_loss = val_total_loss / val_total_samples\n",
        "     val_epoch_accuracy = val_correct_predictions / val_total_samples\n",
        "    #  print(    f\"Validation Loss: {val_epoch_loss:.4f}, \"f\"Validation Accuracy: {val_epoch_accuracy:.4f}\\n\")\n",
        "     val_losses.append(val_epoch_loss)\n",
        "     val_accs.append(val_epoch_accuracy)\n",
        "     # 3) Step the scheduler once per epoch, after validation\n",
        "    #  scheduler.step()\n",
        "\n",
        "     # Optional: print current lr to confirm schedule\n",
        "     current_lr = optimizer.param_groups[0][\"lr\"]\n",
        "     print(f\"Epoch {epoch+1}/{num_epochs}: \" f\"Train Loss: {epoch_loss:.4f}, \"f\"Train Accuracy: {epoch_accuracy:.4f} | \"f\"Validation Loss: {val_epoch_loss:.4f}, \"f\"Validation Accuracy: {val_epoch_accuracy:.4f}\\n\")\n",
        "\n",
        "\n"
      ]
    },
    {
      "cell_type": "code",
      "execution_count": 237,
      "metadata": {
        "colab": {
          "base_uri": "https://localhost:8080/"
        },
        "id": "Rv6VrEcbOmsG",
        "outputId": "4a601b11-9990-4a3f-a996-dbbda74a9b3c"
      },
      "outputs": [
        {
          "output_type": "stream",
          "name": "stdout",
          "text": [
            "Val avg max-softmax: 0.9991170763969421\n"
          ]
        }
      ],
      "source": [
        "import torch.nn.functional as F\n",
        "val_probs = []\n",
        "val_true  = []\n",
        "with torch.no_grad():\n",
        "    for xb, yb in val_loader:\n",
        "        out = model(xb.to(device))\n",
        "        val_probs.append(F.softmax(out, dim=1).max(1).values.cpu())\n",
        "        val_true.append(yb)\n",
        "val_probs = torch.cat(val_probs)\n",
        "print('Val avg max-softmax:', val_probs.mean().item())"
      ]
    },
    {
      "cell_type": "code",
      "execution_count": 238,
      "metadata": {
        "colab": {
          "base_uri": "https://localhost:8080/"
        },
        "id": "O2Kz8WWGOxP8",
        "outputId": "83216e51-9ca5-44c0-d98d-0ab3d56c788b"
      },
      "outputs": [
        {
          "output_type": "stream",
          "name": "stdout",
          "text": [
            "[[11  0]\n",
            " [ 0 35]]\n"
          ]
        }
      ],
      "source": [
        "from sklearn.metrics import confusion_matrix\n",
        "import numpy as np\n",
        "all_pred, all_true = [], []\n",
        "with torch.no_grad():\n",
        "    for xb, yb in val_loader:\n",
        "        out = model(xb.to(device))\n",
        "        all_pred.append(out.argmax(1).cpu().numpy())\n",
        "        all_true.append(yb.numpy())\n",
        "cm = confusion_matrix(np.concatenate(all_true), np.concatenate(all_pred))\n",
        "print(cm)"
      ]
    },
    {
      "cell_type": "code",
      "execution_count": 239,
      "metadata": {
        "colab": {
          "base_uri": "https://localhost:8080/",
          "height": 454
        },
        "id": "KklICuBQ_MlM",
        "outputId": "4a316bb5-2630-4bb1-faa7-64debfb6776f"
      },
      "outputs": [
        {
          "output_type": "display_data",
          "data": {
            "text/plain": [
              "<Figure size 640x480 with 1 Axes>"
            ],
            "image/png": "[encoded data removed]"
          },
          "metadata": {}
        }
      ],
      "source": [
        "epoch = np.arange(0,num_epochs , 1)\n",
        "import matplotlib.pyplot as plt\n",
        "\n",
        "plt.plot(epoch, tr_losses , label=\"Train_loss\", c='b')\n",
        "plt.plot(epoch, val_losses, label=\"val_losss\", c='r')\n",
        "plt.xlabel(\"Epoch\")\n",
        "plt.ylabel(\"Loss\")\n",
        "plt.legend()\n",
        "plt.show()"
      ]
    },
    {
      "cell_type": "code",
      "execution_count": 240,
      "metadata": {
        "colab": {
          "base_uri": "https://localhost:8080/",
          "height": 1000
        },
        "id": "NhEnH9lVsBis",
        "outputId": "4e183bb4-217a-43ae-8e23-1fface602524"
      },
      "outputs": [
        {
          "output_type": "display_data",
          "data": {
            "text/plain": [
              "<Figure size 640x480 with 2 Axes>"
            ],
            "image/png": "[encoded data removed]"
          },
          "metadata": {}
        },
        {
          "output_type": "display_data",
          "data": {
            "text/plain": [
              "<Figure size 640x480 with 1 Axes>"
            ],
            "image/png": "[encoded data removed]"
          },
          "metadata": {}
        },
        {
          "output_type": "display_data",
          "data": {
            "text/plain": [
              "<Figure size 640x480 with 1 Axes>"
            ],
            "image/png": "[encoded data removed]"
          },
          "metadata": {}
        }
      ],
      "source": [
        "import torch\n",
        "import torch.nn.functional as F\n",
        "from sklearn.metrics import confusion_matrix, ConfusionMatrixDisplay\n",
        "from sklearn.metrics import RocCurveDisplay, PrecisionRecallDisplay\n",
        "import matplotlib.pyplot as plt\n",
        "\n",
        "y_true, y_pred, y_score = [], [], []\n",
        "model.eval()\n",
        "\n",
        "with torch.no_grad():\n",
        "    for xb, yb in val_loader:\n",
        "        xb, yb = xb.to(device), yb.to(device).long()   # targets should be int for CE\n",
        "        logits = model(xb)                             # [B,2]\n",
        "\n",
        "        # 1) Probability of class 1\n",
        "        probs  = torch.softmax(logits, dim=1)          # [B,2]\n",
        "        score1 = probs[:, 1]                           # [B]\n",
        "\n",
        "        # 2) Predicted class index\n",
        "        preds  = logits.argmax(dim=1)                  # [B]\n",
        "\n",
        "        # Save results\n",
        "        y_true.extend(yb.cpu().tolist())\n",
        "        y_pred.extend(preds.cpu().tolist())\n",
        "        y_score.extend(score1.cpu().tolist())\n",
        "\n",
        "# 1) Confusion Matrix\n",
        "ConfusionMatrixDisplay.from_predictions(y_true, y_pred, cmap=\"Blues\", values_format=\"d\")\n",
        "plt.title(\"Confusion Matrix (Validation)\")\n",
        "plt.show()\n",
        "\n",
        "# 2) ROC\n",
        "RocCurveDisplay.from_predictions(y_true, y_score)\n",
        "plt.title(\"ROC Curve (Validation)\")\n",
        "plt.show()\n",
        "\n",
        "# 3) Precision–Recall\n",
        "PrecisionRecallDisplay.from_predictions(y_true, y_score)\n",
        "plt.title(\"Precision–Recall Curve (Validation)\")\n",
        "plt.show()"
      ]
    },
    {
      "cell_type": "code",
      "execution_count": 241,
      "metadata": {
        "colab": {
          "base_uri": "https://localhost:8080/",
          "height": 545
        },
        "id": "JZAQEGdnsi9u",
        "outputId": "34348f98-03dc-40b2-ee7e-801998af71cf"
      },
      "outputs": [
        {
          "output_type": "display_data",
          "data": {
            "text/plain": [
              "<Figure size 600x600 with 2 Axes>"
            ],
            "image/png": "[encoded data removed]"
          },
          "metadata": {}
        }
      ],
      "source": [
        "from sklearn.manifold import TSNE\n",
        "import matplotlib.pyplot as plt\n",
        "import torch\n",
        "\n",
        "model.eval()\n",
        "all_embeds, all_labels = [], []\n",
        "\n",
        "with torch.no_grad():\n",
        "    for xb, yb in val_loader:\n",
        "        xb = xb.to(device)\n",
        "        # Pass through encoder only (skip classifier head)\n",
        "        embeds = model.encoder(model.inp(xb) + model.pos(model.inp(xb)))\n",
        "        embeds = embeds.mean(dim=1)                # [B, d_model]\n",
        "\n",
        "        all_embeds.append(embeds.cpu())\n",
        "        all_labels.append(yb.cpu())\n",
        "\n",
        "# Concatenate all batches\n",
        "all_embeds = torch.cat(all_embeds, dim=0).numpy()\n",
        "all_labels = torch.cat(all_labels, dim=0).numpy()\n",
        "\n",
        "# Run t-SNE\n",
        "X_2d = TSNE(n_components=2, random_state=42).fit_transform(all_embeds)\n",
        "\n",
        "# Plot\n",
        "plt.figure(figsize=(6,6))\n",
        "plt.scatter(X_2d[:,0], X_2d[:,1], c=all_labels, cmap=\"coolwarm\", alpha=0.7)\n",
        "plt.colorbar(label=\"Class\")\n",
        "plt.title(\"t-SNE of Validation Embeddings\")\n",
        "plt.show()"
      ]
    }
  ],
  "metadata": {
    "accelerator": "GPU",
    "colab": {
      "gpuType": "T4",
      "provenance": [],
      "authorship_tag": "ABX9TyOTfnnyw78dfpfO6vo5LKDp",
      "include_colab_link": true
    },
    "kernelspec": {
      "display_name": "Python 3",
      "name": "python3"
    },
    "language_info": {
      "name": "python"
    }
  },
  "nbformat": 4,
  "nbformat_minor": 0
}