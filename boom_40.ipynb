{
  "cells": [
    {
      "cell_type": "markdown",
      "metadata": {
        "id": "view-in-github",
        "colab_type": "text"
      },
      "source": [
        "<a href=\"https://colab.research.google.com/github/SahelKherad/3-story-benchmark-transformer/blob/main/boom_40.ipynb\" target=\"_parent\"><img src=\"https://colab.research.google.com/assets/colab-badge.svg\" alt=\"Open In Colab\"/></a>"
      ]
    },
    {
      "cell_type": "code",
      "execution_count": null,
      "metadata": {
        "id": "jESaGaJ8Y4fL"
      },
      "outputs": [],
      "source": [
        "import os\n",
        "import scipy.io\n",
        "from scipy.io.matlab._mio5_params import mat_struct\n",
        "import numpy as np\n",
        "import pandas as pd\n",
        "import torch\n",
        "from torch.utils.data import Dataset, DataLoader\n",
        "import matplotlib.pyplot as plt\n",
        "from sklearn.metrics import confusion_matrix"
      ]
    },
    {
      "cell_type": "code",
      "execution_count": null,
      "metadata": {
        "colab": {
          "base_uri": "https://localhost:8080/"
        },
        "id": "8VnHyYOfY6Ts",
        "outputId": "fbd79db1-0d1c-4c94-efac-a0c7adb8e2e2"
      },
      "outputs": [
        {
          "output_type": "stream",
          "name": "stdout",
          "text": [
            "Mounted at /content/drive\n"
          ]
        }
      ],
      "source": [
        "from google.colab import drive\n",
        "drive.mount('/content/drive', force_remount=True)"
      ]
    },
    {
      "cell_type": "code",
      "execution_count": null,
      "metadata": {
        "colab": {
          "base_uri": "https://localhost:8080/"
        },
        "id": "_yoanGUbZwdT",
        "outputId": "41389585-3f4f-42ff-a0ce-6795a18c9fd5"
      },
      "outputs": [
        {
          "output_type": "stream",
          "name": "stdout",
          "text": [
            "shm01a.mat  shm03a.mat\tshm05a.mat  shm07a.mat\tshm09a.mat\n",
            "shm02a.mat  shm04a.mat\tshm06a.mat  shm08a.mat\n"
          ]
        }
      ],
      "source": [
        "!ls \"/content/drive/My Drive/ASCE\"\n"
      ]
    },
    {
      "cell_type": "code",
      "execution_count": null,
      "metadata": {
        "colab": {
          "base_uri": "https://localhost:8080/"
        },
        "id": "w_7LbE3r6hHv",
        "outputId": "e6b219bf-a655-4a36-d7e4-8fa943217884"
      },
      "outputs": [
        {
          "output_type": "stream",
          "name": "stdout",
          "text": [
            "dict_keys(['__header__', '__version__', '__globals__', 'dasy', 'dasy_dscr', 'filedescription', 'fsdasy'])\n"
          ]
        }
      ],
      "source": [
        "import scipy.io\n",
        "\n",
        "folder_path = '/content/drive/MyDrive/ASCE/shm01a.mat'\n",
        "data = scipy.io.loadmat(folder_path)\n",
        "\n",
        "print(data.keys())"
      ]
    },
    {
      "cell_type": "code",
      "execution_count": null,
      "metadata": {
        "colab": {
          "base_uri": "https://localhost:8080/"
        },
        "id": "e2UR9BDMm6lQ",
        "outputId": "e6091f97-898c-4563-a009-86ae8b6f14f4"
      },
      "outputs": [
        {
          "output_type": "stream",
          "name": "stdout",
          "text": [
            "header: b'MATLAB 5.0 MAT-file, Platform: PCWIN, Created on: Sun Sep 29 12:53:06 2002'\n",
            "version: 1.0\n",
            "File description:  ['Type:a (Ambient Vibration/Filtered Data) --  Config01: Fully Braced Config     ']\n",
            "description: [[(array(['Base West side - EPI sensor X direction (N+)'], dtype='<U44'), array(['Base Center - EPI sensor Y direction (W+)'], dtype='<U41'), array(['Base East side - EPI sensor X direction (N+)'], dtype='<U44'), array(['1st Floor - N/S EPI Sensor at West end (N+)'], dtype='<U43'), array(['1st Floor - E/W FBA Sensor at Center (W+)'], dtype='<U41'), array(['1st Floor - N/S FBA Sensor at East end (N+)'], dtype='<U43'), array(['2nd Floor - N/S FBA Sensor at West end (N+)'], dtype='<U43'), array(['2nd Floor - E/W EPI Sensor at Center (W+)'], dtype='<U41'), array(['2nd Floor - N/S EPI Sensor at East end (N+)'], dtype='<U43'), array(['3rd Floor - N/S EPI Sensor at West end (N+)'], dtype='<U43'), array(['3rd Floor - E/W EPI Sensor at Center (W+)'], dtype='<U41'), array(['3rd Floor - N/S FBA Sensor at East end (N+)'], dtype='<U43'), array(['4th Floor - N/S FBA Sensor at West end (N+)'], dtype='<U43'), array(['4th Floor - E/W FBA Sensor at Center (W+)'], dtype='<U41'), array(['4th Floor - N/S FBA Sensor at East end (N+)'], dtype='<U43'), array(['Ambient Noise in System  - Unfiltered (Disconnected)'],\n",
            "        dtype='<U52'))                                                                                                                                                                                                                                                                                                                                                                                                                                                                                                                                                                                                                                                                                                                                                                                                                                                                                                                                                                                                                                                                                                                              ]]\n"
          ]
        }
      ],
      "source": [
        "print('header:', data['__header__'])\n",
        "print('version:',data['__version__'])\n",
        "print('File description: ', data['filedescription'])\n",
        "print('description:',data['dasy_dscr'])\n",
        "# print(data['dasy'])"
      ]
    },
    {
      "cell_type": "code",
      "execution_count": null,
      "metadata": {
        "id": "-lNjv__AwP8T",
        "colab": {
          "base_uri": "https://localhost:8080/"
        },
        "outputId": "8e274b98-252b-4c59-a194-8aaae4ee9f24"
      },
      "outputs": [
        {
          "output_type": "stream",
          "name": "stdout",
          "text": [
            "{1: 'shm01a.mat', 2: 'shm02a.mat', 3: 'shm03a.mat', 4: 'shm04a.mat', 5: 'shm05a.mat', 6: 'shm06a.mat', 7: 'shm07a.mat', 8: 'shm08a.mat', 9: 'shm09a.mat'}\n"
          ]
        }
      ],
      "source": [
        "def load_mat(path):\n",
        "    mat = scipy.io.loadmat(path, squeeze_me=True, struct_as_record=False)\n",
        "    raw = mat.get('dasy')\n",
        "    if isinstance(raw, mat_struct):\n",
        "        fields = raw._fieldnames\n",
        "        channels = []\n",
        "        for f in fields:\n",
        "            arr = getattr(raw, f)\n",
        "            channels.append(np.asarray(arr).reshape(-1))\n",
        "        data = np.stack(channels, axis=1)     # → (n_samples, n_channels)\n",
        "\n",
        "    return data, mat\n",
        "\n",
        "\n",
        "base_dir = '/content/drive/MyDrive/ASCE/'\n",
        "\n",
        "# state_files is a dictionary:{ label_1: \"file1.mat\", label_2: \"file2.mat\", ... }\n",
        "# label is an integer or class ID (e.g., 0, 1, 2). fname is the name of a .mat file.\n",
        "state_files = {\n",
        "    1: 'shm01a.mat',   # state 1 → label 0\n",
        "    2: 'shm02a.mat',   # state 2 → label 1\n",
        "    3: 'shm03a.mat',   # state 3 → label 2\n",
        "    4: 'shm04a.mat',   # state 4 → label 3\n",
        "    5: 'shm05a.mat',   # state 5 → label 4\n",
        "    6: 'shm06a.mat',   # state 6 → label 5\n",
        "    7: 'shm07a.mat',   # state 7 → label 6\n",
        "    8: 'shm08a.mat',   # state 8 → label 7\n",
        "    9: 'shm09a.mat',   # state 9 → label 8\n",
        "}\n",
        "print(state_files)"
      ]
    },
    {
      "cell_type": "code",
      "execution_count": null,
      "metadata": {
        "colab": {
          "base_uri": "https://localhost:8080/"
        },
        "id": "kt-q273eZ4vG",
        "outputId": "8c241c1c-b8d4-4085-c9af-4c6e9a7e57cf"
      },
      "outputs": [
        {
          "output_type": "stream",
          "name": "stdout",
          "text": [
            "shm01a.mat: data shape = (60000, 16)\n",
            "shm02a.mat: data shape = (60000, 16)\n",
            "shm03a.mat: data shape = (60000, 16)\n",
            "shm04a.mat: data shape = (60000, 16)\n",
            "shm05a.mat: data shape = (60000, 16)\n",
            "shm06a.mat: data shape = (45568, 16)\n",
            "shm07a.mat: data shape = (180000, 16)\n",
            "shm08a.mat: data shape = (180000, 16)\n",
            "shm09a.mat: data shape = (180000, 16)\n",
            "Len Data ==  9\n",
            "all_data_concatenated:  (885568, 16)\n",
            "all_label_concatenated:  (885568,)\n"
          ]
        }
      ],
      "source": [
        "all_data, all_labels = [], []\n",
        "for label, fname in state_files.items():\n",
        "    path = os.path.join(base_dir, fname)\n",
        "    dasy, mat = load_mat(path)\n",
        "    print(f\"{fname}: data shape = {dasy.shape}\")\n",
        "    all_data.append(dasy)\n",
        "    all_labels.append(np.full(dasy.shape[0], label, dtype=np.int64))\n",
        "print('Len Data == ',len(all_data))\n",
        "all_data_concatenated = np.concatenate(all_data, axis=0)\n",
        "all_label_concatenated = np.concatenate(all_labels)\n",
        "\n",
        "print('all_data_concatenated: ', all_data_concatenated.shape)\n",
        "print('all_label_concatenated: ', all_label_concatenated.shape)\n",
        "\n",
        "# for i, arr in enumerate(all_data):\n",
        "#     print(f\"  Array {i+1}: {arr.shape}\")\n",
        "\n"
      ]
    },
    {
      "cell_type": "code",
      "execution_count": null,
      "metadata": {
        "colab": {
          "base_uri": "https://localhost:8080/"
        },
        "id": "9VVni1oHWagP",
        "outputId": "3e3c6183-9a4c-4862-9095-09fc0eafab4c"
      },
      "outputs": [
        {
          "output_type": "stream",
          "name": "stdout",
          "text": [
            "(60000, 16)\n",
            "(45568, 16)\n",
            "(180000, 16)\n"
          ]
        }
      ],
      "source": [
        "data_state1 = all_data[0]\n",
        "data_state2 = all_data[1]\n",
        "data_state3 = all_data[2]\n",
        "data_state4 = all_data[3]\n",
        "data_state5 = all_data[4]\n",
        "data_state6 = all_data[5]\n",
        "data_state7 = all_data[6]\n",
        "data_state8 = all_data[7]\n",
        "data_state9 = all_data[8]\n",
        "# print(data_state1.dtype)\n",
        "print(data_state1.shape)\n",
        "print(data_state6.shape)\n",
        "print(data_state8.shape)\n",
        "# print(data_state2)\n",
        "\n",
        "# all_data0 = np.vstack([data_state1, data_state2,data_state3, data_state4, data_state5, data_state6, data_state7, data_state8, data_state9])\n",
        "# means   = all_data0.mean(axis=0, keepdims=True)    # shape (1,15)\n",
        "# stds    = all_data0.std (axis=0, keepdims=True)\n",
        "\n",
        "# data_state1 = (data_state1 - means) / stds\n",
        "# data_state2 = (data_state2 - means) / stds\n",
        "# data_state3 = (data_state3 - means) / stds\n",
        "# data_state4 = (data_state4 - means) / stds\n",
        "# data_state5 = (data_state5 - means) / stds\n",
        "# data_state6 = (data_state6 - means) / stds\n",
        "# data_state7 = (data_state7 - means) / stds\n",
        "# data_state8 = (data_state8 - means) / stds\n",
        "# data_state9 = (data_state9 - means) / stds\n"
      ]
    },
    {
      "cell_type": "code",
      "execution_count": null,
      "metadata": {
        "colab": {
          "base_uri": "https://localhost:8080/"
        },
        "id": "VFiGU3vVyI0M",
        "outputId": "71e63f82-c87b-4efe-b94b-16d922645dbb"
      },
      "outputs": [
        {
          "output_type": "stream",
          "name": "stdout",
          "text": [
            "State1 windows: (116, 1024, 15)\n",
            "State2 windows: (116, 1024, 15)\n",
            "State3 windows: (116, 1024, 15)\n",
            "State4 windows: (116, 1024, 15)\n",
            "State5 windows: (116, 1024, 15)\n",
            "State6 windows: (88, 1024, 15)\n",
            "State7 windows: (350, 1024, 15)\n",
            "State8 windows: (350, 1024, 15)\n",
            "State9 windows: (350, 1024, 15)\n"
          ]
        }
      ],
      "source": [
        "def segment_signal(x, L=1024, S=512):\n",
        "    n_samples, n_channels = x.shape\n",
        "    n_windows = int(np.floor((n_samples - L) / S) + 1)\n",
        "    windows = []\n",
        "\n",
        "    for start in range(0, n_samples - L + 1, S):\n",
        "        windows.append(x[start:start+L, 0:15])\n",
        "    return np.stack(windows, axis=0)\n",
        "\n",
        "seg1 = segment_signal(data_state1, L=1024, S=512) # return(n_windows, L, n_channels)\n",
        "seg2 = segment_signal(data_state2, L=1024, S=512)\n",
        "seg3 = segment_signal(data_state3, L=1024, S=512)\n",
        "seg4 = segment_signal(data_state4, L=1024, S=512)\n",
        "seg5 = segment_signal(data_state5, L=1024, S=512)\n",
        "seg6 = segment_signal(data_state6, L=1024, S=512)\n",
        "seg7 = segment_signal(data_state7, L=1024, S=512)\n",
        "seg8 = segment_signal(data_state8, L=1024, S=512)\n",
        "seg9 = segment_signal(data_state9, L=1024, S=512)\n",
        "\n",
        "print(\"State1 windows:\", seg1.shape)\n",
        "print(\"State2 windows:\", seg2.shape)\n",
        "print(\"State3 windows:\", seg3.shape)\n",
        "print(\"State4 windows:\", seg4.shape)\n",
        "print(\"State5 windows:\", seg5.shape)\n",
        "print(\"State6 windows:\", seg6.shape)\n",
        "print(\"State7 windows:\", seg7.shape)\n",
        "print(\"State8 windows:\", seg8.shape)\n",
        "print(\"State9 windows:\", seg9.shape)"
      ]
    },
    {
      "cell_type": "code",
      "execution_count": null,
      "metadata": {
        "colab": {
          "base_uri": "https://localhost:8080/"
        },
        "id": "RYkkUSPNeZoG",
        "outputId": "165a68bf-d9d4-4ef9-a309-914807b1bf63"
      },
      "outputs": [
        {
          "output_type": "execute_result",
          "data": {
            "text/plain": [
              "1718"
            ]
          },
          "metadata": {},
          "execution_count": 13
        }
      ],
      "source": [
        "116*5+88+350*3\n"
      ]
    },
    {
      "cell_type": "code",
      "execution_count": null,
      "metadata": {
        "colab": {
          "base_uri": "https://localhost:8080/"
        },
        "id": "U2C4LSPh4exE",
        "outputId": "e49f74cb-39d8-42ce-c4ed-fe1fb988666f"
      },
      "outputs": [
        {
          "output_type": "stream",
          "name": "stdout",
          "text": [
            "X shape: (1718, 1024, 15)\n",
            "y shape: (1718,) unique labels: [0 1 2 3 4 5 6 7 8]\n"
          ]
        }
      ],
      "source": [
        "# X = np.vstack([seg1, seg3])\n",
        "# y = np.concatenate([\n",
        "#     np.zeros(len(seg1), dtype=np.int64),   # label 0 for state1\n",
        "#     np.ones(len(seg3),  dtype=np.int64),   # label 1 for state3\n",
        "# ])\n",
        "\n",
        "X = np.vstack([seg1, seg2, seg3, seg4, seg5, seg6, seg7, seg8, seg9])\n",
        "y = np.concatenate([\n",
        "    np.zeros(len(seg1), dtype=np.int64),     # label 0 for state1\n",
        "    1*np.ones(len(seg2),  dtype=np.int64),   # label 1 for state2\n",
        "    2*np.ones(len(seg3),  dtype=np.int64),   # label 2 for state3\n",
        "    3*np.ones(len(seg4),  dtype=np.int64),   # label 3 for state4\n",
        "    4*np.ones(len(seg5),  dtype=np.int64),   # label 4 for state5\n",
        "    5*np.ones(len(seg6),  dtype=np.int64),   # label 5 for state6\n",
        "    6*np.ones(len(seg7),  dtype=np.int64),   # label 6 for state7\n",
        "    7*np.ones(len(seg8),  dtype=np.int64),   # label 7 for state8\n",
        "    8*np.ones(len(seg9),  dtype=np.int64),   # label 8 for state9\n",
        "\n",
        "])\n",
        "print(\"X shape:\", X.shape) # (1718, 124, 15)\n",
        "print(\"y shape:\", y.shape, \"unique labels:\", np.unique(y)) # (1718,)\n"
      ]
    },
    {
      "cell_type": "code",
      "source": [
        "import torch\n",
        "from torch.utils.data import TensorDataset, random_split, DataLoader\n",
        "\n",
        "# --- your raw data arrays ---\n",
        "# X: numpy array shape (1718, 124, 15)\n",
        "# y: numpy array shape (1718,)\n",
        "# --------------------------------\n",
        "\n",
        "# 1) to‐tensor\n",
        "X_tensor = torch.from_numpy(X).float()\n",
        "y_tensor = torch.from_numpy(y).long()\n",
        "\n",
        "# 2) one big dataset\n",
        "dataset = TensorDataset(X_tensor, y_tensor)\n",
        "\n",
        "# 3) split sizes\n",
        "N       = len(dataset)\n",
        "n_train = int(0.8 * N)\n",
        "n_val   = int(0.1 * N)\n",
        "n_test  = N - n_train - n_val\n",
        "\n",
        "# 4) initial split (just to get train indices)\n",
        "train_ds, val_ds, test_ds = random_split(\n",
        "    dataset,\n",
        "    [n_train, n_val, n_test],\n",
        "    generator=torch.Generator().manual_seed(42)\n",
        ")\n",
        "\n",
        "# 5) compute mean/std **only** on the TRAINING samples\n",
        "train_indices = train_ds.indices   # these are the integer indices of train examples\n",
        "X_train      = X_tensor[train_indices]  # shape (n_train, 124, 15)\n",
        "\n",
        "# compute per-feature mean and std over both sample & time dims\n",
        "mean = X_train.mean(dim=(0,1), keepdim=True)   # shape (1, 1, 15)\n",
        "std  = X_train.std(dim=(0,1), keepdim=True)    # shape (1, 1, 15)\n",
        "\n",
        "# 6) apply normalization to the *entire* dataset\n",
        "X_tensor = (X_tensor - mean) / std\n",
        "\n",
        "# 7) rebuild the normalized dataset and re-split using the *same* seed\n",
        "dataset = TensorDataset(X_tensor, y_tensor)\n",
        "train_ds, val_ds, test_ds = random_split(\n",
        "    dataset,\n",
        "    [n_train, n_val, n_test],\n",
        "    generator=torch.Generator().manual_seed(42)\n",
        ")\n",
        "\n",
        "# 8) finally, DataLoaders\n",
        "batch_size   = 64\n",
        "train_loader = DataLoader(train_ds, batch_size=batch_size, shuffle=True)\n",
        "val_loader   = DataLoader(val_ds,   batch_size=batch_size, shuffle=False)\n",
        "test_loader  = DataLoader(test_ds,  batch_size=batch_size, shuffle=False)\n",
        "\n",
        "# sanity check\n",
        "xb, yb = next(iter(train_loader))\n",
        "print(\"train batch X:\", xb.shape)  # e.g. (64, 124, 15)\n",
        "print(\"train batch y:\", yb.shape)  # (64,)\n",
        "print(\"normalized feature mean ~ 0:\", xb.mean().item())\n",
        "print(\"normalized feature std  ~ 1:\", xb.std().item())\n"
      ],
      "metadata": {
        "colab": {
          "base_uri": "https://localhost:8080/"
        },
        "id": "6Zv3USHSjQJY",
        "outputId": "128a7c07-e25d-4c21-b922-334855935828"
      },
      "execution_count": null,
      "outputs": [
        {
          "output_type": "stream",
          "name": "stdout",
          "text": [
            "train batch X: torch.Size([64, 1024, 15])\n",
            "train batch y: torch.Size([64])\n",
            "normalized feature mean ~ 0: -0.0045063006691634655\n",
            "normalized feature std  ~ 1: 1.0079970359802246\n"
          ]
        }
      ]
    },
    {
      "cell_type": "code",
      "execution_count": null,
      "metadata": {
        "id": "Rjah1c47QduK"
      },
      "outputs": [],
      "source": [
        "# from torch.utils.data import random_split\n",
        "# from torch.utils.data import TensorDataset\n",
        "# from torch.utils.data import DataLoader\n",
        "\n",
        "# # 1) Wrap in a Dataset\n",
        "# # class ASCEWindowDataset(torch.utils.data.Dataset):\n",
        "# #     def __init__(self, X, y):\n",
        "# #         # ensure tensors\n",
        "# #         if not isinstance(X, torch.Tensor):\n",
        "# #             X = torch.from_numpy(X).float()\n",
        "# #         if not isinstance(y, torch.Tensor):\n",
        "# #             y = torch.from_numpy(y).long()\n",
        "# #         self.X = X   # shape (N, L, C)\n",
        "# #         self.y = y   # shape (N,)\n",
        "# #     def __len__(self):\n",
        "# #         return len(self.y)\n",
        "# #     def __getitem__(self, idx):\n",
        "# #         return self.X[idx], self.y[idx]\n",
        "\n",
        "# # dataset = ASCEWindowDataset(X, y)\n",
        "# print(\"Minimum label:\", np.min(y))\n",
        "# print(\"Maximum label:\", np.max(y))\n",
        "# print(\"Number of unique labels:\", len(np.unique(y)))\n",
        "\n",
        "# X_tensor = torch.from_numpy(X).float()      # shape (1718, 124, 15)\n",
        "# y_tensor = torch.from_numpy(y).long()\n",
        "\n",
        "# dataset = TensorDataset(X_tensor, y_tensor)\n",
        "\n",
        "# # 2) Split sizes\n",
        "# N = len(dataset)\n",
        "# n_train = int(0.8 * N)\n",
        "# n_val   = int(0.1 * N)\n",
        "# n_test  = N - n_train - n_val\n",
        "\n",
        "# train_ds, val_ds, test_ds = random_split(dataset, [n_train, n_val, n_test],\n",
        "#                                    generator=torch.Generator().manual_seed(42))\n",
        "\n",
        "\n",
        "\n",
        "# # 3) DataLoaders\n",
        "# batch_size = 64\n",
        "\n",
        "# train_loader = DataLoader(train_ds, batch_size=batch_size, shuffle=True)\n",
        "# val_loader   = DataLoader(val_ds,   batch_size=batch_size, shuffle=False)\n",
        "# test_loader  = DataLoader(test_ds,  batch_size=batch_size, shuffle=False)\n",
        "\n",
        "# # Sanity check\n",
        "# xb, yb = next(iter(train_loader))\n",
        "# print(\"train batch X:\", xb.shape)  # (32, 1024, 15)\n",
        "# print(\"train batch y:\", yb.shape)  # (32,)\n",
        "\n",
        "\n"
      ]
    },
    {
      "cell_type": "code",
      "execution_count": null,
      "metadata": {
        "id": "Mk9j7tg4Vm7_"
      },
      "outputs": [],
      "source": [
        "import torch\n",
        "import torch.nn as nn\n",
        "\n",
        "class TimeSeriesTransformer(nn.Module):\n",
        "    def __init__(self,\n",
        "                 n_channels=15,\n",
        "                 d_model=128, # Dimension of the model's internal representation (hidden size)\n",
        "                 n_heads=4,\n",
        "                 num_layers=3, # Number of Transformer encoder layers\n",
        "                 d_ff=256, # Dimension of the feed-forward network in each encoder layer\n",
        "                 dropout=0.1,\n",
        "                 seq_len=1024,\n",
        "                 num_classes=9):\n",
        "        super().__init__()\n",
        "        # 1) Project 15→d_model per time‐step\n",
        "        self.input_proj = nn.Linear(n_channels, d_model)\n",
        "        # This nn.Linear layer transforms each time step's features from n_channels to d_model.\n",
        "        # It's like converting your sensor readings into a higher-dimensional, richer representation\n",
        "\n",
        "        # 2) Learned positional embeddings\n",
        "        self.pos_emb = nn.Parameter(torch.zeros(1, seq_len, d_model))\n",
        "        #  This means the model will learn the best way to\n",
        "        #  represent the position of each time step in the sequence.\n",
        "\n",
        "        # 3) Transformer encoder layers (batch_first=True so input is (B, S, D))\n",
        "        encoder_layer = nn.TransformerEncoderLayer(\n",
        "            d_model=d_model,\n",
        "            nhead=n_heads,\n",
        "            dim_feedforward=d_ff,\n",
        "            dropout=dropout,\n",
        "            batch_first=True\n",
        "        )\n",
        "        self.transformer = nn.TransformerEncoder(encoder_layer, num_layers=num_layers)\n",
        "\n",
        "        # 4) Classification head: from d_model → d_model//2 → num_classes\n",
        "        #    *Notice the first Linear’s in_features = d_model*\n",
        "        #    *and the final Linear’s in_features = d_model//2*\n",
        "        self.classifier = nn.Sequential(\n",
        "            nn.LayerNorm(d_model),\n",
        "            nn.Linear(d_model, d_model//2),\n",
        "            nn.GELU(),\n",
        "            nn.Dropout(dropout),\n",
        "            nn.Linear(d_model//2, num_classes)\n",
        "        )\n",
        "\n",
        "    def forward(self, x):\n",
        "        # x: (batch, seq_len, n_channels)\n",
        "\n",
        "        # a) embed\n",
        "        x = self.input_proj(x)                        # → (batch, seq_len, d_model)\n",
        "\n",
        "        # b) add positional encoding\n",
        "        x = x + self.pos_emb[:, :x.size(1), :]        # → (batch, seq_len, d_model)\n",
        "\n",
        "        # c) encode\n",
        "        x = self.transformer(x)                       # → (batch, seq_len, d_model)\n",
        "\n",
        "        # d) **pool over the time axis** so we drop seq_len (1024)\n",
        "        x = x.mean(dim=1)                             # → (batch, d_model)\n",
        "\n",
        "        # e) classify\n",
        "        return self.classifier(x)                     # → (batch, num_classes)\n"
      ]
    },
    {
      "cell_type": "code",
      "execution_count": null,
      "metadata": {
        "colab": {
          "base_uri": "https://localhost:8080/"
        },
        "id": "xzyHnx_JgDHE",
        "outputId": "8b7b9e07-24d1-4d99-ac8e-5f52c910c5ac"
      },
      "outputs": [
        {
          "output_type": "stream",
          "name": "stdout",
          "text": [
            "Using device: cpu\n"
          ]
        }
      ],
      "source": [
        "device = torch.device(\"cuda\" if torch.cuda.is_available() else \"cpu\")\n",
        "print(f\"Using device: {device}\")\n",
        "model  = TimeSeriesTransformer(\n",
        "    n_channels=15,\n",
        "    d_model=128,\n",
        "    n_heads=4,\n",
        "    num_layers=3,\n",
        "    d_ff=256,\n",
        "    dropout=0.1,\n",
        "    seq_len=1024,\n",
        "    num_classes=9\n",
        ").to(device)\n",
        "\n",
        "criterion = nn.CrossEntropyLoss()\n",
        "optimizer = torch.optim.AdamW(model.parameters(), lr=1e-3, weight_decay=1e-2)\n",
        "\n"
      ]
    },
    {
      "cell_type": "code",
      "execution_count": null,
      "metadata": {
        "id": "Fz5jZOUXFuFi"
      },
      "outputs": [],
      "source": [
        "train_losses = []\n",
        "val_losses   = []\n",
        "train_accs   = []\n",
        "val_accs     = []\n"
      ]
    },
    {
      "cell_type": "code",
      "execution_count": null,
      "metadata": {
        "id": "OSWFs6s7ia1m"
      },
      "outputs": [],
      "source": [
        "%env CUDA_LAUNCH_BLOCKING=1"
      ]
    },
    {
      "cell_type": "code",
      "execution_count": null,
      "metadata": {
        "id": "Wc8JxAYsgTUd"
      },
      "outputs": [],
      "source": [
        "from sklearn.metrics import accuracy_score\n",
        "\n",
        "def train_epoch(loader):\n",
        "    model.train()\n",
        "    running_loss = 0.0\n",
        "    preds, targets = [], []\n",
        "    for xb, yb in loader:\n",
        "        xb, yb = xb.to(device), yb.to(device)\n",
        "        optimizer.zero_grad()\n",
        "        logits = model(xb)\n",
        "        loss = criterion(logits, yb)\n",
        "        loss.backward()\n",
        "        optimizer.step()\n",
        "\n",
        "        running_loss += loss.item() * xb.size(0)\n",
        "        preds.extend(logits.argmax(dim=1).cpu().tolist())\n",
        "        targets.extend(yb.cpu().tolist())\n",
        "\n",
        "    avg_loss = running_loss / len(loader.dataset)\n",
        "    acc = accuracy_score(targets, preds)\n",
        "    return avg_loss, acc\n",
        "\n",
        "def eval_epoch(loader):\n",
        "    model.eval()\n",
        "    running_loss = 0.0\n",
        "    preds, targets = [], []\n",
        "    with torch.no_grad():\n",
        "        for xb, yb in loader:\n",
        "            xb, yb = xb.to(device), yb.to(device)\n",
        "            logits = model(xb)\n",
        "            loss = criterion(logits, yb)\n",
        "\n",
        "            running_loss += loss.item() * xb.size(0)\n",
        "            preds.extend(logits.argmax(dim=1).cpu().tolist())\n",
        "            targets.extend(yb.cpu().tolist())\n",
        "\n",
        "    avg_loss = running_loss / len(loader.dataset)\n",
        "    acc = accuracy_score(targets, preds)\n",
        "    return avg_loss, acc\n"
      ]
    },
    {
      "cell_type": "code",
      "execution_count": null,
      "metadata": {
        "colab": {
          "base_uri": "https://localhost:8080/",
          "height": 211
        },
        "id": "lbJEdgf1EEA3",
        "outputId": "36915114-7ba5-4a84-96bc-c7a2ca658722"
      },
      "outputs": [
        {
          "output_type": "error",
          "ename": "NameError",
          "evalue": "name 'train_epoch' is not defined",
          "traceback": [
            "\u001b[0;31m---------------------------------------------------------------------------\u001b[0m",
            "\u001b[0;31mNameError\u001b[0m                                 Traceback (most recent call last)",
            "\u001b[0;32m<ipython-input-1-4074859733>\u001b[0m in \u001b[0;36m<cell line: 0>\u001b[0;34m()\u001b[0m\n\u001b[1;32m      3\u001b[0m \u001b[0;34m\u001b[0m\u001b[0m\n\u001b[1;32m      4\u001b[0m \u001b[0;32mfor\u001b[0m \u001b[0mepoch\u001b[0m \u001b[0;32min\u001b[0m \u001b[0mrange\u001b[0m\u001b[0;34m(\u001b[0m\u001b[0;36m1\u001b[0m\u001b[0;34m,\u001b[0m \u001b[0mnum_epochs\u001b[0m\u001b[0;34m+\u001b[0m\u001b[0;36m1\u001b[0m\u001b[0;34m)\u001b[0m\u001b[0;34m:\u001b[0m\u001b[0;34m\u001b[0m\u001b[0;34m\u001b[0m\u001b[0m\n\u001b[0;32m----> 5\u001b[0;31m     \u001b[0mtrain_loss\u001b[0m\u001b[0;34m,\u001b[0m \u001b[0mtrain_acc\u001b[0m \u001b[0;34m=\u001b[0m \u001b[0mtrain_epoch\u001b[0m\u001b[0;34m(\u001b[0m\u001b[0mtrain_loader\u001b[0m\u001b[0;34m)\u001b[0m\u001b[0;34m\u001b[0m\u001b[0;34m\u001b[0m\u001b[0m\n\u001b[0m\u001b[1;32m      6\u001b[0m     \u001b[0mval_loss\u001b[0m\u001b[0;34m,\u001b[0m \u001b[0mval_acc\u001b[0m     \u001b[0;34m=\u001b[0m \u001b[0meval_epoch\u001b[0m\u001b[0;34m(\u001b[0m\u001b[0mval_loader\u001b[0m\u001b[0;34m)\u001b[0m\u001b[0;34m\u001b[0m\u001b[0;34m\u001b[0m\u001b[0m\n\u001b[1;32m      7\u001b[0m     \u001b[0;31m# scheduler.step()\u001b[0m\u001b[0;34m\u001b[0m\u001b[0;34m\u001b[0m\u001b[0m\n",
            "\u001b[0;31mNameError\u001b[0m: name 'train_epoch' is not defined"
          ]
        }
      ],
      "source": [
        "num_epochs = 100\n",
        "best_val_acc = 0.0000001\n",
        "\n",
        "for epoch in range(1, num_epochs+1):\n",
        "    train_loss, train_acc = train_epoch(train_loader)\n",
        "    val_loss, val_acc     = eval_epoch(val_loader)\n",
        "    # scheduler.step()\n",
        "\n",
        "    train_losses.append(train_loss)\n",
        "    train_accs  .append(train_acc)\n",
        "    val_losses  .append(val_loss)\n",
        "    val_accs    .append(val_acc)\n",
        "\n",
        "    print(f\"Epoch {epoch:02d} │ \"\n",
        "          f\"Train: loss={train_loss:.4f}, acc={train_acc:.3f} ││ \"\n",
        "          f\"Val:   loss={val_loss:.4f}, acc={val_acc:.3f}\")\n",
        "\n",
        "    # save best model\n",
        "    if val_acc > best_val_acc:\n",
        "        best_val_acc = val_acc\n",
        "        torch.save(model.state_dict(), \"best_asce_transformer.pt\")\n",
        "        print(\"  ↳ new best, model saved.\")\n"
      ]
    },
    {
      "cell_type": "code",
      "execution_count": null,
      "metadata": {
        "colab": {
          "base_uri": "https://localhost:8080/",
          "height": 472
        },
        "id": "3AMSyM3LNlqu",
        "outputId": "10924e26-52d3-4a13-d417-7be815fc92f5"
      },
      "outputs": [
        {
          "output_type": "display_data",
          "data": {
            "text/plain": [
              "<Figure size 640x480 with 1 Axes>"
            ],
            "image/png": "[encoded data removed]"
          },
          "metadata": {}
        }
      ],
      "source": [
        "import matplotlib.pyplot as plt\n",
        "\n",
        "epochs = list(range(1, len(train_losses) + 1))\n",
        "\n",
        "plt.figure()\n",
        "# plt.plot(epochs, train_losses, label='Train Loss')\n",
        "plt.plot(epochs, val_losses,   label='Val Loss')\n",
        "plt.xlabel('Epoch')\n",
        "plt.ylabel('Loss')\n",
        "plt.title('Training vs. Validation Loss')\n",
        "plt.legend()\n",
        "plt.show()\n"
      ]
    },
    {
      "cell_type": "code",
      "execution_count": null,
      "metadata": {
        "colab": {
          "base_uri": "https://localhost:8080/",
          "height": 211
        },
        "id": "Lw9I9lIfOSwZ",
        "outputId": "d6240e2e-7dd0-4dfb-bfb1-ca0f45f287b8"
      },
      "outputs": [
        {
          "output_type": "error",
          "ename": "NameError",
          "evalue": "name 'model' is not defined",
          "traceback": [
            "\u001b[0;31m---------------------------------------------------------------------------\u001b[0m",
            "\u001b[0;31mNameError\u001b[0m                                 Traceback (most recent call last)",
            "\u001b[0;32m<ipython-input-1-3675376961>\u001b[0m in \u001b[0;36m<cell line: 0>\u001b[0;34m()\u001b[0m\n\u001b[0;32m----> 1\u001b[0;31m \u001b[0mmodel\u001b[0m\u001b[0;34m.\u001b[0m\u001b[0mload_state_dict\u001b[0m\u001b[0;34m(\u001b[0m\u001b[0mtorch\u001b[0m\u001b[0;34m.\u001b[0m\u001b[0mload\u001b[0m\u001b[0;34m(\u001b[0m\u001b[0;34m\"best_asce_transformer.pt\"\u001b[0m\u001b[0;34m)\u001b[0m\u001b[0;34m)\u001b[0m\u001b[0;34m\u001b[0m\u001b[0;34m\u001b[0m\u001b[0m\n\u001b[0m\u001b[1;32m      2\u001b[0m \u001b[0mmodel\u001b[0m\u001b[0;34m.\u001b[0m\u001b[0meval\u001b[0m\u001b[0;34m(\u001b[0m\u001b[0;34m)\u001b[0m\u001b[0;34m\u001b[0m\u001b[0;34m\u001b[0m\u001b[0m\n\u001b[1;32m      3\u001b[0m \u001b[0;34m\u001b[0m\u001b[0m\n\u001b[1;32m      4\u001b[0m \u001b[0;32mimport\u001b[0m \u001b[0mnumpy\u001b[0m \u001b[0;32mas\u001b[0m \u001b[0mnp\u001b[0m\u001b[0;34m\u001b[0m\u001b[0;34m\u001b[0m\u001b[0m\n\u001b[1;32m      5\u001b[0m \u001b[0;32mfrom\u001b[0m \u001b[0msklearn\u001b[0m\u001b[0;34m.\u001b[0m\u001b[0mdecomposition\u001b[0m \u001b[0;32mimport\u001b[0m \u001b[0mPCA\u001b[0m\u001b[0;34m\u001b[0m\u001b[0;34m\u001b[0m\u001b[0m\n",
            "\u001b[0;31mNameError\u001b[0m: name 'model' is not defined"
          ]
        }
      ],
      "source": [
        "model.load_state_dict(torch.load(\"best_asce_transformer.pt\"))\n",
        "model.eval()\n",
        "\n",
        "import numpy as np\n",
        "from sklearn.decomposition import PCA\n",
        "from sklearn.manifold import TSNE\n",
        "import matplotlib.pyplot as plt\n",
        "from torch.utils.data import DataLoader\n",
        "\n",
        "# (1) Move model to CPU for visualization\n",
        "model_cpu = model.to('cpu')\n",
        "\n",
        "# (2) Create a DataLoader over the entire dataset (no shuffling)\n",
        "full_loader = DataLoader(dataset, batch_size=64, shuffle=False)\n",
        "\n",
        "# (3) Extract the d_model‐dim feature for each window by forwarding through everything\n",
        "all_features = []\n",
        "all_labels   = []\n",
        "with torch.no_grad():\n",
        "    for xb, yb in full_loader:\n",
        "        xb = xb.cpu()\n",
        "        # Manually run up through the transformer, stopping at the pooled output:\n",
        "        x_proj   = model_cpu.input_proj(xb)                             # (B, L, d_model)\n",
        "        x_pos    = x_proj + model_cpu.pos_emb[:, :x_proj.size(1), :]     # add pos emb\n",
        "        x_trans  = model_cpu.transformer(x_pos)                          # (B, L, d_model)\n",
        "        features = x_trans.mean(dim=1)                                   # (B, d_model)\n",
        "        all_features.append(features.numpy())\n",
        "        all_labels.append(yb.numpy())\n",
        "\n",
        "# (4) Stack everything into arrays\n",
        "features_array = np.vstack(all_features)   # shape: (n_windows, d_model)\n",
        "labels_array   = np.concatenate(all_labels)\n",
        "\n",
        "# (5) PCA → 2D\n",
        "pca = PCA(n_components=2)\n",
        "pca_result = pca.fit_transform(features_array)\n",
        "\n",
        "plt.figure(figsize=(8,6))\n",
        "scatter = plt.scatter(\n",
        "    pca_result[:,0], pca_result[:,1],\n",
        "    c=labels_array, cmap='coolwarm', alpha=0.7\n",
        ")\n",
        "plt.xlabel('PCA 1')\n",
        "plt.ylabel('PCA 2')\n",
        "plt.title('PCA of Transformer Features')\n",
        "plt.legend(*scatter.legend_elements(), title=\"State\")\n",
        "plt.show()\n",
        "\n",
        "# (6) t-SNE → 2D\n",
        "tsne = TSNE(n_components=2, perplexity=30, n_iter=1000, init='pca', random_state=42)\n",
        "tsne_result = tsne.fit_transform(features_array)\n",
        "\n",
        "plt.figure(figsize=(8,6))\n",
        "scatter = plt.scatter(\n",
        "    tsne_result[:,0], tsne_result[:,1],\n",
        "    c=labels_array+1, cmap='coolwarm', alpha=0.7\n",
        ")\n",
        "plt.xlabel('t-SNE 1')\n",
        "plt.ylabel('t-SNE 2')\n",
        "plt.title('t-SNE of Transformer Features')\n",
        "plt.legend(*scatter.legend_elements(), title=\"State\")\n",
        "plt.show()\n",
        "# ────────────────────────────────────────────────────────────\n"
      ]
    },
    {
      "cell_type": "code",
      "execution_count": null,
      "metadata": {
        "colab": {
          "base_uri": "https://localhost:8080/",
          "height": 472
        },
        "id": "YpTDf7HkNwnf",
        "outputId": "0c04b931-a2b2-496a-cde2-eed32854331b"
      },
      "outputs": [
        {
          "output_type": "display_data",
          "data": {
            "text/plain": [
              "<Figure size 640x480 with 1 Axes>"
            ],
            "image/png": "[encoded data removed]"
          },
          "metadata": {}
        }
      ],
      "source": [
        "plt.figure()\n",
        "# plt.plot(epochs, train_accs, label='Train Accuracy')\n",
        "plt.plot(epochs, val_accs,   label='Val Accuracy')\n",
        "plt.xlabel('Epoch')\n",
        "plt.ylabel('Accuracy')\n",
        "plt.title('Training vs. Validation Accuracy')\n",
        "plt.legend()\n",
        "plt.show()\n"
      ]
    },
    {
      "cell_type": "code",
      "execution_count": null,
      "metadata": {
        "colab": {
          "base_uri": "https://localhost:8080/",
          "height": 854
        },
        "id": "A9xO-wonOF7G",
        "outputId": "47ca577f-866e-4ba3-adb3-b57ffa1f1f90"
      },
      "outputs": [
        {
          "output_type": "display_data",
          "data": {
            "text/plain": [
              "<Figure size 640x480 with 1 Axes>"
            ],
            "image/png": "[encoded data removed]"
          },
          "metadata": {}
        },
        {
          "output_type": "stream",
          "name": "stdout",
          "text": [
            "Confusion Matrix:\n",
            "              Pred State1  Pred State2  Pred State3  Pred State4  Pred State5  \\\n",
            "True State1            6            0            0            0            0   \n",
            "True State2            0           13            0            0            0   \n",
            "True State3            0            0           11            0            0   \n",
            "True State4            0            0            0           11            0   \n",
            "True State5            0            0            0            0           12   \n",
            "True State6            0            0            0            0            0   \n",
            "True State7            0            0            0            0            0   \n",
            "True State8            0            0            0            0            0   \n",
            "True State9            0            0            0            0            0   \n",
            "\n",
            "             Pred State6  Pred State7  Pred State8  Pred State9  \n",
            "True State1            0            0            0            0  \n",
            "True State2            0            0            0            0  \n",
            "True State3            0            0            0            0  \n",
            "True State4            0            0            0            0  \n",
            "True State5            0            0            0            0  \n",
            "True State6           13            0            0            0  \n",
            "True State7            0           40            0            0  \n",
            "True State8            0            0           29            0  \n",
            "True State9            0            0            0           38  \n"
          ]
        }
      ],
      "source": [
        "import matplotlib.pyplot as plt\n",
        "from sklearn.metrics import confusion_matrix\n",
        "import pandas as pd\n",
        "import torch\n",
        "\n",
        "# 1) Plot training & validation loss\n",
        "epochs = list(range(1, len(train_losses) + 1))\n",
        "plt.figure()\n",
        "plt.plot(epochs, train_losses, label='Train Loss')\n",
        "plt.plot(epochs, val_losses,   label='Val Loss')\n",
        "plt.xlabel('Epoch')\n",
        "plt.ylabel('Loss')\n",
        "plt.title('Training vs. Validation Loss')\n",
        "plt.legend()\n",
        "plt.show()\n",
        "\n",
        "# 2) Compute confusion matrix on the test set\n",
        "# Move model back to the correct device (assuming 'device' is defined as cuda)\n",
        "model.to(device)\n",
        "model.eval()\n",
        "all_preds, all_targets = [], []\n",
        "with torch.no_grad():\n",
        "    for xb, yb in test_loader:\n",
        "        xb, yb = xb.to(device), yb.to(device)\n",
        "        logits = model(xb)\n",
        "        preds = logits.argmax(dim=1).cpu().numpy()\n",
        "        all_preds.extend(preds)\n",
        "        all_targets.extend(yb.cpu().numpy())\n",
        "\n",
        "# Build & display as a DataFrame\n",
        "cm = confusion_matrix(all_targets, all_preds)\n",
        "df_cm = pd.DataFrame(\n",
        "    cm,\n",
        "    # index=['True State1','True State7'],\n",
        "    # columns=['Pred State1','Pred State7']\n",
        "    index=['True State1','True State2','True State3','True State4','True State5', 'True State6', 'True State7', 'True State8','True State9'],\n",
        "    columns=['Pred State1','Pred State2','Pred State3','Pred State4', 'Pred State5', 'Pred State6', 'Pred State7', 'Pred State8', 'Pred State9']\n",
        ")\n",
        "print(\"Confusion Matrix:\\n\", df_cm)"
      ]
    },
    {
      "cell_type": "code",
      "execution_count": null,
      "metadata": {
        "colab": {
          "background_save": true
        },
        "id": "rU6IvHbxlsEG"
      },
      "outputs": [],
      "source": []
    }
  ],
  "metadata": {
    "colab": {
      "provenance": [],
      "gpuType": "T4",
      "authorship_tag": "ABX9TyMSaAQAgTbIsU0RZCBWZzjL",
      "include_colab_link": true
    },
    "kernelspec": {
      "display_name": "Python 3",
      "name": "python3"
    },
    "language_info": {
      "name": "python"
    },
    "accelerator": "GPU"
  },
  "nbformat": 4,
  "nbformat_minor": 0
}