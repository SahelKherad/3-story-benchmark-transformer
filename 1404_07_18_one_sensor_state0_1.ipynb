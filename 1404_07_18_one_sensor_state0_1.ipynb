{
  "cells": [
    {
      "cell_type": "markdown",
      "metadata": {
        "id": "view-in-github",
        "colab_type": "text"
      },
      "source": [
        "<a href=\"https://colab.research.google.com/github/SahelKherad/3-story-benchmark-transformer/blob/main/1404_07_18_one_sensor_state0_1.ipynb\" target=\"_parent\"><img src=\"https://colab.research.google.com/assets/colab-badge.svg\" alt=\"Open In Colab\"/></a>"
      ]
    },
    {
      "cell_type": "code",
      "execution_count": 142,
      "metadata": {
        "id": "JzyYbQohztXG"
      },
      "outputs": [],
      "source": [
        "import os\n",
        "import scipy.io\n",
        "from scipy.io.matlab._mio5_params import mat_struct\n",
        "import numpy as np\n",
        "import pandas as pd\n",
        "import torch\n",
        "import torch.nn as nn\n",
        "from torch.utils.data import Dataset, DataLoader\n",
        "import matplotlib.pyplot as plt\n",
        "from sklearn.metrics import confusion_matrix\n",
        "from sklearn.model_selection import train_test_split"
      ]
    },
    {
      "cell_type": "code",
      "execution_count": 143,
      "metadata": {
        "colab": {
          "base_uri": "https://localhost:8080/"
        },
        "id": "rEjAYmOPAbYE",
        "outputId": "b778e3dc-2300-438a-8c7a-2603a0842d36"
      },
      "outputs": [
        {
          "output_type": "stream",
          "name": "stdout",
          "text": [
            "Mounted at /content/drive\n"
          ]
        }
      ],
      "source": [
        "from google.colab import drive\n",
        "drive.mount('/content/drive', force_remount=True)"
      ]
    },
    {
      "cell_type": "code",
      "execution_count": 144,
      "metadata": {
        "id": "84ltkG1zAdmw",
        "colab": {
          "base_uri": "https://localhost:8080/"
        },
        "outputId": "d6dd5ac5-a8ef-4176-d6c6-cc1c3cec1524"
      },
      "outputs": [
        {
          "output_type": "stream",
          "name": "stdout",
          "text": [
            "shm01a.mat  shm03a.mat\tshm05a.mat  shm07a.mat\tshm09a.mat\n",
            "shm02a.mat  shm04a.mat\tshm06a.mat  shm08a.mat\n"
          ]
        }
      ],
      "source": [
        "!ls \"/content/drive/My Drive/ASCE\""
      ]
    },
    {
      "cell_type": "code",
      "execution_count": 145,
      "metadata": {
        "id": "mOPozofZA9NS",
        "colab": {
          "base_uri": "https://localhost:8080/"
        },
        "outputId": "9a1a0695-204c-4e56-c556-f828f0d04279"
      },
      "outputs": [
        {
          "output_type": "stream",
          "name": "stdout",
          "text": [
            "(60000, 16)\n",
            "(60000,)\n",
            "(60000,)\n"
          ]
        }
      ],
      "source": [
        "def load_mat(path):\n",
        "    mat = scipy.io.loadmat(path, squeeze_me=True, struct_as_record=False)\n",
        "    raw = mat.get('dasy')\n",
        "    if isinstance(raw, mat_struct):\n",
        "        channels = []\n",
        "        for f in raw._fieldnames:\n",
        "            arr = getattr(raw, f)\n",
        "            channels.append(np.asarray(arr).reshape(-1))\n",
        "        data = np.stack(channels, axis=1)  # (n_samples, n_channels)\n",
        "    else:\n",
        "        raise ValueError(\"Unexpected MAT structure. 'dasy' not a struct.\")\n",
        "    return data  # float64 by default\n",
        "\n",
        "base_dir = '/content/drive/MyDrive/ASCE/'\n",
        "state_files = {\n",
        "    1: 'shm01a.mat', 2: 'shm02a.mat', 3: 'shm03a.mat',\n",
        "    4: 'shm04a.mat', 5: 'shm05a.mat', 6: 'shm06a.mat',\n",
        "    7: 'shm07a.mat', 8: 'shm08a.mat', 9: 'shm09a.mat',\n",
        "}\n",
        "# label_to_class_id: 1..9 -> 0..8\n",
        "label_to_cid = {lab: i for i, lab in enumerate(sorted(state_files.keys()))}\n",
        "\n",
        "scenario_data = {}   # cid -> np.ndarray [N, C]\n",
        "for lab, fname in state_files.items():\n",
        "    x = load_mat(os.path.join(base_dir, fname)).astype(np.float32)\n",
        "    scenario_data[label_to_cid[lab]] = x\n",
        "print(scenario_data[0][:,:].shape)\n",
        "print(scenario_data[0][:,4].shape)\n",
        "print(scenario_data[4][:,4].shape)\n",
        "    # print(fname, x.shape)"
      ]
    },
    {
      "cell_type": "code",
      "execution_count": 146,
      "metadata": {
        "id": "t8Vx6tVvBNOR",
        "colab": {
          "base_uri": "https://localhost:8080/",
          "height": 534
        },
        "outputId": "40db7a7c-2b51-4a82-e9fd-c189ee0ef18b"
      },
      "outputs": [
        {
          "output_type": "stream",
          "name": "stdout",
          "text": [
            "(60000,)\n",
            "[-0.0027374  -0.0022796  -0.00162676 ... -0.0025698  -0.00189136\n",
            " -0.0011516 ]\n",
            "0.00035812\n",
            "-0.0037434\n"
          ]
        },
        {
          "output_type": "execute_result",
          "data": {
            "text/plain": [
              "[<matplotlib.lines.Line2D at 0x7e9d09d501d0>]"
            ]
          },
          "metadata": {},
          "execution_count": 146
        },
        {
          "output_type": "display_data",
          "data": {
            "text/plain": [
              "<Figure size 640x480 with 1 Axes>"
            ],
            "image/png": "[encoded data removed]"
          },
          "metadata": {}
        }
      ],
      "source": [
        "print(scenario_data[0][:,4].shape)\n",
        "print(scenario_data[0][:,4])\n",
        "print(max(scenario_data[0][:,4]))\n",
        "print(min(scenario_data[0][:,4]))\n",
        "plt.plot(scenario_data[0][:,4])"
      ]
    },
    {
      "cell_type": "code",
      "execution_count": 147,
      "metadata": {
        "id": "uc0wn5EvFn9L",
        "colab": {
          "base_uri": "https://localhost:8080/",
          "height": 499
        },
        "outputId": "24d42476-1b33-4ae5-971a-3e8df1018c1d"
      },
      "outputs": [
        {
          "output_type": "stream",
          "name": "stdout",
          "text": [
            "(180000,)\n",
            "-0.0018175\n",
            "-0.0027156\n"
          ]
        },
        {
          "output_type": "execute_result",
          "data": {
            "text/plain": [
              "[<matplotlib.lines.Line2D at 0x7e9d0b6d1340>]"
            ]
          },
          "metadata": {},
          "execution_count": 147
        },
        {
          "output_type": "display_data",
          "data": {
            "text/plain": [
              "<Figure size 640x480 with 1 Axes>"
            ],
            "image/png": "[encoded data removed]"
          },
          "metadata": {}
        }
      ],
      "source": [
        "print(scenario_data[8][:,4].shape)\n",
        "print(max(scenario_data[1][:,4]))\n",
        "print(min(scenario_data[1][:,4]))\n",
        "plt.plot(scenario_data[1][:,4], c='r')"
      ]
    },
    {
      "cell_type": "code",
      "execution_count": 148,
      "metadata": {
        "id": "iHRDgV6D57Ac"
      },
      "outputs": [],
      "source": [
        "def make_windows(data, window_length, drop_last : bool = True):\n",
        "    # Calculate how many full frames can be created\n",
        "    num_frames = len(data) // window_length\n",
        "    # print(num_frames)\n",
        "    # Trim the data to be a perfect multiple of the frame length\n",
        "    trimmed_data = data[:num_frames * window_length]\n",
        "\n",
        "    # Reshape the data into a 2D array of frames\n",
        "    windows = trimmed_data.reshape((num_frames, window_length))\n",
        "    # return trimmed_data.shape , frames.shape\n",
        "    return windows"
      ]
    },
    {
      "cell_type": "code",
      "execution_count": 149,
      "metadata": {
        "id": "fWplqSYBpLUA",
        "colab": {
          "base_uri": "https://localhost:8080/"
        },
        "outputId": "5b7e6fe5-5a6e-4448-bcae-b001cd79a2e6"
      },
      "outputs": [
        {
          "output_type": "stream",
          "name": "stdout",
          "text": [
            "Frames: (117, 512)\n",
            "Frames: (351, 512)\n"
          ]
        }
      ],
      "source": [
        "win = 512\n",
        "healthy_frames = make_windows(scenario_data[0][:,4], window_length = win, drop_last=True)\n",
        "print(\"Frames:\", healthy_frames.shape)\n",
        "damaged_frames = make_windows(scenario_data[8][:,4], window_length = win, drop_last=True)\n",
        "print(\"Frames:\", damaged_frames.shape)"
      ]
    },
    {
      "cell_type": "code",
      "execution_count": 150,
      "metadata": {
        "id": "9A5ALjrC6b0a"
      },
      "outputs": [],
      "source": [
        "# def NormalizeWindow(xa , w ):\n",
        "#     aa = np.zeros_like(xa)  # Initialize an array of the same shape as xa\n",
        "#     # totSamples = xa.shape[0] # Number of windows\n",
        "\n",
        "#     for i in range(xa.shape[0]):\n",
        "#     # for i in range(2):\n",
        "\n",
        "#         ak = xa[i, :]  # Select the i-th window\n",
        "#         # print(ak)\n",
        "#         maxVec = np.max(ak)\n",
        "#         # print(maxVec)\n",
        "#         minVec = np.min(ak)\n",
        "#         # print(minVec)\n",
        "\n",
        "#         # Avoid division by zero if max and min are the same\n",
        "#         if maxVec - minVec == 0:\n",
        "#             ak_norm = ak - minVec\n",
        "#         else:\n",
        "#             ak_norm = ((ak - minVec) / (maxVec - minVec) - 0.5) * 2\n",
        "#             # ak_norm = ((ak - minVec) / (maxVec - minVec) )\n",
        "#         aa[i, :] = ak_norm # Assign the normalized window back\n",
        "\n",
        "#     return aa\n",
        "\n",
        "# Xa = NormalizeWindow(healthy_frames, win)\n",
        "# # print('Xa_norm = \\n', Xa)\n",
        "# print(Xa.shape)\n",
        "\n",
        "# # Do the same for Xb\n",
        "# Xb = NormalizeWindow(damaged_frames, win)\n",
        "# # print('Xb_norm = \\n', Xb)\n",
        "# print(Xb.shape)"
      ]
    },
    {
      "cell_type": "code",
      "execution_count": 151,
      "metadata": {
        "id": "lDM-XPlupua0",
        "colab": {
          "base_uri": "https://localhost:8080/"
        },
        "outputId": "6d0d1a35-9b89-4fba-cf77-b1b5546c8709"
      },
      "outputs": [
        {
          "output_type": "stream",
          "name": "stdout",
          "text": [
            "(117,)\n",
            "(351,)\n"
          ]
        }
      ],
      "source": [
        "healthy_labels = np.zeros(len(healthy_frames), dtype=int)\n",
        "print(healthy_labels.shape)\n",
        "\n",
        "damaged_labels = np.ones(len(damaged_frames), dtype=int)\n",
        "print(damaged_labels.shape)"
      ]
    },
    {
      "cell_type": "code",
      "source": [
        "# 3) Combine, add feature dim, and shuffle the COMBINED set once\n",
        "\n",
        "# X = np.concatenate([Xa, Xb], axis=0).astype(np.float32)[:, :, None]# [N, 5, 1]\n",
        "# print(X.shape)\n",
        "# # print(X)\n",
        "# y = np.concatenate([healthy_labels, damaged_labels], axis=0)             # [N]\n",
        "# print(y.shape)"
      ],
      "metadata": {
        "id": "CzeyPxX5mkUT"
      },
      "execution_count": 152,
      "outputs": []
    },
    {
      "cell_type": "code",
      "execution_count": 153,
      "metadata": {
        "id": "pgEtdxJApuUY",
        "colab": {
          "base_uri": "https://localhost:8080/"
        },
        "outputId": "6d6d155b-b7f2-4d58-b332-e2c8cdb69921"
      },
      "outputs": [
        {
          "output_type": "stream",
          "name": "stdout",
          "text": [
            "(468, 512, 1)\n",
            "(468,)\n"
          ]
        }
      ],
      "source": [
        "# # 3) Combine, add feature dim, and shuffle the COMBINED set once\n",
        "X = np.concatenate([healthy_frames, damaged_frames], axis=0)[:, :, None]  # [N, 5, 1]\n",
        "print(X.shape)\n",
        "# print(X)\n",
        "y = np.concatenate([healthy_labels, damaged_labels], axis=0)             # [N]\n",
        "print(y.shape)"
      ]
    },
    {
      "cell_type": "code",
      "execution_count": 154,
      "metadata": {
        "id": "YbtjY2O3qWNk"
      },
      "outputs": [],
      "source": [
        "# One global shuffle to mix classes well\n",
        "rng = np.random.default_rng(42)\n",
        "perm = rng.permutation(len(y))\n",
        "\n",
        "# print(perm)\n",
        "X = X[perm]\n",
        "y = y[perm]\n",
        "# print(y)"
      ]
    },
    {
      "cell_type": "code",
      "execution_count": 155,
      "metadata": {
        "id": "qqdlvAuHqkKQ",
        "colab": {
          "base_uri": "https://localhost:8080/"
        },
        "outputId": "c6ef72c0-1c43-40db-d03f-438d576a1304"
      },
      "outputs": [
        {
          "output_type": "stream",
          "name": "stdout",
          "text": [
            "(374, 512, 1) (94, 512, 1) (374,) (94,)\n",
            "(47, 512, 1) (47, 512, 1) (47,) (47,)\n",
            "test: (47, 512, 1)\n"
          ]
        }
      ],
      "source": [
        "# 4) Stratified split: 60% train, 20% val, 20% test\n",
        "X_train, X_tmp, y_train, y_tmp = train_test_split(X, y, test_size=0.2, random_state=42, stratify=y)\n",
        "print(X_train.shape, X_tmp.shape, y_train.shape, y_tmp.shape)\n",
        "# print(X_train)\n",
        "# print(y_train)\n",
        "# print('tmp:',X_tmp)\n",
        "X_val, X_test, y_val, y_test = train_test_split(X_tmp, y_tmp, test_size=0.5, random_state=42, stratify=y_tmp)\n",
        "print(X_val.shape, X_test.shape, y_val.shape, y_test.shape)\n",
        "# print(X_val)\n",
        "# print(y_val)\n",
        "print('test:',X_test.shape)\n",
        "# print(y_test.shape)"
      ]
    },
    {
      "cell_type": "code",
      "source": [
        "# a =np.array([0,1,2,3,2,5])\n",
        "# m=a.mean()\n",
        "# print(m)\n",
        "# s=a.std()\n",
        "# print(s)\n",
        "# print((a-m)/s)"
      ],
      "metadata": {
        "id": "yzPp7mZ0FQJC"
      },
      "execution_count": 156,
      "outputs": []
    },
    {
      "cell_type": "code",
      "source": [
        "# b =np.array([1,12,18,21,15,3])\n",
        "# m=b.mean()\n",
        "# print(m)\n",
        "# s=b.std()\n",
        "# print(s)\n",
        "# print((b-m)/s)"
      ],
      "metadata": {
        "id": "eMBoG5BmFP7t"
      },
      "execution_count": 157,
      "outputs": []
    },
    {
      "cell_type": "code",
      "source": [
        "# x =np.array([[0,1,2,3,25,5],[1,12,18,21,15,3]])\n",
        "# m=x.mean(axis =(0,1))\n",
        "# print(m)\n",
        "# s=x.std(axis=(0,1))\n",
        "# print(s)\n",
        "# print((x-m)/s)"
      ],
      "metadata": {
        "id": "Kn3B-O50HGMv"
      },
      "execution_count": 158,
      "outputs": []
    },
    {
      "cell_type": "code",
      "source": [
        "\n",
        "mu  = X_train.mean(axis=(0,1), keepdims=True)\n",
        "std = X_train.std(axis=(0,1), keepdims=True) + 1e-6\n",
        "X_train = (X_train - mu) / std\n",
        "X_val   = (X_val   - mu) / std\n",
        "X_test  = (X_test  - mu) / std\n"
      ],
      "metadata": {
        "id": "xsnDOuYp86Gb"
      },
      "execution_count": 159,
      "outputs": []
    },
    {
      "cell_type": "code",
      "execution_count": 160,
      "metadata": {
        "id": "QnV4gOfe8Xlp"
      },
      "outputs": [],
      "source": [
        "# 5) Torch tensors\n",
        "X_train = torch.from_numpy(X_train).float()  # float32\n",
        "y_train = torch.from_numpy(y_train).long()  # int64\n",
        "X_val   = torch.from_numpy(X_val).float()\n",
        "y_val   = torch.from_numpy(y_val).long()\n",
        "X_test  = torch.from_numpy(X_test).float()\n",
        "y_test  = torch.from_numpy(y_test).long()"
      ]
    },
    {
      "cell_type": "code",
      "execution_count": 161,
      "metadata": {
        "id": "Vn18DVVKq76e"
      },
      "outputs": [],
      "source": [
        "class SeqDataset(Dataset):\n",
        "    def __init__(self, X: torch.Tensor, y: torch.Tensor):\n",
        "        self.X = X  # [N, seq_len, 1]\n",
        "        self.y = y  # [N]\n",
        "    def __len__(self): return self.y.shape[0]\n",
        "    def __getitem__(self, i): return self.X[i], self.y[i]\n",
        "\n",
        "train_ds = SeqDataset(X_train, y_train)\n",
        "# print(X_train.shape)\n",
        "# print(train_ds[0])\n",
        "# print(train_ds[1])\n",
        "# print(train_ds[2])\n",
        "val_ds   = SeqDataset(X_val,   y_val)\n",
        "test_ds  = SeqDataset(X_test,  y_test)"
      ]
    },
    {
      "cell_type": "code",
      "execution_count": 162,
      "metadata": {
        "id": "3ma0uxTa8nsD"
      },
      "outputs": [],
      "source": [
        "# 6) DataLoaders: shuffle only the training set\n",
        "batch_size = 64\n",
        "train_loader = DataLoader(train_ds, batch_size=batch_size, shuffle=True)\n",
        "val_loader   = DataLoader(val_ds,   batch_size=batch_size, shuffle=False)\n",
        "test_loader  = DataLoader(test_ds,  batch_size=batch_size, shuffle=False)"
      ]
    },
    {
      "cell_type": "code",
      "execution_count": 163,
      "metadata": {
        "id": "ILHeIaNA_Y1t",
        "colab": {
          "base_uri": "https://localhost:8080/"
        },
        "outputId": "67ac9af2-8bac-41e3-83e2-cd45552f53f9"
      },
      "outputs": [
        {
          "output_type": "stream",
          "name": "stdout",
          "text": [
            "train label set/counts: (tensor([0, 1]), tensor([ 93, 281]))\n",
            "val   label set/counts: (tensor([0, 1]), tensor([12, 35]))\n",
            "train min/max: 0 1\n",
            "val   min/max: 0 1\n"
          ]
        }
      ],
      "source": [
        "with torch.no_grad():\n",
        "    ys_tr = torch.cat([yb.view(-1) for _, yb in train_loader], dim=0).cpu()\n",
        "    ys_va = torch.cat([yb.view(-1) for _, yb in val_loader], dim=0).cpu()\n",
        "\n",
        "print(\"train label set/counts:\", ys_tr.unique(return_counts=True))\n",
        "print(\"val   label set/counts:\", ys_va.unique(return_counts=True))\n",
        "print(\"train min/max:\", ys_tr.min().item(), ys_tr.max().item())\n",
        "print(\"val   min/max:\", ys_va.min().item(), ys_va.max().item())"
      ]
    },
    {
      "cell_type": "code",
      "execution_count": 164,
      "metadata": {
        "id": "TVJq5lth-baE",
        "colab": {
          "base_uri": "https://localhost:8080/"
        },
        "outputId": "f3db8930-6c31-4783-e2ec-812553009579"
      },
      "outputs": [
        {
          "output_type": "stream",
          "name": "stdout",
          "text": [
            "train counts: Counter({1: 281, 0: 93})\n",
            "val   counts: Counter({1: 35, 0: 12})\n"
          ]
        }
      ],
      "source": [
        "import torch\n",
        "from collections import Counter\n",
        "\n",
        "cnt_tr, cnt_va = Counter(), Counter()\n",
        "for _, yb in train_loader:\n",
        "    cnt_tr.update(yb.view(-1).tolist())\n",
        "for _, yb in val_loader:\n",
        "    cnt_va.update(yb.view(-1).tolist())\n",
        "\n",
        "print(\"train counts:\", cnt_tr)  # expect keys 0 and 1\n",
        "print(\"val   counts:\", cnt_va)"
      ]
    },
    {
      "cell_type": "code",
      "execution_count": 165,
      "metadata": {
        "id": "ue57o5HKq7fi"
      },
      "outputs": [],
      "source": [
        "# 7) Example: adapt a batch for a Transformer [seq_len, batch, d_model]\n",
        "xb, yb = next(iter(train_loader))   # xb: [B, 5, 1]"
      ]
    },
    {
      "cell_type": "code",
      "execution_count": 166,
      "metadata": {
        "id": "KAd745oVq7Sd"
      },
      "outputs": [],
      "source": [
        "class LearnablePositionalEncoding(nn.Module):\n",
        "    \"\"\"\n",
        "    Learnable positional encoding added to token embeddings.\n",
        "    Shape stored: [1, max_len, d_model]\n",
        "    \"\"\"\n",
        "    def __init__(self, d_model: int, max_len: int):\n",
        "        super().__init__()\n",
        "        self.pe = nn.Parameter(torch.zeros(1, max_len, d_model))\n",
        "        print(self.pe)\n",
        "        nn.init.trunc_normal_(self.pe, std=0.02)\n",
        "\n",
        "    def forward(self, x):\n",
        "        # x: [B, T, d_model]\n",
        "        T = x.size(1)\n",
        "        return x + self.pe[:, :T, :]"
      ]
    },
    {
      "cell_type": "code",
      "execution_count": 167,
      "metadata": {
        "id": "wBe4P6n8puIs"
      },
      "outputs": [],
      "source": [
        "class TimeSeriesTransformer(nn.Module):\n",
        "    def __init__(self, d_model=256, nhead=4, num_layers=3, d_ff=256, seq_len= X_train.shape[1], num_classes=2, dropout=0.1):\n",
        "        super().__init__()\n",
        "        self.inp = nn.Linear(1, d_model)                            # project feature_dim=1 -> d_model\n",
        "        self.pos = LearnablePositionalEncoding(d_model, seq_len)    # learnable PE\n",
        "        enc_layer = nn.TransformerEncoderLayer(\n",
        "            d_model=d_model, nhead=nhead,\n",
        "            dim_feedforward=d_ff, dropout=dropout,\n",
        "            batch_first=True                                        # so we keep [B, T, d]\n",
        "        )\n",
        "        self.encoder = nn.TransformerEncoder(enc_layer, num_layers=num_layers)\n",
        "        self.norm = nn.LayerNorm(d_model)\n",
        "        self.head = nn.Linear(d_model, num_classes)\n",
        "\n",
        "    def forward(self, x):\n",
        "        # x: [B, T, 1]\n",
        "        x = self.inp(x)                  # [B, T, d]\n",
        "        x = self.pos(x)                  # add learnable PE\n",
        "        x = self.encoder(x)              # [B, T, d]\n",
        "        x = self.norm(x)\n",
        "        x = x.mean(dim=1)                # mean pool over time\n",
        "\n",
        "        logits = self.head(x)            # [B, C]\n",
        "        return logits"
      ]
    },
    {
      "cell_type": "code",
      "execution_count": 168,
      "metadata": {
        "id": "gfewTjRosCAY",
        "colab": {
          "base_uri": "https://localhost:8080/"
        },
        "outputId": "1fb2a90d-2332-47bc-aa6d-137cd1c886d9"
      },
      "outputs": [
        {
          "output_type": "stream",
          "name": "stdout",
          "text": [
            "Parameter containing:\n",
            "tensor([[[0., 0., 0.,  ..., 0., 0., 0.],\n",
            "         [0., 0., 0.,  ..., 0., 0., 0.],\n",
            "         [0., 0., 0.,  ..., 0., 0., 0.],\n",
            "         ...,\n",
            "         [0., 0., 0.,  ..., 0., 0., 0.],\n",
            "         [0., 0., 0.,  ..., 0., 0., 0.],\n",
            "         [0., 0., 0.,  ..., 0., 0., 0.]]], requires_grad=True)\n"
          ]
        }
      ],
      "source": [
        "device = torch.device(\"cuda\" if torch.cuda.is_available() else \"cpu\")\n",
        "seq_len = X_train.shape[1]\n",
        "num_classes = 2\n",
        "model = TimeSeriesTransformer(\n",
        "    d_model=256,\n",
        "    nhead=8,\n",
        "    num_layers=4,\n",
        "    d_ff=256,\n",
        "    seq_len=seq_len ,\n",
        "    num_classes=2,\n",
        "    dropout=.3).to(device)"
      ]
    },
    {
      "cell_type": "code",
      "execution_count": 169,
      "metadata": {
        "id": "2149a252",
        "colab": {
          "base_uri": "https://localhost:8080/"
        },
        "outputId": "d955d548-8ef4-4266-89f8-1ebf6b55e618"
      },
      "outputs": [
        {
          "output_type": "stream",
          "name": "stdout",
          "text": [
            "Using device: cuda\n"
          ]
        },
        {
          "output_type": "execute_result",
          "data": {
            "text/plain": [
              "TimeSeriesTransformer(\n",
              "  (inp): Linear(in_features=1, out_features=256, bias=True)\n",
              "  (pos): LearnablePositionalEncoding()\n",
              "  (encoder): TransformerEncoder(\n",
              "    (layers): ModuleList(\n",
              "      (0-3): 4 x TransformerEncoderLayer(\n",
              "        (self_attn): MultiheadAttention(\n",
              "          (out_proj): NonDynamicallyQuantizableLinear(in_features=256, out_features=256, bias=True)\n",
              "        )\n",
              "        (linear1): Linear(in_features=256, out_features=256, bias=True)\n",
              "        (dropout): Dropout(p=0.3, inplace=False)\n",
              "        (linear2): Linear(in_features=256, out_features=256, bias=True)\n",
              "        (norm1): LayerNorm((256,), eps=1e-05, elementwise_affine=True)\n",
              "        (norm2): LayerNorm((256,), eps=1e-05, elementwise_affine=True)\n",
              "        (dropout1): Dropout(p=0.3, inplace=False)\n",
              "        (dropout2): Dropout(p=0.3, inplace=False)\n",
              "      )\n",
              "    )\n",
              "  )\n",
              "  (norm): LayerNorm((256,), eps=1e-05, elementwise_affine=True)\n",
              "  (head): Linear(in_features=256, out_features=2, bias=True)\n",
              ")"
            ]
          },
          "metadata": {},
          "execution_count": 169
        }
      ],
      "source": [
        "device = torch.device(\"cuda\" if torch.cuda.is_available() else \"cpu\")\n",
        "print(f\"Using device: {device}\")\n",
        "model.to(device) # Move the model to the selected device"
      ]
    },
    {
      "cell_type": "code",
      "execution_count": 170,
      "metadata": {
        "id": "dp_VLwP7sB7K"
      },
      "outputs": [],
      "source": [
        "# Optional class weights for CE or focal alpha; compute from training labels\n",
        "class_counts = torch.bincount(y_train)\n",
        "class_weights = (class_counts.sum() / (class_counts.float().clamp(min=1)))  # inverse freq\n",
        "class_weights = class_weights / class_weights.sum() * num_classes           # normalize\n",
        "class_weights = class_weights.to(device)"
      ]
    },
    {
      "cell_type": "code",
      "execution_count": 171,
      "metadata": {
        "id": "4xc9Wh7DsB0e"
      },
      "outputs": [],
      "source": [
        "from torch.optim.lr_scheduler import CosineAnnealingLR\n",
        "# optimizer = torch.optim.AdamW(model.parameters(), lr=1e-3, weight_decay=0)\n",
        "# loss_fn = nn.CrossEntropyLoss()\n",
        "from torch.optim.lr_scheduler import CosineAnnealingLR\n",
        "num_epochs = 50\n",
        "optimizer = torch.optim.AdamW(model.parameters(), lr=5e-4, weight_decay=1e-4)\n",
        "# scheduler = CosineAnnealingLR(optimizer, T_max=num_epochs)\n",
        "loss_fn = nn.CrossEntropyLoss()"
      ]
    },
    {
      "cell_type": "code",
      "execution_count": 172,
      "metadata": {
        "id": "dZbtuUUR-_dk",
        "colab": {
          "base_uri": "https://localhost:8080/"
        },
        "outputId": "6edab478-1367-4b7d-b77c-3be83362757f"
      },
      "outputs": [
        {
          "output_type": "stream",
          "name": "stdout",
          "text": [
            "Epoch 1/50: Train Loss: 0.0708, Train Accuracy: 1.0000 | Validation Loss: 0.0000, Validation Accuracy: 1.0000\n",
            "\n",
            "Epoch 2/50: Train Loss: 0.0001, Train Accuracy: 1.0000 | Validation Loss: 0.0000, Validation Accuracy: 1.0000\n",
            "\n",
            "Epoch 3/50: Train Loss: 0.0000, Train Accuracy: 1.0000 | Validation Loss: 0.0000, Validation Accuracy: 1.0000\n",
            "\n",
            "Epoch 4/50: Train Loss: 0.0000, Train Accuracy: 1.0000 | Validation Loss: 0.0000, Validation Accuracy: 1.0000\n",
            "\n",
            "Epoch 5/50: Train Loss: 0.0000, Train Accuracy: 1.0000 | Validation Loss: 0.0000, Validation Accuracy: 1.0000\n",
            "\n",
            "Epoch 6/50: Train Loss: 0.0000, Train Accuracy: 1.0000 | Validation Loss: 0.0000, Validation Accuracy: 1.0000\n",
            "\n",
            "Epoch 7/50: Train Loss: 0.0000, Train Accuracy: 1.0000 | Validation Loss: 0.0000, Validation Accuracy: 1.0000\n",
            "\n",
            "Epoch 8/50: Train Loss: 0.0000, Train Accuracy: 1.0000 | Validation Loss: 0.0000, Validation Accuracy: 1.0000\n",
            "\n",
            "Epoch 9/50: Train Loss: 0.0000, Train Accuracy: 1.0000 | Validation Loss: 0.0000, Validation Accuracy: 1.0000\n",
            "\n",
            "Epoch 10/50: Train Loss: 0.0000, Train Accuracy: 1.0000 | Validation Loss: 0.0000, Validation Accuracy: 1.0000\n",
            "\n",
            "Epoch 11/50: Train Loss: 0.0000, Train Accuracy: 1.0000 | Validation Loss: 0.0000, Validation Accuracy: 1.0000\n",
            "\n",
            "Epoch 12/50: Train Loss: 0.0000, Train Accuracy: 1.0000 | Validation Loss: 0.0000, Validation Accuracy: 1.0000\n",
            "\n",
            "Epoch 13/50: Train Loss: 0.0000, Train Accuracy: 1.0000 | Validation Loss: 0.0000, Validation Accuracy: 1.0000\n",
            "\n",
            "Epoch 14/50: Train Loss: 0.0000, Train Accuracy: 1.0000 | Validation Loss: 0.0000, Validation Accuracy: 1.0000\n",
            "\n",
            "Epoch 15/50: Train Loss: 0.0000, Train Accuracy: 1.0000 | Validation Loss: 0.0000, Validation Accuracy: 1.0000\n",
            "\n",
            "Epoch 16/50: Train Loss: 0.0000, Train Accuracy: 1.0000 | Validation Loss: 0.0000, Validation Accuracy: 1.0000\n",
            "\n",
            "Epoch 17/50: Train Loss: 0.0000, Train Accuracy: 1.0000 | Validation Loss: 0.0000, Validation Accuracy: 1.0000\n",
            "\n",
            "Epoch 18/50: Train Loss: 0.0000, Train Accuracy: 1.0000 | Validation Loss: 0.0000, Validation Accuracy: 1.0000\n",
            "\n",
            "Epoch 19/50: Train Loss: 0.0000, Train Accuracy: 1.0000 | Validation Loss: 0.0000, Validation Accuracy: 1.0000\n",
            "\n",
            "Epoch 20/50: Train Loss: 0.0000, Train Accuracy: 1.0000 | Validation Loss: 0.0000, Validation Accuracy: 1.0000\n",
            "\n",
            "Epoch 21/50: Train Loss: 0.0000, Train Accuracy: 1.0000 | Validation Loss: 0.0000, Validation Accuracy: 1.0000\n",
            "\n",
            "Epoch 22/50: Train Loss: 0.0000, Train Accuracy: 1.0000 | Validation Loss: 0.0000, Validation Accuracy: 1.0000\n",
            "\n",
            "Epoch 23/50: Train Loss: 0.0000, Train Accuracy: 1.0000 | Validation Loss: 0.0000, Validation Accuracy: 1.0000\n",
            "\n",
            "Epoch 24/50: Train Loss: 0.0000, Train Accuracy: 1.0000 | Validation Loss: 0.0000, Validation Accuracy: 1.0000\n",
            "\n",
            "Epoch 25/50: Train Loss: 0.0000, Train Accuracy: 1.0000 | Validation Loss: 0.0000, Validation Accuracy: 1.0000\n",
            "\n",
            "Epoch 26/50: Train Loss: 0.0000, Train Accuracy: 1.0000 | Validation Loss: 0.0000, Validation Accuracy: 1.0000\n",
            "\n",
            "Epoch 27/50: Train Loss: 0.0000, Train Accuracy: 1.0000 | Validation Loss: 0.0000, Validation Accuracy: 1.0000\n",
            "\n",
            "Epoch 28/50: Train Loss: 0.0000, Train Accuracy: 1.0000 | Validation Loss: 0.0000, Validation Accuracy: 1.0000\n",
            "\n",
            "Epoch 29/50: Train Loss: 0.0000, Train Accuracy: 1.0000 | Validation Loss: 0.0000, Validation Accuracy: 1.0000\n",
            "\n",
            "Epoch 30/50: Train Loss: 0.0000, Train Accuracy: 1.0000 | Validation Loss: 0.0000, Validation Accuracy: 1.0000\n",
            "\n",
            "Epoch 31/50: Train Loss: 0.0000, Train Accuracy: 1.0000 | Validation Loss: 0.0000, Validation Accuracy: 1.0000\n",
            "\n",
            "Epoch 32/50: Train Loss: 0.0000, Train Accuracy: 1.0000 | Validation Loss: 0.0000, Validation Accuracy: 1.0000\n",
            "\n",
            "Epoch 33/50: Train Loss: 0.0000, Train Accuracy: 1.0000 | Validation Loss: 0.0000, Validation Accuracy: 1.0000\n",
            "\n",
            "Epoch 34/50: Train Loss: 0.0000, Train Accuracy: 1.0000 | Validation Loss: 0.0000, Validation Accuracy: 1.0000\n",
            "\n",
            "Epoch 35/50: Train Loss: 0.0000, Train Accuracy: 1.0000 | Validation Loss: 0.0000, Validation Accuracy: 1.0000\n",
            "\n",
            "Epoch 36/50: Train Loss: 0.0000, Train Accuracy: 1.0000 | Validation Loss: 0.0000, Validation Accuracy: 1.0000\n",
            "\n",
            "Epoch 37/50: Train Loss: 0.0000, Train Accuracy: 1.0000 | Validation Loss: 0.0000, Validation Accuracy: 1.0000\n",
            "\n",
            "Epoch 38/50: Train Loss: 0.0000, Train Accuracy: 1.0000 | Validation Loss: 0.0000, Validation Accuracy: 1.0000\n",
            "\n",
            "Epoch 39/50: Train Loss: 0.0000, Train Accuracy: 1.0000 | Validation Loss: 0.0000, Validation Accuracy: 1.0000\n",
            "\n",
            "Epoch 40/50: Train Loss: 0.0000, Train Accuracy: 1.0000 | Validation Loss: 0.0000, Validation Accuracy: 1.0000\n",
            "\n",
            "Epoch 41/50: Train Loss: 0.0000, Train Accuracy: 1.0000 | Validation Loss: 0.0000, Validation Accuracy: 1.0000\n",
            "\n",
            "Epoch 42/50: Train Loss: 0.0000, Train Accuracy: 1.0000 | Validation Loss: 0.0000, Validation Accuracy: 1.0000\n",
            "\n",
            "Epoch 43/50: Train Loss: 0.0000, Train Accuracy: 1.0000 | Validation Loss: 0.0000, Validation Accuracy: 1.0000\n",
            "\n",
            "Epoch 44/50: Train Loss: 0.0000, Train Accuracy: 1.0000 | Validation Loss: 0.0000, Validation Accuracy: 1.0000\n",
            "\n",
            "Epoch 45/50: Train Loss: 0.0000, Train Accuracy: 1.0000 | Validation Loss: 0.0000, Validation Accuracy: 1.0000\n",
            "\n",
            "Epoch 46/50: Train Loss: 0.0000, Train Accuracy: 1.0000 | Validation Loss: 0.0000, Validation Accuracy: 1.0000\n",
            "\n",
            "Epoch 47/50: Train Loss: 0.0000, Train Accuracy: 1.0000 | Validation Loss: 0.0000, Validation Accuracy: 1.0000\n",
            "\n",
            "Epoch 48/50: Train Loss: 0.0000, Train Accuracy: 1.0000 | Validation Loss: 0.0000, Validation Accuracy: 1.0000\n",
            "\n",
            "Epoch 49/50: Train Loss: 0.0000, Train Accuracy: 1.0000 | Validation Loss: 0.0000, Validation Accuracy: 1.0000\n",
            "\n",
            "Epoch 50/50: Train Loss: 0.0000, Train Accuracy: 1.0000 | Validation Loss: 0.0000, Validation Accuracy: 1.0000\n",
            "\n"
          ]
        }
      ],
      "source": [
        "num_epochs = 50\n",
        "tr_losses = []\n",
        "tr_accs = []\n",
        "val_losses = []\n",
        "val_accs = []\n",
        "for epoch in range(num_epochs):\n",
        "     model.train()\n",
        "     total_loss = 0\n",
        "     total_samples = 0\n",
        "     correct_predictions = 0\n",
        "     for xb, yb in train_loader:\n",
        "        xb , yb = xb.to(device) , yb.to(device).long()\n",
        "        optimizer.zero_grad()\n",
        "        output = model(xb)\n",
        "        # print('output',output)\n",
        "        # print('max',torch.max(output, 1))\n",
        "        # print('yb',yb)\n",
        "\n",
        "        loss = loss_fn(output , yb)\n",
        "        # print('loss',loss)\n",
        "        # optimizer.zero_grad()\n",
        "        loss.backward()\n",
        "        torch.nn.utils.clip_grad_norm_(model.parameters(), 1.0)\n",
        "        optimizer.step()\n",
        "        total_loss += loss.item() * xb.size(0)\n",
        "        # print(loss.item())\n",
        "        # print(xb.size(0))\n",
        "        # print('total:',total_loss)\n",
        "\n",
        "        # Calculate accuracy\n",
        "        pred = output.argmax(dim=1) # the index of the maximum value for each column\n",
        "        # print('p',predicted)\n",
        "        # print('real',yb)\n",
        "        total_samples += xb.size(0)\n",
        "        # print(total_samples)\n",
        "        correct_predictions += (pred == yb).sum().item()\n",
        "        # print(correct_predictions)\n",
        "\n",
        "     epoch_loss = total_loss / total_samples\n",
        "     epoch_accuracy = correct_predictions / total_samples\n",
        "     tr_losses.append(epoch_loss)\n",
        "     tr_accs.append(epoch_accuracy)\n",
        "\n",
        "    #  print(f\"Epoch {epoch+1}/{num_epochs}: \" f\"Train Loss: {epoch_loss:.4f}, \"f\"Train Accuracy: {epoch_accuracy:.4f}\")\n",
        "\n",
        "     model.eval()\n",
        "     val_correct_predictions = 0\n",
        "     val_total_samples = 0\n",
        "     val_total_loss = 0\n",
        "     with torch.no_grad():\n",
        "          for xb, yb in val_loader:\n",
        "              xb, yb = xb.to(device), yb.to(device).long()\n",
        "              output = model(xb)\n",
        "              val_loss = loss_fn(output,yb)\n",
        "              val_total_loss += val_loss.item() * xb.size(0)\n",
        "              pred = output.argmax(dim=1)\n",
        "              val_total_samples += xb.size(0)\n",
        "              val_correct_predictions += (pred == yb).sum().item()\n",
        "\n",
        "     val_epoch_loss = val_total_loss / val_total_samples\n",
        "     val_epoch_accuracy = val_correct_predictions / val_total_samples\n",
        "    #  print(    f\"Validation Loss: {val_epoch_loss:.4f}, \"f\"Validation Accuracy: {val_epoch_accuracy:.4f}\\n\")\n",
        "     val_losses.append(val_epoch_loss)\n",
        "     val_accs.append(val_epoch_accuracy)\n",
        "     # 3) Step the scheduler once per epoch, after validation\n",
        "    #  scheduler.step()\n",
        "\n",
        "     # Optional: print current lr to confirm schedule\n",
        "     current_lr = optimizer.param_groups[0][\"lr\"]\n",
        "     print(f\"Epoch {epoch+1}/{num_epochs}: \" f\"Train Loss: {epoch_loss:.4f}, \"f\"Train Accuracy: {epoch_accuracy:.4f} | \"f\"Validation Loss: {val_epoch_loss:.4f}, \"f\"Validation Accuracy: {val_epoch_accuracy:.4f}\\n\")\n",
        "\n",
        "\n"
      ]
    },
    {
      "cell_type": "code",
      "execution_count": 173,
      "metadata": {
        "id": "FsA5DDzS71Qr",
        "colab": {
          "base_uri": "https://localhost:8080/"
        },
        "outputId": "5f2448f1-9a82-42dc-de53-dc1482f1acb4"
      },
      "outputs": [
        {
          "output_type": "stream",
          "name": "stdout",
          "text": [
            "0 loss=0.0000 acc=1.000\n",
            "20 loss=0.0000 acc=1.000\n",
            "40 loss=0.0000 acc=1.000\n",
            "60 loss=0.0000 acc=1.000\n",
            "80 loss=0.0000 acc=1.000\n"
          ]
        }
      ],
      "source": [
        "model.train()\n",
        "xb_small, yb_small = next(iter(train_loader))\n",
        "xb_small, yb_small = xb_small.to(device), yb_small.to(device).long()\n",
        "opt = torch.optim.AdamW(model.parameters(), lr=1e-2, weight_decay=1e-4)\n",
        "crit = torch.nn.CrossEntropyLoss()\n",
        "for i in range(100):\n",
        "    opt.zero_grad()\n",
        "    logits = model(xb_small)             # [B, 2]\n",
        "    loss = crit(logits, yb_small)        # yb_small shape [B], values {0,1}\n",
        "    loss.backward()\n",
        "    torch.nn.utils.clip_grad_norm_(model.parameters(), 1.0)\n",
        "    opt.step()\n",
        "    if i % 20 == 0:\n",
        "        pred = logits.argmax(1)\n",
        "        acc = (pred == yb_small).float().mean().item()\n",
        "        print(i, f'loss={loss.item():.4f}', f'acc={acc:.3f}')\n"
      ]
    },
    {
      "cell_type": "code",
      "execution_count": 177,
      "metadata": {
        "id": "KklICuBQ_MlM",
        "colab": {
          "base_uri": "https://localhost:8080/",
          "height": 449
        },
        "outputId": "6c7725c8-1213-4dd4-a772-221f6f0c168c"
      },
      "outputs": [
        {
          "output_type": "display_data",
          "data": {
            "text/plain": [
              "<Figure size 640x480 with 1 Axes>"
            ],
            "image/png": "[encoded data removed]"
          },
          "metadata": {}
        }
      ],
      "source": [
        "epoch = np.arange(0,num_epochs , 1)\n",
        "import matplotlib.pyplot as plt\n",
        "\n",
        "plt.plot(epoch, tr_losses , label=\"Train_loss\", c='b')\n",
        "plt.plot(epoch, val_losses, label=\"val_losss\", c='r')\n",
        "plt.xlabel(\"Epoch\")\n",
        "plt.ylabel(\"Loss\")\n",
        "plt.legend()\n",
        "plt.show()"
      ]
    },
    {
      "cell_type": "code",
      "execution_count": 175,
      "metadata": {
        "id": "NhEnH9lVsBis",
        "colab": {
          "base_uri": "https://localhost:8080/",
          "height": 1000
        },
        "outputId": "d0deea02-d2df-44e3-cb6d-a1c13d8cfdcd"
      },
      "outputs": [
        {
          "output_type": "display_data",
          "data": {
            "text/plain": [
              "<Figure size 640x480 with 2 Axes>"
            ],
            "image/png": "[encoded data removed]"
          },
          "metadata": {}
        },
        {
          "output_type": "display_data",
          "data": {
            "text/plain": [
              "<Figure size 640x480 with 1 Axes>"
            ],
            "image/png": "[encoded data removed]"
          },
          "metadata": {}
        },
        {
          "output_type": "display_data",
          "data": {
            "text/plain": [
              "<Figure size 640x480 with 1 Axes>"
            ],
            "image/png": "[encoded data removed]"
          },
          "metadata": {}
        }
      ],
      "source": [
        "import torch\n",
        "import torch.nn.functional as F\n",
        "from sklearn.metrics import confusion_matrix, ConfusionMatrixDisplay\n",
        "from sklearn.metrics import RocCurveDisplay, PrecisionRecallDisplay\n",
        "import matplotlib.pyplot as plt\n",
        "\n",
        "y_true, y_pred, y_score = [], [], []\n",
        "model.eval()\n",
        "\n",
        "with torch.no_grad():\n",
        "    for xb, yb in val_loader:\n",
        "        xb, yb = xb.to(device), yb.to(device).long()   # targets should be int for CE\n",
        "        logits = model(xb)                             # [B,2]\n",
        "\n",
        "        # 1) Probability of class 1\n",
        "        probs  = torch.softmax(logits, dim=1)          # [B,2]\n",
        "        score1 = probs[:, 1]                           # [B]\n",
        "\n",
        "        # 2) Predicted class index\n",
        "        preds  = logits.argmax(dim=1)                  # [B]\n",
        "\n",
        "        # Save results\n",
        "        y_true.extend(yb.cpu().tolist())\n",
        "        y_pred.extend(preds.cpu().tolist())\n",
        "        y_score.extend(score1.cpu().tolist())\n",
        "\n",
        "# 1) Confusion Matrix\n",
        "ConfusionMatrixDisplay.from_predictions(y_true, y_pred, cmap=\"Blues\", values_format=\"d\")\n",
        "plt.title(\"Confusion Matrix (Validation)\")\n",
        "plt.show()\n",
        "\n",
        "# 2) ROC\n",
        "RocCurveDisplay.from_predictions(y_true, y_score)\n",
        "plt.title(\"ROC Curve (Validation)\")\n",
        "plt.show()\n",
        "\n",
        "# 3) Precision–Recall\n",
        "PrecisionRecallDisplay.from_predictions(y_true, y_score)\n",
        "plt.title(\"Precision–Recall Curve (Validation)\")\n",
        "plt.show()"
      ]
    },
    {
      "cell_type": "code",
      "execution_count": 178,
      "metadata": {
        "id": "JZAQEGdnsi9u",
        "colab": {
          "base_uri": "https://localhost:8080/",
          "height": 545
        },
        "outputId": "1e9f8e4c-1a42-47bf-8bac-a547c9121dd1"
      },
      "outputs": [
        {
          "output_type": "display_data",
          "data": {
            "text/plain": [
              "<Figure size 600x600 with 2 Axes>"
            ],
            "image/png": "[encoded data removed]"
          },
          "metadata": {}
        }
      ],
      "source": [
        "from sklearn.manifold import TSNE\n",
        "import matplotlib.pyplot as plt\n",
        "import torch\n",
        "\n",
        "model.eval()\n",
        "all_embeds, all_labels = [], []\n",
        "\n",
        "with torch.no_grad():\n",
        "    for xb, yb in val_loader:\n",
        "        xb = xb.to(device)\n",
        "        # Pass through encoder only (skip classifier head)\n",
        "        embeds = model.encoder(model.inp(xb) + model.pos(model.inp(xb)))\n",
        "        embeds = embeds.mean(dim=1)                # [B, d_model]\n",
        "\n",
        "        all_embeds.append(embeds.cpu())\n",
        "        all_labels.append(yb.cpu())\n",
        "\n",
        "# Concatenate all batches\n",
        "all_embeds = torch.cat(all_embeds, dim=0).numpy()\n",
        "all_labels = torch.cat(all_labels, dim=0).numpy()\n",
        "\n",
        "# Run t-SNE\n",
        "X_2d = TSNE(n_components=2, random_state=42).fit_transform(all_embeds)\n",
        "\n",
        "# Plot\n",
        "plt.figure(figsize=(6,6))\n",
        "plt.scatter(X_2d[:,0], X_2d[:,1], c=all_labels, cmap=\"coolwarm\", alpha=0.7)\n",
        "plt.colorbar(label=\"Class\")\n",
        "plt.title(\"t-SNE of Validation Embeddings\")\n",
        "plt.show()"
      ]
    }
  ],
  "metadata": {
    "colab": {
      "provenance": [],
      "gpuType": "T4",
      "authorship_tag": "ABX9TyNAypDjFuYnQq1sSj0SPyi0",
      "include_colab_link": true
    },
    "kernelspec": {
      "display_name": "Python 3",
      "name": "python3"
    },
    "language_info": {
      "name": "python"
    },
    "accelerator": "GPU"
  },
  "nbformat": 4,
  "nbformat_minor": 0
}